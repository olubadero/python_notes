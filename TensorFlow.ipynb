{
 "cells": [
  {
   "cell_type": "markdown",
   "id": "b50630e5",
   "metadata": {},
   "source": [
    "What is Deep Learning? This is a subset of Machine Learning that works on the structure and function a human brain. It learns from data that is unstructured and uses complex algorithms to train a neural network.\n",
    "\n",
    "There is the `input layer` --> `Hidden layer` --> `Output Layer`\n",
    "\n",
    "The input layer accepts large volume of data as input to build the network and passes it on to the hidden layer. \n",
    "\n",
    "The hidden layer processes the data by performing complex operations on the data and carries out `feature extraction`. Then after doing a bunch of computation, the hidden layer passes its values to the output layer.\n",
    "\n",
    "The output layer then gives its output which could be in the form of a class if we are doing a classification. The output layer generates the predicted output by applying suitable activation functions."
   ]
  },
  {
   "cell_type": "markdown",
   "id": "5362cc28",
   "metadata": {},
   "source": [
    "`Top Deep Learning Libraries`\n",
    "- Keras: Developed by Francois Chollet, an open source library written in Python\n",
    "- DL4J: Developed by Skymid engineering team and DeepLearning4J community, written in C++ and Java\n",
    "- Theano: Developed by university of montreal, written in python\n",
    "- Torch: Developed by Ronan Collobert, Clement Farabet, Koray Kavukcuoglu, written in Python\n",
    "- TensorFlow: Developed by Google Brain Team, , written in Python, C++ and CUDA\n"
   ]
  },
  {
   "cell_type": "code",
   "execution_count": 481,
   "id": "991c9656",
   "metadata": {},
   "outputs": [
    {
     "name": "stdout",
     "output_type": "stream",
     "text": [
      "Note: you may need to restart the kernel to use updated packages.\n"
     ]
    }
   ],
   "source": [
    "pip install tensorflow --quiet"
   ]
  },
  {
   "cell_type": "markdown",
   "id": "cdf46d3f",
   "metadata": {},
   "source": [
    "`Why TensorFlow` \n",
    "\n",
    "TensorFlow offers APIs that makes it easier to work on to write code. It supports CPUs and GPUs computing devices. It has a faster compilation time than other Deep Learning libraries."
   ]
  },
  {
   "cell_type": "markdown",
   "id": "c8e93f5e",
   "metadata": {},
   "source": [
    "##### What are Tensors\n",
    "Tensors are Multi Dimensional arrays. An array is an ordered arrangement of numbers. An image fed to the Model can be represented using assigned numbers arranged in an ordered manner and can be represented in mutiple dimensions.\n",
    "\n",
    "A 2D or two dimensional array is called a Matrix.\n",
    "\n",
    "#### Examples of Tensor Dimension\n",
    "- `8` 0-D/0 Dimension because it contains only one number\n",
    "- `[2 2 3]` 1-D/1 Dimension because it contains multiple 0-D numbers/tensors\n",
    "\n",
    "- `[2 2 3]\n",
    "   [2 4 3]\n",
    "   [1 2 3]` 2-D/2 Dimension because it contains multiple 1-D tensors\n",
    "   \n",
    "- `[2 2 3]\n",
    "   [2 4 3]`\n",
    "   \n",
    "   `[1 2 3]\n",
    "   [4 2 3]`\n",
    "   \n",
    "   `[6 2 3]\n",
    "   [4 2 3]` 3-D/3 Dimension because it contains multiple 2-D tensors\n",
    "\n",
    "\n",
    " \n"
   ]
  },
  {
   "cell_type": "markdown",
   "id": "61455560",
   "metadata": {},
   "source": [
    "#### Tensor Shapes\n",
    "\n",
    "- `8` No shape\n",
    "- `[2 2 3]` 1-D/1 Dimension that has 3 elements/numbers so it is a shape 3 ie (3, )\n",
    "\n",
    "- `[2 2 3]\n",
    "   [2 4 3]\n",
    "   [1 2 3]\n",
    "   [1 2 3]` 2-D/2 Dimension that has 4 1-D tensors  and 3 elements so it is a 4 by 3 shape ie (4, 3)\n",
    "   \n",
    "- `[2 2 3 4]\n",
    "   [2 4 3 5]\n",
    "   \n",
    "   [1 2 3 7]\n",
    "   [4 2 3 9]\n",
    "   \n",
    "   [6 2 3 8]\n",
    "   [4 2 3 5]` 3-D/3 Dimension that has 3 2-D tensors, 2 1-D tensors and 4 elements so it is a 3 by 2 by 4 shape ie (3, 2, 4)\n",
    "   \n",
    "- a 4-D/4 Dimension has multiple 3-D tensors stacked on top of each other"
   ]
  },
  {
   "cell_type": "markdown",
   "id": "d333ef13",
   "metadata": {},
   "source": [
    "TensorFlow accepts data in the form of multidimensional arrays of higher dimensions called Tensor. \n",
    "\n",
    "It works on the basis of Data Flow graphs that have nodes and edges.\n",
    "\n",
    "Tensor is a generalization of vectors and matrices of potentially higher dimensions. Arrays of data with different dimensions and ranks that are fed as input to the neural networks are called Tensors\n",
    "\n",
    "Tensor Rank"
   ]
  },
  {
   "cell_type": "markdown",
   "id": "d0bfe706",
   "metadata": {},
   "source": [
    "Each TensorFlow computation is represented a Data Flow graph.\n",
    "\n",
    "Each node in the graph represents a mathematical operation (add, subtract, multiply etc) and each edge represents multidimensional arrays (Tensors).\n",
    "\n",
    "Computational Graph is the graph of programming logic which TensorFlow builds in the memory."
   ]
  },
  {
   "cell_type": "markdown",
   "id": "2eb72993",
   "metadata": {},
   "source": [
    "`Program Elements in TensorFlow`\n",
    "\n",
    "**Constants**: These are parameter/variable whose value does not change. You cannot change the value during computation. To define a constant, we use `tf.constant()` command \n",
    "\n",
    "Example:\n",
    "\n",
    "a = tf.constant(2.0, tf.float32) the tf.float32 stipulates data type\n",
    "\n",
    "b = tf.constant(3.0)\n",
    "\n",
    "print(a, b)\n",
    "\n",
    "**Variables**: Allows us to add new trainable parameters to the graph. To define a variable we use `tf.Variable()` command and initialize them before running the graph in a session.\n",
    "\n",
    "Example:\n",
    "\n",
    "w = tf.Variable([2.0], dtype=tf.float32) \n",
    "\n",
    "b = tf.Variable([-2.0], dtype=tf.float32) \n",
    "\n",
    "x = tf.placeholder(tf.float32)\n",
    "\n",
    "linear_model=w*x+b\n",
    "\n",
    "**Placeholders**: allows us to feed data to a TensorFlow model from outside a model. It permits a value to be assigned later. To define a placeholder we use `tf.placeholder()` command\n",
    "\n",
    "Example:\n",
    "d = tf.placeholder(tf.float64)\n",
    "e = tf.placeholder(tf.int32)\n",
    "x = tf.placeholder(tf.float32, shape=(None,5))\n",
    "\n",
    "a = tf.placeholder(tf.float32)\n",
    "\n",
    "b = a*2\n",
    "\n",
    "with tf.Session() as sess:\n",
    "\n",
    "result = sess.run(b, feed_dict={a:3.0)})\n",
    "\n",
    "print(result)\n",
    "\n",
    "\n",
    "**Session**: a session is run to evaluate the nodes. This is called as the TensorFlow runtime.\n",
    "\n",
    "Example:\n",
    "\n",
    "a = tf.constant(3.0)\n",
    "\n",
    "b = tf.constant(2.0)\n",
    "\n",
    "c = a*b\n",
    "\n",
    "###### Launch Session \n",
    "sess = tf.Session() \n",
    "\n",
    "###### Evaluate the tensor c\n",
    "\n",
    "print(sess.run(c))\n",
    "\n"
   ]
  },
  {
   "cell_type": "code",
   "execution_count": 4,
   "id": "a2f50da5",
   "metadata": {},
   "outputs": [
    {
     "name": "stderr",
     "output_type": "stream",
     "text": [
      "2023-06-14 12:48:24.026608: I tensorflow/core/platform/cpu_feature_guard.cc:182] This TensorFlow binary is optimized to use available CPU instructions in performance-critical operations.\n",
      "To enable the following instructions: AVX2 FMA, in other operations, rebuild TensorFlow with the appropriate compiler flags.\n"
     ]
    }
   ],
   "source": [
    "import tensorflow as tf"
   ]
  },
  {
   "cell_type": "code",
   "execution_count": 20,
   "id": "a00732c5",
   "metadata": {},
   "outputs": [
    {
     "data": {
      "text/plain": [
       "'2.12.0'"
      ]
     },
     "execution_count": 20,
     "metadata": {},
     "output_type": "execute_result"
    }
   ],
   "source": [
    "tf.__version__"
   ]
  },
  {
   "cell_type": "code",
   "execution_count": 48,
   "id": "1b56b9a6",
   "metadata": {},
   "outputs": [
    {
     "name": "stdout",
     "output_type": "stream",
     "text": [
      "<tf.Variable 'Variable:0' shape=() dtype=int32, numpy=0>\n"
     ]
    }
   ],
   "source": [
    "##this is a variable\n",
    "zero = tf.Variable(0)\n",
    "print(zero)"
   ]
  },
  {
   "cell_type": "code",
   "execution_count": 486,
   "id": "72b62dac",
   "metadata": {},
   "outputs": [
    {
     "name": "stdout",
     "output_type": "stream",
     "text": [
      "tf.Tensor(\n",
      "[[1 1]\n",
      " [1 1]], shape=(2, 2), dtype=int32)\n"
     ]
    }
   ],
   "source": [
    "##this is a constant\n",
    "one = tf.constant([[1,1], [1,1]])\n",
    "print(one)"
   ]
  },
  {
   "cell_type": "code",
   "execution_count": 488,
   "id": "f87d30ac",
   "metadata": {},
   "outputs": [
    {
     "name": "stdout",
     "output_type": "stream",
     "text": [
      "tf.Tensor(\n",
      "[[1 1]\n",
      " [1 1]], shape=(2, 2), dtype=int32)\n"
     ]
    }
   ],
   "source": [
    "new_value = tf.add(zero,one)\n",
    "print(new_value)"
   ]
  },
  {
   "cell_type": "code",
   "execution_count": 489,
   "id": "7589ca82",
   "metadata": {},
   "outputs": [
    {
     "name": "stdout",
     "output_type": "stream",
     "text": [
      "tf.Tensor(\n",
      "[[-1 -1]\n",
      " [-1 -1]], shape=(2, 2), dtype=int32)\n"
     ]
    }
   ],
   "source": [
    "subtract_value = tf.subtract(zero,one)\n",
    "print(subtract_value)"
   ]
  },
  {
   "cell_type": "code",
   "execution_count": 490,
   "id": "c0f2e28b",
   "metadata": {},
   "outputs": [
    {
     "name": "stdout",
     "output_type": "stream",
     "text": [
      "tf.Tensor([ 2  0 -3], shape=(3,), dtype=int32)\n"
     ]
    }
   ],
   "source": [
    "##create 1-D tensor\n",
    "tensor_1D = tf.constant([2, 0, -3])\n",
    "print(tensor_1D)\n"
   ]
  },
  {
   "cell_type": "code",
   "execution_count": 491,
   "id": "104f33fd",
   "metadata": {},
   "outputs": [
    {
     "name": "stdout",
     "output_type": "stream",
     "text": [
      "tf.Tensor(\n",
      "[[2 2 3]\n",
      " [2 4 3]\n",
      " [1 2 3]\n",
      " [1 2 3]], shape=(4, 3), dtype=int32)\n"
     ]
    }
   ],
   "source": [
    "##create 2-D tensor\n",
    "tensor_2D = tf.constant([\n",
    "    [2, 2, 3],\n",
    "   [2, 4, 3],\n",
    "   [1, 2, 3],\n",
    "   [1, 2, 3]\n",
    "])\n",
    "print(tensor_2D)"
   ]
  },
  {
   "cell_type": "code",
   "execution_count": 492,
   "id": "9398aa75",
   "metadata": {},
   "outputs": [
    {
     "name": "stdout",
     "output_type": "stream",
     "text": [
      "tf.Tensor(\n",
      "[[[ 2  2  3  4]\n",
      "  [ 2  4  3  6]]\n",
      "\n",
      " [[ 1  2  3  7]\n",
      "  [ 1  2  3  9]]\n",
      "\n",
      " [[ 4  5  3 89]\n",
      "  [ 6  9  3 19]]], shape=(3, 2, 4), dtype=int32)\n"
     ]
    }
   ],
   "source": [
    "##create 3-D tensor\n",
    "tensor_3D = tf.constant([\n",
    "    [[2, 2, 3, 4],\n",
    "   [2, 4, 3, 6]],\n",
    "    \n",
    "   [[1, 2, 3, 7],\n",
    "   [1, 2, 3, 9]], \n",
    "    \n",
    "   [[4, 5, 3, 89],\n",
    "   [6, 9, 3, 19]]\n",
    "])\n",
    "print(tensor_3D)"
   ]
  },
  {
   "cell_type": "code",
   "execution_count": 493,
   "id": "65026d94",
   "metadata": {},
   "outputs": [
    {
     "name": "stdout",
     "output_type": "stream",
     "text": [
      "tf.Tensor(\n",
      "[[[[ 2  2  3  4]\n",
      "   [ 2  4  3  6]]\n",
      "\n",
      "  [[ 1  2  3  7]\n",
      "   [ 1  2  3  9]]\n",
      "\n",
      "  [[ 4  5  3 89]\n",
      "   [ 6  9  3 19]]]\n",
      "\n",
      "\n",
      " [[[ 2  2  3  4]\n",
      "   [ 2  4  3  6]]\n",
      "\n",
      "  [[ 1  2  3  7]\n",
      "   [ 1  2  3  9]]\n",
      "\n",
      "  [[ 4  5  3 89]\n",
      "   [ 6  9  3 19]]]\n",
      "\n",
      "\n",
      " [[[ 2  2  3  4]\n",
      "   [ 2  4  3  6]]\n",
      "\n",
      "  [[ 1  2  3  7]\n",
      "   [ 1  2  3  9]]\n",
      "\n",
      "  [[ 4  5  3 89]\n",
      "   [ 6  9  3 19]]]], shape=(3, 3, 2, 4), dtype=int32)\n"
     ]
    }
   ],
   "source": [
    "##create 4-D tensor\n",
    "tensor_4D = tf.constant([[\n",
    "    [[2, 2, 3, 4],\n",
    "   [2, 4, 3, 6]],\n",
    "    \n",
    "   [[1, 2, 3, 7],\n",
    "   [1, 2, 3, 9]], \n",
    "    \n",
    "   [[4, 5, 3, 89],\n",
    "   [6, 9, 3, 19]]\n",
    "],\n",
    "\n",
    "[\n",
    "    [[2, 2, 3, 4],\n",
    "   [2, 4, 3, 6]],\n",
    "    \n",
    "   [[1, 2, 3, 7],\n",
    "   [1, 2, 3, 9]], \n",
    "    \n",
    "   [[4, 5, 3, 89],\n",
    "   [6, 9, 3, 19]]\n",
    "],\n",
    "\n",
    "[\n",
    "    [[2, 2, 3, 4],\n",
    "   [2, 4, 3, 6]],\n",
    "    \n",
    "   [[1, 2, 3, 7],\n",
    "   [1, 2, 3, 9]], \n",
    "    \n",
    "   [[4, 5, 3, 89],\n",
    "   [6, 9, 3, 19]]\n",
    "]\n",
    "\n",
    "])\n",
    "print(tensor_4D)"
   ]
  },
  {
   "cell_type": "code",
   "execution_count": 494,
   "id": "fdec53cd",
   "metadata": {},
   "outputs": [
    {
     "data": {
      "text/plain": [
       "<tf.Tensor: shape=(), dtype=float32, numpy=12.0>"
      ]
     },
     "execution_count": 494,
     "metadata": {},
     "output_type": "execute_result"
    }
   ],
   "source": [
    "## to find a dimensions shape\n",
    "tensor_3D.shape\n",
    "tf.shape(tensor_4D)\n",
    "\n",
    "## to find the rank of a dimension\n",
    "tf.rank(tensor_4D)\n",
    "\n",
    "## to find the size\n",
    "tf.size(fill_tensor, out_type=tf.float32)"
   ]
  },
  {
   "cell_type": "code",
   "execution_count": 71,
   "id": "114afc2a",
   "metadata": {},
   "outputs": [
    {
     "name": "stdout",
     "output_type": "stream",
     "text": [
      "tf.Tensor([ 2.  0. -3.], shape=(3,), dtype=float32)\n",
      "tf.Tensor([ 2.  0. -3.], shape=(3,), dtype=float32)\n",
      "tf.Tensor([ 2  0 -3], shape=(3,), dtype=int32)\n",
      "tf.Tensor([ True False  True], shape=(3,), dtype=bool)\n",
      "tf.Tensor(\n",
      "[[b'Hello World' b'Hi baby']\n",
      " [b'Hello World' b'Hi baby']], shape=(2, 2), dtype=string)\n"
     ]
    }
   ],
   "source": [
    "##to change the dtype to float type from int just add a . to one of the numbers\n",
    "tensor_1D_float = tf.constant([2, 0, -3.])\n",
    "print(tensor_1D_float)\n",
    "\n",
    "##to change the dtype just state it in the bracket\n",
    "float_change = tf.constant([2, 0, -3.], dtype = tf.float32)\n",
    "print(float_change)\n",
    "\n",
    "##to change a float to int just cast the float variable\n",
    "int_change = tf.cast(float_change, dtype = tf.int32)\n",
    "print(int_change)\n",
    "\n",
    "##to change a data to bool just cast the data variable\n",
    "bool_change = tf.cast(float_change, dtype = tf.bool)\n",
    "print(bool_change)\n",
    "\n",
    "##tensor string data type\n",
    "tensor_string = tf.constant([['Hello World', 'Hi baby'], ['Hello World', 'Hi baby']], dtype = tf.string)\n",
    "print(tensor_string)"
   ]
  },
  {
   "cell_type": "markdown",
   "id": "265f4128",
   "metadata": {},
   "source": [
    "#### Convert a Numpy Array into a tensor"
   ]
  },
  {
   "cell_type": "code",
   "execution_count": 72,
   "id": "c63f7497",
   "metadata": {},
   "outputs": [],
   "source": [
    "import numpy as np"
   ]
  },
  {
   "cell_type": "code",
   "execution_count": 495,
   "id": "318b4ad9",
   "metadata": {},
   "outputs": [
    {
     "data": {
      "text/plain": [
       "array([0, 1, 2, 3, 4, 5, 6, 7, 8, 9])"
      ]
     },
     "execution_count": 495,
     "metadata": {},
     "output_type": "execute_result"
    }
   ],
   "source": [
    "array = np.array(range(10))\n",
    "array"
   ]
  },
  {
   "cell_type": "code",
   "execution_count": 75,
   "id": "b3085fbd",
   "metadata": {},
   "outputs": [
    {
     "data": {
      "text/plain": [
       "<tf.Tensor: shape=(10,), dtype=int64, numpy=array([0, 1, 2, 3, 4, 5, 6, 7, 8, 9])>"
      ]
     },
     "execution_count": 75,
     "metadata": {},
     "output_type": "execute_result"
    }
   ],
   "source": [
    " np_tensor = tf.convert_to_tensor(array)\n",
    "np_tensor"
   ]
  },
  {
   "cell_type": "code",
   "execution_count": 496,
   "id": "e791df7c",
   "metadata": {},
   "outputs": [
    {
     "data": {
      "text/plain": [
       "array([[1., 0., 0.],\n",
       "       [0., 1., 0.],\n",
       "       [0., 0., 1.]])"
      ]
     },
     "execution_count": 496,
     "metadata": {},
     "output_type": "execute_result"
    }
   ],
   "source": [
    "arr = np.eye(3, 3)\n",
    "arr"
   ]
  },
  {
   "cell_type": "code",
   "execution_count": 497,
   "id": "476a7acd",
   "metadata": {},
   "outputs": [
    {
     "data": {
      "text/plain": [
       "<tf.Tensor: shape=(5, 5), dtype=float32, numpy=\n",
       "array([[1., 0., 0., 0., 0.],\n",
       "       [0., 1., 0., 0., 0.],\n",
       "       [0., 0., 1., 0., 0.],\n",
       "       [0., 0., 0., 1., 0.],\n",
       "       [0., 0., 0., 0., 1.]], dtype=float32)>"
      ]
     },
     "execution_count": 497,
     "metadata": {},
     "output_type": "execute_result"
    }
   ],
   "source": [
    "##create tensor eye\n",
    "eye_tensor = tf.eye(\n",
    "    num_rows=5,\n",
    "    num_columns= None, ##if nothing is inserted it will automatically take the value of num_rows\n",
    "    batch_shape= None, \n",
    "    dtype=tf.dtypes.float32, \n",
    "    name= None)\n",
    "eye_tensor\n",
    "##all of the elements are 0 except the leading diagonal that is 1"
   ]
  },
  {
   "cell_type": "code",
   "execution_count": 498,
   "id": "8dca548b",
   "metadata": {},
   "outputs": [
    {
     "data": {
      "text/plain": [
       "<tf.Tensor: shape=(3, 4), dtype=int32, numpy=\n",
       "array([[3, 0, 0, 0],\n",
       "       [0, 3, 0, 0],\n",
       "       [0, 0, 3, 0]], dtype=int32)>"
      ]
     },
     "execution_count": 498,
     "metadata": {},
     "output_type": "execute_result"
    }
   ],
   "source": [
    "##effect of num_columns\n",
    "eye_tensor_amend = tf.eye(\n",
    "    num_rows=3,\n",
    "    num_columns= 4, \n",
    "    batch_shape= None, \n",
    "    dtype=tf.dtypes.int32, \n",
    "    name= None)\n",
    "eye_tensor_amend*3"
   ]
  },
  {
   "cell_type": "code",
   "execution_count": 88,
   "id": "a6501e6a",
   "metadata": {},
   "outputs": [
    {
     "data": {
      "text/plain": [
       "<tf.Tensor: shape=(3, 4), dtype=bool, numpy=\n",
       "array([[ True, False, False, False],\n",
       "       [False,  True, False, False],\n",
       "       [False, False,  True, False]])>"
      ]
     },
     "execution_count": 88,
     "metadata": {},
     "output_type": "execute_result"
    }
   ],
   "source": [
    "##bool data type\n",
    "eye_tensor_bool = tf.eye(\n",
    "    num_rows=3,\n",
    "    num_columns= 4, \n",
    "    batch_shape= None, \n",
    "    dtype=tf.dtypes.bool, \n",
    "    name= None)\n",
    "eye_tensor_bool\n",
    "##all of the elements are false except the leading diagonal that is true\n"
   ]
  },
  {
   "cell_type": "code",
   "execution_count": 500,
   "id": "314fd47e",
   "metadata": {},
   "outputs": [
    {
     "data": {
      "text/plain": [
       "<tf.Tensor: shape=(3, 3, 4), dtype=float32, numpy=\n",
       "array([[[3., 0., 0., 0.],\n",
       "        [0., 3., 0., 0.],\n",
       "        [0., 0., 3., 0.]],\n",
       "\n",
       "       [[3., 0., 0., 0.],\n",
       "        [0., 3., 0., 0.],\n",
       "        [0., 0., 3., 0.]],\n",
       "\n",
       "       [[3., 0., 0., 0.],\n",
       "        [0., 3., 0., 0.],\n",
       "        [0., 0., 3., 0.]]], dtype=float32)>"
      ]
     },
     "execution_count": 500,
     "metadata": {},
     "output_type": "execute_result"
    }
   ],
   "source": [
    "##effect of batch_shape\n",
    "eye_column = tf.eye(\n",
    "    num_rows=3,\n",
    "    num_columns= 4, \n",
    "    batch_shape= [3], \n",
    "    dtype=tf.dtypes.float32, \n",
    "    name= None)\n",
    "eye_column*3\n",
    "##creates 3D tensor"
   ]
  },
  {
   "cell_type": "code",
   "execution_count": 92,
   "id": "68da7a0a",
   "metadata": {},
   "outputs": [
    {
     "data": {
      "text/plain": [
       "<tf.Tensor: shape=(2, 4, 3, 4), dtype=float32, numpy=\n",
       "array([[[[3., 0., 0., 0.],\n",
       "         [0., 3., 0., 0.],\n",
       "         [0., 0., 3., 0.]],\n",
       "\n",
       "        [[3., 0., 0., 0.],\n",
       "         [0., 3., 0., 0.],\n",
       "         [0., 0., 3., 0.]],\n",
       "\n",
       "        [[3., 0., 0., 0.],\n",
       "         [0., 3., 0., 0.],\n",
       "         [0., 0., 3., 0.]],\n",
       "\n",
       "        [[3., 0., 0., 0.],\n",
       "         [0., 3., 0., 0.],\n",
       "         [0., 0., 3., 0.]]],\n",
       "\n",
       "\n",
       "       [[[3., 0., 0., 0.],\n",
       "         [0., 3., 0., 0.],\n",
       "         [0., 0., 3., 0.]],\n",
       "\n",
       "        [[3., 0., 0., 0.],\n",
       "         [0., 3., 0., 0.],\n",
       "         [0., 0., 3., 0.]],\n",
       "\n",
       "        [[3., 0., 0., 0.],\n",
       "         [0., 3., 0., 0.],\n",
       "         [0., 0., 3., 0.]],\n",
       "\n",
       "        [[3., 0., 0., 0.],\n",
       "         [0., 3., 0., 0.],\n",
       "         [0., 0., 3., 0.]]]], dtype=float32)>"
      ]
     },
     "execution_count": 92,
     "metadata": {},
     "output_type": "execute_result"
    }
   ],
   "source": [
    "##create 4D tensor\n",
    "eye_column = tf.eye(\n",
    "    num_rows=3,\n",
    "    num_columns= 4, \n",
    "    batch_shape= [2, 4], \n",
    "    dtype=tf.dtypes.float32, \n",
    "    name= None)\n",
    "eye_column*3"
   ]
  },
  {
   "cell_type": "code",
   "execution_count": 100,
   "id": "79eba3b6",
   "metadata": {},
   "outputs": [
    {
     "data": {
      "text/plain": [
       "<tf.Tensor: shape=(3, 4), dtype=int32, numpy=\n",
       "array([[5, 5, 5, 5],\n",
       "       [5, 5, 5, 5],\n",
       "       [5, 5, 5, 5]], dtype=int32)>"
      ]
     },
     "execution_count": 100,
     "metadata": {},
     "output_type": "execute_result"
    }
   ],
   "source": [
    "##filling a tensor with a specific value\n",
    "fill_tensor = tf.fill([3,4], 5, name=None)\n",
    "fill_tensor\n",
    "##creates a 3 by 4 shape tensor filled with the value 5"
   ]
  },
  {
   "cell_type": "code",
   "execution_count": 103,
   "id": "83347604",
   "metadata": {},
   "outputs": [
    {
     "data": {
      "text/plain": [
       "<tf.Tensor: shape=(3, 4, 2), dtype=float32, numpy=\n",
       "array([[[1., 1.],\n",
       "        [1., 1.],\n",
       "        [1., 1.],\n",
       "        [1., 1.]],\n",
       "\n",
       "       [[1., 1.],\n",
       "        [1., 1.],\n",
       "        [1., 1.],\n",
       "        [1., 1.]],\n",
       "\n",
       "       [[1., 1.],\n",
       "        [1., 1.],\n",
       "        [1., 1.],\n",
       "        [1., 1.]]], dtype=float32)>"
      ]
     },
     "execution_count": 103,
     "metadata": {},
     "output_type": "execute_result"
    }
   ],
   "source": [
    "##fill the tensor only with the value 1\n",
    "one_tensor = tf.ones([3, 4, 2], dtype=tf.dtypes.float32)\n",
    "one_tensor\n",
    "##creates a 3D shape tensor filled with the value 1"
   ]
  },
  {
   "cell_type": "code",
   "execution_count": 501,
   "id": "5bb85145",
   "metadata": {},
   "outputs": [
    {
     "data": {
      "text/plain": [
       "<tf.Tensor: shape=(3, 4), dtype=int32, numpy=\n",
       "array([[5, 5, 5, 5],\n",
       "       [5, 5, 5, 5],\n",
       "       [5, 5, 5, 5]], dtype=int32)>"
      ]
     },
     "execution_count": 501,
     "metadata": {},
     "output_type": "execute_result"
    }
   ],
   "source": [
    "fill_tensor"
   ]
  },
  {
   "cell_type": "code",
   "execution_count": 107,
   "id": "cc388af7",
   "metadata": {},
   "outputs": [
    {
     "data": {
      "text/plain": [
       "<tf.Tensor: shape=(3, 4), dtype=float32, numpy=\n",
       "array([[1., 1., 1., 1.],\n",
       "       [1., 1., 1., 1.],\n",
       "       [1., 1., 1., 1.]], dtype=float32)>"
      ]
     },
     "execution_count": 107,
     "metadata": {},
     "output_type": "execute_result"
    }
   ],
   "source": [
    "##ones_like creates a tensor of all that has the same shape as the input\n",
    "ones_like_tensor = tf.ones_like(fill_tensor,  dtype=tf.dtypes.float32)\n",
    "ones_like_tensor\n",
    "##fill_tensor was initially a 5 but this changed it all to a 1 and you can change the dtype\n"
   ]
  },
  {
   "cell_type": "code",
   "execution_count": 109,
   "id": "2d4625f9",
   "metadata": {},
   "outputs": [
    {
     "data": {
      "text/plain": [
       "array([1., 1., 1., 1., 1., 1., 1., 1., 1., 1.])"
      ]
     },
     "execution_count": 109,
     "metadata": {},
     "output_type": "execute_result"
    }
   ],
   "source": [
    "numpy_ones = np.ones(10)\n",
    "numpy_ones"
   ]
  },
  {
   "cell_type": "code",
   "execution_count": 116,
   "id": "7d2970da",
   "metadata": {},
   "outputs": [
    {
     "data": {
      "text/plain": [
       "<module 'numpy.random' from '/Users/bad_billipino/opt/anaconda3/lib/python3.9/site-packages/numpy/random/__init__.py'>"
      ]
     },
     "execution_count": 116,
     "metadata": {},
     "output_type": "execute_result"
    }
   ],
   "source": [
    "np.random"
   ]
  },
  {
   "cell_type": "code",
   "execution_count": 502,
   "id": "58eac43c",
   "metadata": {},
   "outputs": [
    {
     "ename": "ValueError",
     "evalue": "The truth value of an array with more than one element is ambiguous. Use a.any() or a.all()",
     "output_type": "error",
     "traceback": [
      "\u001b[0;31m---------------------------------------------------------------------------\u001b[0m",
      "\u001b[0;31mValueError\u001b[0m                                Traceback (most recent call last)",
      "Input \u001b[0;32mIn [502]\u001b[0m, in \u001b[0;36m<cell line: 2>\u001b[0;34m()\u001b[0m\n\u001b[1;32m      1\u001b[0m \u001b[38;5;66;03m##create a random tensor\u001b[39;00m\n\u001b[0;32m----> 2\u001b[0m random_tensor \u001b[38;5;241m=\u001b[39m \u001b[43mtf\u001b[49m\u001b[38;5;241;43m.\u001b[39;49m\u001b[43mcompat\u001b[49m\u001b[38;5;241;43m.\u001b[39;49m\u001b[43mv1\u001b[49m\u001b[38;5;241;43m.\u001b[39;49m\u001b[43mrandom_normal\u001b[49m\u001b[43m(\u001b[49m\n\u001b[1;32m      3\u001b[0m \u001b[43m    \u001b[49m\u001b[43m[\u001b[49m\u001b[38;5;241;43m3\u001b[39;49m\u001b[43m]\u001b[49m\u001b[43m,\u001b[49m\u001b[43m \u001b[49m\n\u001b[1;32m      4\u001b[0m \u001b[43m    \u001b[49m\u001b[43mmean\u001b[49m\u001b[38;5;241;43m=\u001b[39;49m\u001b[38;5;241;43m0.0\u001b[39;49m\u001b[43m,\u001b[49m\n\u001b[1;32m      5\u001b[0m \u001b[43m    \u001b[49m\u001b[43mstddev\u001b[49m\u001b[38;5;241;43m=\u001b[39;49m\u001b[38;5;241;43m1.0\u001b[39;49m\u001b[43m,\u001b[49m\n\u001b[1;32m      6\u001b[0m \u001b[43m    \u001b[49m\u001b[43mdtype\u001b[49m\u001b[38;5;241;43m=\u001b[39;49m\u001b[43mtf\u001b[49m\u001b[38;5;241;43m.\u001b[39;49m\u001b[43mdtypes\u001b[49m\u001b[38;5;241;43m.\u001b[39;49m\u001b[43mfloat32\u001b[49m\u001b[43m,\u001b[49m\n\u001b[1;32m      7\u001b[0m \u001b[43m    \u001b[49m\u001b[43mseed\u001b[49m\u001b[38;5;241;43m=\u001b[39;49m\u001b[38;5;28;43;01mNone\u001b[39;49;00m\u001b[43m,\u001b[49m\u001b[43m \u001b[49m\n\u001b[1;32m      8\u001b[0m \u001b[43m    \u001b[49m\u001b[43mname\u001b[49m\u001b[38;5;241;43m=\u001b[39;49m\u001b[38;5;28;43;01mNone\u001b[39;49;00m\n\u001b[1;32m      9\u001b[0m \u001b[43m)\u001b[49m\n\u001b[1;32m     10\u001b[0m random_tensor\n",
      "File \u001b[0;32m~/opt/anaconda3/lib/python3.9/site-packages/tensorflow/python/util/traceback_utils.py:153\u001b[0m, in \u001b[0;36mfilter_traceback.<locals>.error_handler\u001b[0;34m(*args, **kwargs)\u001b[0m\n\u001b[1;32m    151\u001b[0m \u001b[38;5;28;01mexcept\u001b[39;00m \u001b[38;5;167;01mException\u001b[39;00m \u001b[38;5;28;01mas\u001b[39;00m e:\n\u001b[1;32m    152\u001b[0m   filtered_tb \u001b[38;5;241m=\u001b[39m _process_traceback_frames(e\u001b[38;5;241m.\u001b[39m__traceback__)\n\u001b[0;32m--> 153\u001b[0m   \u001b[38;5;28;01mraise\u001b[39;00m e\u001b[38;5;241m.\u001b[39mwith_traceback(filtered_tb) \u001b[38;5;28;01mfrom\u001b[39;00m \u001b[38;5;28mNone\u001b[39m\n\u001b[1;32m    154\u001b[0m \u001b[38;5;28;01mfinally\u001b[39;00m:\n\u001b[1;32m    155\u001b[0m   \u001b[38;5;28;01mdel\u001b[39;00m filtered_tb\n",
      "File \u001b[0;32m~/opt/anaconda3/lib/python3.9/site-packages/tensorflow/python/framework/ops.py:1071\u001b[0m, in \u001b[0;36m_EagerTensorBase.__bool__\u001b[0;34m(self)\u001b[0m\n\u001b[1;32m   1070\u001b[0m \u001b[38;5;28;01mdef\u001b[39;00m \u001b[38;5;21m__bool__\u001b[39m(\u001b[38;5;28mself\u001b[39m):\n\u001b[0;32m-> 1071\u001b[0m   \u001b[38;5;28;01mreturn\u001b[39;00m \u001b[38;5;28;43mbool\u001b[39;49m\u001b[43m(\u001b[49m\u001b[38;5;28;43mself\u001b[39;49m\u001b[38;5;241;43m.\u001b[39;49m\u001b[43m_numpy\u001b[49m\u001b[43m(\u001b[49m\u001b[43m)\u001b[49m\u001b[43m)\u001b[49m\n",
      "\u001b[0;31mValueError\u001b[0m: The truth value of an array with more than one element is ambiguous. Use a.any() or a.all()"
     ]
    }
   ],
   "source": [
    "##create a random tensor\n",
    "random_tensor = tf.compat.v1.random_normal(\n",
    "    [3], \n",
    "    mean=0.0,\n",
    "    stddev=1.0,\n",
    "    dtype=tf.dtypes.float32,\n",
    "    seed=None, \n",
    "    name=None\n",
    ")\n",
    "random_tensor"
   ]
  },
  {
   "cell_type": "code",
   "execution_count": 258,
   "id": "fb5b74f2",
   "metadata": {},
   "outputs": [
    {
     "ename": "ValueError",
     "evalue": "The truth value of an array with more than one element is ambiguous. Use a.any() or a.all()",
     "output_type": "error",
     "traceback": [
      "\u001b[0;31m---------------------------------------------------------------------------\u001b[0m",
      "\u001b[0;31mValueError\u001b[0m                                Traceback (most recent call last)",
      "Input \u001b[0;32mIn [258]\u001b[0m, in \u001b[0;36m<cell line: 2>\u001b[0;34m()\u001b[0m\n\u001b[1;32m      1\u001b[0m \u001b[38;5;66;03m##changing the mean and stddev dictact where the random numbers should be generated from\u001b[39;00m\n\u001b[0;32m----> 2\u001b[0m mean_tensor \u001b[38;5;241m=\u001b[39m \u001b[43mtf\u001b[49m\u001b[38;5;241;43m.\u001b[39;49m\u001b[43mcompat\u001b[49m\u001b[38;5;241;43m.\u001b[39;49m\u001b[43mv1\u001b[49m\u001b[38;5;241;43m.\u001b[39;49m\u001b[43mrandom_normal\u001b[49m\u001b[43m(\u001b[49m\n\u001b[1;32m      3\u001b[0m \u001b[43m    \u001b[49m\u001b[43m[\u001b[49m\u001b[38;5;241;43m5\u001b[39;49m\u001b[43m,\u001b[49m\u001b[43m \u001b[49m\u001b[38;5;241;43m5\u001b[39;49m\u001b[43m]\u001b[49m\u001b[43m,\u001b[49m\u001b[43m \u001b[49m\n\u001b[1;32m      4\u001b[0m \u001b[43m    \u001b[49m\u001b[43mmean\u001b[49m\u001b[38;5;241;43m=\u001b[39;49m\u001b[38;5;241;43m50.0\u001b[39;49m\u001b[43m,\u001b[49m\n\u001b[1;32m      5\u001b[0m \u001b[43m    \u001b[49m\u001b[43mstddev\u001b[49m\u001b[38;5;241;43m=\u001b[39;49m\u001b[38;5;241;43m100.0\u001b[39;49m\u001b[43m,\u001b[49m\n\u001b[1;32m      6\u001b[0m \u001b[43m    \u001b[49m\u001b[43mdtype\u001b[49m\u001b[38;5;241;43m=\u001b[39;49m\u001b[43mtf\u001b[49m\u001b[38;5;241;43m.\u001b[39;49m\u001b[43mdtypes\u001b[49m\u001b[38;5;241;43m.\u001b[39;49m\u001b[43mfloat32\u001b[49m\u001b[43m,\u001b[49m\n\u001b[1;32m      7\u001b[0m \u001b[43m    \u001b[49m\u001b[43mseed\u001b[49m\u001b[38;5;241;43m=\u001b[39;49m\u001b[38;5;28;43;01mNone\u001b[39;49;00m\u001b[43m,\u001b[49m\u001b[43m \u001b[49m\n\u001b[1;32m      8\u001b[0m \u001b[43m    \u001b[49m\u001b[43mname\u001b[49m\u001b[38;5;241;43m=\u001b[39;49m\u001b[38;5;28;43;01mNone\u001b[39;49;00m\n\u001b[1;32m      9\u001b[0m \u001b[43m)\u001b[49m\n\u001b[1;32m     10\u001b[0m mean_tensor\n",
      "File \u001b[0;32m~/opt/anaconda3/lib/python3.9/site-packages/tensorflow/python/util/traceback_utils.py:153\u001b[0m, in \u001b[0;36mfilter_traceback.<locals>.error_handler\u001b[0;34m(*args, **kwargs)\u001b[0m\n\u001b[1;32m    151\u001b[0m \u001b[38;5;28;01mexcept\u001b[39;00m \u001b[38;5;167;01mException\u001b[39;00m \u001b[38;5;28;01mas\u001b[39;00m e:\n\u001b[1;32m    152\u001b[0m   filtered_tb \u001b[38;5;241m=\u001b[39m _process_traceback_frames(e\u001b[38;5;241m.\u001b[39m__traceback__)\n\u001b[0;32m--> 153\u001b[0m   \u001b[38;5;28;01mraise\u001b[39;00m e\u001b[38;5;241m.\u001b[39mwith_traceback(filtered_tb) \u001b[38;5;28;01mfrom\u001b[39;00m \u001b[38;5;28mNone\u001b[39m\n\u001b[1;32m    154\u001b[0m \u001b[38;5;28;01mfinally\u001b[39;00m:\n\u001b[1;32m    155\u001b[0m   \u001b[38;5;28;01mdel\u001b[39;00m filtered_tb\n",
      "File \u001b[0;32m~/opt/anaconda3/lib/python3.9/site-packages/tensorflow/python/framework/ops.py:1071\u001b[0m, in \u001b[0;36m_EagerTensorBase.__bool__\u001b[0;34m(self)\u001b[0m\n\u001b[1;32m   1070\u001b[0m \u001b[38;5;28;01mdef\u001b[39;00m \u001b[38;5;21m__bool__\u001b[39m(\u001b[38;5;28mself\u001b[39m):\n\u001b[0;32m-> 1071\u001b[0m   \u001b[38;5;28;01mreturn\u001b[39;00m \u001b[38;5;28;43mbool\u001b[39;49m\u001b[43m(\u001b[49m\u001b[38;5;28;43mself\u001b[39;49m\u001b[38;5;241;43m.\u001b[39;49m\u001b[43m_numpy\u001b[49m\u001b[43m(\u001b[49m\u001b[43m)\u001b[49m\u001b[43m)\u001b[49m\n",
      "\u001b[0;31mValueError\u001b[0m: The truth value of an array with more than one element is ambiguous. Use a.any() or a.all()"
     ]
    }
   ],
   "source": [
    "##changing the mean and stddev dictact where the random numbers should be generated from\n",
    "mean_tensor = tf.compat.v1.random_normal(\n",
    "    [5, 5], \n",
    "    mean=50.0,\n",
    "    stddev=100.0,\n",
    "    dtype=tf.dtypes.float32,\n",
    "    seed=None, \n",
    "    name=None\n",
    ")\n",
    "mean_tensor"
   ]
  },
  {
   "cell_type": "code",
   "execution_count": 503,
   "id": "f4aba50e",
   "metadata": {},
   "outputs": [
    {
     "data": {
      "text/plain": [
       "<tensorflow.python.ops.init_ops.RandomUniform at 0x7fbaf8cf8460>"
      ]
     },
     "execution_count": 503,
     "metadata": {},
     "output_type": "execute_result"
    }
   ],
   "source": [
    "##randomly generate tensors with a uniform distribution.\n",
    "uni= tf.compat.v1.random_uniform_initializer(\n",
    "    minval=0,\n",
    "    maxval=8,\n",
    "    seed=None,\n",
    "    dtype=tf.dtypes.float32\n",
    ")\n",
    "uni"
   ]
  },
  {
   "cell_type": "code",
   "execution_count": null,
   "id": "ed305fe4",
   "metadata": {},
   "outputs": [],
   "source": [
    "##read on random_set_seed"
   ]
  },
  {
   "cell_type": "markdown",
   "id": "f5b2a279",
   "metadata": {},
   "source": [
    "#### Tensor Indexing - selecting values"
   ]
  },
  {
   "cell_type": "code",
   "execution_count": 504,
   "id": "cf479385",
   "metadata": {},
   "outputs": [
    {
     "data": {
      "text/plain": [
       "<tf.Tensor: shape=(5,), dtype=int32, numpy=array([0, 1, 2, 3, 4], dtype=int32)>"
      ]
     },
     "execution_count": 504,
     "metadata": {},
     "output_type": "execute_result"
    }
   ],
   "source": [
    "tensor_index = tf.constant([0, 1, 2, 3, 4])\n",
    "tensor_index"
   ]
  },
  {
   "cell_type": "code",
   "execution_count": 505,
   "id": "fd8420f1",
   "metadata": {},
   "outputs": [
    {
     "data": {
      "text/plain": [
       "<tf.Tensor: shape=(2,), dtype=int32, numpy=array([0, 1], dtype=int32)>"
      ]
     },
     "execution_count": 505,
     "metadata": {},
     "output_type": "execute_result"
    }
   ],
   "source": [
    "tensor_index[0:2]"
   ]
  },
  {
   "cell_type": "code",
   "execution_count": 155,
   "id": "b91b6e6e",
   "metadata": {},
   "outputs": [
    {
     "data": {
      "text/plain": [
       "<tf.Tensor: shape=(2,), dtype=int32, numpy=array([0, 2], dtype=int32)>"
      ]
     },
     "execution_count": 155,
     "metadata": {},
     "output_type": "execute_result"
    }
   ],
   "source": [
    "##select from 0-3 but skips by 2\n",
    "tensor_index[0:4:2]"
   ]
  },
  {
   "cell_type": "code",
   "execution_count": 158,
   "id": "7e993a62",
   "metadata": {},
   "outputs": [
    {
     "data": {
      "text/plain": [
       "<tf.Tensor: shape=(2,), dtype=int32, numpy=array([2, 3], dtype=int32)>"
      ]
     },
     "execution_count": 158,
     "metadata": {},
     "output_type": "execute_result"
    }
   ],
   "source": [
    "##selects 3 when it should not have\n",
    "tensor_index[2:3+1]"
   ]
  },
  {
   "cell_type": "code",
   "execution_count": 159,
   "id": "a86ee071",
   "metadata": {},
   "outputs": [
    {
     "data": {
      "text/plain": [
       "<tf.Tensor: shape=(4, 3), dtype=int32, numpy=\n",
       "array([[ 1,  2,  3],\n",
       "       [11,  2,  3],\n",
       "       [ 1, 21,  3],\n",
       "       [ 1,  2, 31]], dtype=int32)>"
      ]
     },
     "execution_count": 159,
     "metadata": {},
     "output_type": "execute_result"
    }
   ],
   "source": [
    "Tensor_2D = tf.constant([[1,2,3], [11,2,3], [1,21,3], [1,2,31]])\n",
    "Tensor_2D"
   ]
  },
  {
   "cell_type": "code",
   "execution_count": 164,
   "id": "35499aeb",
   "metadata": {},
   "outputs": [
    {
     "data": {
      "text/plain": [
       "<tf.Tensor: shape=(2, 1), dtype=int32, numpy=\n",
       "array([[ 1],\n",
       "       [11]], dtype=int32)>"
      ]
     },
     "execution_count": 164,
     "metadata": {},
     "output_type": "execute_result"
    }
   ],
   "source": [
    "##selects just the first column\n",
    "Tensor_2D[0:2, :1]"
   ]
  },
  {
   "cell_type": "code",
   "execution_count": 165,
   "id": "01560b52",
   "metadata": {},
   "outputs": [
    {
     "data": {
      "text/plain": [
       "<tf.Tensor: shape=(2, 2), dtype=int32, numpy=\n",
       "array([[ 1,  2],\n",
       "       [11,  2]], dtype=int32)>"
      ]
     },
     "execution_count": 165,
     "metadata": {},
     "output_type": "execute_result"
    }
   ],
   "source": [
    "##selects just the first and second column\n",
    "Tensor_2D[0:2, :2]"
   ]
  },
  {
   "cell_type": "code",
   "execution_count": 166,
   "id": "a3dda627",
   "metadata": {},
   "outputs": [
    {
     "data": {
      "text/plain": [
       "<tf.Tensor: shape=(2, 2, 3), dtype=int32, numpy=\n",
       "array([[[ 1,  2,  3],\n",
       "        [11,  2,  3]],\n",
       "\n",
       "       [[ 1, 21,  3],\n",
       "        [ 1,  2, 31]]], dtype=int32)>"
      ]
     },
     "execution_count": 166,
     "metadata": {},
     "output_type": "execute_result"
    }
   ],
   "source": [
    "Tensor_3D = tf.constant([[[1,2,3], [11,2,3]], [[1,21,3], [1,2,31]]])\n",
    "Tensor_3D"
   ]
  },
  {
   "cell_type": "code",
   "execution_count": 173,
   "id": "068bc8f7",
   "metadata": {},
   "outputs": [
    {
     "data": {
      "text/plain": [
       "<tf.Tensor: shape=(2, 3), dtype=int32, numpy=\n",
       "array([[ 1,  2,  3],\n",
       "       [11,  2,  3]], dtype=int32)>"
      ]
     },
     "execution_count": 173,
     "metadata": {},
     "output_type": "execute_result"
    }
   ],
   "source": [
    "Tensor_3D[0]"
   ]
  },
  {
   "cell_type": "code",
   "execution_count": 172,
   "id": "a21930ae",
   "metadata": {},
   "outputs": [
    {
     "data": {
      "text/plain": [
       "<tf.Tensor: shape=(3,), dtype=int32, numpy=array([11,  2,  3], dtype=int32)>"
      ]
     },
     "execution_count": 172,
     "metadata": {},
     "output_type": "execute_result"
    }
   ],
   "source": [
    "Tensor_3D[0,1]"
   ]
  },
  {
   "cell_type": "code",
   "execution_count": 171,
   "id": "5ae8aad8",
   "metadata": {
    "scrolled": true
   },
   "outputs": [
    {
     "data": {
      "text/plain": [
       "<tf.Tensor: shape=(2,), dtype=int32, numpy=array([2, 3], dtype=int32)>"
      ]
     },
     "execution_count": 171,
     "metadata": {},
     "output_type": "execute_result"
    }
   ],
   "source": [
    "Tensor_3D[0,1,1:]"
   ]
  },
  {
   "cell_type": "markdown",
   "id": "638990ef",
   "metadata": {},
   "source": [
    "### Math Function"
   ]
  },
  {
   "cell_type": "code",
   "execution_count": 506,
   "id": "3cc01f4c",
   "metadata": {},
   "outputs": [
    {
     "data": {
      "text/plain": [
       "<tf.Tensor: shape=(5, 5), dtype=float32, numpy=\n",
       "array([[ 262.72937  ,  -11.642719 ,  -72.33192  ,   40.891594 ,\n",
       "         -62.476517 ],\n",
       "       [  93.39513  ,   49.332306 ,   22.37534  ,  160.37946  ,\n",
       "          83.43423  ],\n",
       "       [-162.1885   ,   88.96648  ,  101.31674  ,  -87.09338  ,\n",
       "          84.44142  ],\n",
       "       [  47.75511  ,    6.7283554,  -17.817108 ,   13.54287  ,\n",
       "         103.7507   ],\n",
       "       [  34.198177 ,  -42.47972  ,  108.91908  ,   -1.6004562,\n",
       "         -43.08541  ]], dtype=float32)>"
      ]
     },
     "execution_count": 506,
     "metadata": {},
     "output_type": "execute_result"
    }
   ],
   "source": [
    "mean_tensor"
   ]
  },
  {
   "cell_type": "code",
   "execution_count": 175,
   "id": "6ab1e73b",
   "metadata": {},
   "outputs": [
    {
     "data": {
      "text/plain": [
       "<tf.Tensor: shape=(5, 5), dtype=float32, numpy=\n",
       "array([[262.72937  ,  11.642719 ,  72.33192  ,  40.891594 ,  62.476517 ],\n",
       "       [ 93.39513  ,  49.332306 ,  22.37534  , 160.37946  ,  83.43423  ],\n",
       "       [162.1885   ,  88.96648  , 101.31674  ,  87.09338  ,  84.44142  ],\n",
       "       [ 47.75511  ,   6.7283554,  17.817108 ,  13.54287  , 103.7507   ],\n",
       "       [ 34.198177 ,  42.47972  , 108.91908  ,   1.6004562,  43.08541  ]],\n",
       "      dtype=float32)>"
      ]
     },
     "execution_count": 175,
     "metadata": {},
     "output_type": "execute_result"
    }
   ],
   "source": [
    "##this converts negative values to absolute i.e positive\n",
    "tf.math.abs(mean_tensor)"
   ]
  },
  {
   "cell_type": "code",
   "execution_count": 176,
   "id": "817e3d7c",
   "metadata": {},
   "outputs": [
    {
     "data": {
      "text/plain": [
       "<tf.Tensor: shape=(5,), dtype=float32, numpy=array([ 2. ,  3. , 10. ,  0.1,  0.2], dtype=float32)>"
      ]
     },
     "execution_count": 176,
     "metadata": {},
     "output_type": "execute_result"
    }
   ],
   "source": [
    "tf.math.abs([-2, 3, -10, -0.1, -0.2])"
   ]
  },
  {
   "cell_type": "code",
   "execution_count": 183,
   "id": "196fdc84",
   "metadata": {},
   "outputs": [
    {
     "data": {
      "text/plain": [
       "<tf.Tensor: shape=(5, 5), dtype=float32, numpy=\n",
       "array([[16.20893  ,        nan,        nan,  6.3946533,        nan],\n",
       "       [ 9.664115 ,  7.023696 ,  4.730258 , 12.664101 ,  9.134233 ],\n",
       "       [       nan,  9.432204 , 10.065621 ,        nan,  9.189201 ],\n",
       "       [ 6.910507 ,  2.5939074,        nan,  3.6800637, 10.185809 ],\n",
       "       [ 5.847921 ,        nan, 10.436431 ,        nan,        nan]],\n",
       "      dtype=float32)>"
      ]
     },
     "execution_count": 183,
     "metadata": {},
     "output_type": "execute_result"
    }
   ],
   "source": [
    "##finds square root of the mention element\n",
    "tf.math.sqrt(\n",
    "    mean_tensor, name=None\n",
    ")"
   ]
  },
  {
   "cell_type": "code",
   "execution_count": 192,
   "id": "aa020422",
   "metadata": {},
   "outputs": [
    {
     "data": {
      "text/plain": [
       "<tf.Tensor: shape=(4,), dtype=float32, numpy=array([2., 4., 3., 5.], dtype=float32)>"
      ]
     },
     "execution_count": 192,
     "metadata": {},
     "output_type": "execute_result"
    }
   ],
   "source": [
    "##the only allowed values are float so your dtype must be float\n",
    "sqr = tf.constant([4, 16, 9, 25], dtype=tf.dtypes.float32)\n",
    "tf.math.sqrt(\n",
    "    sqr, name=None\n",
    ")"
   ]
  },
  {
   "cell_type": "code",
   "execution_count": 193,
   "id": "22d672cc",
   "metadata": {},
   "outputs": [
    {
     "data": {
      "text/plain": [
       "<tf.Tensor: shape=(), dtype=float32, numpy=5.255949>"
      ]
     },
     "execution_count": 193,
     "metadata": {},
     "output_type": "execute_result"
    }
   ],
   "source": [
    "tf.sqrt((-2.25)** 2+ 4.75**2)"
   ]
  },
  {
   "cell_type": "code",
   "execution_count": 205,
   "id": "b98927d5",
   "metadata": {},
   "outputs": [
    {
     "data": {
      "text/plain": [
       "<tf.Tensor: shape=(4,), dtype=int32, numpy=array([     38416,          0, -846579205, -338440611], dtype=int32)>"
      ]
     },
     "execution_count": 205,
     "metadata": {},
     "output_type": "execute_result"
    }
   ],
   "source": [
    "x1 = tf.constant([4, 16, 9, 25])\n",
    "x2 = tf.constant([4, 16, 9, 25], dtype=tf.dtypes.float32)\n",
    "x3 = tf.constant([14, 116, 91, 253])\n",
    "tf.add(x1, x3)\n",
    "tf.divide(x3, x1)\n",
    "tf.subtract(x3, x1)\n",
    "tf.pow(x3, x1)"
   ]
  },
  {
   "cell_type": "code",
   "execution_count": null,
   "id": "174b4186",
   "metadata": {},
   "outputs": [],
   "source": [
    "\n",
    "tf.math.divide_no_nan(x3, x2)"
   ]
  },
  {
   "cell_type": "code",
   "execution_count": 507,
   "id": "f2209d14",
   "metadata": {},
   "outputs": [
    {
     "data": {
      "text/plain": [
       "<tf.Tensor: shape=(4,), dtype=int32, numpy=array([ 200,   20, 3000,   50], dtype=int32)>"
      ]
     },
     "execution_count": 507,
     "metadata": {},
     "output_type": "execute_result"
    }
   ],
   "source": [
    "##to return the index with the maximum value\n",
    "x_argmax = tf.constant([200, 20, 3000, 50])\n",
    "x_argmax\n"
   ]
  },
  {
   "cell_type": "code",
   "execution_count": 508,
   "id": "7ee6608e",
   "metadata": {},
   "outputs": [
    {
     "data": {
      "text/plain": [
       "<tf.Tensor: shape=(), dtype=int64, numpy=2>"
      ]
     },
     "execution_count": 508,
     "metadata": {},
     "output_type": "execute_result"
    }
   ],
   "source": [
    "##the argmax value ie index is found in numpy=\n",
    "tf.argmax(x_argmax)"
   ]
  },
  {
   "cell_type": "code",
   "execution_count": 509,
   "id": "409fde50",
   "metadata": {},
   "outputs": [
    {
     "data": {
      "text/plain": [
       "<tf.Tensor: shape=(3, 4), dtype=int32, numpy=\n",
       "array([[200,  20, 300,  50],\n",
       "       [ 14, 116, 911, 253],\n",
       "       [ 14, 116,  91, 253]], dtype=int32)>"
      ]
     },
     "execution_count": 509,
     "metadata": {},
     "output_type": "execute_result"
    }
   ],
   "source": [
    "y_argmax = tf.constant([[200, 20, 300, 50], [14, 116, 911, 253], [14, 116, 91, 253]])\n",
    "y_argmax"
   ]
  },
  {
   "cell_type": "code",
   "execution_count": 510,
   "id": "c7a07502",
   "metadata": {},
   "outputs": [
    {
     "data": {
      "text/plain": [
       "<tf.Tensor: shape=(), dtype=int64, numpy=2>"
      ]
     },
     "execution_count": 510,
     "metadata": {},
     "output_type": "execute_result"
    }
   ],
   "source": [
    "##to find argmax index of a row data\n",
    "tf.math.argmax(\n",
    "    y_argmax[1],\n",
    "    axis=None,\n",
    "    output_type=tf.dtypes.int64,\n",
    "    name=None\n",
    ")"
   ]
  },
  {
   "cell_type": "code",
   "execution_count": 227,
   "id": "37f44cc7",
   "metadata": {},
   "outputs": [
    {
     "data": {
      "text/plain": [
       "<tf.Tensor: shape=(), dtype=int64, numpy=0>"
      ]
     },
     "execution_count": 227,
     "metadata": {},
     "output_type": "execute_result"
    }
   ],
   "source": [
    "##to find argmin index of a row data\n",
    "tf.math.argmin(\n",
    "    y_argmax[1],\n",
    "    axis=None,\n",
    "    output_type=tf.dtypes.int64,\n",
    "    name=None\n",
    ")"
   ]
  },
  {
   "cell_type": "code",
   "execution_count": 229,
   "id": "dd13a803",
   "metadata": {},
   "outputs": [
    {
     "data": {
      "text/plain": [
       "<tf.Tensor: shape=(3, 4), dtype=int32, numpy=\n",
       "array([[200,  20, 300,  50],\n",
       "       [ 14, 116, 911, 253],\n",
       "       [ 14, 116,  91, 253]], dtype=int32)>"
      ]
     },
     "execution_count": 229,
     "metadata": {},
     "output_type": "execute_result"
    }
   ],
   "source": [
    "y_argmax"
   ]
  },
  {
   "cell_type": "code",
   "execution_count": 228,
   "id": "7af8f502",
   "metadata": {},
   "outputs": [
    {
     "data": {
      "text/plain": [
       "<tf.Tensor: shape=(4,), dtype=int64, numpy=array([0, 1, 1, 1])>"
      ]
     },
     "execution_count": 228,
     "metadata": {},
     "output_type": "execute_result"
    }
   ],
   "source": [
    "## to find column max index not row\n",
    "tf.math.argmax(\n",
    "    y_argmax,\n",
    "    axis=0,\n",
    "    output_type=tf.dtypes.int64,\n",
    "    name=None\n",
    ")"
   ]
  },
  {
   "cell_type": "code",
   "execution_count": 230,
   "id": "719b1a7b",
   "metadata": {},
   "outputs": [
    {
     "data": {
      "text/plain": [
       "<tf.Tensor: shape=(4,), dtype=int64, numpy=array([1, 0, 2, 0])>"
      ]
     },
     "execution_count": 230,
     "metadata": {},
     "output_type": "execute_result"
    }
   ],
   "source": [
    "## to find column min index not row\n",
    "tf.math.argmin(\n",
    "    y_argmax,\n",
    "    axis=0,\n",
    "    output_type=tf.dtypes.int64,\n",
    "    name=None\n",
    ")"
   ]
  },
  {
   "cell_type": "code",
   "execution_count": 231,
   "id": "f4ac8f66",
   "metadata": {},
   "outputs": [
    {
     "data": {
      "text/plain": [
       "<tf.Tensor: shape=(3, 4), dtype=bool, numpy=\n",
       "array([[ True,  True, False,  True],\n",
       "       [False, False, False, False],\n",
       "       [False, False, False, False]])>"
      ]
     },
     "execution_count": 231,
     "metadata": {},
     "output_type": "execute_result"
    }
   ],
   "source": [
    "##used to compare if the two data are the same\n",
    "tf.math.equal(y_argmax, x_argmax)"
   ]
  },
  {
   "cell_type": "code",
   "execution_count": 232,
   "id": "70061663",
   "metadata": {},
   "outputs": [
    {
     "data": {
      "text/plain": [
       "<tf.Tensor: shape=(3, 4), dtype=int32, numpy=\n",
       "array([[          0,           0,           0,           0],\n",
       "       [          0,           0,  1152566401, -1851273783],\n",
       "       [          0,           0,  -856429023, -1851273783]], dtype=int32)>"
      ]
     },
     "execution_count": 232,
     "metadata": {},
     "output_type": "execute_result"
    }
   ],
   "source": [
    "##y_argmax raised to power x_argmax\n",
    "tf.math.pow(y_argmax, x_argmax)"
   ]
  },
  {
   "cell_type": "code",
   "execution_count": 233,
   "id": "b23574ee",
   "metadata": {},
   "outputs": [
    {
     "data": {
      "text/plain": [
       "<tf.Tensor: shape=(2, 2), dtype=int32, numpy=\n",
       "array([[  256, 65536],\n",
       "       [    9,    27]], dtype=int32)>"
      ]
     },
     "execution_count": 233,
     "metadata": {},
     "output_type": "execute_result"
    }
   ],
   "source": [
    "x = tf.constant([[2, 2], [3, 3]])\n",
    "y = tf.constant([[8, 16], [2, 3]])\n",
    "tf.pow(x, y)  \n",
    "## answer interpreted => [[2**8, 2**16], [3**2, 3**3]]"
   ]
  },
  {
   "cell_type": "code",
   "execution_count": 238,
   "id": "39d52664",
   "metadata": {},
   "outputs": [
    {
     "data": {
      "text/plain": [
       "<tf.Tensor: shape=(4, 2), dtype=int32, numpy=\n",
       "array([[-2,  2],\n",
       "       [ 3,  3],\n",
       "       [ 8, 16],\n",
       "       [ 2,  3]], dtype=int32)>"
      ]
     },
     "execution_count": 238,
     "metadata": {},
     "output_type": "execute_result"
    }
   ],
   "source": [
    "xy = tf.constant([[-2, 2], [3, 3],[8, 16], [2, 3]])\n",
    "xy"
   ]
  },
  {
   "cell_type": "code",
   "execution_count": 241,
   "id": "1c0e1164",
   "metadata": {},
   "outputs": [
    {
     "name": "stdout",
     "output_type": "stream",
     "text": [
      "tf.Tensor(-2, shape=(), dtype=int32)\n",
      "tf.Tensor(16, shape=(), dtype=int32)\n",
      "tf.Tensor(35, shape=(), dtype=int32)\n",
      "tf.Tensor(4, shape=(), dtype=int32)\n",
      "tf.Tensor(-27648, shape=(), dtype=int32)\n"
     ]
    }
   ],
   "source": [
    "##cumsum, max, min, mean, cumprod\n",
    "print(tf.math.reduce_min(xy))\n",
    "print(tf.math.reduce_max(xy))\n",
    "print(tf.math.reduce_sum(xy))\n",
    "print(tf.math.reduce_mean(xy))\n",
    "print(tf.math.reduce_prod(xy))"
   ]
  },
  {
   "cell_type": "code",
   "execution_count": 247,
   "id": "af2ada17",
   "metadata": {},
   "outputs": [
    {
     "name": "stdout",
     "output_type": "stream",
     "text": [
      "tf.Tensor([ 8 16], shape=(2,), dtype=int32)\n",
      "tf.Tensor([-2  2], shape=(2,), dtype=int32)\n",
      "tf.Tensor([11 24], shape=(2,), dtype=int32)\n",
      "tf.Tensor([2 6], shape=(2,), dtype=int32)\n"
     ]
    }
   ],
   "source": [
    "##changin the axis to 0 fixes the calculations to row\n",
    "print(tf.math.reduce_max(\n",
    "    xy, axis=0, keepdims=False, name=None\n",
    "))\n",
    "\n",
    "print(tf.math.reduce_min(\n",
    "    xy, axis=0, keepdims=False, name=None\n",
    "))\n",
    "\n",
    "print(tf.math.reduce_sum(\n",
    "    xy, axis=0, keepdims=False, name=None\n",
    "))\n",
    "\n",
    "print(tf.math.reduce_mean(\n",
    "    xy, axis=0, keepdims=False, name=None\n",
    "))"
   ]
  },
  {
   "cell_type": "code",
   "execution_count": 249,
   "id": "14f79d18",
   "metadata": {},
   "outputs": [
    {
     "name": "stdout",
     "output_type": "stream",
     "text": [
      "tf.Tensor([ 2  3 16  3], shape=(4,), dtype=int32)\n",
      "tf.Tensor([-2  3  8  2], shape=(4,), dtype=int32)\n",
      "tf.Tensor([ 0  6 24  5], shape=(4,), dtype=int32)\n",
      "tf.Tensor([ 0  3 12  2], shape=(4,), dtype=int32)\n"
     ]
    }
   ],
   "source": [
    "##changin the axis to 1 fixes the calculations to column\n",
    "## you can also change keepdims to true\n",
    "print(tf.math.reduce_max(\n",
    "    xy, axis=1, keepdims=False, name=None\n",
    "))\n",
    "\n",
    "print(tf.math.reduce_min(\n",
    "    xy, axis=1, keepdims=False, name=None\n",
    "))\n",
    "\n",
    "print(tf.math.reduce_sum(\n",
    "    xy, axis=1, keepdims=False, name=None\n",
    "))\n",
    "\n",
    "print(tf.math.reduce_mean(\n",
    "    xy, axis=1, keepdims=False, name=None\n",
    "))"
   ]
  },
  {
   "cell_type": "code",
   "execution_count": 263,
   "id": "602702a1",
   "metadata": {
    "scrolled": false
   },
   "outputs": [
    {
     "data": {
      "text/plain": [
       "<tf.Tensor: shape=(4, 3), dtype=int32, numpy=\n",
       "array([[2, 2, 3],\n",
       "       [2, 4, 3],\n",
       "       [1, 2, 3],\n",
       "       [1, 2, 3]], dtype=int32)>"
      ]
     },
     "execution_count": 263,
     "metadata": {},
     "output_type": "execute_result"
    }
   ],
   "source": [
    "tensor_2D"
   ]
  },
  {
   "cell_type": "code",
   "execution_count": 264,
   "id": "088aa50b",
   "metadata": {},
   "outputs": [
    {
     "data": {
      "text/plain": [
       "TopKV2(values=<tf.Tensor: shape=(4, 2), dtype=int32, numpy=\n",
       "array([[3, 2],\n",
       "       [4, 3],\n",
       "       [3, 2],\n",
       "       [3, 2]], dtype=int32)>, indices=<tf.Tensor: shape=(4, 2), dtype=int32, numpy=\n",
       "array([[2, 0],\n",
       "       [1, 2],\n",
       "       [2, 1],\n",
       "       [2, 1]], dtype=int32)>)"
      ]
     },
     "execution_count": 264,
     "metadata": {},
     "output_type": "execute_result"
    }
   ],
   "source": [
    "##top_k is used to find the top values matching what we want eg top 10\n",
    "tf.math.top_k(tensor_2D, k = 2)\n",
    "\n",
    "##shows the top 2 values and their index"
   ]
  },
  {
   "cell_type": "markdown",
   "id": "34c2e85f",
   "metadata": {},
   "source": [
    "### Linear Algebra Operations\n",
    "\n",
    "* This is the study of linear combinations. It is the study of vector spaces, lines and planes, and some mappings that are required to perform the linear transformations. It includes vectors, matrices and linear functions. It is the study of linear sets of equations and its transformation properties"
   ]
  },
  {
   "cell_type": "code",
   "execution_count": 511,
   "id": "7b374823",
   "metadata": {},
   "outputs": [
    {
     "name": "stdout",
     "output_type": "stream",
     "text": [
      "tf.Tensor(\n",
      "[[  7  12  -2]\n",
      " [ 14  26 -11]], shape=(2, 3), dtype=int32)\n",
      "tf.Tensor(\n",
      "[[  7  12  -2]\n",
      " [ 14  26 -11]], shape=(2, 3), dtype=int32)\n"
     ]
    }
   ],
   "source": [
    "## Multiplies matrix a by matrix b, producing a * b. \n",
    "## This is different from the math.multiply or multiply function because that is an element multiplication \n",
    "## This is a matrix multiplication\n",
    "## Note that if a and b matrix have the same shape, matmul will be impossible. The column in a must be same with the row in b\n",
    "## i.e shape (2, 3) and (2, 3) will not matmul but a (2, 3) and (3, 3) or (2, 3) and (3, 4)  will work\n",
    "\n",
    "x_1 = tf.constant([[1, 2, 0], \n",
    "                   [3, 5, -1]])\n",
    "\n",
    "x_2 = tf.constant([[1, 2, 0], \n",
    "                   [3, 5, -1], \n",
    "                   [4, 5, 6]])\n",
    "\n",
    "print(tf.linalg.matmul(\n",
    "    x_1,\n",
    "    x_2,\n",
    "    transpose_a=False,\n",
    "    transpose_b=False,\n",
    "    adjoint_a=False,\n",
    "    adjoint_b=False,\n",
    "    a_is_sparse=False,\n",
    "    b_is_sparse=False,\n",
    "    output_type=None,\n",
    "    name=None\n",
    "))\n",
    "\n",
    "print(x_1@x_2) ##this is also a matrix multiplication\n"
   ]
  },
  {
   "cell_type": "code",
   "execution_count": 271,
   "id": "f20a504b",
   "metadata": {},
   "outputs": [
    {
     "data": {
      "text/plain": [
       "<tf.Tensor: shape=(3, 2), dtype=int32, numpy=\n",
       "array([[ 5, 13],\n",
       "       [13, 35],\n",
       "       [14, 31]], dtype=int32)>"
      ]
     },
     "execution_count": 271,
     "metadata": {},
     "output_type": "execute_result"
    }
   ],
   "source": [
    "## Matrix Transpose, rows be column, column becomes rows\n",
    "## You can write true in the above matmul to transpose\n",
    "tf.transpose(x_1)\n",
    "x_2@tf.transpose(x_1) ##perform a matmul whilst transposing the matrix\n"
   ]
  },
  {
   "cell_type": "code",
   "execution_count": 276,
   "id": "71b360c2",
   "metadata": {},
   "outputs": [
    {
     "name": "stdout",
     "output_type": "stream",
     "text": [
      "tf.Tensor(\n",
      "[[[ 69  34   7]\n",
      "  [173  87  20]]\n",
      "\n",
      " [[  5  10  10]\n",
      "  [  2   4   4]]\n",
      "\n",
      " [[ 20  20  30]\n",
      "  [  4   4   5]]], shape=(3, 2, 3), dtype=int32)\n"
     ]
    }
   ],
   "source": [
    "y_1 = tf.constant([[[1,2], [3,5]],\n",
    "                   [[5,0],[2,0]], \n",
    "                   [[10,0], [1,2]]])\n",
    "\n",
    "y_2 = tf.constant([[[1,4,5],[34,15,1]],\n",
    "                   [[1,2,2],[3, 5,2]], \n",
    "                   [[2, 2, 3], [1,1, 1]]])\n",
    "print(y_1@y_2)\n",
    "                                                "
   ]
  },
  {
   "cell_type": "markdown",
   "id": "ec1bd2b5",
   "metadata": {},
   "source": [
    "* Tensors that are mostly made up of zeros are called `sparse tensors` and TensorFlow has a way of maximizing such types of tensors in the matmul function, view above. If you put true, TensorFlow will take that into consideration and carry out the computation even faster"
   ]
  },
  {
   "cell_type": "code",
   "execution_count": 512,
   "id": "086da0c9",
   "metadata": {},
   "outputs": [
    {
     "name": "stdout",
     "output_type": "stream",
     "text": [
      "tf.Tensor(\n",
      "[[ 0  2  0]\n",
      " [-4  0  0]], shape=(2, 3), dtype=int32)\n"
     ]
    },
    {
     "data": {
      "text/plain": [
       "<tf.Tensor: shape=(2, 3), dtype=int32, numpy=\n",
       "array([[ 0,  2,  0],\n",
       "       [-4,  0,  0]], dtype=int32)>"
      ]
     },
     "execution_count": 512,
     "metadata": {},
     "output_type": "execute_result"
    }
   ],
   "source": [
    "##Sparse Tensor\n",
    "T_1 = tf.constant([[1, 0, 0], \n",
    "                   [0, 0, -1]])\n",
    "\n",
    "T_2 = tf.constant([[0, 2, 0], \n",
    "                   [0, 0, -1], \n",
    "                   [4, 0, 0]])\n",
    "print(tf.linalg.matmul(\n",
    "    T_1,\n",
    "    T_2,\n",
    "    transpose_a=False,\n",
    "    transpose_b=False,\n",
    "    adjoint_a=False,\n",
    "    adjoint_b=False,\n",
    "    a_is_sparse=True,\n",
    "    b_is_sparse=True,\n",
    "    output_type=None,\n",
    "    name=None\n",
    "))\n",
    "T_1@T_2"
   ]
  },
  {
   "cell_type": "code",
   "execution_count": 286,
   "id": "ce481b59",
   "metadata": {},
   "outputs": [
    {
     "name": "stdout",
     "output_type": "stream",
     "text": [
      "tf.Tensor(\n",
      "[[ 50.   2. 100.]\n",
      " [  3.   5.  -1.]\n",
      " [  1.   5.   6.]\n",
      " [  2.   3.   8.]], shape=(4, 3), dtype=float16)\n",
      "tf.Tensor(\n",
      "[[ 50.   2. 100.]\n",
      " [  0.   5.  -1.]\n",
      " [  0.   0.   6.]\n",
      " [  0.   0.   0.]], shape=(4, 3), dtype=float16)\n",
      "tf.Tensor(\n",
      "[[50.  0.  0.]\n",
      " [ 3.  5.  0.]\n",
      " [ 1.  5.  6.]\n",
      " [ 2.  3.  8.]], shape=(4, 3), dtype=float16)\n",
      "tf.Tensor(\n",
      "[[50.  0.  0.]\n",
      " [ 0.  5.  0.]\n",
      " [ 0.  0.  6.]\n",
      " [ 0.  0.  0.]], shape=(4, 3), dtype=float16)\n"
     ]
    }
   ],
   "source": [
    "##Band Part method\n",
    "## This copies a tensor setting everything outside a central band in each innermost matrix to zero based on certain conditions\n",
    "\n",
    "band_part = tf.constant([[50, 2, 100], \n",
    "                   [3, 5, -1], \n",
    "                   [1, 5, 6],\n",
    "                    [2, 3, 8]], dtype = tf.dtypes.float16)\n",
    "print(band_part)\n",
    "\n",
    "##tf.linalg.band_part(input, num_lower, num_upper, name=None)\n",
    "##(lower<0 or m-n <= 0) and (upper<0 or n-m <= 0)\n",
    "## m is for rows; n is for columns\n",
    "\n",
    "print(tf.linalg.band_part(band_part, 0, -1)) ##Upper triangular part will not be 0\n",
    "print(tf.linalg.band_part(band_part, -1, 0)) ##Lower triangular partwill not be 0\n",
    "print(tf.linalg.band_part(band_part, 0, 0)) ##Diagonal will not be 0\n",
    "\n",
    "\n",
    "##try to find a clear exxplanation of this\n"
   ]
  },
  {
   "cell_type": "code",
   "execution_count": 291,
   "id": "7bc6f7a5",
   "metadata": {},
   "outputs": [
    {
     "name": "stdout",
     "output_type": "stream",
     "text": [
      "tf.Tensor(\n",
      "[[ 50.   2. 100.]\n",
      " [  3.   5.  -1.]\n",
      " [  1.   5.   6.]], shape=(3, 3), dtype=float16)\n"
     ]
    },
    {
     "data": {
      "text/plain": [
       "<tf.Tensor: shape=(3, 3), dtype=float16, numpy=\n",
       "array([[ 0.01291 ,  0.1799  , -0.185   ],\n",
       "       [-0.007008,  0.0737  ,  0.129   ],\n",
       "       [ 0.003687, -0.09143 ,  0.08997 ]], dtype=float16)>"
      ]
     },
     "execution_count": 291,
     "metadata": {},
     "output_type": "execute_result"
    }
   ],
   "source": [
    "##inverse function - Computes the inverse of one or more square invertible matrices or their adjoints (conjugate transposes).\n",
    "##the number of rows and column must be the same to do an inverse\n",
    "inv_func = tf.constant([[50, 2, 100], \n",
    "                   [3, 5, -1], \n",
    "                   [1, 5, 6]], dtype= tf.dtypes.float16)\n",
    "print(inv_func)\n",
    "tf.linalg.inv(inv_func)\n"
   ]
  },
  {
   "cell_type": "code",
   "execution_count": 300,
   "id": "d41bebb5",
   "metadata": {},
   "outputs": [],
   "source": [
    "ein_1 = np.array(x_1)\n"
   ]
  },
  {
   "cell_type": "code",
   "execution_count": 299,
   "id": "5264896a",
   "metadata": {},
   "outputs": [],
   "source": [
    "ein_2 = np.array(x_2)"
   ]
  },
  {
   "cell_type": "code",
   "execution_count": 301,
   "id": "a79ee0ae",
   "metadata": {},
   "outputs": [
    {
     "data": {
      "text/plain": [
       "array([[  7,  12,  -2],\n",
       "       [ 14,  26, -11]], dtype=int32)"
      ]
     },
     "execution_count": 301,
     "metadata": {},
     "output_type": "execute_result"
    }
   ],
   "source": [
    "np.matmul(ein_1, ein_2)"
   ]
  },
  {
   "cell_type": "code",
   "execution_count": 307,
   "id": "b2f1ca99",
   "metadata": {},
   "outputs": [
    {
     "data": {
      "text/plain": [
       "array([[  7,  12,  -2],\n",
       "       [ 14,  26, -11]], dtype=int32)"
      ]
     },
     "execution_count": 307,
     "metadata": {},
     "output_type": "execute_result"
    }
   ],
   "source": [
    "## always insert 'ij,jk->ik' in einsum\n",
    "np.einsum('ij,jk->ik', ein_1, ein_2)"
   ]
  },
  {
   "cell_type": "markdown",
   "id": "dee16ed7",
   "metadata": {},
   "source": [
    "- np.einsum is similar to np.matmul"
   ]
  },
  {
   "cell_type": "code",
   "execution_count": 316,
   "id": "daf19f25",
   "metadata": {},
   "outputs": [
    {
     "data": {
      "text/plain": [
       "array([21, 53, 73, 85, 11, 69, 85, 54, 75, 78, 79, 33, 84, 75, 91, 15, 96,\n",
       "       89, 57, 72, 55, 81, 96,  4, 18])"
      ]
     },
     "execution_count": 316,
     "metadata": {},
     "output_type": "execute_result"
    }
   ],
   "source": [
    "##Generate random 12 numbers\n",
    "np.random.rand(12)\n",
    "##Generate 25 random integer numbers between 1 and 100\n",
    "np.random.randint(1, 100, 25)"
   ]
  },
  {
   "cell_type": "markdown",
   "id": "3e7d30a6",
   "metadata": {},
   "source": [
    "#### Common TensorFlow Functions"
   ]
  },
  {
   "cell_type": "code",
   "execution_count": 318,
   "id": "f2452972",
   "metadata": {},
   "outputs": [
    {
     "data": {
      "text/plain": [
       "<tf.Tensor: shape=(3, 2, 4), dtype=int32, numpy=\n",
       "array([[[ 2,  2,  3,  4],\n",
       "        [ 2,  4,  3,  6]],\n",
       "\n",
       "       [[ 1,  2,  3,  7],\n",
       "        [ 1,  2,  3,  9]],\n",
       "\n",
       "       [[ 4,  5,  3, 89],\n",
       "        [ 6,  9,  3, 19]]], dtype=int32)>"
      ]
     },
     "execution_count": 318,
     "metadata": {},
     "output_type": "execute_result"
    }
   ],
   "source": [
    "tensor_3D"
   ]
  },
  {
   "cell_type": "code",
   "execution_count": 324,
   "id": "61161d3d",
   "metadata": {},
   "outputs": [
    {
     "data": {
      "text/plain": [
       "<tf.Tensor: shape=(4, 3), dtype=int32, numpy=\n",
       "array([[2, 2, 3],\n",
       "       [2, 4, 3],\n",
       "       [1, 2, 3],\n",
       "       [1, 2, 3]], dtype=int32)>"
      ]
     },
     "execution_count": 324,
     "metadata": {},
     "output_type": "execute_result"
    }
   ],
   "source": [
    "tensor_2D"
   ]
  },
  {
   "cell_type": "code",
   "execution_count": 513,
   "id": "638954d3",
   "metadata": {},
   "outputs": [
    {
     "name": "stdout",
     "output_type": "stream",
     "text": [
      "tf.Tensor(\n",
      "[[[[ 2  2  3  4]\n",
      "   [ 2  4  3  6]]\n",
      "\n",
      "  [[ 1  2  3  7]\n",
      "   [ 1  2  3  9]]\n",
      "\n",
      "  [[ 4  5  3 89]\n",
      "   [ 6  9  3 19]]]], shape=(1, 3, 2, 4), dtype=int32)\n",
      "tf.Tensor(\n",
      "[[[2 2 3]]\n",
      "\n",
      " [[2 4 3]]\n",
      "\n",
      " [[1 2 3]]\n",
      "\n",
      " [[1 2 3]]], shape=(4, 1, 3), dtype=int32)\n"
     ]
    }
   ],
   "source": [
    "##This returns a tensor with a length 1 axis inserted at index axis\n",
    "##specify axis 0-3 depending on the dimension of the tensor\n",
    "print(tf.expand_dims(tensor_3D, axis=0))\n",
    "##the shape changes from 3D to 4D\n",
    "\n",
    "print(tf.expand_dims(tensor_2D, axis=1))\n",
    "##the shape changes from 2D to 3D\n",
    "\n"
   ]
  },
  {
   "cell_type": "code",
   "execution_count": 514,
   "id": "b00c3df8",
   "metadata": {},
   "outputs": [
    {
     "data": {
      "text/plain": [
       "<tf.Tensor: shape=(4, 3), dtype=int32, numpy=\n",
       "array([[2, 2, 3],\n",
       "       [2, 4, 3],\n",
       "       [1, 2, 3],\n",
       "       [1, 2, 3]], dtype=int32)>"
      ]
     },
     "execution_count": 514,
     "metadata": {},
     "output_type": "execute_result"
    }
   ],
   "source": [
    "##This squeezes the tensor ie opposite of expand\n",
    "tensor_expanded = tf.expand_dims(tensor_2D, axis=0)\n",
    "tf.squeeze(tensor_expanded)"
   ]
  },
  {
   "cell_type": "code",
   "execution_count": 347,
   "id": "1e863928",
   "metadata": {},
   "outputs": [
    {
     "data": {
      "text/plain": [
       "<tf.Tensor: shape=(2, 6), dtype=int32, numpy=\n",
       "array([[2, 2, 3, 2, 4, 3],\n",
       "       [1, 2, 3, 1, 2, 3]], dtype=int32)>"
      ]
     },
     "execution_count": 347,
     "metadata": {},
     "output_type": "execute_result"
    }
   ],
   "source": [
    "##This will reshape the tensor to the specified value in the []\n",
    "##always make sure the multiplication of the original and new tensor are the same\n",
    "tf.reshape(tensor_expanded,[2,6])\n"
   ]
  },
  {
   "cell_type": "code",
   "execution_count": 348,
   "id": "8e29420e",
   "metadata": {},
   "outputs": [
    {
     "data": {
      "text/plain": [
       "<tf.Tensor: shape=(6, 2), dtype=int32, numpy=\n",
       "array([[2, 1],\n",
       "       [2, 2],\n",
       "       [3, 3],\n",
       "       [2, 1],\n",
       "       [4, 2],\n",
       "       [3, 3]], dtype=int32)>"
      ]
     },
     "execution_count": 348,
     "metadata": {},
     "output_type": "execute_result"
    }
   ],
   "source": [
    "tf.transpose(tf.reshape(tensor_expanded,[2,6]))"
   ]
  },
  {
   "cell_type": "code",
   "execution_count": 356,
   "id": "b4cbdd15",
   "metadata": {},
   "outputs": [
    {
     "data": {
      "text/plain": [
       "<tf.Tensor: shape=(2, 6), dtype=int32, numpy=\n",
       "array([[ 1,  2,  3, 10,  8,  9],\n",
       "       [ 4,  5,  6,  5,  6,  7]], dtype=int32)>"
      ]
     },
     "execution_count": 356,
     "metadata": {},
     "output_type": "execute_result"
    }
   ],
   "source": [
    "##Concatenate tensors\n",
    "concat_1 = tf.constant([[1, 2, 3], [4, 5, 6]])\n",
    "concat_2 = tf.constant([[10, 8, 9], [5, 6, 7]])\n",
    "\n",
    "tf.concat([concat_1, concat_2], axis = 0) ##0 means concatenation across the rows\n",
    "\n",
    "tf.concat([concat_1, concat_2], axis = 1) ##1 means concatenation across the columns\n"
   ]
  },
  {
   "cell_type": "code",
   "execution_count": 364,
   "id": "295c7081",
   "metadata": {},
   "outputs": [
    {
     "data": {
      "text/plain": [
       "<tf.Tensor: shape=(2, 4, 3), dtype=int32, numpy=\n",
       "array([[[ 1,  2,  3],\n",
       "        [ 5,  6,  7],\n",
       "        [10,  8,  9],\n",
       "        [ 5,  6,  7]],\n",
       "\n",
       "       [[ 4,  5,  6],\n",
       "        [10,  8,  9],\n",
       "        [ 4,  5,  6],\n",
       "        [10,  8,  9]]], dtype=int32)>"
      ]
     },
     "execution_count": 364,
     "metadata": {},
     "output_type": "execute_result"
    }
   ],
   "source": [
    "\n",
    "concat_3 = tf.constant([[[1, 2, 3], [5, 6, 7]], [[4, 5, 6], [10, 8, 9]]])\n",
    "concat_4 = tf.constant([[[10, 8, 9], [5, 6, 7]], [[4, 5, 6], [10, 8, 9]]])\n",
    "tf.concat([concat_3, concat_4], axis = 0) ##0 for row\n"
   ]
  },
  {
   "cell_type": "code",
   "execution_count": 361,
   "id": "1c599a2d",
   "metadata": {},
   "outputs": [
    {
     "data": {
      "text/plain": [
       "<tf.Tensor: shape=(2, 2, 3), dtype=int32, numpy=\n",
       "array([[[ 1,  2,  3],\n",
       "        [10,  8,  9]],\n",
       "\n",
       "       [[ 4,  5,  6],\n",
       "        [ 5,  6,  7]]], dtype=int32)>"
      ]
     },
     "execution_count": 361,
     "metadata": {},
     "output_type": "execute_result"
    }
   ],
   "source": [
    "tf.stack([concat_1, concat_2])\n",
    "tf.stack([concat_1, concat_2], axis=0) ##0 means creating a new axis\n",
    "tf.stack([concat_1, concat_2], axis=1) \n"
   ]
  },
  {
   "cell_type": "code",
   "execution_count": 383,
   "id": "172e9719",
   "metadata": {},
   "outputs": [
    {
     "name": "stdout",
     "output_type": "stream",
     "text": [
      "tf.Tensor(\n",
      "[[2 4]\n",
      " [2 2]], shape=(2, 2), dtype=int32)\n"
     ]
    },
    {
     "data": {
      "text/plain": [
       "<tf.Tensor: shape=(8, 7), dtype=int32, numpy=\n",
       "array([[ 0,  0,  0,  0,  0,  0,  0],\n",
       "       [ 0,  0,  0,  0,  0,  0,  0],\n",
       "       [ 0,  0, 10,  8,  9,  0,  0],\n",
       "       [ 0,  0,  5,  6,  7,  0,  0],\n",
       "       [ 0,  0,  0,  0,  0,  0,  0],\n",
       "       [ 0,  0,  0,  0,  0,  0,  0],\n",
       "       [ 0,  0,  0,  0,  0,  0,  0],\n",
       "       [ 0,  0,  0,  0,  0,  0,  0]], dtype=int32)>"
      ]
     },
     "execution_count": 383,
     "metadata": {},
     "output_type": "execute_result"
    }
   ],
   "source": [
    "##padding a tensor with zeros or a number of your choice ie surround it with 0 or any number\n",
    "padding = tf.constant([[ 2,  4],\n",
    "        [ 2,  2]]) \n",
    "print(padding)\n",
    "\n",
    "##the padding value must have columns only to work\n",
    "##the tensor values being surrounded is written first and \n",
    "##the number of rows and columns to surround is stated second \n",
    "##ie [2rows above, 4 rows below, 2 0s to the right, 2 0s to the lefts]\n",
    "\n",
    "tf.pad( concat_1, padding, 'CONSTANT', constant_values=5)\n",
    "tf.pad( concat_2, padding, 'CONSTANT', constant_values=0)\n"
   ]
  },
  {
   "cell_type": "code",
   "execution_count": 385,
   "id": "28744f75",
   "metadata": {},
   "outputs": [
    {
     "data": {
      "text/plain": [
       "<tf.Tensor: shape=(2,), dtype=int32, numpy=array([5, 6], dtype=int32)>"
      ]
     },
     "execution_count": 385,
     "metadata": {},
     "output_type": "execute_result"
    }
   ],
   "source": [
    "concat_1[1, 1:2+1]"
   ]
  },
  {
   "cell_type": "code",
   "execution_count": 391,
   "id": "f06dfb28",
   "metadata": {},
   "outputs": [
    {
     "data": {
      "text/plain": [
       "<tf.Tensor: shape=(2, 3), dtype=int32, numpy=\n",
       "array([[1, 2, 3],\n",
       "       [4, 5, 6]], dtype=int32)>"
      ]
     },
     "execution_count": 391,
     "metadata": {},
     "output_type": "execute_result"
    }
   ],
   "source": [
    "concat_1"
   ]
  },
  {
   "cell_type": "code",
   "execution_count": 390,
   "id": "10369180",
   "metadata": {},
   "outputs": [
    {
     "data": {
      "text/plain": [
       "<tf.Tensor: shape=(2, 2), dtype=int32, numpy=\n",
       "array([[2, 1],\n",
       "       [5, 4]], dtype=int32)>"
      ]
     },
     "execution_count": 390,
     "metadata": {},
     "output_type": "execute_result"
    }
   ],
   "source": [
    "##this is similar to indexing and slicing\n",
    "tf.gather(concat_1,[1, 1])\n",
    "tf.gather(concat_1,[1, 0], axis=1)"
   ]
  },
  {
   "cell_type": "code",
   "execution_count": 392,
   "id": "bc15abf0",
   "metadata": {},
   "outputs": [
    {
     "data": {
      "text/plain": [
       "<tf.Tensor: shape=(3, 2, 4), dtype=int32, numpy=\n",
       "array([[[ 2,  2,  3,  4],\n",
       "        [ 2,  4,  3,  6]],\n",
       "\n",
       "       [[ 1,  2,  3,  7],\n",
       "        [ 1,  2,  3,  9]],\n",
       "\n",
       "       [[ 4,  5,  3, 89],\n",
       "        [ 6,  9,  3, 19]]], dtype=int32)>"
      ]
     },
     "execution_count": 392,
     "metadata": {},
     "output_type": "execute_result"
    }
   ],
   "source": [
    "tensor_3D"
   ]
  },
  {
   "cell_type": "code",
   "execution_count": 402,
   "id": "f290a5ad",
   "metadata": {},
   "outputs": [
    {
     "data": {
      "text/plain": [
       "<tf.Tensor: shape=(2, 2, 4), dtype=int32, numpy=\n",
       "array([[[ 1,  2,  3,  7],\n",
       "        [ 1,  2,  3,  9]],\n",
       "\n",
       "       [[ 4,  5,  3, 89],\n",
       "        [ 6,  9,  3, 19]]], dtype=int32)>"
      ]
     },
     "execution_count": 402,
     "metadata": {},
     "output_type": "execute_result"
    }
   ],
   "source": [
    "tf.gather(tensor_3D,[1, 2])"
   ]
  },
  {
   "cell_type": "code",
   "execution_count": 401,
   "id": "7e40b14b",
   "metadata": {},
   "outputs": [
    {
     "data": {
      "text/plain": [
       "<tf.Tensor: shape=(3, 1, 4), dtype=int32, numpy=\n",
       "array([[[ 2,  4,  3,  6]],\n",
       "\n",
       "       [[ 1,  2,  3,  9]],\n",
       "\n",
       "       [[ 6,  9,  3, 19]]], dtype=int32)>"
      ]
     },
     "execution_count": 401,
     "metadata": {},
     "output_type": "execute_result"
    }
   ],
   "source": [
    "tf.gather(tensor_3D,[1], axis=1)"
   ]
  },
  {
   "cell_type": "code",
   "execution_count": 404,
   "id": "a3deba42",
   "metadata": {},
   "outputs": [
    {
     "data": {
      "text/plain": [
       "<tf.Tensor: shape=(3, 2, 4), dtype=int32, numpy=\n",
       "array([[[ 2,  2,  3,  4],\n",
       "        [ 2,  4,  3,  6]],\n",
       "\n",
       "       [[ 1,  2,  3,  7],\n",
       "        [ 1,  2,  3,  9]],\n",
       "\n",
       "       [[ 4,  5,  3, 89],\n",
       "        [ 6,  9,  3, 19]]], dtype=int32)>"
      ]
     },
     "execution_count": 404,
     "metadata": {},
     "output_type": "execute_result"
    }
   ],
   "source": [
    "tensor_3D"
   ]
  },
  {
   "cell_type": "code",
   "execution_count": 408,
   "id": "f99628de",
   "metadata": {},
   "outputs": [
    {
     "data": {
      "text/plain": [
       "<tf.Tensor: shape=(2, 2), dtype=string, numpy=\n",
       "array([[b'c', b'd'],\n",
       "       [b'a', b'b']], dtype=object)>"
      ]
     },
     "execution_count": 408,
     "metadata": {},
     "output_type": "execute_result"
    }
   ],
   "source": [
    "indices = [[1], [0]]\n",
    "params =[['a', 'b'], \n",
    "         ['c', 'd'], \n",
    "         ['e', 'f']]\n",
    "tf.gather_nd(params, indices)"
   ]
  },
  {
   "cell_type": "code",
   "execution_count": 409,
   "id": "261f5fbf",
   "metadata": {},
   "outputs": [
    {
     "data": {
      "text/plain": [
       "<tf.Tensor: shape=(2, 1, 2), dtype=string, numpy=\n",
       "array([[[b'c', b'd']],\n",
       "\n",
       "       [[b'a', b'b']]], dtype=object)>"
      ]
     },
     "execution_count": 409,
     "metadata": {},
     "output_type": "execute_result"
    }
   ],
   "source": [
    "tf.gather(params, indices)"
   ]
  },
  {
   "cell_type": "code",
   "execution_count": 421,
   "id": "6b36ee28",
   "metadata": {},
   "outputs": [
    {
     "data": {
      "text/plain": [
       "<tf.Tensor: shape=(2,), dtype=int32, numpy=array([3, 2], dtype=int32)>"
      ]
     },
     "execution_count": 421,
     "metadata": {},
     "output_type": "execute_result"
    }
   ],
   "source": [
    "indice = [[1, 0], [0, 1]]\n",
    "param =[[1, 2], \n",
    "         [3, 4], \n",
    "         [5, 6]]\n",
    "tf.gather_nd(param, indice)"
   ]
  },
  {
   "cell_type": "code",
   "execution_count": 423,
   "id": "df415150",
   "metadata": {},
   "outputs": [
    {
     "data": {
      "text/plain": [
       "<tf.Tensor: shape=(2,), dtype=string, numpy=array([b'deep', b'hi'], dtype=object)>"
      ]
     },
     "execution_count": 423,
     "metadata": {},
     "output_type": "execute_result"
    }
   ],
   "source": [
    "indicee = [[1, 0], [0, 1]]\n",
    "paraam =[['hello', 'hi'], \n",
    "         ['deep', 'low'], \n",
    "         ['breathe', 'poor']]\n",
    "tf.gather_nd(paraam, indicee, batch_dims = 0)"
   ]
  },
  {
   "cell_type": "markdown",
   "id": "d5bd3a9a",
   "metadata": {},
   "source": [
    "### Ragged Tensors\n",
    "* Tensors are meant to be rectangular in shape, if not, you will get an error message. However if you wish to create a tensor that is not rectangular and not get an error message, use `tf.ragged.constant()`"
   ]
  },
  {
   "cell_type": "code",
   "execution_count": 424,
   "id": "ba909790",
   "metadata": {},
   "outputs": [
    {
     "data": {
      "text/plain": [
       "<tf.Tensor: shape=(4, 3), dtype=int32, numpy=\n",
       "array([[2, 2, 3],\n",
       "       [2, 4, 3],\n",
       "       [1, 2, 3],\n",
       "       [1, 2, 3]], dtype=int32)>"
      ]
     },
     "execution_count": 424,
     "metadata": {},
     "output_type": "execute_result"
    }
   ],
   "source": [
    "##Normal expected tensor\n",
    "tensor_2D"
   ]
  },
  {
   "cell_type": "code",
   "execution_count": 429,
   "id": "2c03be92",
   "metadata": {},
   "outputs": [
    {
     "data": {
      "text/plain": [
       "<tf.RaggedTensor [[2, 2], [2, 4, 3, 5], [9, 2, 3], [1, 2, 3, 7]]>"
      ]
     },
     "execution_count": 429,
     "metadata": {},
     "output_type": "execute_result"
    }
   ],
   "source": [
    "tensor_two_D = [[2, 2],\n",
    "       [2, 4, 3, 5],\n",
    "       [9, 2, 3],\n",
    "       [1, 2, 3, 7]]\n",
    "tensor_ragged = tf.ragged.constant(tensor_two_D)\n",
    "tensor_ragged\n"
   ]
  },
  {
   "cell_type": "code",
   "execution_count": 430,
   "id": "d1a3962f",
   "metadata": {},
   "outputs": [
    {
     "data": {
      "text/plain": [
       "TensorShape([4, None])"
      ]
     },
     "execution_count": 430,
     "metadata": {},
     "output_type": "execute_result"
    }
   ],
   "source": [
    "tensor_ragged.shape"
   ]
  },
  {
   "cell_type": "markdown",
   "id": "94bf342d",
   "metadata": {},
   "source": [
    "#### Sparse Tensors\n",
    "* Tensors that contain many zeros\n",
    "\n",
    "`tf.sparse.SparseTensor([indices], [values], [dense_shape])`"
   ]
  },
  {
   "cell_type": "code",
   "execution_count": 440,
   "id": "ce0ab108",
   "metadata": {},
   "outputs": [
    {
     "data": {
      "text/plain": [
       "<tf.Tensor: shape=(5, 6), dtype=int32, numpy=\n",
       "array([[ 0,  0,  0,  0,  0,  0],\n",
       "       [ 0, 11,  0,  0,  0,  0],\n",
       "       [ 0,  0,  0,  0,  0,  0],\n",
       "       [ 0,  0,  0,  0, 56,  0],\n",
       "       [ 0,  0,  0,  0,  0,  0]], dtype=int32)>"
      ]
     },
     "execution_count": 440,
     "metadata": {},
     "output_type": "execute_result"
    }
   ],
   "source": [
    "tensor_sparse = tf.sparse.SparseTensor([[1, 1], [3, 4]], values= [11, 56], \n",
    "                       dense_shape=[5, 6])\n",
    "\n",
    "tf.sparse.to_dense(tensor_sparse)\n",
    "\n",
    "## "
   ]
  },
  {
   "cell_type": "markdown",
   "id": "1e8719e2",
   "metadata": {},
   "source": [
    "#### String Tensors"
   ]
  },
  {
   "cell_type": "code",
   "execution_count": 443,
   "id": "341bd3d7",
   "metadata": {},
   "outputs": [
    {
     "data": {
      "text/plain": [
       "<tf.Tensor: shape=(3, 2), dtype=string, numpy=\n",
       "array([[b'hello', b'hi'],\n",
       "       [b'deep', b'low'],\n",
       "       [b'breathe', b'poor']], dtype=object)>"
      ]
     },
     "execution_count": 443,
     "metadata": {},
     "output_type": "execute_result"
    }
   ],
   "source": [
    "tensor_string = tf.constant([['hello', 'hi'], \n",
    "         ['deep', 'low'], \n",
    "         ['breathe', 'poor']])\n",
    "tensor_string"
   ]
  },
  {
   "cell_type": "code",
   "execution_count": 446,
   "id": "d4488e9c",
   "metadata": {},
   "outputs": [
    {
     "data": {
      "text/plain": [
       "<tf.Tensor: shape=(4,), dtype=string, numpy=array([b'hello', b'hi', b'deep', b'low'], dtype=object)>"
      ]
     },
     "execution_count": 446,
     "metadata": {},
     "output_type": "execute_result"
    }
   ],
   "source": [
    "tensor_strings = tf.constant(['hello', 'hi', 'deep', 'low'])\n",
    "tensor_strings"
   ]
  },
  {
   "cell_type": "code",
   "execution_count": 449,
   "id": "b1ff9bb1",
   "metadata": {},
   "outputs": [
    {
     "data": {
      "text/plain": [
       "<tf.Tensor: shape=(2,), dtype=string, numpy=array([b'hello deep breathe', b'hi low poor'], dtype=object)>"
      ]
     },
     "execution_count": 449,
     "metadata": {},
     "output_type": "execute_result"
    }
   ],
   "source": [
    "tf.strings.join(tensor_string, separator = ' ')"
   ]
  },
  {
   "cell_type": "code",
   "execution_count": 448,
   "id": "5211ece9",
   "metadata": {},
   "outputs": [
    {
     "data": {
      "text/plain": [
       "<tf.Tensor: shape=(), dtype=string, numpy=b'hello hi deep low'>"
      ]
     },
     "execution_count": 448,
     "metadata": {},
     "output_type": "execute_result"
    }
   ],
   "source": [
    "tf.strings.join(tensor_strings, separator = ' ')"
   ]
  },
  {
   "cell_type": "code",
   "execution_count": 452,
   "id": "c99f7ec5",
   "metadata": {},
   "outputs": [
    {
     "data": {
      "text/plain": [
       "<tf.Tensor: shape=(4,), dtype=string, numpy=array([b'hello', b'hi', b'deep', b'low'], dtype=object)>"
      ]
     },
     "execution_count": 452,
     "metadata": {},
     "output_type": "execute_result"
    }
   ],
   "source": [
    "tf.strings.lower(tensor_strings)\n",
    "tf.strings.upper(tensor_strings)\n",
    "tf.strings.strip(tensor_strings)"
   ]
  },
  {
   "cell_type": "markdown",
   "id": "a70160d4",
   "metadata": {},
   "source": [
    "### Tensor Variables"
   ]
  },
  {
   "cell_type": "code",
   "execution_count": 455,
   "id": "49c0900d",
   "metadata": {},
   "outputs": [
    {
     "name": "stdout",
     "output_type": "stream",
     "text": [
      "<tf.Variable 'var1:0' shape=(2, 2) dtype=int32, numpy=\n",
      "array([[2, 2],\n",
      "       [3, 3]], dtype=int32)>\n"
     ]
    }
   ],
   "source": [
    "x_var = tf.Variable(x, name='var1')\n",
    "print(x_var)"
   ]
  },
  {
   "cell_type": "code",
   "execution_count": 460,
   "id": "a2796b27",
   "metadata": {},
   "outputs": [
    {
     "data": {
      "text/plain": [
       "<tf.Tensor: shape=(2, 2), dtype=int32, numpy=\n",
       "array([[2, 2],\n",
       "       [3, 3]], dtype=int32)>"
      ]
     },
     "execution_count": 460,
     "metadata": {},
     "output_type": "execute_result"
    }
   ],
   "source": [
    "x"
   ]
  },
  {
   "cell_type": "code",
   "execution_count": null,
   "id": "fc6302bc",
   "metadata": {},
   "outputs": [],
   "source": [
    "tf.Variable(\n",
    "    initial_value=None,\n",
    "    trainable=None ##this speacifies if during the training the variable will be trainable or not, if true then you can update the variable,\n",
    "    validate_shape=True,\n",
    "    caching_device=None,\n",
    "    name=None,\n",
    "    variable_def=None,\n",
    "    dtype=None,\n",
    "    import_scope=None,\n",
    "    constraint=None,\n",
    "    synchronization=tf.VariableSynchronization.AUTO,\n",
    "    aggregation=tf.compat.v1.VariableAggregation.NONE,\n",
    "    shape=None,\n",
    "    experimental_enable_variable_lifting=True\n",
    ")\n"
   ]
  },
  {
   "cell_type": "markdown",
   "id": "6d9ac281",
   "metadata": {},
   "source": [
    "**x_var.assign(new_value) will be used to change the value of the variable**"
   ]
  },
  {
   "cell_type": "code",
   "execution_count": 461,
   "id": "925e1195",
   "metadata": {},
   "outputs": [
    {
     "data": {
      "text/plain": [
       "<tf.Variable 'UnreadVariable' shape=(2, 2) dtype=int32, numpy=\n",
       "array([[2, 3],\n",
       "       [5, 6]], dtype=int32)>"
      ]
     },
     "execution_count": 461,
     "metadata": {},
     "output_type": "execute_result"
    }
   ],
   "source": [
    "x_var.assign([[2, 3],\n",
    "       [5, 6]])"
   ]
  },
  {
   "cell_type": "code",
   "execution_count": 465,
   "id": "2441e1ed",
   "metadata": {},
   "outputs": [
    {
     "data": {
      "text/plain": [
       "<tf.Variable 'UnreadVariable' shape=(2, 2) dtype=int32, numpy=\n",
       "array([[4, 6],\n",
       "       [7, 7]], dtype=int32)>"
      ]
     },
     "execution_count": 465,
     "metadata": {},
     "output_type": "execute_result"
    }
   ],
   "source": [
    "x_var.assign_add([[2, 3],\n",
    "       [2, 1]]) ##to add or subtract a value, use the same shape of numbers\n"
   ]
  },
  {
   "cell_type": "code",
   "execution_count": 468,
   "id": "c5f9cabe",
   "metadata": {},
   "outputs": [
    {
     "data": {
      "text/plain": [
       "<tf.Variable 'UnreadVariable' shape=(2, 2) dtype=int32, numpy=\n",
       "array([[2, 2],\n",
       "       [3, 5]], dtype=int32)>"
      ]
     },
     "execution_count": 468,
     "metadata": {},
     "output_type": "execute_result"
    }
   ],
   "source": [
    "x_var.assign_sub([[1, 2],\n",
    "       [2, 1]])##you can only us same data type "
   ]
  },
  {
   "cell_type": "code",
   "execution_count": 475,
   "id": "f8f929ea",
   "metadata": {},
   "outputs": [
    {
     "name": "stdout",
     "output_type": "stream",
     "text": [
      "tf.Tensor([1 2 3 4], shape=(4,), dtype=int32) /job:localhost/replica:0/task:0/device:CPU:0\n",
      "tf.Tensor([1], shape=(1,), dtype=int32) /job:localhost/replica:0/task:0/device:CPU:0\n",
      "tf.Tensor([2 3 4 5], shape=(4,), dtype=int32) /job:localhost/replica:0/task:0/device:CPU:0\n"
     ]
    }
   ],
   "source": [
    "##to change device type to CPU, GPU OR TPU\n",
    "with tf.device('CPU:0'):\n",
    "    x_1 = tf.constant([1, 2, 3, 4])\n",
    "    x_2 = tf.constant([1])\n",
    "    \n",
    "with tf.device('GPU:0'):\n",
    "    x_3 = x_1 + x_2 \n",
    "    \n",
    "print(x_1, x_1.device)\n",
    "print(x_2, x_2.device)\n",
    "print(x_3, x_3.device)"
   ]
  },
  {
   "cell_type": "code",
   "execution_count": 473,
   "id": "d23fc922",
   "metadata": {},
   "outputs": [
    {
     "name": "stdout",
     "output_type": "stream",
     "text": [
      "/job:localhost/replica:0/task:0/device:CPU:0\n",
      "/job:localhost/replica:0/task:0/device:CPU:0\n"
     ]
    }
   ],
   "source": [
    "##to change device type to CPU, GPU OR TPU\n",
    "with tf.device('CPU:0'):\n",
    "    x_varr = tf.Variable([1,2,3,4])\n",
    "with tf.device('GPU:0'):\n",
    "    x_tensor = tf.constant(0.2)\n",
    "    \n",
    "    \n",
    "print(x_varr.device)\n",
    "print(x_tensor.device)"
   ]
  },
  {
   "cell_type": "code",
   "execution_count": null,
   "id": "098d7561",
   "metadata": {},
   "outputs": [],
   "source": []
  },
  {
   "cell_type": "code",
   "execution_count": null,
   "id": "d0634897",
   "metadata": {},
   "outputs": [],
   "source": []
  },
  {
   "cell_type": "code",
   "execution_count": 26,
   "id": "62c8c1b5",
   "metadata": {},
   "outputs": [
    {
     "name": "stdout",
     "output_type": "stream",
     "text": [
      "Downloading data from https://storage.googleapis.com/tensorflow/tf-keras-datasets/mnist.npz\n",
      "11490434/11490434 [==============================] - 10s 1us/step\n"
     ]
    }
   ],
   "source": [
    "mnist = tf.keras.datasets.mnist\n",
    "(x_train, y_train), (x_test, y_test) = mnist.load_data()"
   ]
  },
  {
   "cell_type": "code",
   "execution_count": 29,
   "id": "90e96da6",
   "metadata": {},
   "outputs": [
    {
     "data": {
      "text/plain": [
       "<module 'keras.api._v2.keras.datasets.mnist' from '/Users/bad_billipino/opt/anaconda3/lib/python3.9/site-packages/keras/api/_v2/keras/datasets/mnist/__init__.py'>"
      ]
     },
     "execution_count": 29,
     "metadata": {},
     "output_type": "execute_result"
    }
   ],
   "source": [
    "mnist"
   ]
  },
  {
   "cell_type": "code",
   "execution_count": 28,
   "id": "4cf932f0",
   "metadata": {},
   "outputs": [
    {
     "data": {
      "text/plain": [
       "array([5, 0, 4, ..., 5, 6, 8], dtype=uint8)"
      ]
     },
     "execution_count": 28,
     "metadata": {},
     "output_type": "execute_result"
    }
   ],
   "source": [
    "y_train"
   ]
  },
  {
   "cell_type": "code",
   "execution_count": 27,
   "id": "d1b21631",
   "metadata": {},
   "outputs": [
    {
     "data": {
      "text/plain": [
       "array([[[0, 0, 0, ..., 0, 0, 0],\n",
       "        [0, 0, 0, ..., 0, 0, 0],\n",
       "        [0, 0, 0, ..., 0, 0, 0],\n",
       "        ...,\n",
       "        [0, 0, 0, ..., 0, 0, 0],\n",
       "        [0, 0, 0, ..., 0, 0, 0],\n",
       "        [0, 0, 0, ..., 0, 0, 0]],\n",
       "\n",
       "       [[0, 0, 0, ..., 0, 0, 0],\n",
       "        [0, 0, 0, ..., 0, 0, 0],\n",
       "        [0, 0, 0, ..., 0, 0, 0],\n",
       "        ...,\n",
       "        [0, 0, 0, ..., 0, 0, 0],\n",
       "        [0, 0, 0, ..., 0, 0, 0],\n",
       "        [0, 0, 0, ..., 0, 0, 0]],\n",
       "\n",
       "       [[0, 0, 0, ..., 0, 0, 0],\n",
       "        [0, 0, 0, ..., 0, 0, 0],\n",
       "        [0, 0, 0, ..., 0, 0, 0],\n",
       "        ...,\n",
       "        [0, 0, 0, ..., 0, 0, 0],\n",
       "        [0, 0, 0, ..., 0, 0, 0],\n",
       "        [0, 0, 0, ..., 0, 0, 0]],\n",
       "\n",
       "       ...,\n",
       "\n",
       "       [[0, 0, 0, ..., 0, 0, 0],\n",
       "        [0, 0, 0, ..., 0, 0, 0],\n",
       "        [0, 0, 0, ..., 0, 0, 0],\n",
       "        ...,\n",
       "        [0, 0, 0, ..., 0, 0, 0],\n",
       "        [0, 0, 0, ..., 0, 0, 0],\n",
       "        [0, 0, 0, ..., 0, 0, 0]],\n",
       "\n",
       "       [[0, 0, 0, ..., 0, 0, 0],\n",
       "        [0, 0, 0, ..., 0, 0, 0],\n",
       "        [0, 0, 0, ..., 0, 0, 0],\n",
       "        ...,\n",
       "        [0, 0, 0, ..., 0, 0, 0],\n",
       "        [0, 0, 0, ..., 0, 0, 0],\n",
       "        [0, 0, 0, ..., 0, 0, 0]],\n",
       "\n",
       "       [[0, 0, 0, ..., 0, 0, 0],\n",
       "        [0, 0, 0, ..., 0, 0, 0],\n",
       "        [0, 0, 0, ..., 0, 0, 0],\n",
       "        ...,\n",
       "        [0, 0, 0, ..., 0, 0, 0],\n",
       "        [0, 0, 0, ..., 0, 0, 0],\n",
       "        [0, 0, 0, ..., 0, 0, 0]]], dtype=uint8)"
      ]
     },
     "execution_count": 27,
     "metadata": {},
     "output_type": "execute_result"
    }
   ],
   "source": [
    "x_train"
   ]
  },
  {
   "cell_type": "code",
   "execution_count": 33,
   "id": "b17f12a8",
   "metadata": {},
   "outputs": [],
   "source": [
    "##Normalize the data\n",
    "x_train, x_test = x_train/255.0, x_test/255.0"
   ]
  },
  {
   "cell_type": "code",
   "execution_count": 32,
   "id": "d76b014c",
   "metadata": {},
   "outputs": [
    {
     "data": {
      "text/plain": [
       "array([[[0., 0., 0., ..., 0., 0., 0.],\n",
       "        [0., 0., 0., ..., 0., 0., 0.],\n",
       "        [0., 0., 0., ..., 0., 0., 0.],\n",
       "        ...,\n",
       "        [0., 0., 0., ..., 0., 0., 0.],\n",
       "        [0., 0., 0., ..., 0., 0., 0.],\n",
       "        [0., 0., 0., ..., 0., 0., 0.]],\n",
       "\n",
       "       [[0., 0., 0., ..., 0., 0., 0.],\n",
       "        [0., 0., 0., ..., 0., 0., 0.],\n",
       "        [0., 0., 0., ..., 0., 0., 0.],\n",
       "        ...,\n",
       "        [0., 0., 0., ..., 0., 0., 0.],\n",
       "        [0., 0., 0., ..., 0., 0., 0.],\n",
       "        [0., 0., 0., ..., 0., 0., 0.]],\n",
       "\n",
       "       [[0., 0., 0., ..., 0., 0., 0.],\n",
       "        [0., 0., 0., ..., 0., 0., 0.],\n",
       "        [0., 0., 0., ..., 0., 0., 0.],\n",
       "        ...,\n",
       "        [0., 0., 0., ..., 0., 0., 0.],\n",
       "        [0., 0., 0., ..., 0., 0., 0.],\n",
       "        [0., 0., 0., ..., 0., 0., 0.]],\n",
       "\n",
       "       ...,\n",
       "\n",
       "       [[0., 0., 0., ..., 0., 0., 0.],\n",
       "        [0., 0., 0., ..., 0., 0., 0.],\n",
       "        [0., 0., 0., ..., 0., 0., 0.],\n",
       "        ...,\n",
       "        [0., 0., 0., ..., 0., 0., 0.],\n",
       "        [0., 0., 0., ..., 0., 0., 0.],\n",
       "        [0., 0., 0., ..., 0., 0., 0.]],\n",
       "\n",
       "       [[0., 0., 0., ..., 0., 0., 0.],\n",
       "        [0., 0., 0., ..., 0., 0., 0.],\n",
       "        [0., 0., 0., ..., 0., 0., 0.],\n",
       "        ...,\n",
       "        [0., 0., 0., ..., 0., 0., 0.],\n",
       "        [0., 0., 0., ..., 0., 0., 0.],\n",
       "        [0., 0., 0., ..., 0., 0., 0.]],\n",
       "\n",
       "       [[0., 0., 0., ..., 0., 0., 0.],\n",
       "        [0., 0., 0., ..., 0., 0., 0.],\n",
       "        [0., 0., 0., ..., 0., 0., 0.],\n",
       "        ...,\n",
       "        [0., 0., 0., ..., 0., 0., 0.],\n",
       "        [0., 0., 0., ..., 0., 0., 0.],\n",
       "        [0., 0., 0., ..., 0., 0., 0.]]])"
      ]
     },
     "execution_count": 32,
     "metadata": {},
     "output_type": "execute_result"
    }
   ],
   "source": [
    "x_train"
   ]
  },
  {
   "cell_type": "markdown",
   "id": "2ece0d8c",
   "metadata": {},
   "source": [
    "### Building a ML Model"
   ]
  },
  {
   "cell_type": "code",
   "execution_count": 39,
   "id": "007e8716",
   "metadata": {},
   "outputs": [],
   "source": [
    "model = tf.keras.models.Sequential([\n",
    "    tf.keras.layers.Flatten(input_shape = (28, 28)),\n",
    "    tf.keras.layers.Dense(128, activation='relu'),\n",
    "    tf.keras.layers.Dropout(0.2),\n",
    "    tf.keras.layers.Dense(10)\n",
    "])"
   ]
  },
  {
   "cell_type": "code",
   "execution_count": 36,
   "id": "bf86d6e3",
   "metadata": {},
   "outputs": [
    {
     "data": {
      "text/plain": [
       "<keras.engine.sequential.Sequential at 0x7fbaf3e05730>"
      ]
     },
     "execution_count": 36,
     "metadata": {},
     "output_type": "execute_result"
    }
   ],
   "source": [
    "model"
   ]
  },
  {
   "cell_type": "markdown",
   "id": "a1f86a0a",
   "metadata": {},
   "source": [
    "### Training and Evaluating the Model"
   ]
  },
  {
   "cell_type": "code",
   "execution_count": 46,
   "id": "9cb2de4d",
   "metadata": {},
   "outputs": [
    {
     "ename": "NameError",
     "evalue": "name 'optimizers' is not defined",
     "output_type": "error",
     "traceback": [
      "\u001b[0;31m---------------------------------------------------------------------------\u001b[0m",
      "\u001b[0;31mNameError\u001b[0m                                 Traceback (most recent call last)",
      "Input \u001b[0;32mIn [46]\u001b[0m, in \u001b[0;36m<cell line: 2>\u001b[0;34m()\u001b[0m\n\u001b[1;32m      1\u001b[0m \u001b[38;5;66;03m##You must compile your model before training/testing. Use `model.compile(optimizer, loss)`\u001b[39;00m\n\u001b[0;32m----> 2\u001b[0m model\u001b[38;5;241m.\u001b[39mcompile(optimizer \u001b[38;5;241m=\u001b[39m\u001b[43moptimizers\u001b[49m\u001b[38;5;241m.\u001b[39mSGD(), loss \u001b[38;5;241m=\u001b[39m \u001b[38;5;124m'\u001b[39m\u001b[38;5;124mmse\u001b[39m\u001b[38;5;124m'\u001b[39m, metrics \u001b[38;5;241m=\u001b[39m [\u001b[38;5;124m'\u001b[39m\u001b[38;5;124mmse\u001b[39m\u001b[38;5;124m'\u001b[39m])\n\u001b[1;32m      3\u001b[0m model\u001b[38;5;241m.\u001b[39mfit(x_train, y_train, epochs \u001b[38;5;241m=\u001b[39m \u001b[38;5;241m5\u001b[39m)\n\u001b[1;32m      4\u001b[0m model\u001b[38;5;241m.\u001b[39mevaluate(x_test, y_test)\n",
      "\u001b[0;31mNameError\u001b[0m: name 'optimizers' is not defined"
     ]
    }
   ],
   "source": [
    "##You must compile your model before training/testing. Use `model.compile(optimizer, loss)`\n",
    "model.compile(optimizer = optimizers.SGD(), loss = 'mse', metrics = ['mse'])\n",
    "model.fit(x_train, y_train, epochs = 5)\n",
    "model.evaluate(x_test, y_test)\n",
    "probability_model = tf.keras.Sequential([model, tf.keras.models.Softmax()])\n"
   ]
  },
  {
   "cell_type": "code",
   "execution_count": null,
   "id": "473e3ed0",
   "metadata": {},
   "outputs": [],
   "source": [
    "model.evaluate(x_test, y_test)"
   ]
  },
  {
   "cell_type": "code",
   "execution_count": null,
   "id": "5ce67689",
   "metadata": {},
   "outputs": [],
   "source": [
    "probability_model = tf.keras.Sequential([model, tf.keras.models.Softmax()])\n"
   ]
  },
  {
   "cell_type": "code",
   "execution_count": null,
   "id": "39bdaee6",
   "metadata": {},
   "outputs": [],
   "source": []
  },
  {
   "cell_type": "code",
   "execution_count": null,
   "id": "00077f60",
   "metadata": {},
   "outputs": [],
   "source": []
  }
 ],
 "metadata": {
  "kernelspec": {
   "display_name": "Python 3 (ipykernel)",
   "language": "python",
   "name": "python3"
  },
  "language_info": {
   "codemirror_mode": {
    "name": "ipython",
    "version": 3
   },
   "file_extension": ".py",
   "mimetype": "text/x-python",
   "name": "python",
   "nbconvert_exporter": "python",
   "pygments_lexer": "ipython3",
   "version": "3.11.5"
  }
 },
 "nbformat": 4,
 "nbformat_minor": 5
}
