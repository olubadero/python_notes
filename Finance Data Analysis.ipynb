{
 "cells": [
  {
   "cell_type": "markdown",
   "id": "ba5c9c64",
   "metadata": {},
   "source": [
    "### Using Python And Pandas Datareader to Analyze Financial Data\n",
    "Finance and economics are becoming more and more interesting for all kinds of people, regardless of their career or profession. This is because we are all affected by economic data, or at least we are increasingly interested in being up-to-date, and we have a lot of information at hand.\n",
    "\n",
    "Every day billions of bytes of financial data are sent over the Internet. Whether it is the price of a share, an e-commerce transaction, or even information on a country's GDP. All this data, when properly organized and managed can be used to build some amazing and insightful software applications.\n",
    "\n",
    "We will use Python to access public financial data, organize it and combine it to gain new insights into how money makes the world go round. We will focus mainly on two Python modules:\n",
    "\n",
    "Pandas - used to organize and format complex data in table structures called DataFrames.\n",
    "Pandas-datareader - used to access public financial data from the Internet and import it into Python as a DataFrame.\n",
    "We will use these modules to import data from some of the largest financial organizations in the world, as well as data stored locally on our computers. By the end of the notebook, you should feel comfortable importing financial data, either from a public source or from a local file, into Python, organizing that data and combining it with each other\n",
    "### Importing data via Datareader\n",
    "Many financial institutions, stock markets and global banks provide the public with large amounts of the data they publicly store. Most of this data is well organized, updated live and accessible through the use of an application programming interface (API), which offers programming languages such as Python a way to download and import it.\n",
    "\n",
    "The pandas-datareader module is specifically designed to interface with some of the world's most popular financial data APIs, and import their data into an easily digestible pandas DataFrame. Each financial API is accessed by a different function exposed by pandas-datareader. Generally, accessing each API requires a different set of arguments and information to be provided by the programmer.\n",
    "\n",
    "We will import data from several of these APIs and play with them. For a complete list of all data that the pandas-datareader can access, you can consult the official documentation.\n",
    "\n",
    "Let's make a small program that uses pandas-datareader to get data from the World Bank API gdp. First we will install the library as follows (Please run the command on your own in the next cell, I already have it installed!):\n",
    "\n"
   ]
  },
  {
   "cell_type": "code",
   "execution_count": null,
   "id": "2810c074",
   "metadata": {},
   "outputs": [],
   "source": [
    "#Let's go ahead and start with some imports\n",
    "import pandas as pd\n",
    "from pandas import Series,DataFrame\n",
    "import numpy as np\n",
    "\n",
    "# For Visualization\n",
    "import matplotlib.pyplot as plt\n",
    "import seaborn as sns\n",
    "sns.set_style('whitegrid')\n",
    "%matplotlib inline\n",
    "\n",
    "# For reading stock data from yahoo\n",
    "#from pandas.io.data import DataReader\n",
    "!pip install pandas-datareader --quiet\n",
    "import pandas_datareader as data\n",
    "from pandas_datareader import wb\n",
    "\n",
    "# For time stamps\n",
    "from datetime import datetime\n",
    "\n",
    "# For division\n",
    "from __future__ import division\n",
    "\n"
   ]
  },
  {
   "cell_type": "markdown",
   "id": "1f875846",
   "metadata": {},
   "source": [
    "Here we have imported the data from the World Bank via wb. And we imported the python datetime library, in order to put the start and end dates in which I want to do the analysis. For more information about Python Datetimes see this other notebook!"
   ]
  },
  {
   "cell_type": "code",
   "execution_count": null,
   "id": "e20c40ca",
   "metadata": {},
   "outputs": [],
   "source": [
    "start = datetime(2005, 1, 1)\n",
    "end = datetime(2008, 1, 1)\n",
    "indicator_id = 'NY.GDP.PCAP.KD'"
   ]
  },
  {
   "cell_type": "code",
   "execution_count": null,
   "id": "63dc3b61",
   "metadata": {},
   "outputs": [],
   "source": [
    "gdp_per_capita = wb.download(indicator=indicator_id, start=start, end=end, country=['US', 'CA', 'MX'])\n",
    "gdp_per_capita"
   ]
  },
  {
   "cell_type": "markdown",
   "id": "44042905",
   "metadata": {},
   "source": [
    "The download method has different parameters that we can pass on in order to get the data from the World Bank. Among them is the indicator_id. You can find more information about the parameters here.\n",
    "\n",
    "As we can see, with this command we have obtained the GDP per capita data for 3 countries on a given date"
   ]
  },
  {
   "cell_type": "markdown",
   "id": "fb4246f3",
   "metadata": {},
   "source": [
    "### Getting the NASDAQ Symbols\n",
    "The NASDAQ Stock Exchange identifies each of its shares with a unique symbol:\n",
    "\n",
    "**Apple - APPL**\n",
    "\n",
    "**Google - GOOGL**\n",
    "\n",
    "**Tesla - TSLA**\n",
    "\n",
    "It also provides a useful API for accessing the symbols currently traded on it. Pandas-datareader provides several functions to import data from the NASDAQ API through its nasdaq_trader sub-module."
   ]
  },
  {
   "cell_type": "code",
   "execution_count": null,
   "id": "ec931896",
   "metadata": {},
   "outputs": [],
   "source": [
    "from pandas_datareader.nasdaq_trader import get_nasdaq_symbols"
   ]
  },
  {
   "cell_type": "markdown",
   "id": "9f64d658",
   "metadata": {},
   "source": [
    "To import the list of stock symbols, we want to use the function get_nasdaq_symbols from nasdaq_trader. It is done in this way"
   ]
  },
  {
   "cell_type": "code",
   "execution_count": null,
   "id": "13ae002e",
   "metadata": {},
   "outputs": [],
   "source": [
    "symbols = get_nasdaq_symbols()"
   ]
  },
  {
   "cell_type": "markdown",
   "id": "28f2b0a0",
   "metadata": {},
   "source": [
    "When called, it will go to the NASDAQ API, and import the list of symbols currently being traded. The advantage of using pandas-datareader is that all the logic to interact with the NASDAQ API or any other API is encapsulated in easy-to-use sub-modules and functions like the ones above."
   ]
  },
  {
   "cell_type": "code",
   "execution_count": null,
   "id": "4e94bf44",
   "metadata": {},
   "outputs": [],
   "source": [
    "symbols"
   ]
  },
  {
   "cell_type": "markdown",
   "id": "419fb38e",
   "metadata": {},
   "source": [
    "We have a total of 9,338 different stocks that are listed on the Nasdaq, and in whose columns we have different economic and financial information about that stock. But what if we want to access a single symbol/stock?"
   ]
  },
  {
   "cell_type": "code",
   "execution_count": null,
   "id": "f093c392",
   "metadata": {},
   "outputs": [],
   "source": [
    "symbols.loc['IBM']"
   ]
  },
  {
   "cell_type": "markdown",
   "id": "b8c10642",
   "metadata": {},
   "source": [
    "### Technical Analysis in Finance\n",
    "Technical analysis in finance is the type of analysis performed by means of statistics and charts on stocks (or indices in our case). Let's see how to do something very simple with 'Plotly' a Python library for charting. In this case we'll access to Microsoft daily quotes. Let's do it!"
   ]
  },
  {
   "cell_type": "code",
   "execution_count": null,
   "id": "bd656ea7",
   "metadata": {},
   "outputs": [],
   "source": [
    "!pip3 install plotly --quiet"
   ]
  },
  {
   "cell_type": "code",
   "execution_count": null,
   "id": "30c5b5ce",
   "metadata": {},
   "outputs": [],
   "source": [
    "import plotly.graph_objects as go"
   ]
  },
  {
   "cell_type": "code",
   "execution_count": null,
   "id": "ed240685",
   "metadata": {},
   "outputs": [],
   "source": [
    "import pandas_datareader.data as web\n",
    "\n",
    "stock = 'MSFT'\n",
    "start = datetime(2019, 1, 1)\n",
    "\n",
    "df = web.DataReader(stock, data_source='yahoo', start=start)"
   ]
  },
  {
   "cell_type": "code",
   "execution_count": null,
   "id": "d1ca6f7a",
   "metadata": {},
   "outputs": [],
   "source": [
    "df"
   ]
  },
  {
   "cell_type": "markdown",
   "id": "c6a1d0ab",
   "metadata": {},
   "source": [
    "We have accessed the data of MSFT. We did this by importing .data from datareader and giving it the web alias. Under the hood we are using Yahoo Finance to import the data from an API, but in this case pandas.datareader allowed us to do it in a very simple way. Now we are going to plot the result to make Technical Analysis."
   ]
  },
  {
   "cell_type": "code",
   "execution_count": null,
   "id": "f31ee286",
   "metadata": {},
   "outputs": [],
   "source": [
    "graph = {\n",
    "    'x': df.index,\n",
    "    'open': df.Open,\n",
    "    'close': df.Close,\n",
    "    'high': df.High,\n",
    "    'low': df.Low,\n",
    "    'type': 'candlestick',\n",
    "    'name': 'MSFT',\n",
    "    'showlegend': True\n",
    "}"
   ]
  },
  {
   "cell_type": "code",
   "execution_count": null,
   "id": "eb102eaf",
   "metadata": {},
   "outputs": [],
   "source": [
    "layout = go.Figure(\n",
    "    data = [graph],\n",
    "    layout_title=\"Microsoft Stock\"\n",
    ")"
   ]
  },
  {
   "cell_type": "code",
   "execution_count": null,
   "id": "2c9cecfd",
   "metadata": {},
   "outputs": [],
   "source": [
    "layout"
   ]
  },
  {
   "cell_type": "markdown",
   "id": "5d62494d",
   "metadata": {},
   "source": [
    "We just did something very interesting and it was to chart MSFT's acicon with the updated data! Today is November 20, 2020, so the last data of my graph is that date, you can do the same, place the mouse at the end of the graph and see the last quote of the stock! You could in this case access your investment portfolio and run the code daily and make a technical analysis on those tickets!"
   ]
  },
  {
   "cell_type": "markdown",
   "id": "d5c0fed0",
   "metadata": {},
   "source": [
    "### Data filtering by date\n",
    "Many of the APIs that the pandas-datareader connects to allow us to filter the data we get by date. Financial institutions tend to keep track of data that goes back several decades, and when we import that data, it is useful to be able to specify exactly when we want it to come from\n",
    "\n",
    "An API that does just that is the Federal Reserve Bank of San Luis (FRED), which we can access by first importing the pandas_datareader.data sub-module and then calling its DataReader function:"
   ]
  },
  {
   "cell_type": "code",
   "execution_count": null,
   "id": "183cea37",
   "metadata": {},
   "outputs": [],
   "source": [
    "import pandas_datareader.data as web\n",
    "\n",
    "start = datetime(2019, 1, 1)\n",
    "end = datetime(2021, 12, 31)"
   ]
  },
  {
   "cell_type": "code",
   "execution_count": null,
   "id": "785f2adb",
   "metadata": {},
   "outputs": [],
   "source": [
    "sap_data = web.DataReader('SP500', 'fred', start, end)"
   ]
  },
  {
   "cell_type": "code",
   "execution_count": null,
   "id": "fb012a1e",
   "metadata": {},
   "outputs": [],
   "source": [
    "sap_data"
   ]
  },
  {
   "cell_type": "markdown",
   "id": "0e2ad3e0",
   "metadata": {},
   "source": [
    "The DataReader function takes 4 arguments:\n",
    "\n",
    "**SP500** - An identifier provided by the API that specifies the data we want to retrieve, in this case data from the SP500\n",
    "\n",
    "**\"fred\"**- The name of the API we want to access\n",
    "\n",
    "**start_date, end_date** - The range of dates we want the data to be\n",
    "By changing the start and end dates, you can easily filter the data you receive\n",
    "\n"
   ]
  },
  {
   "cell_type": "markdown",
   "id": "c307b04b",
   "metadata": {},
   "source": [
    "### Using the Shift() operation\n",
    "Once we've imported a DataFrame full of financial data, there are some pretty cool ways to manipulate it. In this exercise we will see the shift() operation, a DataFrame function that moves all the rows in a column up or down"
   ]
  },
  {
   "cell_type": "markdown",
   "id": "4810ab52",
   "metadata": {},
   "source": [
    "Shift() can be called in a single column (as in the image above), or in the entire DataFrame where all columns will be shifted. You can also scroll through more than one row, and in any direction.\n",
    "\n",
    "### shifts all rows down by 1\n",
    "dataframe.shift(1)\n",
    "\n",
    "### shifts all rows in name column up 5\n",
    "dataframe[name].shift(-5)\n",
    "\n",
    "### shifts all rows in the price column down 3\n",
    "dataframe[name].shift(3)\n",
    "Shift is particularly useful when it comes to financial data. For example, it can be used to help calculate the percentage growth between one row and the next, or to find the difference in stock prices over a series of days. Let's see an example"
   ]
  },
  {
   "cell_type": "code",
   "execution_count": null,
   "id": "94690022",
   "metadata": {},
   "outputs": [],
   "source": [
    "\n",
    "start = datetime(2008, 1, 1)\n",
    "end = datetime(2018, 1, 1)"
   ]
  },
  {
   "cell_type": "code",
   "execution_count": null,
   "id": "e627b0cc",
   "metadata": {},
   "outputs": [],
   "source": [
    "gdp = web.DataReader('GDP', 'fred', start, end)\n",
    "gdp.head()"
   ]
  },
  {
   "cell_type": "markdown",
   "id": "3824e854",
   "metadata": {},
   "source": [
    "We have imported the GDP from the FRED, now we will create a new column called Growth where we can do the math of the difference (in absolute values) between the different days"
   ]
  },
  {
   "cell_type": "code",
   "execution_count": null,
   "id": "03d6dfa3",
   "metadata": {},
   "outputs": [],
   "source": [
    "gdp['Growth'] = gdp['GDP'] - gdp['GDP'].shift(1)\n",
    "gdp.head()"
   ]
  },
  {
   "cell_type": "markdown",
   "id": "6e33eb29",
   "metadata": {},
   "source": [
    "We can now see the absolute differences in this new column. An important clarification: the first row of growth column is now 'NaN' because it has no one to do the calculation with, it is the first row of the dataset"
   ]
  },
  {
   "cell_type": "markdown",
   "id": "4aae47b3",
   "metadata": {},
   "source": [
    "### Calculating basic financial statistics\n",
    "Two useful calculations that can be made with financial data are variance and covariance. To illustrate these concepts, let's use the example of a DataFrame that measures stock and bond prices over time"
   ]
  },
  {
   "cell_type": "markdown",
   "id": "9b84b800",
   "metadata": {},
   "source": [
    "### Variance\n",
    "Variance measures how far a set of numbers is from its average. In finance, it is used to determine the volatility of investments.\n",
    "\n",
    "dataframe['stocks'].var() # 106427\n",
    "\n",
    "dataframe['bonds'].var() # 2272\n",
    "\n",
    "In the above variance calculations, stocks are greater in value than bonds (106427 vs 2272). That's because stock prices are more dispersed than bond prices, indicating that stocks are a more volatile investment."
   ]
  },
  {
   "cell_type": "markdown",
   "id": "1bc2d8a2",
   "metadata": {},
   "source": [
    "### Covariance\n",
    "Covariance, in a financial context, describes the relationship between the returns of two different investments over a period of time, and can be used to help balance a portfolio. Calling our stock and bond columns cov() produces an array that defines the covariance values between each pair of columns in the DataFrame. Covariance is also known as a correlation in finance. In our example data, when stock prices go up, bonds go down. We can use the covariance function to see this numerically.\n",
    "\n",
    "dataframe.cov()\n",
    "\n",
    "Each value above represents the covariance between two columns. The higher the number, the more investments tend to go up and down at the same time. The upper right and lower left columns represent the covariance between stocks and bonds. Here we have a negative number, which indicates that stocks and bonds tend to move in different directions. To see this with an example, we are going to make a more complex exercise, let's go!\n",
    "\n"
   ]
  },
  {
   "cell_type": "markdown",
   "id": "8126a471",
   "metadata": {},
   "source": [
    "### Calculating the Logarithmic Return\n",
    "The Logarithmic return is one of the three methods for calculating the return and assumes that the returns are composed continuously rather than through sub-periods. It is calculated by taking the natural logarithm of the final value divided by the initial value.\n",
    "\n",
    "As an example, let's say that the final value of an investment was \n",
    "11andtheinitialvaluewas10. The function would say =LN(11/10) for a result of 9.53%.\n",
    "\n",
    "In mathematics and statistics, a distinction is often made between discrete and continuous data. The return of the record is the most theoretical continuous version. In the real world, however, most people think of returns divided into discrete periods.\n",
    "\n",
    "Arithmetic Return - A period, not composed, discrete.\n",
    "Geometric return - Multi-period, composed, discrete.\n",
    "Logarithmic return - Infinite periods, composed, continuous.\n",
    "So the logarithmic return is the non-discrete, continuous version, meaning that if the whole period were divided into an infinite number of periods, what would that return be? You see, it's theoretical.\n",
    "\n",
    "Except for very short periods of time (less than a day), and for theoretical applications involving the calculation and precise measurement of curves, logarithmic returns are not commonly used.\n",
    "\n",
    "Price data are useful, but in this case, since we want to compare each data set, it would be even better if instead of daily/annual prices, we had information on the returns of daily/annual prices.\n",
    "\n",
    "As a first step, let's define a function called log_return, which should accept one parameter, prices."
   ]
  },
  {
   "cell_type": "code",
   "execution_count": null,
   "id": "fbd9f1d9",
   "metadata": {},
   "outputs": [],
   "source": [
    "def log_return(prices):\n",
    "  pass"
   ]
  },
  {
   "cell_type": "markdown",
   "id": "5a073e37",
   "metadata": {},
   "source": [
    "The equation for calculating the log return between two prices is as follows natural_log(current price/previous price)\n",
    "\n",
    "In our case we want to run this equation for every day/year of price data in our imported DataFrame series (the A series is a single column in a DataFrame).\n",
    "\n",
    "The pandas shift function (sifth()) can be used to divide each current price by its previous price in the Series.\n",
    "\n",
    "prices / prices.shift(1)\n",
    "\n",
    "And we can use Numpy's natural logarithm function to get the log return for each entry in the new Series.\n",
    "\n",
    "    import numpy as np\n",
    "    np.log(Series)\n",
    "Let's do it\n",
    "\n"
   ]
  },
  {
   "cell_type": "code",
   "execution_count": null,
   "id": "190cf305",
   "metadata": {},
   "outputs": [],
   "source": [
    "\n",
    "import numpy as np\n",
    "\n",
    "def log_return(prices):\n",
    "  return np.log(prices / prices.shift(1))"
   ]
  },
  {
   "cell_type": "markdown",
   "id": "18ee1c94",
   "metadata": {},
   "source": [
    "Let's use our new log_return function to calculate the logarithmic return of the DataFrame of Nasdaq, GDP and other indicator that we've already loaded"
   ]
  },
  {
   "cell_type": "code",
   "execution_count": null,
   "id": "54293a5f",
   "metadata": {},
   "outputs": [],
   "source": [
    "start = datetime(1999, 1, 1)\n",
    "end = datetime(2019, 1, 1)\n",
    "\n",
    "nasdaq_data = web.DataReader(\"NASDAQ100\", \"fred\", start, end)\n",
    "sap_data = web.DataReader(\"SP500\", \"fred\", start, end)\n",
    "gdp_data = wb.download(indicator='NY.GDP.MKTP.CD', country=['US'], start=start, end=end)\n",
    "export_data = wb.download(indicator='NE.EXP.GNFS.CN', country=['US'], start=start, end=end)"
   ]
  },
  {
   "cell_type": "markdown",
   "id": "ceed9f9e",
   "metadata": {},
   "source": [
    "Now we are going to pass each variable to the log_return function\n",
    "\n"
   ]
  },
  {
   "cell_type": "code",
   "execution_count": null,
   "id": "2f1a45c2",
   "metadata": {},
   "outputs": [],
   "source": [
    "nasdaq_returns = log_return(nasdaq_data['NASDAQ100'])\n",
    "nasdaq_returns"
   ]
  },
  {
   "cell_type": "code",
   "execution_count": null,
   "id": "1526f145",
   "metadata": {},
   "outputs": [],
   "source": [
    "sap_returns = log_return(sap_data['SP500'])\n",
    "sap_returns"
   ]
  },
  {
   "cell_type": "code",
   "execution_count": null,
   "id": "f40017d2",
   "metadata": {},
   "outputs": [],
   "source": [
    "gdp_returns = log_return(gdp_data['NY.GDP.MKTP.CD'])\n",
    "gdp_returns"
   ]
  },
  {
   "cell_type": "code",
   "execution_count": null,
   "id": "d0064050",
   "metadata": {},
   "outputs": [],
   "source": [
    "export_returns = log_return(export_data['NE.EXP.GNFS.CN'])\n",
    "export_returns"
   ]
  },
  {
   "cell_type": "markdown",
   "id": "0bba19e4",
   "metadata": {},
   "source": [
    "### Comparison of return volatility\n",
    "We are now ready to compare the volatility of each type of data. Remember that variance, in the context of financial data, tells us how volatile an investment is. We'll use the var() function in Pandas to calculate the variance of returns on stocks and World Bank data, and print the results.\n",
    "\n",
    "The results can be interpreted in various ways, but in general, the higher the variance, the more volatile the data.\n",
    "\n",
    "What conclusions can be drawn from these data? Which data set was the most volatile? Did any data sets have similar variances?\n",
    "\n",
    "**sap series: sap: 8.860342194008153e-05 which is equivalent to 0.00008860342194008153**"
   ]
  },
  {
   "cell_type": "code",
   "execution_count": null,
   "id": "1e6ec997",
   "metadata": {},
   "outputs": [],
   "source": [
    "print('nasdaq_returns:', nasdaq_returns.var())"
   ]
  },
  {
   "cell_type": "code",
   "execution_count": null,
   "id": "eaeaeead",
   "metadata": {},
   "outputs": [],
   "source": [
    "print('sap_returns:', sap_returns.var())"
   ]
  },
  {
   "cell_type": "code",
   "execution_count": null,
   "id": "740c389c",
   "metadata": {},
   "outputs": [],
   "source": [
    "print('gdp_returns:', gdp_returns.var())"
   ]
  },
  {
   "cell_type": "code",
   "execution_count": null,
   "id": "a40cf435",
   "metadata": {},
   "outputs": [],
   "source": [
    "print('export_returns:', export_returns.var())"
   ]
  },
  {
   "cell_type": "markdown",
   "id": "f52c82ad",
   "metadata": {},
   "source": [
    "The S&P 500, a set of 500 large companies listed on U.S. stock exchanges, has the smallest variation, and therefore is the least volatile. Because the S&P 500 index is a weighted measure of many stocks in a variety of industries, it is considered a safer and more diversified investment.\n",
    "\n",
    "Stocks are interesting. The NASDAQ 100 is more volatile than the S&P 500, which, when you think about it, makes sense since the S&P 500 is much more diversified and follows the market more closely.\n",
    "\n",
    "So finally we have GDP and exports.\n",
    "\n",
    "Exports are very volatile, which could have to do with industries that have moved abroad in the last 20 years, and global competition for the production of goods.\n",
    "\n",
    "GDP is actually quite similar to the NASDAQ 100 in terms of volatility, which is perhaps an interesting correlation.\n",
    "\n",
    "I hope you enjoyed this reading!"
   ]
  }
 ],
 "metadata": {
  "kernelspec": {
   "display_name": "Python 3 (ipykernel)",
   "language": "python",
   "name": "python3"
  },
  "language_info": {
   "codemirror_mode": {
    "name": "ipython",
    "version": 3
   },
   "file_extension": ".py",
   "mimetype": "text/x-python",
   "name": "python",
   "nbconvert_exporter": "python",
   "pygments_lexer": "ipython3",
   "version": "3.9.12"
  }
 },
 "nbformat": 4,
 "nbformat_minor": 5
}
