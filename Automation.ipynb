{
 "cells": [
  {
   "cell_type": "markdown",
   "id": "75e3faa7",
   "metadata": {},
   "source": [
    "Congratulations, you've got a job at Python Pizza. Your first job is to build an automatic pizza order program.\n",
    "\n",
    "Based on a user's order, work out their final bill.\n",
    "\n",
    "Small Pizza: $15\n",
    "\n",
    "Medium Pizza: $20\n",
    "\n",
    "Large Pizza: $25\n",
    "\n",
    "Pepperoni for Small Pizza: +$2\n",
    "\n",
    "Pepperoni for Medium or Large Pizza: +$3\n",
    "\n",
    "Extra cheese for any size pizza: + $1 \n",
    "\n",
    "Example Input\n",
    "size = \"L\"\n",
    "add_pepperoni = \"Y\"\n",
    "extra_cheese = \"N\"\n",
    "\n",
    "\n",
    "Your final bill is: $28.\n",
    "\n",
    "Hint\n",
    "Think about what you've learnt about multiple if statements and see if you can reduce the number of lines of code while having the same functionality.\n",
    "\n"
   ]
  },
  {
   "cell_type": "code",
   "execution_count": 1,
   "id": "5340e1da",
   "metadata": {},
   "outputs": [
    {
     "name": "stdout",
     "output_type": "stream",
     "text": [
      "Enter your pizza size please (Small/Medium/Large):Large\n",
      "Do you want pepperoni (Yes/No):Yes\n",
      "Do you want extra cheese (Yes/No):No\n",
      "Your final bill is: $28\n"
     ]
    }
   ],
   "source": [
    "Pizza_size = input('Enter your pizza size please (Small/Medium/Large):')\n",
    "\n",
    "Add_Pepperoni = input('Do you want pepperoni (Yes/No):')\n",
    "\n",
    "extra_cheese = input('Do you want extra cheese (Yes/No):')\n",
    "\n",
    "Total = 0\n",
    "\n",
    "if Pizza_size == 'Small':\n",
    "    Total+=15\n",
    "elif Pizza_size == 'Medium':\n",
    "    Total+=20\n",
    "elif Pizza_size == 'Large':\n",
    "    Total+=25\n",
    "    \n",
    "if Add_Pepperoni == 'Yes' and Pizza_size == 'Small':\n",
    "    Total+=2\n",
    "elif Add_Pepperoni == 'Yes' and Pizza_size == 'Medium':\n",
    "    Total+=3\n",
    "elif Add_Pepperoni == 'Yes' and Pizza_size == 'Large':\n",
    "    Total+=3\n",
    "elif Add_Pepperoni == 'No':\n",
    "    Total \n",
    "    \n",
    "if extra_cheese  == 'Yes':\n",
    "    Total+=1\n",
    "else:\n",
    "    print(\"Your final bill is: ${}\".format(Total))\n",
    "    "
   ]
  },
  {
   "cell_type": "code",
   "execution_count": 3,
   "id": "c8a80f93",
   "metadata": {},
   "outputs": [
    {
     "name": "stdout",
     "output_type": "stream",
     "text": [
      "Enter your pizza size please (S/M/L):S\n",
      "Do you want pepperoni (Y/N):Y\n",
      "Do you want extra cheese (Y/N):Y\n"
     ]
    }
   ],
   "source": [
    "Pizza_size = input('Enter your pizza size please (S/M/L):')\n",
    "\n",
    "Add_Pepperoni = input('Do you want pepperoni (Y/N):')\n",
    "\n",
    "extra_cheese = input('Do you want extra cheese (Y/N):')\n",
    "\n",
    "Total = 0\n",
    "\n",
    "if Pizza_size == 'S':\n",
    "    Total+=15\n",
    "elif Pizza_size == 'M':\n",
    "    Total+=20\n",
    "elif Pizza_size == 'L':\n",
    "    Total+=25\n",
    "    \n",
    "if Add_Pepperoni == 'Y' and Pizza_size == 'S':\n",
    "    Total+=2\n",
    "elif Add_Pepperoni == 'Y' and Pizza_size == 'M' or Pizza_size == 'L':\n",
    "    Total+=3\n",
    "elif Add_Pepperoni == 'N':\n",
    "    Total \n",
    "    \n",
    "if extra_cheese  == 'Y':\n",
    "    Total+=1\n",
    "else:\n",
    "    print(\"Your final bill is: ${}\".format(Total))\n",
    "    "
   ]
  },
  {
   "cell_type": "markdown",
   "id": "8ea5b07e",
   "metadata": {},
   "source": [
    "Illustration: How is EMI on Loan Calculated?\n",
    "Formula for EMI Calculation is -\n",
    "\n",
    "P x R x (1+R)^N / [(1+R)^N-1] where-\n",
    "\n",
    "P = Principal loan amount\n",
    "\n",
    "N = Loan tenure in months\n",
    "\n",
    "R = Monthly interest rate\n",
    "\n",
    "The rate of interest (R) on your loan is calculated per month.\n",
    "\n",
    "R = Annual Rate of interest/12/100\n",
    "\n",
    "If rate of interest is 7.2% p.a. then r = 7.2/12/100 = 0.006\n",
    "\n",
    "For example, If a person avails a loan of ₹10,00,000 at an annual interest rate of 7.2% for a tenure of 120 months (10 years), then his EMI will be calculated as under:\n",
    "\n",
    "EMI= ₹10,00,000 * 0.006 * (1 + 0.006)120 / ((1 + 0.006)120 - 1) = ₹11,714.\n",
    "\n",
    "The total amount payable will be ₹11,714 * 120 = ₹14,05,703. Principal loan amount is ₹10,00,000 and the Interest amount will be ₹4,05,703"
   ]
  },
  {
   "cell_type": "code",
   "execution_count": 4,
   "id": "3965af77",
   "metadata": {},
   "outputs": [
    {
     "name": "stdout",
     "output_type": "stream",
     "text": [
      "Enter your loan price for the house please:15000\n",
      "Enter the duration of the loan in years please:10\n",
      "Enter your down payment for the house please:10000\n",
      "Enter your annual interest rate please:12\n",
      "The Equal Monthly Interest payment for this loan is $71.73547420129366\n"
     ]
    }
   ],
   "source": [
    "\n",
    "##automated calculation of loan interest\n",
    "Loan_price = float(input('Enter your loan price for the house please:'))\n",
    "Loan_Duration = float(input('Enter the duration of the loan in years please:'))\n",
    "Deposit = float(input('Enter your down payment for the house please:'))\n",
    "Annual_Interest_rate = float(input('Enter your annual interest rate please:'))\n",
    "loan_amount = Loan_price - Deposit\n",
    "Duration= Loan_Duration * 12\n",
    "Interest_rate= Annual_Interest_rate/12/100\n",
    "\n",
    "Interest = loan_amount * Interest_rate * ((1 + Interest_rate) ** Duration)/((1 + Interest_rate) ** Duration - 1)\n",
    "\n",
    "print('The Equal Monthly Interest payment for this loan is ${}'.format(Interest))"
   ]
  },
  {
   "cell_type": "code",
   "execution_count": null,
   "id": "736f4051",
   "metadata": {},
   "outputs": [],
   "source": [
    "##automated calculation of BMI\n",
    "Name = input('Enter your name please:')\n",
    "Height = float(input('Enter your height in meters please:'))\n",
    "Weight = float(input('Enter your weight in KG please:'))\n",
    "BMI = Weight/Height**2\n",
    "\n",
    "if BMI < 18.5:\n",
    "    print(f'{Name} you are underweight, your BMI is {BMI}')\n",
    "elif BMI >= 18.5 and BMI <= 25:\n",
    "    print(f'{Name} you are Normal weight, your BMI is {BMI}')\n",
    "else:\n",
    "    print(f'{Name} you are overweight, your BMI is {BMI}')"
   ]
  },
  {
   "cell_type": "code",
   "execution_count": null,
   "id": "77ebb059",
   "metadata": {},
   "outputs": [],
   "source": []
  },
  {
   "cell_type": "code",
   "execution_count": null,
   "id": "5fe1a8a9",
   "metadata": {},
   "outputs": [],
   "source": []
  },
  {
   "cell_type": "code",
   "execution_count": null,
   "id": "2c8eb3a2",
   "metadata": {},
   "outputs": [],
   "source": []
  },
  {
   "cell_type": "code",
   "execution_count": null,
   "id": "a5d2ec94",
   "metadata": {},
   "outputs": [],
   "source": []
  },
  {
   "cell_type": "code",
   "execution_count": null,
   "id": "3e861555",
   "metadata": {},
   "outputs": [],
   "source": []
  },
  {
   "cell_type": "code",
   "execution_count": null,
   "id": "95271b5e",
   "metadata": {},
   "outputs": [],
   "source": []
  },
  {
   "cell_type": "code",
   "execution_count": null,
   "id": "67465382",
   "metadata": {},
   "outputs": [],
   "source": []
  },
  {
   "cell_type": "code",
   "execution_count": null,
   "id": "906cd2ad",
   "metadata": {},
   "outputs": [],
   "source": []
  },
  {
   "cell_type": "code",
   "execution_count": null,
   "id": "289a579f",
   "metadata": {},
   "outputs": [],
   "source": []
  },
  {
   "cell_type": "code",
   "execution_count": null,
   "id": "750741f8",
   "metadata": {},
   "outputs": [],
   "source": []
  },
  {
   "cell_type": "code",
   "execution_count": null,
   "id": "c97dd600",
   "metadata": {},
   "outputs": [],
   "source": []
  },
  {
   "cell_type": "code",
   "execution_count": null,
   "id": "da1b6680",
   "metadata": {},
   "outputs": [],
   "source": []
  },
  {
   "cell_type": "code",
   "execution_count": null,
   "id": "2f1841ce",
   "metadata": {},
   "outputs": [],
   "source": []
  }
 ],
 "metadata": {
  "kernelspec": {
   "display_name": "Python 3 (ipykernel)",
   "language": "python",
   "name": "python3"
  },
  "language_info": {
   "codemirror_mode": {
    "name": "ipython",
    "version": 3
   },
   "file_extension": ".py",
   "mimetype": "text/x-python",
   "name": "python",
   "nbconvert_exporter": "python",
   "pygments_lexer": "ipython3",
   "version": "3.9.12"
  }
 },
 "nbformat": 4,
 "nbformat_minor": 5
}
