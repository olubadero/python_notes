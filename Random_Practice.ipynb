{
 "cells": [
  {
   "cell_type": "code",
   "execution_count": 1,
   "id": "6b952636",
   "metadata": {},
   "outputs": [],
   "source": [
    "person, son, girl = 'women', 'Doyin', 'Jas'"
   ]
  },
  {
   "cell_type": "code",
   "execution_count": 2,
   "id": "49c1f1be",
   "metadata": {},
   "outputs": [
    {
     "data": {
      "text/plain": [
       "'women'"
      ]
     },
     "execution_count": 2,
     "metadata": {},
     "output_type": "execute_result"
    }
   ],
   "source": [
    "person"
   ]
  },
  {
   "cell_type": "code",
   "execution_count": 3,
   "id": "99155f72",
   "metadata": {},
   "outputs": [
    {
     "data": {
      "text/plain": [
       "'Doyin'"
      ]
     },
     "execution_count": 3,
     "metadata": {},
     "output_type": "execute_result"
    }
   ],
   "source": [
    "son"
   ]
  },
  {
   "cell_type": "code",
   "execution_count": 4,
   "id": "0519aacb",
   "metadata": {},
   "outputs": [
    {
     "data": {
      "text/plain": [
       "'Jas'"
      ]
     },
     "execution_count": 4,
     "metadata": {},
     "output_type": "execute_result"
    }
   ],
   "source": [
    "girl"
   ]
  },
  {
   "cell_type": "code",
   "execution_count": 109,
   "id": "59945a34",
   "metadata": {},
   "outputs": [
    {
     "data": {
      "text/plain": [
       "234"
      ]
     },
     "execution_count": 109,
     "metadata": {},
     "output_type": "execute_result"
    }
   ],
   "source": [
    "_a_number = 234\n",
    "_a_number"
   ]
  },
  {
   "cell_type": "code",
   "execution_count": 7,
   "id": "bde2c84a",
   "metadata": {},
   "outputs": [],
   "source": [
    "list = [1, 2., 3.0, 4, 'hello world']"
   ]
  },
  {
   "cell_type": "code",
   "execution_count": 8,
   "id": "62bc6057",
   "metadata": {},
   "outputs": [
    {
     "data": {
      "text/plain": [
       "[1, 2.0, 3.0, 4, 'hello world']"
      ]
     },
     "execution_count": 8,
     "metadata": {},
     "output_type": "execute_result"
    }
   ],
   "source": [
    "list "
   ]
  },
  {
   "cell_type": "code",
   "execution_count": 9,
   "id": "b365bf17",
   "metadata": {},
   "outputs": [
    {
     "data": {
      "text/plain": [
       "list"
      ]
     },
     "execution_count": 9,
     "metadata": {},
     "output_type": "execute_result"
    }
   ],
   "source": [
    "type(list)"
   ]
  },
  {
   "cell_type": "code",
   "execution_count": 108,
   "id": "af3144cc",
   "metadata": {},
   "outputs": [
    {
     "data": {
      "text/plain": [
       "{'names': ['Jas', 'Olu', 'Olaide', 'JOjo'],\n",
       " 'Randoms': [1, 2.0, 3.0, 4, 'hello world']}"
      ]
     },
     "execution_count": 108,
     "metadata": {},
     "output_type": "execute_result"
    }
   ],
   "source": [
    "a_dict = {'names': ['Jas', 'Olu', 'Olaide', 'JOjo'], 'Randoms': [1, 2., 3.0, 4, 'hello world']}\n",
    "a_dict"
   ]
  },
  {
   "cell_type": "code",
   "execution_count": 107,
   "id": "249fa4b2",
   "metadata": {},
   "outputs": [
    {
     "data": {
      "text/plain": [
       "{'names': ['Jas', 'Olu', 'Olaide', 'JOjo'],\n",
       " 'Randoms': [1, 2.0, 3.0, 4, 'hello world']}"
      ]
     },
     "execution_count": 107,
     "metadata": {},
     "output_type": "execute_result"
    }
   ],
   "source": [
    "b_dict = dict(names = ['Jas', 'Olu', 'Olaide', 'JOjo'], Randoms = [1, 2., 3.0, 4, 'hello world'])\n",
    "b_dict\n"
   ]
  },
  {
   "cell_type": "code",
   "execution_count": 15,
   "id": "4022afaa",
   "metadata": {},
   "outputs": [
    {
     "data": {
      "text/plain": [
       "dict_keys(['names', 'Randoms'])"
      ]
     },
     "execution_count": 15,
     "metadata": {},
     "output_type": "execute_result"
    }
   ],
   "source": [
    "a_dict.keys()"
   ]
  },
  {
   "cell_type": "code",
   "execution_count": 16,
   "id": "48841bc9",
   "metadata": {},
   "outputs": [
    {
     "data": {
      "text/plain": [
       "dict_values([['Jas', 'Olu', 'Olaide', 'JOjo'], [1, 2.0, 3.0, 4, 'hello world']])"
      ]
     },
     "execution_count": 16,
     "metadata": {},
     "output_type": "execute_result"
    }
   ],
   "source": [
    "a_dict.values()"
   ]
  },
  {
   "cell_type": "code",
   "execution_count": 17,
   "id": "e5dd415d",
   "metadata": {},
   "outputs": [
    {
     "data": {
      "text/plain": [
       "8464"
      ]
     },
     "execution_count": 17,
     "metadata": {},
     "output_type": "execute_result"
    }
   ],
   "source": [
    "((23*4)**(5-3))"
   ]
  },
  {
   "cell_type": "code",
   "execution_count": 19,
   "id": "fdc249a1",
   "metadata": {},
   "outputs": [
    {
     "data": {
      "text/plain": [
       "1331"
      ]
     },
     "execution_count": 19,
     "metadata": {},
     "output_type": "execute_result"
    }
   ],
   "source": [
    "11**3"
   ]
  },
  {
   "cell_type": "code",
   "execution_count": 20,
   "id": "174dfea7",
   "metadata": {},
   "outputs": [
    {
     "data": {
      "text/plain": [
       "96.66666666666667"
      ]
     },
     "execution_count": 20,
     "metadata": {},
     "output_type": "execute_result"
    }
   ],
   "source": [
    "290/3"
   ]
  },
  {
   "cell_type": "code",
   "execution_count": 21,
   "id": "cfc0386f",
   "metadata": {},
   "outputs": [
    {
     "data": {
      "text/plain": [
       "96"
      ]
     },
     "execution_count": 21,
     "metadata": {},
     "output_type": "execute_result"
    }
   ],
   "source": [
    "290//3"
   ]
  },
  {
   "cell_type": "code",
   "execution_count": 22,
   "id": "528f277a",
   "metadata": {},
   "outputs": [
    {
     "data": {
      "text/plain": [
       "2"
      ]
     },
     "execution_count": 22,
     "metadata": {},
     "output_type": "execute_result"
    }
   ],
   "source": [
    "290%3"
   ]
  },
  {
   "cell_type": "code",
   "execution_count": 25,
   "id": "3cbc9472",
   "metadata": {},
   "outputs": [
    {
     "name": "stdout",
     "output_type": "stream",
     "text": [
      "This is a list:[1, 2.0, 3.0, 4, 'hello world'] \n",
      "This is a dict:{'names': ['Jas', 'Olu', 'Olaide', 'JOjo'], 'Randoms': [1, 2.0, 3.0, 4, 'hello world']}\n"
     ]
    }
   ],
   "source": [
    "print('''This is a list:{} \n",
    "This is a dict:{}'''.format(list, a_dict))"
   ]
  },
  {
   "cell_type": "code",
   "execution_count": 37,
   "id": "c0abd749",
   "metadata": {},
   "outputs": [
    {
     "name": "stdout",
     "output_type": "stream",
     "text": [
      "Son: \"Hello dad how are you\"\n",
      "Dad: \"I'm fine son. How was your day\"\n"
     ]
    }
   ],
   "source": [
    "print('''Son: \"Hello dad how are you\"\n",
    "Dad: \"I'm fine son. How was your day\"''')"
   ]
  },
  {
   "cell_type": "code",
   "execution_count": 38,
   "id": "78ffa194",
   "metadata": {},
   "outputs": [
    {
     "data": {
      "text/plain": [
       "89500"
      ]
     },
     "execution_count": 38,
     "metadata": {},
     "output_type": "execute_result"
    }
   ],
   "source": [
    "cost = 500\n",
    "price = 1000\n",
    "people = 90\n",
    "profit = price * people - cost\n",
    "profit"
   ]
  },
  {
   "cell_type": "code",
   "execution_count": 46,
   "id": "31f96bcd",
   "metadata": {},
   "outputs": [
    {
     "data": {
      "text/plain": [
       "['Jas', 'Olu', 'Olaide', 'JOjo']"
      ]
     },
     "execution_count": 46,
     "metadata": {},
     "output_type": "execute_result"
    }
   ],
   "source": [
    "a_dict['names']"
   ]
  },
  {
   "cell_type": "code",
   "execution_count": 47,
   "id": "c3e05d1b",
   "metadata": {},
   "outputs": [
    {
     "data": {
      "text/plain": [
       "'Olu'"
      ]
     },
     "execution_count": 47,
     "metadata": {},
     "output_type": "execute_result"
    }
   ],
   "source": [
    "a_dict['names'][1]"
   ]
  },
  {
   "cell_type": "code",
   "execution_count": 48,
   "id": "68b2d557",
   "metadata": {},
   "outputs": [
    {
     "data": {
      "text/plain": [
       "'OLU'"
      ]
     },
     "execution_count": 48,
     "metadata": {},
     "output_type": "execute_result"
    }
   ],
   "source": [
    "a_dict['names'][1].upper()"
   ]
  },
  {
   "cell_type": "code",
   "execution_count": 50,
   "id": "10c4c4f6",
   "metadata": {},
   "outputs": [
    {
     "data": {
      "text/plain": [
       "'Jojo'"
      ]
     },
     "execution_count": 50,
     "metadata": {},
     "output_type": "execute_result"
    }
   ],
   "source": [
    "a_dict['names'][3].capitalize()"
   ]
  },
  {
   "cell_type": "code",
   "execution_count": 51,
   "id": "cdb76af9",
   "metadata": {},
   "outputs": [
    {
     "ename": "AttributeError",
     "evalue": "'list' object has no attribute 'upper'",
     "output_type": "error",
     "traceback": [
      "\u001b[0;31m---------------------------------------------------------------------------\u001b[0m",
      "\u001b[0;31mAttributeError\u001b[0m                            Traceback (most recent call last)",
      "Input \u001b[0;32mIn [51]\u001b[0m, in \u001b[0;36m<cell line: 1>\u001b[0;34m()\u001b[0m\n\u001b[0;32m----> 1\u001b[0m \u001b[43ma_dict\u001b[49m\u001b[43m[\u001b[49m\u001b[38;5;124;43m'\u001b[39;49m\u001b[38;5;124;43mnames\u001b[39;49m\u001b[38;5;124;43m'\u001b[39;49m\u001b[43m]\u001b[49m\u001b[38;5;241;43m.\u001b[39;49m\u001b[43mupper\u001b[49m()\n",
      "\u001b[0;31mAttributeError\u001b[0m: 'list' object has no attribute 'upper'"
     ]
    }
   ],
   "source": [
    "a_dict['names'].upper()"
   ]
  },
  {
   "cell_type": "code",
   "execution_count": 52,
   "id": "541e1fc0",
   "metadata": {},
   "outputs": [
    {
     "data": {
      "text/plain": [
       "'olu'"
      ]
     },
     "execution_count": 52,
     "metadata": {},
     "output_type": "execute_result"
    }
   ],
   "source": [
    "a_dict['names'][1].lower()"
   ]
  },
  {
   "cell_type": "code",
   "execution_count": 53,
   "id": "b29b7016",
   "metadata": {},
   "outputs": [
    {
     "data": {
      "text/plain": [
       "5"
      ]
     },
     "execution_count": 53,
     "metadata": {},
     "output_type": "execute_result"
    }
   ],
   "source": [
    "1 and 5"
   ]
  },
  {
   "cell_type": "code",
   "execution_count": 55,
   "id": "50db0357",
   "metadata": {},
   "outputs": [
    {
     "data": {
      "text/plain": [
       "2"
      ]
     },
     "execution_count": 55,
     "metadata": {},
     "output_type": "execute_result"
    }
   ],
   "source": [
    "2 or 3"
   ]
  },
  {
   "cell_type": "code",
   "execution_count": 56,
   "id": "8ba52576",
   "metadata": {},
   "outputs": [
    {
     "data": {
      "text/plain": [
       "False"
      ]
     },
     "execution_count": 56,
     "metadata": {},
     "output_type": "execute_result"
    }
   ],
   "source": [
    "True and False "
   ]
  },
  {
   "cell_type": "code",
   "execution_count": 57,
   "id": "b94c8abc",
   "metadata": {},
   "outputs": [
    {
     "data": {
      "text/plain": [
       "False"
      ]
     },
     "execution_count": 57,
     "metadata": {},
     "output_type": "execute_result"
    }
   ],
   "source": [
    "False and True"
   ]
  },
  {
   "cell_type": "code",
   "execution_count": 58,
   "id": "69119f38",
   "metadata": {},
   "outputs": [
    {
     "data": {
      "text/plain": [
       "True"
      ]
     },
     "execution_count": 58,
     "metadata": {},
     "output_type": "execute_result"
    }
   ],
   "source": [
    "True or False "
   ]
  },
  {
   "cell_type": "code",
   "execution_count": 59,
   "id": "85f4a27e",
   "metadata": {},
   "outputs": [
    {
     "data": {
      "text/plain": [
       "True"
      ]
     },
     "execution_count": 59,
     "metadata": {},
     "output_type": "execute_result"
    }
   ],
   "source": [
    "False or True"
   ]
  },
  {
   "cell_type": "code",
   "execution_count": 60,
   "id": "3e0c1e4f",
   "metadata": {},
   "outputs": [
    {
     "data": {
      "text/plain": [
       "False"
      ]
     },
     "execution_count": 60,
     "metadata": {},
     "output_type": "execute_result"
    }
   ],
   "source": [
    "False and False"
   ]
  },
  {
   "cell_type": "code",
   "execution_count": 61,
   "id": "e8bc6adb",
   "metadata": {},
   "outputs": [
    {
     "data": {
      "text/plain": [
       "True"
      ]
     },
     "execution_count": 61,
     "metadata": {},
     "output_type": "execute_result"
    }
   ],
   "source": [
    "True and True"
   ]
  },
  {
   "cell_type": "code",
   "execution_count": 62,
   "id": "84bf267e",
   "metadata": {},
   "outputs": [
    {
     "data": {
      "text/plain": [
       "True"
      ]
     },
     "execution_count": 62,
     "metadata": {},
     "output_type": "execute_result"
    }
   ],
   "source": [
    "True or True"
   ]
  },
  {
   "cell_type": "code",
   "execution_count": 63,
   "id": "c285510c",
   "metadata": {},
   "outputs": [
    {
     "data": {
      "text/plain": [
       "False"
      ]
     },
     "execution_count": 63,
     "metadata": {},
     "output_type": "execute_result"
    }
   ],
   "source": [
    "False or False"
   ]
  },
  {
   "cell_type": "code",
   "execution_count": 64,
   "id": "3b74139e",
   "metadata": {},
   "outputs": [
    {
     "data": {
      "text/plain": [
       "[1, 2.0, 3.0, 4, 'hello world']"
      ]
     },
     "execution_count": 64,
     "metadata": {},
     "output_type": "execute_result"
    }
   ],
   "source": [
    "list"
   ]
  },
  {
   "cell_type": "code",
   "execution_count": 65,
   "id": "9cc5df27",
   "metadata": {},
   "outputs": [],
   "source": [
    "list.insert(5, 'Baby')"
   ]
  },
  {
   "cell_type": "code",
   "execution_count": 66,
   "id": "9a5fb0d9",
   "metadata": {},
   "outputs": [
    {
     "data": {
      "text/plain": [
       "[1, 2.0, 3.0, 4, 'hello world', 'Baby', 'Bingo']"
      ]
     },
     "execution_count": 66,
     "metadata": {},
     "output_type": "execute_result"
    }
   ],
   "source": [
    "list.append('Bingo')\n",
    "list"
   ]
  },
  {
   "cell_type": "code",
   "execution_count": 67,
   "id": "cc6a92dd",
   "metadata": {},
   "outputs": [
    {
     "data": {
      "text/plain": [
       "[1, 2.0, 3.0, 4, 'hello world']"
      ]
     },
     "execution_count": 67,
     "metadata": {},
     "output_type": "execute_result"
    }
   ],
   "source": [
    "list.remove('Baby')\n",
    "list.pop(5)\n",
    "list"
   ]
  },
  {
   "cell_type": "code",
   "execution_count": 68,
   "id": "18bd7b82",
   "metadata": {},
   "outputs": [
    {
     "data": {
      "text/plain": [
       "{'names': ['Jas', 'Olu', 'Olaide', 'JOjo'],\n",
       " 'Randoms': [1, 2.0, 3.0, 4, 'hello world']}"
      ]
     },
     "execution_count": 68,
     "metadata": {},
     "output_type": "execute_result"
    }
   ],
   "source": [
    "a_dict"
   ]
  },
  {
   "cell_type": "code",
   "execution_count": 69,
   "id": "5d71a052",
   "metadata": {},
   "outputs": [
    {
     "data": {
      "text/plain": [
       "['Jas', 'Olu', 'Olaide', 'JOjo']"
      ]
     },
     "execution_count": 69,
     "metadata": {},
     "output_type": "execute_result"
    }
   ],
   "source": [
    "a_dict.get('names')"
   ]
  },
  {
   "cell_type": "code",
   "execution_count": 71,
   "id": "a3799731",
   "metadata": {},
   "outputs": [
    {
     "data": {
      "text/plain": [
       "'unknown'"
      ]
     },
     "execution_count": 71,
     "metadata": {},
     "output_type": "execute_result"
    }
   ],
   "source": [
    "a_dict.get('address', 'unknown')"
   ]
  },
  {
   "cell_type": "code",
   "execution_count": 72,
   "id": "9aeef2d7",
   "metadata": {},
   "outputs": [
    {
     "data": {
      "text/plain": [
       "{'names': ['Jas', 'Olu', 'Olaide', 'JOjo'],\n",
       " 'Randoms': [1, 2.0, 3.0, 4, 'hello world'],\n",
       " 'address': ['Ojodu', 'Ogba', 'Ikeja', 'Ikoyi', 'V.I']}"
      ]
     },
     "execution_count": 72,
     "metadata": {},
     "output_type": "execute_result"
    }
   ],
   "source": [
    "a_dict['address'] = ['Ojodu', 'Ogba', 'Ikeja', 'Ikoyi', 'V.I']\n",
    "a_dict"
   ]
  },
  {
   "cell_type": "code",
   "execution_count": 74,
   "id": "d9a6c9c1",
   "metadata": {},
   "outputs": [
    {
     "data": {
      "text/plain": [
       "['Ojodu', 'Ogba', 'Ikeja', 'Ikoyi', 'V.I']"
      ]
     },
     "execution_count": 74,
     "metadata": {},
     "output_type": "execute_result"
    }
   ],
   "source": [
    "a_dict['address']"
   ]
  },
  {
   "cell_type": "code",
   "execution_count": 77,
   "id": "dbe931e6",
   "metadata": {},
   "outputs": [
    {
     "name": "stdout",
     "output_type": "stream",
     "text": [
      "Ojodu wa o\n"
     ]
    }
   ],
   "source": [
    "if 'Ojodu' in a_dict['address']:\n",
    "    print('Ojodu wa o')"
   ]
  },
  {
   "cell_type": "code",
   "execution_count": 111,
   "id": "7ef82ba8",
   "metadata": {},
   "outputs": [
    {
     "name": "stdout",
     "output_type": "stream",
     "text": [
      "['Jas', 'Olu', 'Olaide', 'JOjo']\n",
      "[1, 2.0, 3.0, 4, 'hello world']\n"
     ]
    }
   ],
   "source": [
    "for i in a_dict:\n",
    "    print(a_dict[i])"
   ]
  },
  {
   "cell_type": "code",
   "execution_count": 112,
   "id": "8e6ca5f0",
   "metadata": {},
   "outputs": [
    {
     "name": "stdout",
     "output_type": "stream",
     "text": [
      "names\n",
      "Randoms\n"
     ]
    }
   ],
   "source": [
    "for i in a_dict:\n",
    "    print(i)"
   ]
  },
  {
   "cell_type": "code",
   "execution_count": 116,
   "id": "78550c73",
   "metadata": {},
   "outputs": [
    {
     "name": "stdout",
     "output_type": "stream",
     "text": [
      "JOjo\n",
      "4\n"
     ]
    }
   ],
   "source": [
    "for i in a_dict:\n",
    "    print(a_dict[i][3])"
   ]
  },
  {
   "cell_type": "code",
   "execution_count": 115,
   "id": "890a82e4",
   "metadata": {},
   "outputs": [
    {
     "name": "stdout",
     "output_type": "stream",
     "text": [
      "['Jas', 'Olu', 'Olaide']\n",
      "[1, 2.0, 3.0]\n"
     ]
    }
   ],
   "source": [
    "for i in a_dict:\n",
    "    print(a_dict[i][:3])"
   ]
  },
  {
   "cell_type": "code",
   "execution_count": 87,
   "id": "46f2ca83",
   "metadata": {},
   "outputs": [
    {
     "name": "stdout",
     "output_type": "stream",
     "text": [
      "0\n",
      "2\n",
      "4\n",
      "6\n",
      "8\n",
      "10\n"
     ]
    }
   ],
   "source": [
    "for i in range(0, 12, 2):\n",
    "    print(i)"
   ]
  },
  {
   "cell_type": "code",
   "execution_count": 93,
   "id": "4b3d5681",
   "metadata": {},
   "outputs": [
    {
     "name": "stdout",
     "output_type": "stream",
     "text": [
      "479001600\n"
     ]
    }
   ],
   "source": [
    "i = 1\n",
    "result = 1\n",
    "while i <= 12:\n",
    "    result *= i\n",
    "    i += 1\n",
    "print(result)"
   ]
  },
  {
   "cell_type": "code",
   "execution_count": 89,
   "id": "5cdf8274",
   "metadata": {},
   "outputs": [
    {
     "name": "stdout",
     "output_type": "stream",
     "text": [
      "The factorial(!) of 100 is: 93326215443944152681699238856266700490715968264381621468592963895217599993229915608941463976156518286253697920827223758251185210916864000000000000000000000000\n"
     ]
    }
   ],
   "source": [
    "result = 1\n",
    "i = 1\n",
    "\n",
    "while i <= 100:\n",
    "    result *= i # same as result = result * i\n",
    "    i += 1 # same as i = i+1\n",
    "\n",
    "print('The factorial(!) of 100 is: {}'.format(result))"
   ]
  },
  {
   "cell_type": "code",
   "execution_count": 94,
   "id": "8cc5d517",
   "metadata": {},
   "outputs": [],
   "source": [
    "def emi(loan_amount):\n",
    "    emi = loan_amount / 12\n",
    "    print('The Equal Monthly Payment of this loan is ${}'.format(emi))"
   ]
  },
  {
   "cell_type": "code",
   "execution_count": 95,
   "id": "ab8156a9",
   "metadata": {},
   "outputs": [
    {
     "name": "stdout",
     "output_type": "stream",
     "text": [
      "The Equal Monthly Payment of this loan is $4166.666666666667\n"
     ]
    }
   ],
   "source": [
    "emi(50000)"
   ]
  },
  {
   "cell_type": "code",
   "execution_count": 96,
   "id": "fb4cb510",
   "metadata": {},
   "outputs": [
    {
     "data": {
      "text/plain": [
       "4166.666666666667"
      ]
     },
     "execution_count": 96,
     "metadata": {},
     "output_type": "execute_result"
    }
   ],
   "source": [
    "50000/12"
   ]
  },
  {
   "cell_type": "markdown",
   "id": "83021627",
   "metadata": {},
   "source": [
    "Next, let's add the interest calculation into the function. Here's the formula used to calculate the EMI for a loan:\n",
    "\n",
    "<img src=\"https://i.imgur.com/iKujHGK.png\" style=\"width:240px\">\n",
    "\n",
    "where:\n",
    "\n",
    "* `P` is the loan amount (principal)\n",
    "* `n` is the no. of months\n",
    "* `r` is the rate of interest per month\n",
    "\n",
    "The derivation of this formula is beyond the scope of this tutorial. See this video for an explanation: https://youtu.be/Coxza9ugW4E ."
   ]
  },
  {
   "cell_type": "code",
   "execution_count": 98,
   "id": "a547616b",
   "metadata": {},
   "outputs": [],
   "source": [
    "def EMI(loan_amount, months, rate, down_payment=0):\n",
    "    principal = loan_amount - down_payment\n",
    "    loan_EMI = principal * rate *((1+rate)**months)/(((1+rate)**months)-1)\n",
    "    print('The Equal Monthly Payment of this loan is ${}'.format(loan_EMI))"
   ]
  },
  {
   "cell_type": "code",
   "execution_count": 100,
   "id": "1158642a",
   "metadata": {},
   "outputs": [
    {
     "name": "stdout",
     "output_type": "stream",
     "text": [
      "The Equal Monthly Payment of this loan is $14567.19753389219\n"
     ]
    }
   ],
   "source": [
    "EMI(1260000, 8*12, 0.1/12, 3e5)"
   ]
  },
  {
   "cell_type": "code",
   "execution_count": 101,
   "id": "a866d984",
   "metadata": {},
   "outputs": [],
   "source": [
    "def EMI(loan_amount, months, rate, down_payment=0):\n",
    "    principal = loan_amount - down_payment\n",
    "    loan_EMI = (principal * rate *((1+rate)**months))/(((1+rate)**months)-1)\n",
    "    print('The Equal Monthly Payment of this loan is ${}'.format(loan_EMI))"
   ]
  },
  {
   "cell_type": "code",
   "execution_count": 102,
   "id": "5253fddd",
   "metadata": {},
   "outputs": [
    {
     "name": "stdout",
     "output_type": "stream",
     "text": [
      "The Equal Monthly Payment of this loan is $14567.19753389219\n"
     ]
    }
   ],
   "source": [
    "EMI(1260000, 8*12, 0.1/12, 3e5)"
   ]
  },
  {
   "cell_type": "code",
   "execution_count": 103,
   "id": "0f538820",
   "metadata": {},
   "outputs": [],
   "source": [
    "def EMI(loan_amount, months, rate, down_payment):\n",
    "    principal = loan_amount - down_payment\n",
    "    loan_EMI = (principal * rate *((1+rate)**months))/(((1+rate)**months)-1)\n",
    "    print('The Equal Monthly Payment of this loan is ${}'.format(loan_EMI))"
   ]
  },
  {
   "cell_type": "code",
   "execution_count": 104,
   "id": "99d044c4",
   "metadata": {},
   "outputs": [
    {
     "name": "stdout",
     "output_type": "stream",
     "text": [
      "The Equal Monthly Payment of this loan is $14567.19753389219\n"
     ]
    }
   ],
   "source": [
    "EMI(1260000, 8*12, 0.1/12, 3e5)"
   ]
  },
  {
   "cell_type": "code",
   "execution_count": 117,
   "id": "c08fa094",
   "metadata": {},
   "outputs": [],
   "source": [
    "import pandas as pd\n",
    "from pandas import Series, DataFrame"
   ]
  },
  {
   "cell_type": "code",
   "execution_count": 118,
   "id": "968949e7",
   "metadata": {},
   "outputs": [
    {
     "data": {
      "text/plain": [
       "0        1\n",
       "1    order\n",
       "2     test\n",
       "3      0.5\n",
       "4     None\n",
       "5     True\n",
       "dtype: object"
      ]
     },
     "execution_count": 118,
     "metadata": {},
     "output_type": "execute_result"
    }
   ],
   "source": [
    "list_series = Series([1, 'order', 'test', 0.5, None, True])\n",
    "list_series"
   ]
  },
  {
   "cell_type": "code",
   "execution_count": 119,
   "id": "3cd00b77",
   "metadata": {},
   "outputs": [
    {
     "data": {
      "text/plain": [
       "'test'"
      ]
     },
     "execution_count": 119,
     "metadata": {},
     "output_type": "execute_result"
    }
   ],
   "source": [
    "list_series[2]"
   ]
  },
  {
   "cell_type": "code",
   "execution_count": 127,
   "id": "f0fe0da8",
   "metadata": {},
   "outputs": [
    {
     "name": "stdout",
     "output_type": "stream",
     "text": [
      "Hi\n"
     ]
    }
   ],
   "source": [
    "if 'order' in list_series[1]:\n",
    "    print('Hi')"
   ]
  },
  {
   "cell_type": "code",
   "execution_count": 129,
   "id": "8e34781f",
   "metadata": {},
   "outputs": [
    {
     "data": {
      "text/plain": [
       "False"
      ]
     },
     "execution_count": 129,
     "metadata": {},
     "output_type": "execute_result"
    }
   ],
   "source": [
    "'order' in list_series[:2]"
   ]
  },
  {
   "cell_type": "code",
   "execution_count": 134,
   "id": "57b87a4a",
   "metadata": {},
   "outputs": [
    {
     "data": {
      "text/plain": [
       "[1, 2.0, 3.0, 4, 'hello world']"
      ]
     },
     "execution_count": 134,
     "metadata": {},
     "output_type": "execute_result"
    }
   ],
   "source": [
    "list"
   ]
  },
  {
   "cell_type": "code",
   "execution_count": 137,
   "id": "5005135b",
   "metadata": {},
   "outputs": [
    {
     "data": {
      "text/plain": [
       "1                  1\n",
       "2.0            order\n",
       "3.0             test\n",
       "4                0.5\n",
       "hello world     None\n",
       "dtype: object"
      ]
     },
     "execution_count": 137,
     "metadata": {},
     "output_type": "execute_result"
    }
   ],
   "source": [
    "add_index = Series([1, 'order', 'test', 0.5, None], index= [list])\n",
    "add_index"
   ]
  },
  {
   "cell_type": "code",
   "execution_count": 138,
   "id": "0c645ef4",
   "metadata": {},
   "outputs": [
    {
     "data": {
      "text/plain": [
       "2.0            order\n",
       "3.0             test\n",
       "4                0.5\n",
       "hello world     None\n",
       "dtype: object"
      ]
     },
     "execution_count": 138,
     "metadata": {},
     "output_type": "execute_result"
    }
   ],
   "source": [
    "add_index[2.0:]"
   ]
  },
  {
   "cell_type": "code",
   "execution_count": 140,
   "id": "2e6a2436",
   "metadata": {},
   "outputs": [
    {
     "data": {
      "text/plain": [
       "USA         5000\n",
       "RUSSIA     10000\n",
       "GERMANY    23000\n",
       "BRITAIN     2200\n",
       "JAPAN      50000\n",
       "dtype: int64"
      ]
     },
     "execution_count": 140,
     "metadata": {},
     "output_type": "execute_result"
    }
   ],
   "source": [
    "ww2 = Series([5000, 10000, 23000, 2200, 50000], index=['USA', 'RUSSIA', 'GERMANY', 'BRITAIN', 'JAPAN'])\n",
    "ww2"
   ]
  },
  {
   "cell_type": "code",
   "execution_count": 141,
   "id": "43eb0894",
   "metadata": {},
   "outputs": [
    {
     "data": {
      "text/plain": [
       "USA        False\n",
       "RUSSIA      True\n",
       "GERMANY     True\n",
       "BRITAIN    False\n",
       "JAPAN       True\n",
       "dtype: bool"
      ]
     },
     "execution_count": 141,
     "metadata": {},
     "output_type": "execute_result"
    }
   ],
   "source": [
    "ww2>5000"
   ]
  },
  {
   "cell_type": "code",
   "execution_count": 142,
   "id": "6fc9ed4b",
   "metadata": {},
   "outputs": [
    {
     "data": {
      "text/plain": [
       "USA        False\n",
       "RUSSIA     False\n",
       "GERMANY    False\n",
       "BRITAIN    False\n",
       "JAPAN       True\n",
       "dtype: bool"
      ]
     },
     "execution_count": 142,
     "metadata": {},
     "output_type": "execute_result"
    }
   ],
   "source": [
    "ww2== 50000"
   ]
  },
  {
   "cell_type": "code",
   "execution_count": 143,
   "id": "30a957eb",
   "metadata": {},
   "outputs": [
    {
     "data": {
      "text/plain": [
       "JAPAN    50000\n",
       "dtype: int64"
      ]
     },
     "execution_count": 143,
     "metadata": {},
     "output_type": "execute_result"
    }
   ],
   "source": [
    "ww2[ww2== 50000]"
   ]
  },
  {
   "cell_type": "code",
   "execution_count": 144,
   "id": "0dc895ed",
   "metadata": {},
   "outputs": [
    {
     "data": {
      "text/plain": [
       "RUSSIA     10000\n",
       "GERMANY    23000\n",
       "JAPAN      50000\n",
       "dtype: int64"
      ]
     },
     "execution_count": 144,
     "metadata": {},
     "output_type": "execute_result"
    }
   ],
   "source": [
    "ww2[ww2>5000]"
   ]
  },
  {
   "cell_type": "code",
   "execution_count": 149,
   "id": "175da1fc",
   "metadata": {},
   "outputs": [
    {
     "data": {
      "text/plain": [
       "False"
      ]
     },
     "execution_count": 149,
     "metadata": {},
     "output_type": "execute_result"
    }
   ],
   "source": [
    "5000 in ww2"
   ]
  },
  {
   "cell_type": "code",
   "execution_count": 148,
   "id": "ceb60d0a",
   "metadata": {},
   "outputs": [
    {
     "data": {
      "text/plain": [
       "USA         True\n",
       "RUSSIA     False\n",
       "GERMANY    False\n",
       "BRITAIN    False\n",
       "JAPAN      False\n",
       "dtype: bool"
      ]
     },
     "execution_count": 148,
     "metadata": {},
     "output_type": "execute_result"
    }
   ],
   "source": [
    "ww2== 5000"
   ]
  },
  {
   "cell_type": "code",
   "execution_count": 150,
   "id": "3c31c441",
   "metadata": {},
   "outputs": [
    {
     "data": {
      "text/plain": [
       "USA        False\n",
       "RUSSIA     False\n",
       "GERMANY    False\n",
       "BRITAIN    False\n",
       "JAPAN      False\n",
       "dtype: bool"
      ]
     },
     "execution_count": 150,
     "metadata": {},
     "output_type": "execute_result"
    }
   ],
   "source": [
    "pd.isnull(ww2)"
   ]
  },
  {
   "cell_type": "code",
   "execution_count": 152,
   "id": "4451560e",
   "metadata": {},
   "outputs": [
    {
     "data": {
      "text/plain": [
       "USA         5000\n",
       "RUSSIA     10000\n",
       "GERMANY    23000\n",
       "BRITAIN     2200\n",
       "JAPAN      50000\n",
       "dtype: int64"
      ]
     },
     "execution_count": 152,
     "metadata": {},
     "output_type": "execute_result"
    }
   ],
   "source": [
    "ww2"
   ]
  },
  {
   "cell_type": "code",
   "execution_count": 154,
   "id": "39a6803c",
   "metadata": {},
   "outputs": [
    {
     "data": {
      "text/plain": [
       "USA         5000\n",
       "RUSSIA     10000\n",
       "GERMANY    23000\n",
       "BRITAIN     2200\n",
       "JAPAN      50000\n",
       "dtype: int64"
      ]
     },
     "execution_count": 154,
     "metadata": {},
     "output_type": "execute_result"
    }
   ],
   "source": [
    "ww2[pd.notnull(ww2)]"
   ]
  },
  {
   "cell_type": "code",
   "execution_count": 156,
   "id": "527f1d02",
   "metadata": {},
   "outputs": [
    {
     "data": {
      "text/plain": [
       "Vatican       NaN\n",
       "India      3000.0\n",
       "Russia     2500.0\n",
       "USA        8000.0\n",
       "UK         5500.0\n",
       "dtype: float64"
      ]
     },
     "execution_count": 156,
     "metadata": {},
     "output_type": "execute_result"
    }
   ],
   "source": [
    "covid_country = ['Vatican', 'India', 'Russia', 'USA', 'UK']\n",
    "positive_cases = Series([None, 3000, 2500, 8000, 5500], index = covid_country)\n",
    "positive_cases"
   ]
  },
  {
   "cell_type": "code",
   "execution_count": 157,
   "id": "95e18fa0",
   "metadata": {},
   "outputs": [
    {
     "data": {
      "text/plain": [
       "Vatican     True\n",
       "India      False\n",
       "Russia     False\n",
       "USA        False\n",
       "UK         False\n",
       "dtype: bool"
      ]
     },
     "execution_count": 157,
     "metadata": {},
     "output_type": "execute_result"
    }
   ],
   "source": [
    "pd.isna(positive_cases)"
   ]
  },
  {
   "cell_type": "code",
   "execution_count": 158,
   "id": "ca6357f3",
   "metadata": {},
   "outputs": [
    {
     "data": {
      "text/plain": [
       "Vatican   NaN\n",
       "dtype: float64"
      ]
     },
     "execution_count": 158,
     "metadata": {},
     "output_type": "execute_result"
    }
   ],
   "source": [
    "positive_cases[pd.isna(positive_cases)]"
   ]
  },
  {
   "cell_type": "code",
   "execution_count": 164,
   "id": "e7c2362c",
   "metadata": {},
   "outputs": [
    {
     "data": {
      "text/plain": [
       "{'name': ['Ayo', 'Seun', 'Olu', 'Bolu'],\n",
       " 'Age': [29, 24, 35, 8],\n",
       " 'Sex': ['Female', 'Female', 'Female', 'Male'],\n",
       " 'Address': ['UK', 'Ireland', 'Ogba', 'Olowu']}"
      ]
     },
     "execution_count": 164,
     "metadata": {},
     "output_type": "execute_result"
    }
   ],
   "source": [
    "pd_dict = dict(name = ['Ayo', 'Seun', 'Olu', 'Bolu'], Age = [29, 24, 35, 8], Sex= ['Female', 'Female', 'Female', 'Male'], Address = ['UK', 'Ireland', 'Ogba', 'Olowu'])\n",
    "pd_dict\n"
   ]
  },
  {
   "cell_type": "code",
   "execution_count": 167,
   "id": "cf69a946",
   "metadata": {},
   "outputs": [
    {
     "data": {
      "text/html": [
       "<div>\n",
       "<style scoped>\n",
       "    .dataframe tbody tr th:only-of-type {\n",
       "        vertical-align: middle;\n",
       "    }\n",
       "\n",
       "    .dataframe tbody tr th {\n",
       "        vertical-align: top;\n",
       "    }\n",
       "\n",
       "    .dataframe thead th {\n",
       "        text-align: right;\n",
       "    }\n",
       "</style>\n",
       "<table border=\"1\" class=\"dataframe\">\n",
       "  <thead>\n",
       "    <tr style=\"text-align: right;\">\n",
       "      <th></th>\n",
       "      <th>name</th>\n",
       "      <th>Age</th>\n",
       "      <th>Sex</th>\n",
       "      <th>Address</th>\n",
       "    </tr>\n",
       "  </thead>\n",
       "  <tbody>\n",
       "    <tr>\n",
       "      <th>0</th>\n",
       "      <td>Ayo</td>\n",
       "      <td>29</td>\n",
       "      <td>Female</td>\n",
       "      <td>UK</td>\n",
       "    </tr>\n",
       "    <tr>\n",
       "      <th>1</th>\n",
       "      <td>Seun</td>\n",
       "      <td>24</td>\n",
       "      <td>Female</td>\n",
       "      <td>Ireland</td>\n",
       "    </tr>\n",
       "    <tr>\n",
       "      <th>2</th>\n",
       "      <td>Olu</td>\n",
       "      <td>35</td>\n",
       "      <td>Female</td>\n",
       "      <td>Ogba</td>\n",
       "    </tr>\n",
       "    <tr>\n",
       "      <th>3</th>\n",
       "      <td>Bolu</td>\n",
       "      <td>8</td>\n",
       "      <td>Male</td>\n",
       "      <td>Olowu</td>\n",
       "    </tr>\n",
       "  </tbody>\n",
       "</table>\n",
       "</div>"
      ],
      "text/plain": [
       "   name  Age     Sex  Address\n",
       "0   Ayo   29  Female       UK\n",
       "1  Seun   24  Female  Ireland\n",
       "2   Olu   35  Female     Ogba\n",
       "3  Bolu    8    Male    Olowu"
      ]
     },
     "execution_count": 167,
     "metadata": {},
     "output_type": "execute_result"
    }
   ],
   "source": [
    "DF = pd.DataFrame(pd_dict)\n",
    "DF"
   ]
  },
  {
   "cell_type": "code",
   "execution_count": 177,
   "id": "86d393fb",
   "metadata": {},
   "outputs": [
    {
     "data": {
      "text/plain": [
       "'Female'"
      ]
     },
     "execution_count": 177,
     "metadata": {},
     "output_type": "execute_result"
    }
   ],
   "source": [
    "DF.at[1, 'Sex']"
   ]
  },
  {
   "cell_type": "code",
   "execution_count": 175,
   "id": "e2bc65dc",
   "metadata": {},
   "outputs": [
    {
     "data": {
      "text/plain": [
       "name          Olu\n",
       "Age            35\n",
       "Sex        Female\n",
       "Address      Ogba\n",
       "Name: 2, dtype: object"
      ]
     },
     "execution_count": 175,
     "metadata": {},
     "output_type": "execute_result"
    }
   ],
   "source": [
    "DF.loc[2]"
   ]
  },
  {
   "cell_type": "code",
   "execution_count": 174,
   "id": "780a8a55",
   "metadata": {
    "scrolled": true
   },
   "outputs": [
    {
     "data": {
      "text/html": [
       "<div>\n",
       "<style scoped>\n",
       "    .dataframe tbody tr th:only-of-type {\n",
       "        vertical-align: middle;\n",
       "    }\n",
       "\n",
       "    .dataframe tbody tr th {\n",
       "        vertical-align: top;\n",
       "    }\n",
       "\n",
       "    .dataframe thead th {\n",
       "        text-align: right;\n",
       "    }\n",
       "</style>\n",
       "<table border=\"1\" class=\"dataframe\">\n",
       "  <thead>\n",
       "    <tr style=\"text-align: right;\">\n",
       "      <th></th>\n",
       "      <th>name</th>\n",
       "      <th>Age</th>\n",
       "      <th>Sex</th>\n",
       "      <th>Address</th>\n",
       "    </tr>\n",
       "  </thead>\n",
       "  <tbody>\n",
       "    <tr>\n",
       "      <th>2</th>\n",
       "      <td>Olu</td>\n",
       "      <td>35</td>\n",
       "      <td>Female</td>\n",
       "      <td>Ogba</td>\n",
       "    </tr>\n",
       "    <tr>\n",
       "      <th>3</th>\n",
       "      <td>Bolu</td>\n",
       "      <td>8</td>\n",
       "      <td>Male</td>\n",
       "      <td>Olowu</td>\n",
       "    </tr>\n",
       "  </tbody>\n",
       "</table>\n",
       "</div>"
      ],
      "text/plain": [
       "   name  Age     Sex Address\n",
       "2   Olu   35  Female    Ogba\n",
       "3  Bolu    8    Male   Olowu"
      ]
     },
     "execution_count": 174,
     "metadata": {},
     "output_type": "execute_result"
    }
   ],
   "source": [
    "DF.loc[2:]"
   ]
  },
  {
   "cell_type": "code",
   "execution_count": 178,
   "id": "45c93880",
   "metadata": {},
   "outputs": [
    {
     "data": {
      "text/plain": [
       "Index(['name', 'Age', 'Sex', 'Address'], dtype='object')"
      ]
     },
     "execution_count": 178,
     "metadata": {},
     "output_type": "execute_result"
    }
   ],
   "source": [
    "DF.columns"
   ]
  },
  {
   "cell_type": "code",
   "execution_count": 180,
   "id": "6bd06ddc",
   "metadata": {},
   "outputs": [
    {
     "name": "stdout",
     "output_type": "stream",
     "text": [
      "<class 'pandas.core.frame.DataFrame'>\n",
      "RangeIndex: 4 entries, 0 to 3\n",
      "Data columns (total 4 columns):\n",
      " #   Column   Non-Null Count  Dtype \n",
      "---  ------   --------------  ----- \n",
      " 0   name     4 non-null      object\n",
      " 1   Age      4 non-null      int64 \n",
      " 2   Sex      4 non-null      object\n",
      " 3   Address  4 non-null      object\n",
      "dtypes: int64(1), object(3)\n",
      "memory usage: 256.0+ bytes\n"
     ]
    }
   ],
   "source": [
    "DF.info()"
   ]
  },
  {
   "cell_type": "code",
   "execution_count": 182,
   "id": "911c0adb",
   "metadata": {},
   "outputs": [
    {
     "data": {
      "text/plain": [
       "96"
      ]
     },
     "execution_count": 182,
     "metadata": {},
     "output_type": "execute_result"
    }
   ],
   "source": [
    "DF['Age'].sum()"
   ]
  },
  {
   "cell_type": "code",
   "execution_count": 183,
   "id": "c7d9ce8a",
   "metadata": {},
   "outputs": [
    {
     "data": {
      "text/plain": [
       "24.0"
      ]
     },
     "execution_count": 183,
     "metadata": {},
     "output_type": "execute_result"
    }
   ],
   "source": [
    "DF['Age'].mean()"
   ]
  },
  {
   "cell_type": "code",
   "execution_count": 184,
   "id": "08a1dcac",
   "metadata": {},
   "outputs": [
    {
     "data": {
      "text/plain": [
       "0    29\n",
       "1    53\n",
       "2    88\n",
       "3    96\n",
       "Name: Age, dtype: int64"
      ]
     },
     "execution_count": 184,
     "metadata": {},
     "output_type": "execute_result"
    }
   ],
   "source": [
    "DF['Age'].cumsum()"
   ]
  },
  {
   "cell_type": "code",
   "execution_count": 188,
   "id": "961bad9c",
   "metadata": {},
   "outputs": [
    {
     "data": {
      "text/plain": [
       "0    False\n",
       "1    False\n",
       "2    False\n",
       "3    False\n",
       "dtype: bool"
      ]
     },
     "execution_count": 188,
     "metadata": {},
     "output_type": "execute_result"
    }
   ],
   "source": [
    "DF.duplicated()"
   ]
  },
  {
   "cell_type": "code",
   "execution_count": 194,
   "id": "2e84e82b",
   "metadata": {},
   "outputs": [
    {
     "data": {
      "text/plain": [
       "name\n",
       "Ayo     1\n",
       "Seun    1\n",
       "Olu     1\n",
       "Bolu    1\n",
       "Name: count, dtype: int64"
      ]
     },
     "execution_count": 194,
     "metadata": {},
     "output_type": "execute_result"
    }
   ],
   "source": [
    "DF['name'].value_counts()"
   ]
  },
  {
   "cell_type": "code",
   "execution_count": 195,
   "id": "d3938e96",
   "metadata": {},
   "outputs": [
    {
     "data": {
      "text/plain": [
       "0     Ayo\n",
       "1    Seun\n",
       "2     Olu\n",
       "3    Bolu\n",
       "Name: name, dtype: object"
      ]
     },
     "execution_count": 195,
     "metadata": {},
     "output_type": "execute_result"
    }
   ],
   "source": [
    "DF.name"
   ]
  },
  {
   "cell_type": "code",
   "execution_count": 196,
   "id": "04094ec3",
   "metadata": {},
   "outputs": [
    {
     "data": {
      "text/html": [
       "<div>\n",
       "<style scoped>\n",
       "    .dataframe tbody tr th:only-of-type {\n",
       "        vertical-align: middle;\n",
       "    }\n",
       "\n",
       "    .dataframe tbody tr th {\n",
       "        vertical-align: top;\n",
       "    }\n",
       "\n",
       "    .dataframe thead th {\n",
       "        text-align: right;\n",
       "    }\n",
       "</style>\n",
       "<table border=\"1\" class=\"dataframe\">\n",
       "  <thead>\n",
       "    <tr style=\"text-align: right;\">\n",
       "      <th></th>\n",
       "      <th>name</th>\n",
       "      <th>Age</th>\n",
       "      <th>Sex</th>\n",
       "      <th>Address</th>\n",
       "    </tr>\n",
       "  </thead>\n",
       "  <tbody>\n",
       "    <tr>\n",
       "      <th>0</th>\n",
       "      <td>Ayo</td>\n",
       "      <td>29</td>\n",
       "      <td>Female</td>\n",
       "      <td>UK</td>\n",
       "    </tr>\n",
       "    <tr>\n",
       "      <th>1</th>\n",
       "      <td>Seun</td>\n",
       "      <td>24</td>\n",
       "      <td>Female</td>\n",
       "      <td>Ireland</td>\n",
       "    </tr>\n",
       "  </tbody>\n",
       "</table>\n",
       "</div>"
      ],
      "text/plain": [
       "   name  Age     Sex  Address\n",
       "0   Ayo   29  Female       UK\n",
       "1  Seun   24  Female  Ireland"
      ]
     },
     "execution_count": 196,
     "metadata": {},
     "output_type": "execute_result"
    }
   ],
   "source": [
    "DF.head(2)"
   ]
  },
  {
   "cell_type": "code",
   "execution_count": 197,
   "id": "31db4173",
   "metadata": {},
   "outputs": [
    {
     "data": {
      "text/html": [
       "<div>\n",
       "<style scoped>\n",
       "    .dataframe tbody tr th:only-of-type {\n",
       "        vertical-align: middle;\n",
       "    }\n",
       "\n",
       "    .dataframe tbody tr th {\n",
       "        vertical-align: top;\n",
       "    }\n",
       "\n",
       "    .dataframe thead th {\n",
       "        text-align: right;\n",
       "    }\n",
       "</style>\n",
       "<table border=\"1\" class=\"dataframe\">\n",
       "  <thead>\n",
       "    <tr style=\"text-align: right;\">\n",
       "      <th></th>\n",
       "      <th>name</th>\n",
       "      <th>Age</th>\n",
       "      <th>Sex</th>\n",
       "      <th>Address</th>\n",
       "    </tr>\n",
       "  </thead>\n",
       "  <tbody>\n",
       "    <tr>\n",
       "      <th>2</th>\n",
       "      <td>Olu</td>\n",
       "      <td>35</td>\n",
       "      <td>Female</td>\n",
       "      <td>Ogba</td>\n",
       "    </tr>\n",
       "    <tr>\n",
       "      <th>3</th>\n",
       "      <td>Bolu</td>\n",
       "      <td>8</td>\n",
       "      <td>Male</td>\n",
       "      <td>Olowu</td>\n",
       "    </tr>\n",
       "  </tbody>\n",
       "</table>\n",
       "</div>"
      ],
      "text/plain": [
       "   name  Age     Sex Address\n",
       "2   Olu   35  Female    Ogba\n",
       "3  Bolu    8    Male   Olowu"
      ]
     },
     "execution_count": 197,
     "metadata": {},
     "output_type": "execute_result"
    }
   ],
   "source": [
    "DF.tail(2)"
   ]
  },
  {
   "cell_type": "code",
   "execution_count": 198,
   "id": "38e1b27b",
   "metadata": {},
   "outputs": [
    {
     "data": {
      "text/html": [
       "<div>\n",
       "<style scoped>\n",
       "    .dataframe tbody tr th:only-of-type {\n",
       "        vertical-align: middle;\n",
       "    }\n",
       "\n",
       "    .dataframe tbody tr th {\n",
       "        vertical-align: top;\n",
       "    }\n",
       "\n",
       "    .dataframe thead th {\n",
       "        text-align: right;\n",
       "    }\n",
       "</style>\n",
       "<table border=\"1\" class=\"dataframe\">\n",
       "  <thead>\n",
       "    <tr style=\"text-align: right;\">\n",
       "      <th></th>\n",
       "      <th>name</th>\n",
       "      <th>Sex</th>\n",
       "    </tr>\n",
       "  </thead>\n",
       "  <tbody>\n",
       "    <tr>\n",
       "      <th>0</th>\n",
       "      <td>Ayo</td>\n",
       "      <td>Female</td>\n",
       "    </tr>\n",
       "    <tr>\n",
       "      <th>1</th>\n",
       "      <td>Seun</td>\n",
       "      <td>Female</td>\n",
       "    </tr>\n",
       "    <tr>\n",
       "      <th>2</th>\n",
       "      <td>Olu</td>\n",
       "      <td>Female</td>\n",
       "    </tr>\n",
       "    <tr>\n",
       "      <th>3</th>\n",
       "      <td>Bolu</td>\n",
       "      <td>Male</td>\n",
       "    </tr>\n",
       "  </tbody>\n",
       "</table>\n",
       "</div>"
      ],
      "text/plain": [
       "   name     Sex\n",
       "0   Ayo  Female\n",
       "1  Seun  Female\n",
       "2   Olu  Female\n",
       "3  Bolu    Male"
      ]
     },
     "execution_count": 198,
     "metadata": {},
     "output_type": "execute_result"
    }
   ],
   "source": [
    "DF[['name', 'Sex']]"
   ]
  },
  {
   "cell_type": "code",
   "execution_count": 203,
   "id": "fce3f7bf",
   "metadata": {},
   "outputs": [
    {
     "data": {
      "text/html": [
       "<div>\n",
       "<style scoped>\n",
       "    .dataframe tbody tr th:only-of-type {\n",
       "        vertical-align: middle;\n",
       "    }\n",
       "\n",
       "    .dataframe tbody tr th {\n",
       "        vertical-align: top;\n",
       "    }\n",
       "\n",
       "    .dataframe thead th {\n",
       "        text-align: right;\n",
       "    }\n",
       "</style>\n",
       "<table border=\"1\" class=\"dataframe\">\n",
       "  <thead>\n",
       "    <tr style=\"text-align: right;\">\n",
       "      <th></th>\n",
       "      <th>name</th>\n",
       "      <th>Age</th>\n",
       "      <th>Sex</th>\n",
       "      <th>Address</th>\n",
       "      <th>Points</th>\n",
       "    </tr>\n",
       "  </thead>\n",
       "  <tbody>\n",
       "    <tr>\n",
       "      <th>0</th>\n",
       "      <td>Ayo</td>\n",
       "      <td>29</td>\n",
       "      <td>Female</td>\n",
       "      <td>UK</td>\n",
       "      <td>2</td>\n",
       "    </tr>\n",
       "    <tr>\n",
       "      <th>1</th>\n",
       "      <td>Seun</td>\n",
       "      <td>24</td>\n",
       "      <td>Female</td>\n",
       "      <td>Ireland</td>\n",
       "      <td>4</td>\n",
       "    </tr>\n",
       "    <tr>\n",
       "      <th>2</th>\n",
       "      <td>Olu</td>\n",
       "      <td>35</td>\n",
       "      <td>Female</td>\n",
       "      <td>Ogba</td>\n",
       "      <td>6</td>\n",
       "    </tr>\n",
       "    <tr>\n",
       "      <th>3</th>\n",
       "      <td>Bolu</td>\n",
       "      <td>8</td>\n",
       "      <td>Male</td>\n",
       "      <td>Olowu</td>\n",
       "      <td>8</td>\n",
       "    </tr>\n",
       "  </tbody>\n",
       "</table>\n",
       "</div>"
      ],
      "text/plain": [
       "   name  Age     Sex  Address  Points\n",
       "0   Ayo   29  Female       UK       2\n",
       "1  Seun   24  Female  Ireland       4\n",
       "2   Olu   35  Female     Ogba       6\n",
       "3  Bolu    8    Male    Olowu       8"
      ]
     },
     "execution_count": 203,
     "metadata": {},
     "output_type": "execute_result"
    }
   ],
   "source": [
    "DF['Points'] = range(2, 9, 2)\n",
    "DF.drop(columns= ['Points'], inplace = True)\n",
    "DF['Points'] = range(2, 9, 2)\n",
    "DF"
   ]
  },
  {
   "cell_type": "code",
   "execution_count": 206,
   "id": "21c9bb1d",
   "metadata": {},
   "outputs": [
    {
     "name": "stdout",
     "output_type": "stream",
     "text": [
      "1\n",
      "2\n",
      "3\n",
      "(1, 2, 3)\n"
     ]
    }
   ],
   "source": [
    "aTuple = 1, 2, 3\n",
    "a, b, c = aTuple\n",
    "print(a)\n",
    "print(b)\n",
    "print(c)\n",
    "print(aTuple)"
   ]
  },
  {
   "cell_type": "code",
   "execution_count": 207,
   "id": "7dc13f21",
   "metadata": {},
   "outputs": [
    {
     "name": "stdout",
     "output_type": "stream",
     "text": [
      "1\n",
      "2\n",
      "3\n",
      "[1, 2, 3]\n"
     ]
    }
   ],
   "source": [
    "aple = [1, 2, 3]\n",
    "a, b, c = aple\n",
    "print(a)\n",
    "print(b)\n",
    "print(c)\n",
    "print(aple)"
   ]
  },
  {
   "cell_type": "code",
   "execution_count": 208,
   "id": "039ff26a",
   "metadata": {},
   "outputs": [
    {
     "data": {
      "text/html": [
       "<div>\n",
       "<style scoped>\n",
       "    .dataframe tbody tr th:only-of-type {\n",
       "        vertical-align: middle;\n",
       "    }\n",
       "\n",
       "    .dataframe tbody tr th {\n",
       "        vertical-align: top;\n",
       "    }\n",
       "\n",
       "    .dataframe thead th {\n",
       "        text-align: right;\n",
       "    }\n",
       "</style>\n",
       "<table border=\"1\" class=\"dataframe\">\n",
       "  <thead>\n",
       "    <tr style=\"text-align: right;\">\n",
       "      <th></th>\n",
       "      <th>ussr</th>\n",
       "      <th>uk</th>\n",
       "      <th>nigeria</th>\n",
       "    </tr>\n",
       "  </thead>\n",
       "  <tbody>\n",
       "    <tr>\n",
       "      <th>0</th>\n",
       "      <td>Russia</td>\n",
       "      <td>london</td>\n",
       "      <td>lagos</td>\n",
       "    </tr>\n",
       "    <tr>\n",
       "      <th>1</th>\n",
       "      <td>moscow</td>\n",
       "      <td>wales</td>\n",
       "      <td>ogun</td>\n",
       "    </tr>\n",
       "    <tr>\n",
       "      <th>2</th>\n",
       "      <td>crimea</td>\n",
       "      <td>scotland</td>\n",
       "      <td>kano</td>\n",
       "    </tr>\n",
       "  </tbody>\n",
       "</table>\n",
       "</div>"
      ],
      "text/plain": [
       "     ussr        uk nigeria\n",
       "0  Russia    london   lagos\n",
       "1  moscow     wales    ogun\n",
       "2  crimea  scotland    kano"
      ]
     },
     "execution_count": 208,
     "metadata": {},
     "output_type": "execute_result"
    }
   ],
   "source": [
    "DataFrame({'ussr':['Russia', 'moscow', 'crimea'],'uk':['london', 'wales', 'scotland'],'nigeria':['lagos', 'ogun', 'kano']})\n"
   ]
  },
  {
   "cell_type": "code",
   "execution_count": 214,
   "id": "4da128a7",
   "metadata": {},
   "outputs": [
    {
     "data": {
      "text/html": [
       "<div>\n",
       "<style scoped>\n",
       "    .dataframe tbody tr th:only-of-type {\n",
       "        vertical-align: middle;\n",
       "    }\n",
       "\n",
       "    .dataframe tbody tr th {\n",
       "        vertical-align: top;\n",
       "    }\n",
       "\n",
       "    .dataframe thead th {\n",
       "        text-align: right;\n",
       "    }\n",
       "</style>\n",
       "<table border=\"1\" class=\"dataframe\">\n",
       "  <thead>\n",
       "    <tr style=\"text-align: right;\">\n",
       "      <th></th>\n",
       "      <th>name</th>\n",
       "      <th>Age</th>\n",
       "      <th>Sex</th>\n",
       "      <th>Address</th>\n",
       "      <th>Points</th>\n",
       "    </tr>\n",
       "  </thead>\n",
       "  <tbody>\n",
       "    <tr>\n",
       "      <th>a</th>\n",
       "      <td>NaN</td>\n",
       "      <td>NaN</td>\n",
       "      <td>NaN</td>\n",
       "      <td>NaN</td>\n",
       "      <td>NaN</td>\n",
       "    </tr>\n",
       "    <tr>\n",
       "      <th>b</th>\n",
       "      <td>NaN</td>\n",
       "      <td>NaN</td>\n",
       "      <td>NaN</td>\n",
       "      <td>NaN</td>\n",
       "      <td>NaN</td>\n",
       "    </tr>\n",
       "    <tr>\n",
       "      <th>c</th>\n",
       "      <td>NaN</td>\n",
       "      <td>NaN</td>\n",
       "      <td>NaN</td>\n",
       "      <td>NaN</td>\n",
       "      <td>NaN</td>\n",
       "    </tr>\n",
       "    <tr>\n",
       "      <th>d</th>\n",
       "      <td>NaN</td>\n",
       "      <td>NaN</td>\n",
       "      <td>NaN</td>\n",
       "      <td>NaN</td>\n",
       "      <td>NaN</td>\n",
       "    </tr>\n",
       "  </tbody>\n",
       "</table>\n",
       "</div>"
      ],
      "text/plain": [
       "  name  Age  Sex Address  Points\n",
       "a  NaN  NaN  NaN     NaN     NaN\n",
       "b  NaN  NaN  NaN     NaN     NaN\n",
       "c  NaN  NaN  NaN     NaN     NaN\n",
       "d  NaN  NaN  NaN     NaN     NaN"
      ]
     },
     "execution_count": 214,
     "metadata": {},
     "output_type": "execute_result"
    }
   ],
   "source": [
    "DF.reindex(index= ['a', 'b', 'c', 'd'])"
   ]
  },
  {
   "cell_type": "code",
   "execution_count": 212,
   "id": "8296eb35",
   "metadata": {},
   "outputs": [
    {
     "data": {
      "text/html": [
       "<div>\n",
       "<style scoped>\n",
       "    .dataframe tbody tr th:only-of-type {\n",
       "        vertical-align: middle;\n",
       "    }\n",
       "\n",
       "    .dataframe tbody tr th {\n",
       "        vertical-align: top;\n",
       "    }\n",
       "\n",
       "    .dataframe thead th {\n",
       "        text-align: right;\n",
       "    }\n",
       "</style>\n",
       "<table border=\"1\" class=\"dataframe\">\n",
       "  <thead>\n",
       "    <tr style=\"text-align: right;\">\n",
       "      <th></th>\n",
       "      <th>name</th>\n",
       "      <th>Age</th>\n",
       "      <th>Sex</th>\n",
       "      <th>Address</th>\n",
       "      <th>Points</th>\n",
       "    </tr>\n",
       "  </thead>\n",
       "  <tbody>\n",
       "    <tr>\n",
       "      <th>0</th>\n",
       "      <td>Ayo</td>\n",
       "      <td>29</td>\n",
       "      <td>Female</td>\n",
       "      <td>UK</td>\n",
       "      <td>2</td>\n",
       "    </tr>\n",
       "    <tr>\n",
       "      <th>1</th>\n",
       "      <td>Seun</td>\n",
       "      <td>24</td>\n",
       "      <td>Female</td>\n",
       "      <td>Ireland</td>\n",
       "      <td>4</td>\n",
       "    </tr>\n",
       "    <tr>\n",
       "      <th>2</th>\n",
       "      <td>Olu</td>\n",
       "      <td>35</td>\n",
       "      <td>Female</td>\n",
       "      <td>Ogba</td>\n",
       "      <td>6</td>\n",
       "    </tr>\n",
       "    <tr>\n",
       "      <th>3</th>\n",
       "      <td>Bolu</td>\n",
       "      <td>8</td>\n",
       "      <td>Male</td>\n",
       "      <td>Olowu</td>\n",
       "      <td>8</td>\n",
       "    </tr>\n",
       "  </tbody>\n",
       "</table>\n",
       "</div>"
      ],
      "text/plain": [
       "   name  Age     Sex  Address  Points\n",
       "0   Ayo   29  Female       UK       2\n",
       "1  Seun   24  Female  Ireland       4\n",
       "2   Olu   35  Female     Ogba       6\n",
       "3  Bolu    8    Male    Olowu       8"
      ]
     },
     "execution_count": 212,
     "metadata": {},
     "output_type": "execute_result"
    }
   ],
   "source": [
    "DF"
   ]
  },
  {
   "cell_type": "code",
   "execution_count": 215,
   "id": "bd7faa0a",
   "metadata": {},
   "outputs": [],
   "source": [
    "new_columns = ['First_Name','Age', 'Sex', 'Country/Street', 'Points']"
   ]
  },
  {
   "cell_type": "code",
   "execution_count": 219,
   "id": "938acc14",
   "metadata": {},
   "outputs": [
    {
     "data": {
      "text/html": [
       "<div>\n",
       "<style scoped>\n",
       "    .dataframe tbody tr th:only-of-type {\n",
       "        vertical-align: middle;\n",
       "    }\n",
       "\n",
       "    .dataframe tbody tr th {\n",
       "        vertical-align: top;\n",
       "    }\n",
       "\n",
       "    .dataframe thead th {\n",
       "        text-align: right;\n",
       "    }\n",
       "</style>\n",
       "<table border=\"1\" class=\"dataframe\">\n",
       "  <thead>\n",
       "    <tr style=\"text-align: right;\">\n",
       "      <th></th>\n",
       "      <th>First_Name</th>\n",
       "      <th>Age</th>\n",
       "      <th>Sex</th>\n",
       "      <th>Country/Street</th>\n",
       "      <th>Points</th>\n",
       "    </tr>\n",
       "  </thead>\n",
       "  <tbody>\n",
       "    <tr>\n",
       "      <th>0</th>\n",
       "      <td>NaN</td>\n",
       "      <td>29</td>\n",
       "      <td>Female</td>\n",
       "      <td>NaN</td>\n",
       "      <td>2</td>\n",
       "    </tr>\n",
       "    <tr>\n",
       "      <th>1</th>\n",
       "      <td>NaN</td>\n",
       "      <td>24</td>\n",
       "      <td>Female</td>\n",
       "      <td>NaN</td>\n",
       "      <td>4</td>\n",
       "    </tr>\n",
       "    <tr>\n",
       "      <th>2</th>\n",
       "      <td>NaN</td>\n",
       "      <td>35</td>\n",
       "      <td>Female</td>\n",
       "      <td>NaN</td>\n",
       "      <td>6</td>\n",
       "    </tr>\n",
       "    <tr>\n",
       "      <th>3</th>\n",
       "      <td>NaN</td>\n",
       "      <td>8</td>\n",
       "      <td>Male</td>\n",
       "      <td>NaN</td>\n",
       "      <td>8</td>\n",
       "    </tr>\n",
       "  </tbody>\n",
       "</table>\n",
       "</div>"
      ],
      "text/plain": [
       "   First_Name  Age     Sex  Country/Street  Points\n",
       "0         NaN   29  Female             NaN       2\n",
       "1         NaN   24  Female             NaN       4\n",
       "2         NaN   35  Female             NaN       6\n",
       "3         NaN    8    Male             NaN       8"
      ]
     },
     "execution_count": 219,
     "metadata": {},
     "output_type": "execute_result"
    }
   ],
   "source": [
    "DF2= DF.reindex(columns=new_columns)\n",
    "DF2"
   ]
  },
  {
   "cell_type": "code",
   "execution_count": null,
   "id": "f03e1b88",
   "metadata": {},
   "outputs": [],
   "source": []
  },
  {
   "cell_type": "code",
   "execution_count": null,
   "id": "bf784aa1",
   "metadata": {},
   "outputs": [],
   "source": []
  },
  {
   "cell_type": "code",
   "execution_count": null,
   "id": "78161d18",
   "metadata": {},
   "outputs": [],
   "source": []
  },
  {
   "cell_type": "code",
   "execution_count": null,
   "id": "ea467a5a",
   "metadata": {},
   "outputs": [],
   "source": []
  },
  {
   "cell_type": "code",
   "execution_count": null,
   "id": "68931c92",
   "metadata": {},
   "outputs": [],
   "source": []
  },
  {
   "cell_type": "code",
   "execution_count": null,
   "id": "bff206ac",
   "metadata": {},
   "outputs": [],
   "source": []
  },
  {
   "cell_type": "code",
   "execution_count": null,
   "id": "3a9752b4",
   "metadata": {},
   "outputs": [],
   "source": []
  },
  {
   "cell_type": "code",
   "execution_count": null,
   "id": "71b890ee",
   "metadata": {},
   "outputs": [],
   "source": []
  },
  {
   "cell_type": "code",
   "execution_count": null,
   "id": "2f3bb603",
   "metadata": {},
   "outputs": [],
   "source": []
  },
  {
   "cell_type": "code",
   "execution_count": null,
   "id": "cfd015b6",
   "metadata": {},
   "outputs": [],
   "source": []
  }
 ],
 "metadata": {
  "kernelspec": {
   "display_name": "Python 3 (ipykernel)",
   "language": "python",
   "name": "python3"
  },
  "language_info": {
   "codemirror_mode": {
    "name": "ipython",
    "version": 3
   },
   "file_extension": ".py",
   "mimetype": "text/x-python",
   "name": "python",
   "nbconvert_exporter": "python",
   "pygments_lexer": "ipython3",
   "version": "3.9.12"
  }
 },
 "nbformat": 4,
 "nbformat_minor": 5
}
