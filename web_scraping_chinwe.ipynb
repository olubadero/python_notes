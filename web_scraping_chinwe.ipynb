{
 "cells": [
  {
   "cell_type": "code",
   "execution_count": null,
   "id": "2b3fcfc5",
   "metadata": {},
   "outputs": [],
   "source": [
    "from bs4 import BeautifulSoup as bs\n",
    "import requests\n",
    "import re\n",
    "import urllibrequest\n",
    "import pandas as pd\n",
    "from pandas import DataFrame as df"
   ]
  },
  {
   "cell_type": "code",
   "execution_count": null,
   "id": "94c1a644",
   "metadata": {},
   "outputs": [],
   "source": [
    "num = 1\n",
    "\n",
    "base_url = 'https://www.kijiji.ca/b-apartments-condos/ontario/for-rent/basement+apartment/page-'\n",
    "page_num = '1'\n",
    "url_separator = '/k0c37l9004a29276001'\n",
    "\n",
    "\n",
    "## full_url = https://www.kijiji.ca/b-apartments-condos/ontario/for-rent/basement+apartment/page-2/k0c37l9004a29276001\n",
    "    "
   ]
  },
  {
   "cell_type": "code",
   "execution_count": null,
   "id": "f8b15cf0",
   "metadata": {},
   "outputs": [],
   "source": [
    "url = base_url + page_num + url_separator\n",
    "response = requests.get(url)\n",
    "soupcontent = bs(response.content, 'html.parser')"
   ]
  },
  {
   "cell_type": "code",
   "execution_count": null,
   "id": "7fe798b9",
   "metadata": {},
   "outputs": [],
   "source": [
    "for post in range 4:\n",
    "    url\n",
    "    houses = soupcontent.findall('div', {'class':'info'})\n",
    "    house_data = []\n",
    "    house_data_format = []"
   ]
  },
  {
   "cell_type": "code",
   "execution_count": null,
   "id": "4f82e23c",
   "metadata": {},
   "outputs": [],
   "source": [
    "for i in houses:\n",
    "    house_name = i.find('div', {'class':'title'}).get_text()\n",
    "    house_price = i.find('div', {'class':'price'}).get_text()\n",
    "    house_bed = i.find('div', {'class':'details'}).get_text()\n",
    "    house_location = i.find('div', {'class':'location'}).get_text()\n",
    "    house_description = i.find('div', {'class':'description'}).get_text()\n",
    "    \n",
    "print(i)"
   ]
  },
  {
   "cell_type": "code",
   "execution_count": null,
   "id": "2497bd5a",
   "metadata": {},
   "outputs": [],
   "source": [
    "for i in houses:\n",
    "    house_name = i.find('div', {'class':'title'}).get_text()\n",
    "    house_price = i.find('div', {'class':'price'}).get_text()\n",
    "    house_bed = i.find('div', {'class':'details'}).get_text()\n",
    "    house_location = i.find('div', {'class':'location'}).get_text()\n",
    "    house_description = i.find('div', {'class':'description'}).get_text()\n",
    "    \n",
    "    format_housename = ' '.join(house_name.strip().replace('\\n','').split()\n",
    "    format_houseprice = ' '.join(house_price.strip().replace('$','').split()\n",
    "    format_housebed = ' '.join(house_bed.strip().replace('\\n','').split()\n",
    "    format_location = ' '.join(house_location.strip().replace('\\n','').split()\n",
    "    format_description = ' '.join(house_description.strip().replace('\\n','').split()\n",
    "\n",
    "##print formatted data\n",
    "    house_record = [format_housename, format_houseprice, format_housebed, format_location, format_description]\n",
    "\n",
    "    print(house_record)\n",
    "                                  \n",
    "    house_data_format.append(house_record)\n",
    "    print(house_data_format, '\\n')\n",
    "            "
   ]
  },
  {
   "cell_type": "code",
   "execution_count": null,
   "id": "21d4d568",
   "metadata": {},
   "outputs": [],
   "source": [
    "num += 1\n",
    "page_num = str(num)\n",
    "data = df(house_data_format, column = ['House Name', 'House_Price', 'House_Bed',  'House Location', 'House Description'])\n",
    "\n",
    "print(data)\n"
   ]
  },
  {
   "cell_type": "code",
   "execution_count": null,
   "id": "d8c04e47",
   "metadata": {},
   "outputs": [],
   "source": [
    "##save data to CSV\n",
    "data.to_csv('Canada_Houses.csv')"
   ]
  },
  {
   "cell_type": "code",
   "execution_count": null,
   "id": "bac8406a",
   "metadata": {},
   "outputs": [],
   "source": []
  },
  {
   "cell_type": "code",
   "execution_count": null,
   "id": "bfe81084",
   "metadata": {},
   "outputs": [],
   "source": [
    "num = 1\n",
    "\n",
    "a = 'https://www.kijiji.ca/b-apartments-condos/ontario/1+half+bathrooms__2+bathrooms-1+bedroom__1+bedroom+den__2+bedrooms/page-'\n",
    "b = '1'\n",
    "c = '/c37l9004a120a27949001?price=__1340'\n",
    "\n",
    "url = a + b + c"
   ]
  },
  {
   "cell_type": "code",
   "execution_count": null,
   "id": "5c578313",
   "metadata": {},
   "outputs": [],
   "source": [
    "res = requests.get(url)\n",
    "soup = bs(res.content, 'html.parser')\n"
   ]
  },
  {
   "cell_type": "code",
   "execution_count": null,
   "id": "0e26ccd0",
   "metadata": {},
   "outputs": [],
   "source": [
    "for post in range(5):\n",
    "    a + b + c\n",
    "    houses = soup.find_all('div', {'class': 'info'})\n",
    "    house_data = []\n",
    "    house_record = []\n",
    "houses"
   ]
  },
  {
   "cell_type": "code",
   "execution_count": null,
   "id": "354b0a09",
   "metadata": {},
   "outputs": [],
   "source": [
    "for i in houses:\n",
    "    name = i.find('div', {'class':'title'}).get_text()\n",
    "    price = i.find('div', {'class':'price'}).get_text()\n",
    "    beds = i.find('div', {'class':'details'}).get_text()\n",
    "    location = i.find('span', {'class':''}).get_text()\n",
    "    description = i.find('div', {'class':'description'}).get_text()\n",
    "    \n",
    "    Name = ' '.join(name.strip().replace('\\n', '').split())\n",
    "    Price = ' '.join(price.strip().replace('$', '').split())\n",
    "    Beds = ' '.join(beds.strip().replace('\\n', '').split())\n",
    "    Location = ' '.join(location.strip().split())\n",
    "    Description = ' '.join(description.strip().replace('\\n', '').split())\n",
    "    \n",
    "    house_record =[Name, Price, Beds, Location, Description]\n",
    "    house_data.append(house_record)\n",
    "    \n",
    "    print(house_data)"
   ]
  },
  {
   "cell_type": "code",
   "execution_count": null,
   "id": "cf47ba30",
   "metadata": {},
   "outputs": [],
   "source": [
    "for i in houses:\n",
    "    location = i.find('span', {'class':''}).get_text()\n",
    "    print(location)"
   ]
  },
  {
   "cell_type": "code",
   "execution_count": null,
   "id": "904f4710",
   "metadata": {},
   "outputs": [],
   "source": [
    "num +=1\n",
    "b = str(num)\n",
    "\n",
    "canada_house = pd.DataFrame(house_data, columns=['Name', 'Price', 'Beds', 'Location', 'Description'])\n",
    "print(canada_house)"
   ]
  },
  {
   "cell_type": "code",
   "execution_count": null,
   "id": "689a7aaa",
   "metadata": {},
   "outputs": [],
   "source": [
    "canada_house = pd.DataFrame(house_data, columns=['Name', 'Price', 'Beds', 'Location', 'Description'])\n",
    "canada_house"
   ]
  },
  {
   "cell_type": "code",
   "execution_count": null,
   "id": "7126b156",
   "metadata": {},
   "outputs": [],
   "source": [
    "canada_house.head(10)"
   ]
  }
 ],
 "metadata": {
  "kernelspec": {
   "display_name": "Python 3 (ipykernel)",
   "language": "python",
   "name": "python3"
  },
  "language_info": {
   "codemirror_mode": {
    "name": "ipython",
    "version": 3
   },
   "file_extension": ".py",
   "mimetype": "text/x-python",
   "name": "python",
   "nbconvert_exporter": "python",
   "pygments_lexer": "ipython3",
   "version": "3.11.5"
  }
 },
 "nbformat": 4,
 "nbformat_minor": 5
}
