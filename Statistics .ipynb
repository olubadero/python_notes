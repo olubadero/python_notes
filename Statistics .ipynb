{
 "cells": [
  {
   "cell_type": "markdown",
   "id": "2ddfc9ce",
   "metadata": {},
   "source": [
    "Let's start off with a definition for **discrete uniform distributions.**\n",
    "\n",
    "Definition: A random variable X has a discrete uniform distribution if each of the n values in its range: x1,x2,x3....xn) has equal probability:\n",
    "       i.e the probability of one happening = 1/n (n is the number of        possible events) eg every dice roll has equal odds if its a          fair dice i.e 1/6 probability of a number being rolled\n",
    "    \n",
    "        \n",
    "\n",
    "Now let's use python to show a simple example!\n",
    "\n",
    "First the imports:"
   ]
  },
  {
   "cell_type": "code",
   "execution_count": 1,
   "id": "f676f01d",
   "metadata": {},
   "outputs": [],
   "source": [
    "# Import all the usual imports from the Python for Data Analysis and Visualization Course.\n",
    "import numpy as np\n",
    "from numpy.random import randn\n",
    "import pandas as pd\n",
    "from scipy import stats\n",
    "import matplotlib as mpl\n",
    "import matplotlib.pyplot as plt\n",
    "import seaborn as sns\n",
    "from __future__ import division\n",
    "%matplotlib inline\n"
   ]
  },
  {
   "cell_type": "markdown",
   "id": "dbfe53b9",
   "metadata": {},
   "source": [
    "Now let's set up a dice roll and plot the distribution using seaborn before we go use matplotlib by itself."
   ]
  },
  {
   "cell_type": "code",
   "execution_count": 2,
   "id": "35da6c31",
   "metadata": {},
   "outputs": [
    {
     "data": {
      "text/plain": [
       "Text(0.5, 1.0, 'Probability Mass Function for Dice Roll')"
      ]
     },
     "execution_count": 2,
     "metadata": {},
     "output_type": "execute_result"
    },
    {
     "data": {
      "image/png": "[encoded data removed]",
      "text/plain": [
       "<Figure size 432x288 with 1 Axes>"
      ]
     },
     "metadata": {
      "needs_background": "light"
     },
     "output_type": "display_data"
    }
   ],
   "source": [
    "# How about a roll of a dice?\n",
    "\n",
    "# Let's check out the Probability Mass function!\n",
    "\n",
    "# Each number\n",
    "roll_options = [1,2,3,4,5,6]\n",
    "\n",
    "# Total probability space ie if all probabilities are summed, it should equal 1\n",
    "tprob = 1\n",
    "\n",
    "# Each roll has same odds of appearing (on a fair die at least)\n",
    "prob_roll = tprob / len(roll_options) \n",
    "\n",
    "# Plot using seaborn rugplot (note this is not really a rugplot), setting height equal to probability of roll\n",
    "uni_plot = sns.rugplot(roll_options,height=prob_roll,c='indianred')\n",
    "\n",
    "# Set Title\n",
    "uni_plot.set_title('Probability Mass Function for Dice Roll')\n",
    "\n",
    "\n",
    "     "
   ]
  },
  {
   "cell_type": "markdown",
   "id": "489abbb2",
   "metadata": {},
   "source": [
    "We can see in the above example that the f(x) value on the plot is just equal to 1/(Total Possible Outcomes)\n",
    "\n",
    "So what's the mean and variance of this uniform distribution?\n",
    "\n",
    "The mean is simply the max and min value divided by two, just like the mean of two numbers.\n",
    "        mean = (b + a)/2\n",
    "\n",
    "With a variance of:\n",
    "        variance =((b-a+1)**2-1)/12\n",
    "        b is max value\n",
    "        a is min value\n",
    " \n",
    "Now let's see how to automatically create a Discrete Uniform Distribution using Scipy."
   ]
  },
  {
   "cell_type": "code",
   "execution_count": 5,
   "id": "1e753054",
   "metadata": {},
   "outputs": [
    {
     "name": "stdout",
     "output_type": "stream",
     "text": [
      "The mean is 3.5\n"
     ]
    }
   ],
   "source": [
    "# Imports\n",
    "from scipy.stats import randint\n",
    "\n",
    "#Set up a low and high boundary for dice roll ( go to 7 since index starts at 0)\n",
    "low,high = 1,7\n",
    "\n",
    "# Get mean and variance\n",
    "mean,var = randint.stats(low,high)\n",
    "\n",
    "print('The mean is %2.1f' %mean)\n"
   ]
  },
  {
   "cell_type": "code",
   "execution_count": 6,
   "id": "3bb9432b",
   "metadata": {},
   "outputs": [
    {
     "data": {
      "text/plain": [
       "<BarContainer object of 6 artists>"
      ]
     },
     "execution_count": 6,
     "metadata": {},
     "output_type": "execute_result"
    },
    {
     "data": {
      "image/png": "[encoded data removed]",
      "text/plain": [
       "<Figure size 432x288 with 1 Axes>"
      ]
     },
     "metadata": {
      "needs_background": "light"
     },
     "output_type": "display_data"
    }
   ],
   "source": [
    "# Now we can make a simple bar plot\n",
    "plt.bar(roll_options,randint.pmf(roll_options,low,high))##pmf takes 3 arguments\n"
   ]
  },
  {
   "cell_type": "markdown",
   "id": "8f379d35",
   "metadata": {},
   "source": [
    "That's basically it for a discrete uniform distribution, check out the rest of the reading below if you're still interested."
   ]
  },
  {
   "cell_type": "markdown",
   "id": "cc9ee6c0",
   "metadata": {},
   "source": [
    "Example of real world use: German Tank Problem\n",
    "So now that we know some information about the uniform discrete distribution function, how about we use it to solve a problem?\n",
    "\n",
    "In this case we'll solve the famous German Tank Problem.\n",
    "\n",
    "For background, first read the wikipedia page: http://en.wikipedia.org/wiki/German_tank_problem\n",
    "\n",
    "Excerpt from Wikipedia:\n",
    "\"In the statistical theory of estimation, the problem of estimating the maximum of a discrete uniform distribution from sampling without replacement is known in English as the German tank problem, due to its application in World War II to the estimation of the number of German tanks. Estimating the population maximum based on a single sample yields divergent results, while the estimation based on multiple samples is an instructive practical estimation question whose answer is simple but not obvious.\"\n",
    "\n",
    "After reading the Wikipedia article, check out the following code for an example Python workout of the example problem.\n",
    "\n",
    "Using a Minimum-variance unbiased estimator we obtain the population max is equal to :\n",
    "\n",
    "    population max = sample max+(sample max/sample size)-1\n",
    "\n"
   ]
  },
  {
   "cell_type": "markdown",
   "id": "9b6ac4d5",
   "metadata": {},
   "source": [
    "If we for instance captured 5 tanks with the serial numbers 3,7,11,16 then we know the max observed serial number was m=16. This is our sample max with a sample size of 5 tanks. Plugging into the MVUE results in:"
   ]
  },
  {
   "cell_type": "code",
   "execution_count": 7,
   "id": "3f6eceba",
   "metadata": {},
   "outputs": [
    {
     "data": {
      "text/plain": [
       "18.2"
      ]
     },
     "execution_count": 7,
     "metadata": {},
     "output_type": "execute_result"
    }
   ],
   "source": [
    "tank_estimate = 16 + (16/5) - 1\n",
    "tank_estimate\n"
   ]
  },
  {
   "cell_type": "code",
   "execution_count": 8,
   "id": "626d17c3",
   "metadata": {},
   "outputs": [
    {
     "data": {
      "text/plain": [
       "20.0"
      ]
     },
     "execution_count": 8,
     "metadata": {},
     "output_type": "execute_result"
    }
   ],
   "source": [
    "## For a Bayseian Approach:\n",
    "\n",
    "\n",
    "m=16\n",
    "k=5\n",
    "tank_b_estimate = (m-1)*( (k-1)/ ( k-2) )\n",
    "tank_b_estimate\n",
    "\n",
    "\n",
    "## Remember, this is still missing the STD"
   ]
  },
  {
   "cell_type": "markdown",
   "id": "f06fa43c",
   "metadata": {},
   "source": [
    "Let's learn about **Continous Uniform Distributions**. \n",
    "\n",
    "Note: You should look at Discrete Uniform Distributions first.\n",
    "If we took a discrete uniform distribution to probability of any outcome was 1/n for any outcome. \n",
    "\n",
    "However for a continous distribution, our data can not be divided in discrete components, for example weighing an object. With perfect precision on weight, the data can take on any value between two points(e.g 5.4 grams,5.423 grams, 5.42322 grams, etc.)\n",
    "\n",
    "This means that our n possible values from the discrete uniform distribution is going towards infinity, thus the probability of any individual outcome for a continous distribution is **1/∞** ,technically undefined or zero if we take the limit to infinity ie **the probability of the event occurring is infinite and not definite**. Thus we can only take probability measurements of ranges of values, and not just a specific point. Let's look at some definitions and examples to get a better understanding!\n",
    "\n",
    "A continous random variable X with a probability density function is a continous uniform random variable when:\n",
    "        \n",
    "        f(x) = 1/(b-a)\n",
    "        (a <= x <= b)\n",
    " \n",
    "This makes sense, since for a discrete uniform distribution the f(x)=1/n but in the continous case we don't have a specific n possibilities, we have a range from the min (a) to the max (b)!\n",
    "\n",
    "The mean is simply the average of the min and max:\n",
    "        \n",
    "        (a + b)/12\n",
    "\n",
    "The variance is defined as:\n",
    "        \n",
    "        ((b-a)**2)/12\n",
    " \n"
   ]
  },
  {
   "cell_type": "markdown",
   "id": "698a0adf",
   "metadata": {},
   "source": [
    "**Example of Continuous distribution:**\n",
    "\n",
    "So what would an example problem look like? Let's say on average, a taxi ride in NYC takes 22 minutes. After taking some time measurements from experiments we gather that all the taxi rides are uniformly distributed between 19 and 27 minutes. What is the probability density function of a taxi ride, or f(x)?"
   ]
  },
  {
   "cell_type": "code",
   "execution_count": 9,
   "id": "5495629f",
   "metadata": {},
   "outputs": [
    {
     "name": "stdout",
     "output_type": "stream",
     "text": [
      "The probability density function results in 0.125\n"
     ]
    }
   ],
   "source": [
    "#Let's solve this with python\n",
    "\n",
    "#Lower bound time\n",
    "a = 19\n",
    "\n",
    "#Upper bound time\n",
    "b = 27\n",
    "\n",
    "#Then using our probability density function we get\n",
    "fx = 1.0/(b-a)\n",
    "\n",
    "#show \n",
    "print('The probability density function results in %1.3f' %fx)\n"
   ]
  },
  {
   "cell_type": "markdown",
   "id": "d5dc000a",
   "metadata": {},
   "source": [
    "So let's ask the question, what's the probability that the taxi ride will last at least 25 minutes?"
   ]
  },
  {
   "cell_type": "code",
   "execution_count": 11,
   "id": "040b9e7e",
   "metadata": {},
   "outputs": [
    {
     "name": "stdout",
     "output_type": "stream",
     "text": [
      " The probability that the taxi ride will last at least 25 minutes is 25.0%\n"
     ]
    }
   ],
   "source": [
    "# This is the same as the PDF of f(27) (the entire space) minus the probability space less than 25 minutes.\n",
    "\n",
    "#f(27)\n",
    "fx_1 = 27.0/(b-a)\n",
    "#f(25)\n",
    "fx_2 = 25.0/(b-a)\n",
    "\n",
    "#Our answer is then\n",
    "ans = fx_1-fx_2\n",
    "\n",
    "#print\n",
    "print(' The probability that the taxi ride will last at least 25 minutes is %2.1f%%' %(100*ans))\n"
   ]
  },
  {
   "cell_type": "code",
   "execution_count": 13,
   "id": "2e93ca66",
   "metadata": {},
   "outputs": [
    {
     "data": {
      "text/plain": [
       "[<matplotlib.lines.Line2D at 0x7fcd342e26a0>]"
      ]
     },
     "execution_count": 13,
     "metadata": {},
     "output_type": "execute_result"
    },
    {
     "data": {
      "image/png": "[encoded data removed]",
      "text/plain": [
       "<Figure size 432x288 with 1 Axes>"
      ]
     },
     "metadata": {
      "needs_background": "light"
     },
     "output_type": "display_data"
    }
   ],
   "source": [
    "##Now let's see how to do this automatically with scipy.\n",
    "\n",
    "\n",
    "# Import the following\n",
    "from scipy.stats import uniform\n",
    "import numpy as np\n",
    "\n",
    "#Let's set an A and B\n",
    "A=0\n",
    "B=5\n",
    "\n",
    "# Set x as 100 linearly spaced points between A and B\n",
    "x = np.linspace(A,B,100)\n",
    "\n",
    "# Use uniform(loc=start point,scale=endpoint)\n",
    "rv = uniform(loc=A,scale=B)\n",
    "\n",
    "#Plot the Probability Density Function (PDF) of that uniform distirbution\n",
    "plt.plot(x,rv.pdf(x))\n"
   ]
  },
  {
   "cell_type": "markdown",
   "id": "fd81d754",
   "metadata": {},
   "source": [
    "Note the above line is at 0.2, as we would expect since 1/(5-0) is 1/5 or 0.2.\n",
    "\n",
    "That's it for Uniform Continuous Distributions. Here are some more resource for you:\n",
    "1.)http://en.wikipedia.org/wiki/Uniform_distribution_%28continuous%29\n",
    "\n",
    "2.)http://docs.scipy.org/doc/scipy/reference/generated/scipy.stats.uniform.html\n",
    "\n",
    "3.)http://mathworld.wolfram.com/UniformDistribution.html"
   ]
  },
  {
   "cell_type": "markdown",
   "id": "3725a3f8",
   "metadata": {},
   "source": [
    "**Binomial Distribution** is a specific type of a discrete probability distribution.\n",
    "Let's see an example question first, and then learn about the binomial distribution.\n",
    "\n",
    "**Example 1: Two players are playing basketball, player A and player B. Player A takes an average of 11 shots per game, and has an average success rate of 72%. Player B takes an average of 15 shots per game, but has an average success rate of 48%.**\n",
    "\n",
    "Question 1: What's the probability that Player A makes 6 shots in an average game?\n",
    "\n",
    "Question 2: What's the probability that Player B makes 6 shots in an average game?\n",
    "\n",
    "We can classify this as a binomial experiment if the following conditions are met:\n",
    "\n",
    "1.) The process consists of a sequence of n trials.\n",
    "\n",
    "2.) Only two exclusive outcomes are possible for each trial (A success and a failure) e.g fliiping a coin\n",
    "\n",
    "3.) If the probability of a success is 'p' then the probability of failure is q=1-p\n",
    "\n",
    "4.) The trials are independent. eg your first coin flip cannot affect the 100th coin flip\n",
    "\n",
    "The formula for a Binomial Distribution Probability Mass Function turns out to be:\n",
    "    \n",
    "    Pr(X=k)=C(n,k)p**k(1-p)**n-k\n",
    "\n",
    "Where:\n",
    "\n",
    "    *n= number of trials,\n",
    "\n",
    "    *k=number of successes,\n",
    "\n",
    "    *p=probability of success,\n",
    "\n",
    "    *1-p=probability of failure (often written as q=1-p).\n",
    "\n",
    "This means that to get exactly 'k' successes in 'n' trials, we want exactly 'k' successes:\n",
    "\n",
    "       p**k\n",
    "       \n",
    "and we want 'n-k' failures:\n",
    "\n",
    "       (1-p)**n-k\n",
    "       \n",
    "Then finally, there are\n",
    "\n",
    "       C(n,k)\n",
    "       \n",
    "ways of putting 'k' successes in 'n' trials. So we multiply all these together to get the probability of exactly that many success and failures in those n trials!"
   ]
  },
  {
   "cell_type": "markdown",
   "id": "aca5893c",
   "metadata": {},
   "source": [
    "Quick note, C(n,k) refers to the number of possible combinations of N things taken k at a time.\n",
    "\n",
    "This is also equal to:\n",
    " \n",
    "        C(n,k)=n!/k!(n-k)\n",
    "**So let's try out the example problem!**"
   ]
  },
  {
   "cell_type": "code",
   "execution_count": 22,
   "id": "952145eb",
   "metadata": {},
   "outputs": [
    {
     "ename": "ImportError",
     "evalue": "cannot import name 'comb' from 'scipy.misc' (/Users/bad_billipino/opt/anaconda3/lib/python3.9/site-packages/scipy/misc/__init__.py)",
     "output_type": "error",
     "traceback": [
      "\u001b[0;31m---------------------------------------------------------------------------\u001b[0m",
      "\u001b[0;31mImportError\u001b[0m                               Traceback (most recent call last)",
      "Input \u001b[0;32mIn [22]\u001b[0m, in \u001b[0;36m<cell line: 13>\u001b[0;34m()\u001b[0m\n\u001b[1;32m     11\u001b[0m \u001b[38;5;66;03m# Now import scipy for combination\u001b[39;00m\n\u001b[1;32m     12\u001b[0m \u001b[38;5;28;01mimport\u001b[39;00m \u001b[38;5;21;01mscipy\u001b[39;00m\u001b[38;5;21;01m.\u001b[39;00m\u001b[38;5;21;01mmisc\u001b[39;00m \u001b[38;5;28;01mas\u001b[39;00m \u001b[38;5;21;01msc\u001b[39;00m\n\u001b[0;32m---> 13\u001b[0m \u001b[38;5;28;01mfrom\u001b[39;00m \u001b[38;5;21;01mscipy\u001b[39;00m\u001b[38;5;21;01m.\u001b[39;00m\u001b[38;5;21;01mmisc\u001b[39;00m \u001b[38;5;28;01mimport\u001b[39;00m comb\n\u001b[1;32m     15\u001b[0m \u001b[38;5;66;03m# Set up C(n,k)\u001b[39;00m\n\u001b[1;32m     16\u001b[0m comb_A \u001b[38;5;241m=\u001b[39m sc\u001b[38;5;241m.\u001b[39mcomb(n_A,k)\n",
      "\u001b[0;31mImportError\u001b[0m: cannot import name 'comb' from 'scipy.misc' (/Users/bad_billipino/opt/anaconda3/lib/python3.9/site-packages/scipy/misc/__init__.py)"
     ]
    }
   ],
   "source": [
    "# Set up player A\n",
    "\n",
    "# Probability of success for A\n",
    "player_A = .72\n",
    "# Number of shots for A\n",
    "n_A = 11\n",
    "\n",
    "# Make 6 shots\n",
    "k = 6\n",
    "\n",
    "# Now import scipy for combination\n",
    "import scipy.misc as sc\n",
    "from scipy.misc import comb\n",
    "\n",
    "# Set up C(n,k)\n",
    "comb_A = sc.comb(n_A,k)\n",
    "\n",
    "# Now put it together to get the probability!\n",
    "answer_A = comb_A * (player_A**k) * ((1-player_A)**(n_A-k))\n",
    "\n",
    "# Put the answer in percentage form!\n",
    "answer_A = 100*answer_A\n",
    "\n",
    "\n",
    "# Quickly repeat all steps for Player B\n",
    "p_B = .48\n",
    "n_B = 15\n",
    "comb_B = sc.comb(n_B,k)\n",
    "answer_B = 100 * comb_B * (p_B**k) * ((1-p_B)**(n_B-k))\n",
    "\n",
    "\n",
    "#Print Answers\n",
    "print(' The probability of player A making 6 shots in an average game is %1.1f%% ' %answer_A)\n",
    "print( ' \\n')\n",
    "print( ' The probability of player B making 6 shots in an average game is %1.1f%% ' %answer_B)\n"
   ]
  },
  {
   "cell_type": "markdown",
   "id": "8ee28fce",
   "metadata": {},
   "source": [
    "So now we know that even though player B is technically a worse shooter, because she takes more shots she will have a higher chance of making 6 shots in an average game!\n",
    "\n",
    "But wait a minute... what about a higher amount of shots, will player's A higher probability take a stronger effect then? What's the probability of making 9 shots a game for either player?"
   ]
  },
  {
   "cell_type": "code",
   "execution_count": null,
   "id": "7f982ecb",
   "metadata": {},
   "outputs": [],
   "source": [
    "#Let's find out!\n",
    "\n",
    "#Set number of shots\n",
    "k = 9\n",
    "\n",
    "#Set new combinations\n",
    "comb_A = sc.comb(n_A,k)\n",
    "comb_B = sc.comb(n_B,k)\n",
    "\n",
    "# Everything else remains the same\n",
    "answer_A = 100 * comb_A * (p_A**k) * ((1-p_A)**(n_A-k))\n",
    "answer_B = 100 * comb_B * (p_B**k) * ((1-p_B)**(n_B-k))\n",
    "\n",
    "#Print Answers\n",
    "print(' \\n')\n",
    "print( ' The probability of player A making 9 shots in an average game is %1.1f%% ' %answer_A)\n",
    "print( '\\n')\n",
    "print(' The probability of player B making 9 shots in an average game is %1.1f%% ' %answer_B)\n",
    "print( '\\n')"
   ]
  },
  {
   "cell_type": "markdown",
   "id": "43e3febf",
   "metadata": {},
   "source": [
    "Now we see that player's A ability level gives better odds of making exactly 9 shots. We need to keep in mind that we are asking about the probability of making exactly those amount of shots. This is a different question than \" What's the probability that player A makes at least 9 shots?\".\n",
    "\n"
   ]
  },
  {
   "cell_type": "markdown",
   "id": "0b41041c",
   "metadata": {},
   "source": [
    "### Now let's investigate the mean and standard deviation for the binomial distribution\n",
    "The mean of a binomial distribution is simply:\n",
    "\n",
    "    mean = n*p\n",
    "\n",
    "This intuitively makes sense, the average number of successes should be the total trials multiplied by your average success rate.\n",
    "\n",
    "Similarly we can see that the standard deviation of a binomial is:\n",
    "\n",
    "    standard deviation = math.sqrt(n*q*p)\n",
    "So now we can ask, whats the average number of shots each player will make in a game +/- a standard distribution?"
   ]
  },
  {
   "cell_type": "code",
   "execution_count": 21,
   "id": "0589255f",
   "metadata": {},
   "outputs": [
    {
     "ename": "NameError",
     "evalue": "name 'n_B' is not defined",
     "output_type": "error",
     "traceback": [
      "\u001b[0;31m---------------------------------------------------------------------------\u001b[0m",
      "\u001b[0;31mNameError\u001b[0m                                 Traceback (most recent call last)",
      "Input \u001b[0;32mIn [21]\u001b[0m, in \u001b[0;36m<cell line: 5>\u001b[0;34m()\u001b[0m\n\u001b[1;32m      1\u001b[0m \u001b[38;5;66;03m# Let's go ahead and plug in to the formulas.\u001b[39;00m\n\u001b[1;32m      2\u001b[0m \n\u001b[1;32m      3\u001b[0m \u001b[38;5;66;03m# Get the mean\u001b[39;00m\n\u001b[1;32m      4\u001b[0m mu_A \u001b[38;5;241m=\u001b[39m n_A \u001b[38;5;241m*\u001b[39mplayer_A\n\u001b[0;32m----> 5\u001b[0m mu_B \u001b[38;5;241m=\u001b[39m \u001b[43mn_B\u001b[49m \u001b[38;5;241m*\u001b[39mp_B\n\u001b[1;32m      7\u001b[0m \u001b[38;5;66;03m#Get the standard deviation\u001b[39;00m\n\u001b[1;32m      8\u001b[0m sigma_A \u001b[38;5;241m=\u001b[39m ( n_A \u001b[38;5;241m*\u001b[39mplayer_A\u001b[38;5;241m*\u001b[39m(\u001b[38;5;241m1\u001b[39m\u001b[38;5;241m-\u001b[39mplayer_A) )\u001b[38;5;241m*\u001b[39m\u001b[38;5;241m*\u001b[39m\u001b[38;5;241m0.5\u001b[39m\n",
      "\u001b[0;31mNameError\u001b[0m: name 'n_B' is not defined"
     ]
    }
   ],
   "source": [
    "# Let's go ahead and plug in to the formulas.\n",
    "\n",
    "# Get the mean\n",
    "mu_A = n_A *player_A\n",
    "mu_B = n_B *p_B\n",
    "\n",
    "#Get the standard deviation\n",
    "sigma_A = ( n_A *player_A*(1-player_A) )**0.5\n",
    "sigma_B = ( n_B *p_B*(1-p_B) )**0.5\n",
    "\n",
    "# Now print results\n",
    "print('\\n')\n",
    "print('Player A will make an average of %1.0f +/- %1.0f shots per game' %(mu_A,sigma_A))\n",
    "print( '\\n')\n",
    "print('Player B will make an average of %1.0f +/- %1.0f shots per game' %(mu_B,sigma_B))\n",
    "print('\\n')\n",
    "print( \"NOTE: It's impossible to make a decimal of a shot so '%1.0f' was used to replace the float!\")\n",
    "\n"
   ]
  },
  {
   "cell_type": "code",
   "execution_count": 20,
   "id": "fecb0c26",
   "metadata": {},
   "outputs": [
    {
     "name": "stdout",
     "output_type": "stream",
     "text": [
      "7.92\n",
      "1.4891608375189027\n"
     ]
    }
   ],
   "source": [
    "##Let's see how to automatically make a binomial distribution.\n",
    "\n",
    "from scipy.stats import binom\n",
    "\n",
    "# We can get stats: Mean('m'), variance('v'), skew('s'), and/or kurtosis('k')\n",
    "mean,var= binom.stats(n_A,player_A)\n",
    "\n",
    "print(mean)\n",
    "print(var**0.5)"
   ]
  },
  {
   "cell_type": "markdown",
   "id": "a07477a2",
   "metadata": {},
   "source": [
    "Looks like it matches up with our manual methods. Note: we did not round in this case."
   ]
  },
  {
   "cell_type": "markdown",
   "id": "ed74ca8d",
   "metadata": {},
   "source": [
    "We can also get the probability mass function:\n",
    "Let's try another example to see the full PMF (Probability Mass Function) and plotting it.\n",
    "\n",
    "Imagine you flip a fair coin. Your probability of getting a heads is p=0.5 (success in this example).\n",
    "\n",
    "So what does your probability mass function look like for 10 coin flips?"
   ]
  },
  {
   "cell_type": "code",
   "execution_count": null,
   "id": "83f7eed1",
   "metadata": {},
   "outputs": [],
   "source": [
    "import numpy as np\n",
    "\n",
    "# Set up a new example, let's say n= 10 coin flips and p=0.5 for a fair coin.\n",
    "n=10\n",
    "p=0.5\n",
    "\n",
    "# Set up n success, remember indexing starts at 0, so use n+1\n",
    "x = range(n+1)\n",
    "\n",
    "# Now create the probability mass function\n",
    "Y = binom.pmf(x,n,p)\n",
    "\n",
    "#Show\n",
    "Y\n",
    "\n",
    "# Next we'll visualize the pmf by plotting it.\n"
   ]
  },
  {
   "cell_type": "code",
   "execution_count": null,
   "id": "c9a89ab1",
   "metadata": {},
   "outputs": [],
   "source": [
    "##Finally, let's plot the binomial distribution to get the full picture.\n",
    "\n",
    "import matplotlib.pyplot as plt\n",
    "\n",
    "# For simple plots, matplotlib is fine, seaborn is unnecessary.\n",
    "\n",
    "# Now simply use plot\n",
    "plt.plot(x,Y,'o')\n",
    "\n",
    "#Title (use y=1.08 to raise the long title a little more above the plot)\n",
    "plt.title('Binomial Distribution PMF: 10 coin Flips, Odds of Success for Heads is p=0.5',y=1.08)\n",
    "\n",
    "#Axis Titles\n",
    "plt.xlabel('Number of Heads')\n",
    "plt.ylabel('Probability')\n"
   ]
  },
  {
   "cell_type": "markdown",
   "id": "bbfc9dd2",
   "metadata": {},
   "source": [
    "That's it for the review on Binomial Distributions. More info can be found at the following sources:\n",
    "\n",
    "1.) http://en.wikipedia.org/wiki/Binomial_distribution\n",
    "\n",
    "2.) http://stattrek.com/probability-distributions/binomial.aspx\n",
    "\n",
    "3.) http://mathworld.wolfram.com/BinomialDistribution.html\n",
    "\n",
    "Thanks!"
   ]
  },
  {
   "cell_type": "markdown",
   "id": "59dee8e7",
   "metadata": {},
   "source": [
    "### Let's learn about the Poisson Distribution!\n",
    "Note: I suggest you learn about the binomial distribution first.\n",
    "\n",
    "A poisson distribution focuses on the number of discrete events or occurrences over a specified interval or continuum (e.g. time,length,distance,etc.). We'll look at the formal definition, get a break down of what that actually means, see an example and then look at the other characteristics such as mean and standard deviation.\n",
    "\n",
    "Formal Definition: A discrete random variable X has a Poisson distribution with parameter λ if for k=0,1,2.., the probability mass function of X is given by:\n",
    "\n",
    "    Pr(X=k)= (λ**ke**-λ)/k!\n",
    "\n",
    " \n",
    "where e is Euler's number (e=2.718...) and k! is the factorial of k.\n",
    "\n",
    "The Poisson Distribution has the following characteristics:\n",
    "\n",
    "1.) Discrete outcomes (x=0,1,2,3...)\n",
    "\n",
    "2.) The number of occurrences can range from zero to infinity (theoretically). \n",
    "\n",
    "3.) It describes the distribution of infrequent (rare) events.\n",
    "\n",
    "4.) Each event is independent of the other events.\n",
    "\n",
    "5.) Describes discrete events over an interval such as a time or distance.\n",
    "\n",
    "6.) The expected number of occurrences E(X) are assumed to be constant throughout the experiment.\n",
    "\n",
    "So what would an example question look like?\n",
    "\n",
    "Let's say a McDonald's has a lunch rush from 12:30pm to 1:00pm. From looking at customer sales from previous days, we know that on average 10 customers enter during 12:30pm to 1:00pm. What is the probability that exactly 7 customers enter during lunch rush? What is the probability that more than 10 customers arrive?\n",
    "\n",
    "Let's begin by thinking about how many customers we expect to come into McDonald's during lunch rush. Well we were actually already given that information, it's 10. This means that the mean is 10, then our expected value E(X)=10. In the Poisson distribution this is λ. So the mean = λ for a Poisson Distribution, it is the expected number of occurences over the specfied interval.\n",
    "\n",
    "So since we now know what λ is, we can plug the information into the probability mass function and get an answer, let's use python and see how this works. Let's start off by answering the first question:\n",
    "\n",
    "What is the probability that exactly 7 customers enter during lunch rush?"
   ]
  },
  {
   "cell_type": "code",
   "execution_count": 23,
   "id": "3e9e97d4",
   "metadata": {},
   "outputs": [
    {
     "name": "stdout",
     "output_type": "stream",
     "text": [
      " There is a 9.01 % chance that exactly 7 customers show up at the lunch rush\n"
     ]
    }
   ],
   "source": [
    "# Note do not use lambda as an object name in python! It is already used for special lambda functions in Python!!\n",
    "\n",
    "# Set lambda (λ)ie mean\n",
    "lamb = 10\n",
    "\n",
    "# Set k to the number of occurences\n",
    "k=7\n",
    "\n",
    "#Set up e and factorial math statements\n",
    "from math import exp\n",
    "from math import factorial\n",
    "from __future__ import division\n",
    "\n",
    "# Now put the probability mass function\n",
    "prob = (lamb**k)*exp(-lamb)/factorial(k)\n",
    "\n",
    "# Put into percentage form and print answer\n",
    "print(' There is a %2.2f %% chance that exactly 7 customers show up at the lunch rush' %(100*prob))\n"
   ]
  },
  {
   "cell_type": "markdown",
   "id": "999fbaed",
   "metadata": {},
   "source": [
    "Now that we've seen how to create the PMF manually, let's see how to do it automatically with scipy."
   ]
  },
  {
   "cell_type": "code",
   "execution_count": 28,
   "id": "26c80322",
   "metadata": {},
   "outputs": [
    {
     "name": "stdout",
     "output_type": "stream",
     "text": [
      "There is a 9.01 % chance that exactly 7 customers show up at the lunch rush\n",
      "The mean is 10.00 \n"
     ]
    }
   ],
   "source": [
    "# Import the dsitrubtion from scipy.stats\n",
    "from scipy.stats import poisson\n",
    "\n",
    "# Set our mean = 10 customers for the lunch rush\n",
    "mu = 10\n",
    "\n",
    "# Then we can get the mean and variance\n",
    "mean,var = poisson.stats(mu)\n",
    "\n",
    "# We can also calculate the PMF at specific points, such as the odds of exactly 7 customers\n",
    "odds_seven = poisson.pmf(7,mu)\n",
    "\n",
    "#Print\n",
    "print('There is a %2.2f %% chance that exactly 7 customers show up at the lunch rush' %(100*odds_seven))\n",
    "\n",
    "# Print the mean\n",
    "print('The mean is %2.2f ' %mean)\n"
   ]
  },
  {
   "cell_type": "markdown",
   "id": "97420044",
   "metadata": {},
   "source": [
    "Awesome! Our manual results match up with scipy's built in stats distribution generator!\n",
    "\n",
    "Now what if we wanted to see the entire distribution? We'll need this information to answer the second question."
   ]
  },
  {
   "cell_type": "code",
   "execution_count": 29,
   "id": "fe36d282",
   "metadata": {},
   "outputs": [],
   "source": [
    "\n",
    "# Now let's get the PMF and plot it\n",
    "\n",
    "# First the PMF\n",
    "import numpy as np\n",
    "\n",
    "# Let's see the PMF for all the way to 30 customers, remeber theoretically an infinite number of customers could show up.\n",
    "k=np.arange(30)\n",
    "\n",
    "# Average of 10 customers for the time interval\n",
    "lamb = 10\n",
    "\n",
    "#The PMF we'll use to plot\n",
    "pmf_pois = poisson.pmf(k,lamb)\n"
   ]
  },
  {
   "cell_type": "code",
   "execution_count": 31,
   "id": "73986927",
   "metadata": {},
   "outputs": [
    {
     "data": {
      "image/png": "[encoded data removed]",
      "text/plain": [
       "<Figure size 432x288 with 1 Axes>"
      ]
     },
     "metadata": {
      "needs_background": "light"
     },
     "output_type": "display_data"
    }
   ],
   "source": [
    "\n",
    "# We can now plot it simply by\n",
    "import matplotlib.pyplot as plt\n",
    "import seaborn as sns\n",
    "%matplotlib inline\n",
    "\n",
    "#Simply call a barplot\n",
    "plt.bar(k,pmf_pois);"
   ]
  },
  {
   "cell_type": "markdown",
   "id": "a9659032",
   "metadata": {},
   "source": [
    "For the question: What is the probability that more than 10 customers arrive? We need to sum up the value of every bar past 10 the 10 customers bar.\n",
    "\n",
    "We can do this by using a Cumulative Distribution Function (CDF). This describes the probability that a random variable X with a given probability distribution (such as the Poisson in this current case) will be found to have a value less than or equal to X.\n",
    "\n",
    "What this means is if we use the CDF to calcualte the probability of 10 or less customers showing up we can take that probability and subtract it from the total probability space, which is just 1 (the sum of all the probabilities for every number of customers)."
   ]
  },
  {
   "cell_type": "code",
   "execution_count": 32,
   "id": "f9c805f6",
   "metadata": {},
   "outputs": [
    {
     "name": "stdout",
     "output_type": "stream",
     "text": [
      "The probability that 10 or less customers show up is 58.3 %.\n"
     ]
    }
   ],
   "source": [
    "# scipy has a built in cdf we can use\n",
    "\n",
    "# Set out k = 10 for ten customers, set mean = 10 for the average of ten customers during lunch rush.\n",
    "k,mu = 10,10\n",
    "\n",
    "# The probability that 10 or less customers show up is:\n",
    "prob_up_to_ten = poisson.cdf(k,mu)\n",
    "\n",
    "#print\n",
    "print('The probability that 10 or less customers show up is %2.1f %%.' %(100*prob_up_to_ten))\n",
    "\n",
    "\n",
    "     "
   ]
  },
  {
   "cell_type": "markdown",
   "id": "1a8fe2cb",
   "metadata": {},
   "source": [
    "Now we can answer the question for more than 10 customers. It will be the remaining probability space"
   ]
  },
  {
   "cell_type": "code",
   "execution_count": 33,
   "id": "e29a0492",
   "metadata": {},
   "outputs": [
    {
     "name": "stdout",
     "output_type": "stream",
     "text": [
      "The probability that more than ten customers show up during lunch rush is 41.7 %.\n"
     ]
    }
   ],
   "source": [
    "# Sorry for the long object names, but hopefully this makes the thought process very clear\n",
    "prob_more_than_ten = 1 - prob_up_to_ten\n",
    "\n",
    "print('The probability that more than ten customers show up during lunch rush is %2.1f %%.' %(100*prob_more_than_ten))\n"
   ]
  },
  {
   "cell_type": "markdown",
   "id": "a4cc2a08",
   "metadata": {},
   "source": [
    "That's it for the basics of the poisson distribution! More free info can be found at these sources:\n",
    "\n",
    "1.)http://en.wikipedia.org/wiki/Poisson_distribution#Definition\n",
    "\n",
    "2.)http://stattrek.com/probability-distributions/poisson.aspx\n",
    "\n",
    "3.)http://docs.scipy.org/doc/scipy/reference/generated/scipy.stats.poisson.html\n",
    "\n"
   ]
  },
  {
   "cell_type": "markdown",
   "id": "c7f1a0f2",
   "metadata": {},
   "source": [
    "### Let's learn the normal distribution! Note: You should check out the binomial distribution first.\n",
    "We'll start with the definition of the PDF, we'll see how to create the distribution in python using scipy and numpy, and discuss some properties of the normal distribution.\n",
    "\n",
    "The distribution is defined by the probability density function equation:\n",
    "\n",
    "     f(x,μ,σ) = 1/σ math.sqrt(2π)**e**(-1/2z**2)\n",
    " \n",
    "Where:\n",
    " \n",
    "     z=(X-μ)/σ\n",
    "\n",
    "where: μ=mean , σ=standard deviation , π=3.14... , e=2.718... The total area bounded by curve of the probability density function equation and the X axis is 1; thus the area under the curve between two ordinates X=a and X=b, where a"
   ]
  },
  {
   "cell_type": "markdown",
   "id": "dd7a8ff0",
   "metadata": {},
   "source": [
    "Let's look at the curve. The normal distribution has several characteristics:\n",
    "\n",
    "1.) It has a lower tail (on the left) and an upper tail (on the right)\n",
    "\n",
    "2.) The curve is symmetric (for the theoretical distribution)\n",
    "\n",
    "3.) The peak occurs at the mean.\n",
    "\n",
    "4.) The standard deviation gives the curve a different shape:\n",
    "    -Narrow and tall for a smaller standard deviation.\n",
    "    -Shallower and fatter for a larger standard deviation.\n",
    "    \n",
    "5.) The area under the curve is equal to 1 (the total probaility space)\n",
    "\n",
    "6.) The mean=median=mode.\n",
    "\n",
    "For the normal distribution, we can see what percentage of values lie between +/- a standard deviation. 68% of the values lie within 1 TSD, 95% between 2 STDs, and 99.7% between 3 STDs. The number of standard deviations is also called the z-score, which we saw above in the PDF."
   ]
  },
  {
   "cell_type": "code",
   "execution_count": 34,
   "id": "1203bbf7",
   "metadata": {},
   "outputs": [
    {
     "data": {
      "text/html": [
       "<img src=\"http://upload.wikimedia.org/wikipedia/commons/thumb/2/25/The_Normal_Distribution.svg/725px-The_Normal_Distribution.svg.png\"/>"
      ],
      "text/plain": [
       "<IPython.core.display.Image object>"
      ]
     },
     "execution_count": 34,
     "metadata": {},
     "output_type": "execute_result"
    }
   ],
   "source": [
    "from IPython.display import Image\n",
    "Image(url='http://upload.wikimedia.org/wikipedia/commons/thumb/2/25/The_Normal_Distribution.svg/725px-The_Normal_Distribution.svg.png')\n"
   ]
  },
  {
   "cell_type": "code",
   "execution_count": 35,
   "id": "94922a42",
   "metadata": {},
   "outputs": [
    {
     "data": {
      "text/plain": [
       "[<matplotlib.lines.Line2D at 0x7fcd347adb50>]"
      ]
     },
     "execution_count": 35,
     "metadata": {},
     "output_type": "execute_result"
    },
    {
     "data": {
      "image/png": "[encoded data removed]",
      "text/plain": [
       "<Figure size 432x288 with 1 Axes>"
      ]
     },
     "metadata": {
      "needs_background": "light"
     },
     "output_type": "display_data"
    }
   ],
   "source": [
    "##Now let's learn how to use scipy to create a normal distribution\n",
    "\n",
    "\n",
    "#Import\n",
    "import matplotlib as mpl\n",
    "import matplotlib.pyplot as plt\n",
    "%matplotlib inline\n",
    "\n",
    "#Import the stats library\n",
    "from scipy import stats\n",
    "\n",
    "# Set the mean\n",
    "mean = 0\n",
    "\n",
    "#Set the standard deviation\n",
    "std = 1\n",
    "\n",
    "\n",
    "# Create a range\n",
    "X = np.arange(-4,4,0.01)\n",
    "\n",
    "#Create the normal distribution for the range\n",
    "Y = stats.norm.pdf(X,mean,std)\n",
    "\n",
    "#\n",
    "plt.plot(X,Y)\n"
   ]
  },
  {
   "cell_type": "code",
   "execution_count": 36,
   "id": "1afd50de",
   "metadata": {},
   "outputs": [],
   "source": [
    "##Now let's learn how to use numpy to create the normal distribution.\n",
    "\n",
    "\n",
    "import numpy as np\n",
    "\n",
    "#Set the mean and the standard deviaiton\n",
    "mu,sigma = 0,0.1\n",
    "\n",
    "# Now grab 1000 random numbers from the normal distribution\n",
    "norm_set = np.random.normal(mu,sigma,1000)\n",
    "\n",
    "\n",
    "     "
   ]
  },
  {
   "cell_type": "code",
   "execution_count": 38,
   "id": "2a0ca015",
   "metadata": {},
   "outputs": [
    {
     "data": {
      "text/plain": [
       "(array([ 1.,  0.,  0.,  0.,  0.,  0.,  2.,  2.,  2.,  6.,  8.,  8., 11.,\n",
       "        18., 22., 27., 34., 40., 50., 48., 54., 71., 68., 66., 77., 67.,\n",
       "        64., 51., 37., 37., 41., 19., 18., 15.,  8.,  7.,  5.,  8.,  3.,\n",
       "         1.,  0.,  3.,  0.,  0.,  0.,  0.,  0.,  0.,  0.,  1.]),\n",
       " array([-0.39236677, -0.37534691, -0.35832706, -0.3413072 , -0.32428735,\n",
       "        -0.30726749, -0.29024763, -0.27322778, -0.25620792, -0.23918807,\n",
       "        -0.22216821, -0.20514836, -0.1881285 , -0.17110865, -0.15408879,\n",
       "        -0.13706893, -0.12004908, -0.10302922, -0.08600937, -0.06898951,\n",
       "        -0.05196966, -0.0349498 , -0.01792995, -0.00091009,  0.01610977,\n",
       "         0.03312962,  0.05014948,  0.06716933,  0.08418919,  0.10120904,\n",
       "         0.1182289 ,  0.13524875,  0.15226861,  0.16928847,  0.18630832,\n",
       "         0.20332818,  0.22034803,  0.23736789,  0.25438774,  0.2714076 ,\n",
       "         0.28842745,  0.30544731,  0.32246717,  0.33948702,  0.35650688,\n",
       "         0.37352673,  0.39054659,  0.40756644,  0.4245863 ,  0.44160615,\n",
       "         0.45862601]),\n",
       " <BarContainer object of 50 artists>)"
      ]
     },
     "execution_count": 38,
     "metadata": {},
     "output_type": "execute_result"
    },
    {
     "data": {
      "image/png": "[encoded data removed]",
      "text/plain": [
       "<Figure size 432x288 with 1 Axes>"
      ]
     },
     "metadata": {
      "needs_background": "light"
     },
     "output_type": "display_data"
    }
   ],
   "source": [
    "\n",
    "#Now let's plot it using seaborn\n",
    "\n",
    "import seaborn as sns\n",
    "\n",
    "plt.hist(norm_set,bins=50, edgecolor='black')\n"
   ]
  },
  {
   "cell_type": "markdown",
   "id": "bc341ae6",
   "metadata": {},
   "source": [
    "There's a ton on information to go over for the normal distribution, this notebook should just serve as a very mild introduction, for more info check out the following sources:\n",
    "\n",
    "1.) http://en.wikipedia.org/wiki/Normal_distribution\n",
    "\n",
    "2.) http://mathworld.wolfram.com/NormalDistribution.html\n",
    "\n",
    "3.) http://stattrek.com/probability-distributions/normal.aspx\n",
    "\n",
    "Thanks!"
   ]
  },
  {
   "cell_type": "markdown",
   "id": "5c21b9c6",
   "metadata": {},
   "source": [
    "### Let's learn about sampling theory!\n",
    "\n",
    "Sampling Theory is a study of relationships exisiting between a population and the samples drawn from the population. For instance, the population may be the entire population of the United States, while the sample may be 1000 people you polled for a survey.\n",
    "\n",
    "There are a ton of important questions we want to ask pertaining to sampling theory, such as whether the observed difference between two samples are due to chance variation or if they are statistically significant. These are sometimes known as tests of significance. We'll talk about them later in another iPython notebook.\n",
    "\n",
    "Random Samples and Numbers\n",
    "Samples must be chosen so that they are representative of a population. One method of doing this is by selecting using random sampling. This methods means that every member of the population has an euqal chance of being selected. There's lots of ways to create a \"random\" sampling method, it can be as simple as picking names from a hat, or using pseudorandom number generators such as a Mersenne Twister (the default PRNG for python).\n",
    "\n",
    "Learn more about it at: https://docs.python.org/2/library/random.html\n",
    "\n",
    "Sampling with and without Replacement\n",
    "Drawing samples without replacement from a finite source of samples is considered a finite sampling. Drawing samples from a finite source with replacement can be considered infinite. Such as tossing a coin N number of times, while there are only two possibile outcomes, there is an infinite possibility of any series of heads or tails as N goes to infinity.\n",
    "\n",
    "Sampling Distribution of Means\n",
    "If you draw N samples from a finite population of Np samples where Np>N then the mean and the std are denoted as the following:\n",
    "\n",
    "The mean:\n",
    "\n",
    "        μx = μ\n",
    "\n",
    "The standard deviation:\n",
    " \n",
    "         σx = σ/math.sqrt(N)math.sqrt(Np - N)/math.sqrt(Np - N)\n",
    " \n",
    "\n",
    "This means that we can relate our mean and std from out sample to the total sample population.\n",
    "\n",
    "Sampling Distribution of Proportions\n",
    "If the population is infinite and the probability of succes is denoted as p and probability of failure is q=1-p (just like in a binomial distirbution, like a coin flip). The sampling distribution of proportions then has a mean and standard deviation notes as the following:\n",
    "\n",
    "The mean:\n",
    "\n",
    "         μp = p\n",
    "\n",
    "The standard deviation:\n",
    "\n",
    "        σp = math.sqrt(pq)/math.sqrt(N) = math.sqrt(p(1-p)/N)\n",
    " \n"
   ]
  },
  {
   "cell_type": "markdown",
   "id": "2b8ba9ef",
   "metadata": {},
   "source": [
    "Sampling Distribution of Differences and Sums\n",
    "If you are given two sample populations N1 and N2 both of which are normally distributed, we can obtain the mean and standard deviation of the sampling distribution of diffrences or sums of the statistics. If S1 is a statistics of N1 and S2 a statistic of N2 we can obtain the mean and standard deviation as follows:\n",
    "\n",
    "For the differences of the statistics :\n",
    "\n",
    "The mean is:\n",
    "\n",
    "        μs1- s2 = μs1 - μs2\n",
    "The standard deviation is:\n",
    "\n",
    "        σs1-s2 = math.sqrt(σ**2s1 + σ**2s2)\n",
    "For the sum of the statistics :\n",
    "\n",
    "The mean is:\n",
    "\n",
    "        μs1- s2 = μs1 + μs2\n",
    "The standard deviation is:\n",
    "\n",
    "        σs1-s2 = math.sqrt(σ**2s1 + σ**2s2)\n"
   ]
  },
  {
   "cell_type": "markdown",
   "id": "a2729e66",
   "metadata": {},
   "source": [
    "Notice that the standard deviations are summed for both cases, but the means are not!\n",
    "\n",
    "This is just a quick intro to the topic of sampling theory, check out more here:\n",
    "\n",
    "1.) http://en.wikipedia.org/wiki/Sampling_distribution"
   ]
  },
  {
   "cell_type": "markdown",
   "id": "d5b250ee",
   "metadata": {},
   "source": [
    "### Let's learn the T-distribution! Note: Learn about the normal distribution first!\n",
    "For previous distributions the sample size was assumed large (N>30). For sample sizes that are less than 30, otherwise (N<30). Note: Sometimes the t-distribution is known as the student distribution.\n",
    "\n",
    "The t-distribution allows for use of small samples, but does so by sacrificing certainty with a margin-of-error trade-off. The t-distribution takes into account the sample size using n-1 degrees of freedom, which means there is a different t-distribution for every different sample size. If we see the t-distribution against a normal distribution, you'll notice the tail ends increase as the peak get 'squished' down.\n",
    "\n",
    "It's important to note, that as n gets larger, the t-distribution converges into a normal distribution.\n",
    "\n",
    "To further explain degrees of freedom and how it relates tothe t-distribution, you can think of degrees of freedom as an adjustment to the sample size, such as (n-1). This is connected to the idea that we are estimating something of a larger population, in practice it gives a slightly larger margin of error in the estimate.\n",
    "\n",
    "Let's define a new variable called t, where :\n",
    " \n",
    " \n",
    "which is analogous to the z statistic given by\n",
    " \n",
    " \n",
    "\n",
    "The sampling distribution for t can be obtained:\n",
    "\n",
    " \n",
    " \n",
    " \n",
    " \n",
    " \n",
    "Where the gamma function is:\n",
    "\n",
    "And v is the number of degrees of freedom, typically equal to N-1.\n",
    "\n",
    "Similar to a z-score table used with a normal distribution, a t-distribution uses a t-table. Knowing the degrees of freedom and the desired cumulative probability (e.g. P(T >= t) ) we can find the value of t. Here is an example of a lookup table for a t-distribution:\n",
    "\n",
    "http://www.sjsu.edu/faculty/gerstman/StatPrimer/t-table.pdf\n",
    "\n",
    "Now let's see how to get the t-distribution in Python using scipy!"
   ]
  },
  {
   "cell_type": "code",
   "execution_count": 39,
   "id": "bf62acdf",
   "metadata": {},
   "outputs": [
    {
     "data": {
      "text/plain": [
       "[<matplotlib.lines.Line2D at 0x7fcd34bc0f10>]"
      ]
     },
     "execution_count": 39,
     "metadata": {},
     "output_type": "execute_result"
    },
    {
     "data": {
      "image/png": "[encoded data removed]",
      "text/plain": [
       "<Figure size 432x288 with 1 Axes>"
      ]
     },
     "metadata": {
      "needs_background": "light"
     },
     "output_type": "display_data"
    }
   ],
   "source": [
    "#Import for plots\n",
    "import matplotlib.pyplot as plt\n",
    "%matplotlib inline\n",
    "\n",
    "#Import the stats library\n",
    "from scipy.stats import t\n",
    "\n",
    "#import numpy\n",
    "import numpy as np\n",
    "\n",
    "# Create x range\n",
    "x = np.linspace(-5,5,100)\n",
    "\n",
    "# Create the t distribution with scipy\n",
    "rv = t(3)\n",
    "\n",
    "# Plot the PDF versus the x range\n",
    "plt.plot(x, rv.pdf(x))\n",
    "\n"
   ]
  },
  {
   "cell_type": "markdown",
   "id": "8cf0b191",
   "metadata": {},
   "source": [
    "Additional resources can be found here:\n",
    "\n",
    "1.) http://en.wikipedia.org/wiki/Student%27s_t-distribution\n",
    "\n",
    "2.) http://mathworld.wolfram.com/Studentst-Distribution.html\n",
    "\n",
    "3.) http://stattrek.com/probability-distributions/t-distribution.aspx"
   ]
  },
  {
   "cell_type": "markdown",
   "id": "7097db61",
   "metadata": {},
   "source": [
    "Hypothesis Testing\n",
    "Hypothesis testing is the use of statistics to determine the probability that a given hypothesis is true.\n",
    "\n",
    "Hypothesis Testing can be broken into 10 basic steps.\n",
    "\n",
    "1.) Data Testing\n",
    "\n",
    "2.) Assumptions\n",
    "\n",
    "3.) Hypothesis\n",
    "\n",
    "4.) Test Statistic\n",
    "\n",
    "5.) Distribution of Test Statistic\n",
    "\n",
    "6.) Decision Rule\n",
    "\n",
    "7.) Calculation of Test Statistic\n",
    "\n",
    "8.) Statistical Decision\n",
    "\n",
    "9.) Conclusion\n",
    "\n",
    "10.) p-values\n",
    "\n",
    "It is important to note that the initial steps can be done in different orders or at the same time, specifically, I would suggest you come up with you research question first, before going out to do data testing. Moving along:\n",
    "\n",
    "Let's now break down these steps:\n",
    "\n",
    "**Step 1: Data Testing**\n",
    "This one is pretty simple, to do any sort of statistical testing, we'll need some data from a population.\n",
    "\n",
    "**Step 2: Assumptions**\n",
    "We will need to make some assumptions regarding our data, such as assuming the data is normally distributed, or what the Standard Deviation of the data is. Another example would be whether to use a T-Distribution or a Normal Distribution.\n",
    "\n",
    "**Step 3: Hypothesis**\n",
    "In our Hypothesis Testing, we will have two Hypothesis: The Null Hypothesis (denoted as Ho) and the Alternative Hypothesis (denoted as HA). The Null Hypothesis is the hypothesis we are looking to test against the alternative hypothesis. Let's get an example of what this looks like:\n",
    "\n",
    "Let's assume we have a data set regarding ages of customers to a restaurant. Let's say for this particular data set we want to try to prove that the mean of that sample population is not 30. So we set our null hypothesis as:\n",
    "\n",
    "        Ho: μ = 30\n",
    "        \n",
    "And our Alternative Hypothesis as:\n",
    "\n",
    "        Ho: μ != 30\n",
    "        \n",
    "We could have also set out Alternative Hypothesis to be that the mean is greater than 30 or another Alternative Hypothesis we could have proposed is the mean is less than 30. We will discuss these other options later when we go into one-tail versus two-tail tests.\n",
    "\n",
    "Continuing on with our steps:\n",
    "\n",
    "**Step 4: Test Statistic**\n",
    "Based on our assumptions, we'll choose a suitable test statistic. For example, if we believe to have a normal distribution with our data we would choose a z-score as our standard error:\n",
    "\n",
    "        z = (x - μo)/σ\\math.sqrt(n)\n",
    "        \n",
    "Or if we assume to have a t-distribution we would choose a t-score (estimated standard error):\n",
    "\n",
    "         t = (x - μo)/s\\math.sqrt(n)\n",
    " \n",
    "Then our test statistic is defined as:\n",
    "\n",
    "        Test Statistic = (Relevant statistic - Hypothesized         \n",
    "        Paraemeter)/ Standard Error of Relevant Statistic\n",
    "\n",
    "**Step 5: Distribution of Test Statistic**\n",
    "As discussed earlier, verify that whether your data should use a t or z distribution.\n",
    "\n",
    "**Step 6: Decision Rule**\n",
    "Considering the distribution, we need to establish a significance level, usually denoted as alpha, α. Alpha is the probability of having a Null Hypothesis that is true, but our data shows is wrong. So alpha is the probability of rejecting a true Null Hypothesis. By convention, alpha is usually equal to 0.05 or 5%. This means that 5% of the time, we will falsely reject a true null hypothesis, this is best explained through a picture."
   ]
  },
  {
   "cell_type": "code",
   "execution_count": 40,
   "id": "8316e8b9",
   "metadata": {},
   "outputs": [
    {
     "data": {
      "image/jpeg": "[encoded data removed]",
      "text/plain": [
       "<IPython.core.display.Image object>"
      ]
     },
     "execution_count": 40,
     "metadata": {
      "image/jpeg": {
       "height": 400,
       "width": 600
      }
     },
     "output_type": "execute_result"
    }
   ],
   "source": [
    "from IPython.display import Image\n",
    "url = 'http://images.flatworldknowledge.com/shafer/shafer-fig08_004.jpg'\n",
    "Image(url,height=400,width=600)\n"
   ]
  },
  {
   "cell_type": "markdown",
   "id": "0af17b46",
   "metadata": {},
   "source": [
    "The above image shows three types of tests. It shows 2 types of One-Tail Tests on top, and a Two-Tail Test on the bottom. You apply your significance level to a region depending on your Alternative Hypothesis (shown above each distribution).\n",
    "\n",
    "Let's look at the bottom two-tail test. With an alpha=0.05, then whenever we take a sample and get our test statistic (the t or z score) then we check where it falls in our distribution. If the Null Hypothesis is True, then 95% of the time it would land inbetween the α/2 markers. So if our test statistic lands inbetween the alpha markers (for a two tail test inbetween α/2, for a one tail test either below or above the α marker depending on the Alternative Hypothesis) we accept (or don't reject) the Null Hypothesis. If it landsoutside of this zone, we reject the Hypothesis.\n",
    "\n",
    "Now let's say we actually made a mistake, and rejected a Null Hypothesis that unknown to us was True, then we made what is called a Type I error. If we accepted a Null Hypothesis that was actually False, we've made a Type II error. Below is a handy chart depicting the error types."
   ]
  },
  {
   "cell_type": "code",
   "execution_count": 41,
   "id": "bee56344",
   "metadata": {},
   "outputs": [
    {
     "data": {
      "image/jpeg": "[encoded data removed]",
      "text/plain": [
       "<IPython.core.display.Image object>"
      ]
     },
     "execution_count": 41,
     "metadata": {
      "image/jpeg": {
       "height": 200,
       "width": 300
      }
     },
     "output_type": "execute_result"
    }
   ],
   "source": [
    "url='http://www.personal.ceu.hu/students/08/Olga_Etchevskaia/images/errors.jpg'\n",
    "Image(url,height=200,width=300)\n"
   ]
  },
  {
   "cell_type": "markdown",
   "id": "d1cc5543",
   "metadata": {},
   "source": [
    "**Step 7: Calculate the Test Statistic**\n",
    "Now that we understand our decision rule we can calculate our t or z score.\n",
    "\n",
    "**Step 8: Statistical Decision**\n",
    "We take what we understand from Step 6 and see where our test statistic from Step 7 lies.\n",
    "\n",
    "**Step 9: Conclusion**\n",
    "We check our statistical decision and conclude whether or not to reject the Null Hypothesis.\n",
    "\n",
    "**Step 10: Calculate a p-value**\n",
    "The P value is the estimated probability of rejecting the null hypothesis of a study question when that null hypothesis is actually true. In other words, the P-value may be considered the probability of finding the observed, or more extreme, results when the null hypothesis is true – the definition of ‘extreme’ depends on how the hypothesis is being tested.\n",
    "\n",
    "It is very important to note: Since the p-value is used in Frequentist inference (and not Bayesian inference), it does not in itself support reasoning about the probabilities of hypotheses, but only as a tool for deciding whether to reject the null hypothesis in favor of the alternative hypothesis.\n",
    "\n",
    "Let's now go over an example to go through all the steps!"
   ]
  },
  {
   "cell_type": "code",
   "execution_count": null,
   "id": "5ee5e538",
   "metadata": {},
   "outputs": [],
   "source": []
  },
  {
   "cell_type": "code",
   "execution_count": null,
   "id": "76cce132",
   "metadata": {},
   "outputs": [],
   "source": []
  },
  {
   "cell_type": "code",
   "execution_count": null,
   "id": "6cc38270",
   "metadata": {},
   "outputs": [],
   "source": []
  },
  {
   "cell_type": "code",
   "execution_count": null,
   "id": "bcb0a179",
   "metadata": {},
   "outputs": [],
   "source": []
  },
  {
   "cell_type": "code",
   "execution_count": null,
   "id": "b91dabb5",
   "metadata": {},
   "outputs": [],
   "source": []
  },
  {
   "cell_type": "code",
   "execution_count": null,
   "id": "189118e1",
   "metadata": {},
   "outputs": [],
   "source": []
  },
  {
   "cell_type": "code",
   "execution_count": null,
   "id": "1484451a",
   "metadata": {},
   "outputs": [],
   "source": []
  }
 ],
 "metadata": {
  "kernelspec": {
   "display_name": "Python 3 (ipykernel)",
   "language": "python",
   "name": "python3"
  },
  "language_info": {
   "codemirror_mode": {
    "name": "ipython",
    "version": 3
   },
   "file_extension": ".py",
   "mimetype": "text/x-python",
   "name": "python",
   "nbconvert_exporter": "python",
   "pygments_lexer": "ipython3",
   "version": "3.9.12"
  }
 },
 "nbformat": 4,
 "nbformat_minor": 5
}
