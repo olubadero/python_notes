{
 "cells": [
  {
   "cell_type": "code",
   "execution_count": null,
   "id": "ef9ac66d",
   "metadata": {},
   "outputs": [],
   "source": [
    "from bs4 import BeautifulSoup as BS\n",
    "import requests\n",
    "import re"
   ]
  },
  {
   "cell_type": "code",
   "execution_count": null,
   "id": "9d76e17e",
   "metadata": {},
   "outputs": [],
   "source": [
    "with open('index.html', 'r') as f:\n",
    "    doc = BS(f, 'html.parser')"
   ]
  },
  {
   "cell_type": "code",
   "execution_count": null,
   "id": "9a399f28",
   "metadata": {},
   "outputs": [],
   "source": [
    "print(doc.prettify())"
   ]
  },
  {
   "cell_type": "code",
   "execution_count": null,
   "id": "ebaebf48",
   "metadata": {},
   "outputs": [],
   "source": [
    "##To find/access tag name\n",
    "\n",
    "tag = doc.title\n",
    "\n",
    "print(tag) #it prints just the first tag\n",
    "print(tag.find('a')) #to access the first tag that contains 'a'\n",
    "print(tag.find_all('a')) #to acces all the tag that contains 'a'\n",
    "print(tag.string) #to print the string inside the tag\n",
    "print(tag.find_all('a')[1]) #to acces the tag inside tag 'a'\n",
    "\n",
    "tag.string ='hello' #to change what is inside the tag"
   ]
  },
  {
   "cell_type": "code",
   "execution_count": null,
   "id": "b6c66d65",
   "metadata": {},
   "outputs": [],
   "source": [
    "tag"
   ]
  },
  {
   "cell_type": "code",
   "execution_count": null,
   "id": "9599ff34",
   "metadata": {},
   "outputs": [],
   "source": [
    "url  = 'https://www.kijiji.ca/b-apartments-condos/ontario/for-rent/basement+apartment/page-2/k0c37l9004a29276001'\n",
    "result = requests.get(url)\n",
    "print(result.text)\n"
   ]
  },
  {
   "cell_type": "code",
   "execution_count": null,
   "id": "069203ff",
   "metadata": {},
   "outputs": [],
   "source": [
    "doc = BS(result.text, 'html.parser')\n",
    "print(doc.prettify())"
   ]
  },
  {
   "cell_type": "code",
   "execution_count": null,
   "id": "1a8186ed",
   "metadata": {},
   "outputs": [],
   "source": [
    "prices =doc.find_all(text = '$')\n",
    "print(prices)\n"
   ]
  },
  {
   "cell_type": "code",
   "execution_count": null,
   "id": "d6e85212",
   "metadata": {},
   "outputs": [],
   "source": [
    "##if you are not able to access the exact details you want then access the parent tag of the tag that contains the information you need\n",
    "\n",
    "parent = prices[0].parent\n",
    "print(parent)\n",
    "\n",
    "##to access the actual detail you need then access the strong tag within it\n",
    "strong =parent.find('strong')\n",
    "print(strong)\n",
    "\n",
    "## to retrieve the text within it\n",
    "print(strong.string)"
   ]
  },
  {
   "cell_type": "code",
   "execution_count": null,
   "id": "87b0665d",
   "metadata": {},
   "outputs": [],
   "source": [
    "search_term = input(\"What product do you want to search for? \")\n",
    "\n",
    "url = f\"https://www.newegg.ca/p/pl?d={search_term}&N=4131\"\n",
    "page = requests.get(url).text\n",
    "doc = BeautifulSoup(page, \"html.parser\")"
   ]
  },
  {
   "cell_type": "code",
   "execution_count": null,
   "id": "07f10d55",
   "metadata": {},
   "outputs": [],
   "source": [
    "page_text = doc.find(class_=\"list-tool-pagination-text\").strong\n",
    "pages = int(str(page_text).split(\"/\")[-2].split(\">\")[-1][:-1])\n",
    "\n",
    "items_found = {}"
   ]
  },
  {
   "cell_type": "code",
   "execution_count": null,
   "id": "6699e383",
   "metadata": {},
   "outputs": [],
   "source": [
    "\n",
    "\n",
    "for page in range(1, pages + 1):\n",
    "    url = f\"https://www.newegg.ca/p/pl?d={search_term}&N=4131&page={page}\"\n",
    "    page = requests.get(url).text\n",
    "    doc = BeautifulSoup(page, \"html.parser\")\n",
    "    \n",
    "    div = doc.find(class_=\"item-cells-wrap border-cells items-grid-view four-cells expulsion-one-cell\")\n",
    "    items = div.find_all(text=re.compile(search_term))\n",
    "\n",
    "    for item in items:\n",
    "        parent = item.parent\n",
    "        if parent.name != \"a\":\n",
    "            continue\n",
    "\n",
    "        link = parent['href']\n",
    "        next_parent = item.find_parent(class_=\"item-container\")\n",
    "        try:\n",
    "            price = next_parent.find(class_=\"price-current\").find(\"strong\").string\n",
    "            items_found[item] = {\"price\": int(price.replace(\",\", \"\")), \"link\": link}\n",
    "        except:\n",
    "            pass\n",
    "\n",
    "sorted_items = sorted(items_found.items(), key=lambda x: x[1]['price'])\n",
    "\n",
    "for item in sorted_items:\n",
    "    print(item[0])\n",
    "    print(f\"${item[1]['price']}\")\n",
    "    print(item[1]['link'])\n",
    "    print(\"-------------------------------\")\n"
   ]
  },
  {
   "cell_type": "code",
   "execution_count": null,
   "id": "bc6d2020",
   "metadata": {},
   "outputs": [],
   "source": []
  },
  {
   "cell_type": "code",
   "execution_count": null,
   "id": "d28b3894",
   "metadata": {},
   "outputs": [],
   "source": []
  },
  {
   "cell_type": "code",
   "execution_count": null,
   "id": "1ec266d6",
   "metadata": {},
   "outputs": [],
   "source": []
  }
 ],
 "metadata": {
  "kernelspec": {
   "display_name": "Python 3 (ipykernel)",
   "language": "python",
   "name": "python3"
  },
  "language_info": {
   "codemirror_mode": {
    "name": "ipython",
    "version": 3
   },
   "file_extension": ".py",
   "mimetype": "text/x-python",
   "name": "python",
   "nbconvert_exporter": "python",
   "pygments_lexer": "ipython3",
   "version": "3.11.5"
  }
 },
 "nbformat": 4,
 "nbformat_minor": 5
}
