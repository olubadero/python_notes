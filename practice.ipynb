{
 "cells": [
  {
   "cell_type": "code",
   "execution_count": 1,
   "id": "4a6e52ba",
   "metadata": {},
   "outputs": [
    {
     "name": "stdout",
     "output_type": "stream",
     "text": [
      "Hello Buki!\n"
     ]
    }
   ],
   "source": [
    "greeting = 'Hello'\n",
    "name = 'Buki'\n",
    "print(greeting + ' ' + name + '!')"
   ]
  },
  {
   "cell_type": "code",
   "execution_count": 2,
   "id": "fe2a66fb",
   "metadata": {},
   "outputs": [
    {
     "name": "stdout",
     "output_type": "stream",
     "text": [
      "Dad: Hello Son, How are you? \n",
      "Son: I'm fine dad. How was yours?\n"
     ]
    }
   ],
   "source": [
    "##multiple lines\n",
    "print('''Dad: Hello Son, How are you? \n",
    "Son: I\\'m fine dad. How was yours?''')"
   ]
  },
  {
   "cell_type": "code",
   "execution_count": 3,
   "id": "4e3aec2d",
   "metadata": {},
   "outputs": [
    {
     "name": "stdout",
     "output_type": "stream",
     "text": [
      "(1, 3, 4, 5)\n"
     ]
    },
    {
     "data": {
      "text/plain": [
       "tuple"
      ]
     },
     "execution_count": 3,
     "metadata": {},
     "output_type": "execute_result"
    }
   ],
   "source": [
    "##tuple data type\n",
    "al = 1, 3, 4, 5\n",
    "print(al)\n",
    "type(al)"
   ]
  },
  {
   "cell_type": "code",
   "execution_count": 4,
   "id": "54efeabd",
   "metadata": {
    "scrolled": true
   },
   "outputs": [
    {
     "name": "stdout",
     "output_type": "stream",
     "text": [
      "{'Name': ['Olu', 'jas', 'JOjo'], 'Age': [23, 22, 31]}\n"
     ]
    }
   ],
   "source": [
    "##dict data type\n",
    "pre = dict(Name = ['Olu', 'jas', 'JOjo'],\n",
    "            Age = [23, 22, 31])\n",
    "print(pre)"
   ]
  },
  {
   "cell_type": "code",
   "execution_count": 5,
   "id": "44c7a784",
   "metadata": {
    "scrolled": true
   },
   "outputs": [
    {
     "name": "stdout",
     "output_type": "stream",
     "text": [
      "[12, 34, 50, -2, 0, -4]\n",
      "[12, 34, 50, -2, 0, -4]\n",
      "-4\n",
      "50\n"
     ]
    }
   ],
   "source": [
    "## find min and max of lists\n",
    "ax = [12, 34, 50, -2, 0, -4]\n",
    "ay = [12, 34, 50, -2, 0, -4]\n",
    "print(ax)\n",
    "print(ay)\n",
    "print(min(ax))\n",
    "print(max(ay))"
   ]
  },
  {
   "cell_type": "code",
   "execution_count": 6,
   "id": "fd9ab024",
   "metadata": {},
   "outputs": [
    {
     "name": "stdout",
     "output_type": "stream",
     "text": [
      "4\n",
      "2\n",
      "[12, 34, 50, -2, 0, -4]\n"
     ]
    }
   ],
   "source": [
    "## return absoulte numbers \n",
    "print(abs(ax[5])) ## convert -4 to 4\n",
    "print(abs(ay[3])) ## convert -2 to 2\n",
    "print(ay)"
   ]
  },
  {
   "cell_type": "code",
   "execution_count": 7,
   "id": "cff88f68",
   "metadata": {},
   "outputs": [
    {
     "name": "stdout",
     "output_type": "stream",
     "text": [
      "-64\n"
     ]
    }
   ],
   "source": [
    "##raising to the power \n",
    "print(pow(ax[5], 3)) ## i.e -4 multiplied 3x\n"
   ]
  },
  {
   "cell_type": "code",
   "execution_count": 8,
   "id": "49e10213",
   "metadata": {},
   "outputs": [
    {
     "name": "stdout",
     "output_type": "stream",
     "text": [
      "5.0\n",
      "100.0\n",
      "16\n",
      "15\n"
     ]
    }
   ],
   "source": [
    "## find square root of a number\n",
    "import math\n",
    "sq = math.sqrt(25)\n",
    "qr = math.sqrt(10000)\n",
    "\n",
    "print(sq)\n",
    "print(qr)\n",
    "\n",
    "## round numbers up to the highest or down to the nearest number\n",
    "up = math.ceil(15.55)\n",
    "down = math.floor(15.55)\n",
    "\n",
    "print(up)\n",
    "print(down)"
   ]
  },
  {
   "cell_type": "code",
   "execution_count": 9,
   "id": "cffda47c",
   "metadata": {},
   "outputs": [
    {
     "data": {
      "text/plain": [
       "{'name': ['Olubukola Badero', 'Adedoyin Oladunni', 'Jasmine Oladunni'],\n",
       " 'religion': ['christian', 'christian', 'christian'],\n",
       " 'age': [34, 36, 5],\n",
       " 'height': [112, 122, 60],\n",
       " 'weight': [100, 96, 25]}"
      ]
     },
     "execution_count": 9,
     "metadata": {},
     "output_type": "execute_result"
    }
   ],
   "source": [
    "##creating dict data type \n",
    "person = {'name' : ['Olubukola Badero', 'Adedoyin Oladunni', 'Jasmine Oladunni'],\n",
    "           'religion' : ['christian', 'christian', 'christian'],\n",
    "            'age' : [34, 36, 5], \n",
    "          'height' : [112, 122, 60],\n",
    "            'weight' : [100, 96, 25]}\n",
    "person"
   ]
  },
  {
   "cell_type": "code",
   "execution_count": 10,
   "id": "c2bf2a92",
   "metadata": {
    "scrolled": true
   },
   "outputs": [
    {
     "name": "stdout",
     "output_type": "stream",
     "text": [
      "['name']\n",
      "['name', 'religion']\n",
      "['name', 'religion', 'age']\n",
      "['name', 'religion', 'age', 'height']\n",
      "['name', 'religion', 'age', 'height', 'weight']\n"
     ]
    }
   ],
   "source": [
    "## looping\n",
    "tab = []\n",
    "for i in person:\n",
    "    tab.append(i)\n",
    "    print(tab)\n",
    "    "
   ]
  },
  {
   "cell_type": "code",
   "execution_count": 11,
   "id": "6c9b43b0",
   "metadata": {},
   "outputs": [
    {
     "name": "stdout",
     "output_type": "stream",
     "text": [
      "['name', 'religion', 'age', 'height', 'weight']\n"
     ]
    }
   ],
   "source": [
    "print(tab)\n"
   ]
  },
  {
   "cell_type": "code",
   "execution_count": 12,
   "id": "958f812b",
   "metadata": {},
   "outputs": [],
   "source": [
    "##Evaluating conditions\n",
    "a = 50\n",
    "b = 23\n",
    "c = 35\n",
    "d = 39"
   ]
  },
  {
   "cell_type": "code",
   "execution_count": 13,
   "id": "86c776a9",
   "metadata": {},
   "outputs": [
    {
     "data": {
      "text/plain": [
       "False"
      ]
     },
     "execution_count": 13,
     "metadata": {},
     "output_type": "execute_result"
    }
   ],
   "source": [
    "##equals to\n",
    "a == b"
   ]
  },
  {
   "cell_type": "code",
   "execution_count": 14,
   "id": "1bb37bb7",
   "metadata": {},
   "outputs": [
    {
     "data": {
      "text/plain": [
       "True"
      ]
     },
     "execution_count": 14,
     "metadata": {},
     "output_type": "execute_result"
    }
   ],
   "source": [
    "##less than or equals to\n",
    "c <= d"
   ]
  },
  {
   "cell_type": "code",
   "execution_count": 15,
   "id": "895b6303",
   "metadata": {},
   "outputs": [
    {
     "data": {
      "text/plain": [
       "False"
      ]
     },
     "execution_count": 15,
     "metadata": {},
     "output_type": "execute_result"
    }
   ],
   "source": [
    "##greater than or equals to\n",
    "d >= a"
   ]
  },
  {
   "cell_type": "code",
   "execution_count": 16,
   "id": "ff5fc178",
   "metadata": {},
   "outputs": [
    {
     "data": {
      "text/plain": [
       "True"
      ]
     },
     "execution_count": 16,
     "metadata": {},
     "output_type": "execute_result"
    }
   ],
   "source": [
    "##not equals to\n",
    "b != c"
   ]
  },
  {
   "cell_type": "code",
   "execution_count": 17,
   "id": "908d0c8b",
   "metadata": {},
   "outputs": [
    {
     "data": {
      "text/plain": [
       "False"
      ]
     },
     "execution_count": 17,
     "metadata": {},
     "output_type": "execute_result"
    }
   ],
   "source": [
    "a == b or a == c"
   ]
  },
  {
   "cell_type": "code",
   "execution_count": 18,
   "id": "a07f847c",
   "metadata": {},
   "outputs": [
    {
     "data": {
      "text/plain": [
       "False"
      ]
     },
     "execution_count": 18,
     "metadata": {},
     "output_type": "execute_result"
    }
   ],
   "source": [
    "a == b and c"
   ]
  },
  {
   "cell_type": "code",
   "execution_count": 19,
   "id": "c835f06a",
   "metadata": {},
   "outputs": [
    {
     "data": {
      "text/plain": [
       "False"
      ]
     },
     "execution_count": 19,
     "metadata": {},
     "output_type": "execute_result"
    }
   ],
   "source": [
    "a == b and d <= c"
   ]
  },
  {
   "cell_type": "code",
   "execution_count": 20,
   "id": "e6a44b46",
   "metadata": {},
   "outputs": [
    {
     "data": {
      "text/plain": [
       "True"
      ]
     },
     "execution_count": 20,
     "metadata": {},
     "output_type": "execute_result"
    }
   ],
   "source": [
    "d >= b or d <= c"
   ]
  },
  {
   "cell_type": "code",
   "execution_count": 21,
   "id": "b986425b",
   "metadata": {},
   "outputs": [
    {
     "data": {
      "text/plain": [
       "False"
      ]
     },
     "execution_count": 21,
     "metadata": {},
     "output_type": "execute_result"
    }
   ],
   "source": [
    "not a and b == a"
   ]
  },
  {
   "cell_type": "code",
   "execution_count": 22,
   "id": "d3fd54bf",
   "metadata": {},
   "outputs": [],
   "source": [
    "Tomorrow = 'Thursday'"
   ]
  },
  {
   "cell_type": "code",
   "execution_count": 23,
   "id": "ce7c6526",
   "metadata": {},
   "outputs": [
    {
     "name": "stdout",
     "output_type": "stream",
     "text": [
      "Thursday\n"
     ]
    }
   ],
   "source": [
    "## replace variable content\n",
    "Tomorrow.replace('Thur', 'Wedne')\n",
    "print(Tomorrow)"
   ]
  },
  {
   "cell_type": "code",
   "execution_count": 24,
   "id": "fbb07925",
   "metadata": {},
   "outputs": [
    {
     "data": {
      "text/plain": [
       "'Wednesday'"
      ]
     },
     "execution_count": 24,
     "metadata": {},
     "output_type": "execute_result"
    }
   ],
   "source": [
    "##replace words in a variable but the variable remains the same except you store the replacement in a new variable\n",
    "Tomorrow.replace('Thur', 'Wedne')"
   ]
  },
  {
   "cell_type": "code",
   "execution_count": 25,
   "id": "a395b930",
   "metadata": {},
   "outputs": [
    {
     "data": {
      "text/plain": [
       "'Thursday'"
      ]
     },
     "execution_count": 25,
     "metadata": {},
     "output_type": "execute_result"
    }
   ],
   "source": [
    "Tomorrow"
   ]
  },
  {
   "cell_type": "code",
   "execution_count": 26,
   "id": "c1d66f4b",
   "metadata": {},
   "outputs": [
    {
     "name": "stdout",
     "output_type": "stream",
     "text": [
      "Wednesday\n"
     ]
    }
   ],
   "source": [
    "Next_day = Tomorrow.replace('Thur', 'Wedne')\n",
    "print(Next_day)"
   ]
  },
  {
   "cell_type": "code",
   "execution_count": 27,
   "id": "25aa0f6b",
   "metadata": {},
   "outputs": [],
   "source": [
    "import pandas as pd"
   ]
  },
  {
   "cell_type": "code",
   "execution_count": 28,
   "id": "0d2f7e06",
   "metadata": {},
   "outputs": [
    {
     "data": {
      "text/plain": [
       "['Olubukola Badero', 'Adedoyin Oladunni', 'Jasmine Oladunni']"
      ]
     },
     "execution_count": 28,
     "metadata": {},
     "output_type": "execute_result"
    }
   ],
   "source": [
    "x = person['name']\n",
    "x"
   ]
  },
  {
   "cell_type": "code",
   "execution_count": 29,
   "id": "28c32b71",
   "metadata": {},
   "outputs": [
    {
     "data": {
      "text/plain": [
       "'ADEDOYIN OLADUNNI'"
      ]
     },
     "execution_count": 29,
     "metadata": {},
     "output_type": "execute_result"
    }
   ],
   "source": [
    "x[1].upper()"
   ]
  },
  {
   "cell_type": "code",
   "execution_count": 30,
   "id": "b91ea4e9",
   "metadata": {},
   "outputs": [
    {
     "data": {
      "text/plain": [
       "'Adedoyin oladunni'"
      ]
     },
     "execution_count": 30,
     "metadata": {},
     "output_type": "execute_result"
    }
   ],
   "source": [
    "x[1].capitalize()"
   ]
  },
  {
   "cell_type": "code",
   "execution_count": 31,
   "id": "4b1199cd",
   "metadata": {},
   "outputs": [
    {
     "data": {
      "text/plain": [
       "'adedoyin oladunni'"
      ]
     },
     "execution_count": 31,
     "metadata": {},
     "output_type": "execute_result"
    }
   ],
   "source": [
    "x[1].lower()"
   ]
  },
  {
   "cell_type": "code",
   "execution_count": 32,
   "id": "52206cc9",
   "metadata": {},
   "outputs": [
    {
     "data": {
      "text/plain": [
       "{'name': ['Olubukola Badero', 'Adedoyin Oladunni', 'Jasmine Oladunni'],\n",
       " 'religion': ['christian', 'christian', 'christian'],\n",
       " 'age': [34, 36, 5],\n",
       " 'height': [112, 122, 60],\n",
       " 'weight': [100, 96, 25]}"
      ]
     },
     "execution_count": 32,
     "metadata": {},
     "output_type": "execute_result"
    }
   ],
   "source": [
    "person"
   ]
  },
  {
   "cell_type": "code",
   "execution_count": 33,
   "id": "e1da0682",
   "metadata": {},
   "outputs": [
    {
     "data": {
      "text/plain": [
       "[34, 36, 5]"
      ]
     },
     "execution_count": 33,
     "metadata": {},
     "output_type": "execute_result"
    }
   ],
   "source": [
    "##retrieve age data\n",
    "person.get('age')"
   ]
  },
  {
   "cell_type": "code",
   "execution_count": 34,
   "id": "7e6ad34b",
   "metadata": {},
   "outputs": [],
   "source": [
    "person.get('address')"
   ]
  },
  {
   "cell_type": "code",
   "execution_count": 35,
   "id": "c78d7ef3",
   "metadata": {},
   "outputs": [
    {
     "data": {
      "text/plain": [
       "'unknown'"
      ]
     },
     "execution_count": 35,
     "metadata": {},
     "output_type": "execute_result"
    }
   ],
   "source": [
    "##retrieve a data, if not in the dict data then python should display 'unknown' instead\n",
    "person.get('address', 'unknown')"
   ]
  },
  {
   "cell_type": "code",
   "execution_count": 36,
   "id": "10f1e7e6",
   "metadata": {},
   "outputs": [
    {
     "data": {
      "text/plain": [
       "{'name': 'Adedoyin Oladunni',\n",
       " 'religion': 'christian',\n",
       " 'age': 36,\n",
       " 'height': 122,\n",
       " 'weight': 95}"
      ]
     },
     "execution_count": 36,
     "metadata": {},
     "output_type": "execute_result"
    }
   ],
   "source": [
    "person2 = {'name': 'Adedoyin Oladunni', 'religion': 'christian', 'age': 36, 'height': 122, 'weight': 95}\n",
    "person2"
   ]
  },
  {
   "cell_type": "code",
   "execution_count": 37,
   "id": "26e6bdf5",
   "metadata": {},
   "outputs": [
    {
     "data": {
      "text/plain": [
       "[55, 'lady', 'brown', 'round', 'apple', '-']"
      ]
     },
     "execution_count": 37,
     "metadata": {},
     "output_type": "execute_result"
    }
   ],
   "source": [
    "random_list = [55, 'lady', 'brown', 'round', 'apple', '-']\n",
    "random_list"
   ]
  },
  {
   "cell_type": "code",
   "execution_count": 38,
   "id": "c3f7d144",
   "metadata": {},
   "outputs": [
    {
     "data": {
      "text/plain": [
       "[42, 'man', 'red', 'square', 'berry', '*']"
      ]
     },
     "execution_count": 38,
     "metadata": {},
     "output_type": "execute_result"
    }
   ],
   "source": [
    "another_list = [42, 'man', 'red', 'square', 'berry', '*']\n",
    "another_list"
   ]
  },
  {
   "cell_type": "code",
   "execution_count": 39,
   "id": "2d15dec9",
   "metadata": {},
   "outputs": [
    {
     "name": "stdout",
     "output_type": "stream",
     "text": [
      "[55, 'lady', 'brown', 'round', 'apple', '-', 42, 'man', 'red', 'square', 'berry', '*']\n"
     ]
    }
   ],
   "source": [
    "##merging 2 lists\n",
    "join = random_list + another_list\n",
    "print(join)"
   ]
  },
  {
   "cell_type": "code",
   "execution_count": 40,
   "id": "6cbf957c",
   "metadata": {},
   "outputs": [
    {
     "name": "stdout",
     "output_type": "stream",
     "text": [
      "[55, 'lady', 'brown', 'round', 'apple', '-', 42, 'man', 'red', 'square', 'berry', '*']\n"
     ]
    }
   ],
   "source": [
    "## merging 2 lists\n",
    "random_list.extend(another_list)\n",
    "print(random_list)"
   ]
  },
  {
   "cell_type": "code",
   "execution_count": 41,
   "id": "714784a7",
   "metadata": {},
   "outputs": [
    {
     "data": {
      "text/plain": [
       "list"
      ]
     },
     "execution_count": 41,
     "metadata": {},
     "output_type": "execute_result"
    }
   ],
   "source": [
    "##check variable type\n",
    "type(join)"
   ]
  },
  {
   "cell_type": "code",
   "execution_count": 42,
   "id": "f4bc0a5e",
   "metadata": {},
   "outputs": [
    {
     "data": {
      "text/plain": [
       "['a', 'd', 'c', 'e', 'b', 'g', 'f']"
      ]
     },
     "execution_count": 42,
     "metadata": {},
     "output_type": "execute_result"
    }
   ],
   "source": [
    "alp = ['a', 'd', 'c', 'e', 'b', 'g', 'f']\n",
    "alp"
   ]
  },
  {
   "cell_type": "code",
   "execution_count": 43,
   "id": "a928dac6",
   "metadata": {},
   "outputs": [
    {
     "name": "stdout",
     "output_type": "stream",
     "text": [
      "['g', 'f', 'e', 'd', 'c', 'b', 'a']\n"
     ]
    }
   ],
   "source": [
    "##sort list in reverse\n",
    "alp.sort(reverse = True)\n",
    "print(alp)"
   ]
  },
  {
   "cell_type": "code",
   "execution_count": 44,
   "id": "8831046a",
   "metadata": {},
   "outputs": [
    {
     "name": "stdout",
     "output_type": "stream",
     "text": [
      "['a', 'b', 'c', 'd', 'e', 'f', 'g']\n"
     ]
    }
   ],
   "source": [
    "##sort list alphabetically or numerically\n",
    "alp.reverse()\n",
    "print(alp)"
   ]
  },
  {
   "cell_type": "code",
   "execution_count": 45,
   "id": "4361e49a",
   "metadata": {},
   "outputs": [
    {
     "name": "stdout",
     "output_type": "stream",
     "text": [
      "['a', 'b', 'c', 'd', 'e', 'f', 'g']\n"
     ]
    }
   ],
   "source": [
    "## sort list\n",
    "alp.sort()\n",
    "print(alp)"
   ]
  },
  {
   "cell_type": "code",
   "execution_count": 46,
   "id": "2af3bf9e",
   "metadata": {},
   "outputs": [
    {
     "data": {
      "text/plain": [
       "['a', 'c', 'd', 'e', 'f', 'g']"
      ]
     },
     "execution_count": 46,
     "metadata": {},
     "output_type": "execute_result"
    }
   ],
   "source": [
    "##remove data in 1\n",
    "alp.pop(1)\n",
    "alp"
   ]
  },
  {
   "cell_type": "code",
   "execution_count": 47,
   "id": "db3cc7d8",
   "metadata": {},
   "outputs": [
    {
     "data": {
      "text/plain": [
       "['c', 'd', 'e', 'f', 'g']"
      ]
     },
     "execution_count": 47,
     "metadata": {},
     "output_type": "execute_result"
    }
   ],
   "source": [
    "## remove a from the list\n",
    "alp.remove('a')\n",
    "alp"
   ]
  },
  {
   "cell_type": "code",
   "execution_count": 48,
   "id": "99fa2af1",
   "metadata": {},
   "outputs": [],
   "source": [
    "##add blue as the last data\n",
    "alp.append('blue')"
   ]
  },
  {
   "cell_type": "code",
   "execution_count": 49,
   "id": "74288b12",
   "metadata": {},
   "outputs": [
    {
     "data": {
      "text/plain": [
       "['c', 'd', 'e', 'f', 'g', 'blue', 'all']"
      ]
     },
     "execution_count": 49,
     "metadata": {},
     "output_type": "execute_result"
    }
   ],
   "source": [
    "#insert all in 6 in the list\n",
    "alp.insert(6, 'all')\n",
    "alp"
   ]
  },
  {
   "cell_type": "code",
   "execution_count": 50,
   "id": "f9cb9b04",
   "metadata": {},
   "outputs": [
    {
     "data": {
      "text/plain": [
       "['c', 4, 'e', 'f', 'g', 'blue', 'all']"
      ]
     },
     "execution_count": 50,
     "metadata": {},
     "output_type": "execute_result"
    }
   ],
   "source": [
    "##change 1 data to 4\n",
    "alp[1] = 4\n",
    "alp"
   ]
  },
  {
   "cell_type": "code",
   "execution_count": 51,
   "id": "c0b8d372",
   "metadata": {},
   "outputs": [
    {
     "data": {
      "text/plain": [
       "['c', 4, 'e', 'f', 'g', 'blue', 'all']"
      ]
     },
     "execution_count": 51,
     "metadata": {},
     "output_type": "execute_result"
    }
   ],
   "source": [
    "alp"
   ]
  },
  {
   "cell_type": "code",
   "execution_count": 52,
   "id": "e5412dde",
   "metadata": {},
   "outputs": [
    {
     "data": {
      "text/plain": [
       "['Wow, what a great day today!! #sunshine',\n",
       " 'I feel sad about the things going on around us. #covid19',\n",
       " \"I'm really excited to learn Python with @JovianML #zerotopandas\",\n",
       " 'This is a really nice song. #linkinpark',\n",
       " 'The python programming language is useful for data science',\n",
       " 'Why do bad things happen to me?',\n",
       " 'Apple announces the release of the new iPhone 12. Fans are excited.',\n",
       " 'Spent my day with family!! #happy',\n",
       " 'Check out my blog post on common string operations in Python. #zerotopandas',\n",
       " 'Freecodecamp has great coding tutorials. #skillup']"
      ]
     },
     "execution_count": 52,
     "metadata": {},
     "output_type": "execute_result"
    }
   ],
   "source": [
    "tweets = [\n",
    "    \"Wow, what a great day today!! #sunshine\",\n",
    "    \"I feel sad about the things going on around us. #covid19\",\n",
    "    \"I'm really excited to learn Python with @JovianML #zerotopandas\",\n",
    "    \"This is a really nice song. #linkinpark\",\n",
    "    \"The python programming language is useful for data science\",\n",
    "    \"Why do bad things happen to me?\",\n",
    "    \"Apple announces the release of the new iPhone 12. Fans are excited.\",\n",
    "    \"Spent my day with family!! #happy\",\n",
    "    \"Check out my blog post on common string operations in Python. #zerotopandas\",\n",
    "    \"Freecodecamp has great coding tutorials. #skillup\"]\n",
    "tweets"
   ]
  },
  {
   "cell_type": "code",
   "execution_count": 53,
   "id": "7ac9891d",
   "metadata": {},
   "outputs": [
    {
     "data": {
      "text/plain": [
       "['great', 'excited', 'happy', 'nice', 'wonderful', 'amazing', 'good', 'best']"
      ]
     },
     "execution_count": 53,
     "metadata": {},
     "output_type": "execute_result"
    }
   ],
   "source": [
    "happy_words = ['great', 'excited', 'happy', 'nice', 'wonderful', 'amazing', 'good', 'best']\n",
    "happy_words"
   ]
  },
  {
   "cell_type": "code",
   "execution_count": 54,
   "id": "4de471ee",
   "metadata": {},
   "outputs": [
    {
     "data": {
      "text/plain": [
       "['sad', 'bad', 'tragic', 'unhappy', 'worst']"
      ]
     },
     "execution_count": 54,
     "metadata": {},
     "output_type": "execute_result"
    }
   ],
   "source": [
    "sad_words = ['sad', 'bad', 'tragic', 'unhappy', 'worst']\n",
    "sad_words"
   ]
  },
  {
   "cell_type": "code",
   "execution_count": 55,
   "id": "67387484",
   "metadata": {},
   "outputs": [
    {
     "name": "stdout",
     "output_type": "stream",
     "text": [
      "['sad', 'bad', 'worst', 'tragic', 'unhappy']\n"
     ]
    }
   ],
   "source": [
    "##sort words by the length of the words\n",
    "def myfunc(e):\n",
    "    return len(e)\n",
    "\n",
    "sad_words = ['sad', 'bad', 'tragic', 'unhappy', 'worst']\n",
    "sad_words.sort(key=myfunc)\n",
    "print(sad_words)"
   ]
  },
  {
   "cell_type": "code",
   "execution_count": 56,
   "id": "ad1abed7",
   "metadata": {},
   "outputs": [
    {
     "name": "stdout",
     "output_type": "stream",
     "text": [
      "['sad', 'bad', 'worst', 'tragic', 'unhappy']\n"
     ]
    }
   ],
   "source": [
    "print(sad_words)"
   ]
  },
  {
   "cell_type": "code",
   "execution_count": 57,
   "id": "5decd92d",
   "metadata": {},
   "outputs": [
    {
     "name": "stdout",
     "output_type": "stream",
     "text": [
      "['I feel sad about the things going on around us. #covid19']\n"
     ]
    }
   ],
   "source": [
    "compare = []\n",
    "for x in tweets:\n",
    "    if 'sad' in x:\n",
    "        compare.append(x)\n",
    "        \n",
    "        print(compare)"
   ]
  },
  {
   "cell_type": "code",
   "execution_count": 58,
   "id": "d11cba51",
   "metadata": {},
   "outputs": [
    {
     "name": "stdout",
     "output_type": "stream",
     "text": [
      "['Wow, what a great day today!! #sunshine']\n",
      "['Wow, what a great day today!! #sunshine', 'Freecodecamp has great coding tutorials. #skillup']\n",
      "['Wow, what a great day today!! #sunshine', 'Freecodecamp has great coding tutorials. #skillup', \"I'm really excited to learn Python with @JovianML #zerotopandas\"]\n",
      "['Wow, what a great day today!! #sunshine', 'Freecodecamp has great coding tutorials. #skillup', \"I'm really excited to learn Python with @JovianML #zerotopandas\", 'Apple announces the release of the new iPhone 12. Fans are excited.']\n",
      "['Wow, what a great day today!! #sunshine', 'Freecodecamp has great coding tutorials. #skillup', \"I'm really excited to learn Python with @JovianML #zerotopandas\", 'Apple announces the release of the new iPhone 12. Fans are excited.', 'Spent my day with family!! #happy']\n",
      "['Wow, what a great day today!! #sunshine', 'Freecodecamp has great coding tutorials. #skillup', \"I'm really excited to learn Python with @JovianML #zerotopandas\", 'Apple announces the release of the new iPhone 12. Fans are excited.', 'Spent my day with family!! #happy', 'This is a really nice song. #linkinpark']\n"
     ]
    }
   ],
   "source": [
    "comparison=[]\n",
    "for x in happy_words:\n",
    "    for y in tweets:\n",
    "        if x in y:\n",
    "            comparison.append(y)\n",
    "            \n",
    "            print(comparison)          "
   ]
  },
  {
   "cell_type": "code",
   "execution_count": 59,
   "id": "24ef4ddc",
   "metadata": {},
   "outputs": [
    {
     "name": "stdout",
     "output_type": "stream",
     "text": [
      "['Wow, what a great day today!! #sunshine', 'Freecodecamp has great coding tutorials. #skillup', \"I'm really excited to learn Python with @JovianML #zerotopandas\", 'Apple announces the release of the new iPhone 12. Fans are excited.', 'Spent my day with family!! #happy', 'This is a really nice song. #linkinpark']\n"
     ]
    }
   ],
   "source": [
    "## to print out just the last iteration\n",
    "print(comparison)"
   ]
  },
  {
   "cell_type": "code",
   "execution_count": 60,
   "id": "1bcf1f2e",
   "metadata": {},
   "outputs": [],
   "source": [
    "## to compare and list out similar contents in 2 lists\n",
    "comp = []\n",
    "for x in sad_words:\n",
    "    for y in tweets:\n",
    "        if x in y:\n",
    "            comp.append(y)\n",
    "           "
   ]
  },
  {
   "cell_type": "code",
   "execution_count": 61,
   "id": "52f6ce7c",
   "metadata": {},
   "outputs": [
    {
     "name": "stdout",
     "output_type": "stream",
     "text": [
      "['I feel sad about the things going on around us. #covid19', 'Why do bad things happen to me?']\n"
     ]
    }
   ],
   "source": [
    " print(comp)"
   ]
  },
  {
   "cell_type": "code",
   "execution_count": 62,
   "id": "4ac75d2e",
   "metadata": {},
   "outputs": [
    {
     "name": "stdout",
     "output_type": "stream",
     "text": [
      "1\n",
      "2\n",
      "3\n",
      "4\n",
      "5\n",
      "6\n"
     ]
    }
   ],
   "source": [
    "## to count number of similar words in 2 lists\n",
    "x = 0\n",
    "for i in tweets:\n",
    "    for j in happy_words:\n",
    "        if j in i:\n",
    "            x +=1\n",
    "            print(x)\n"
   ]
  },
  {
   "cell_type": "code",
   "execution_count": 63,
   "id": "b0994a0b",
   "metadata": {},
   "outputs": [
    {
     "name": "stdout",
     "output_type": "stream",
     "text": [
      "6\n"
     ]
    }
   ],
   "source": [
    "##print out the final count, instead of listing out all the iterations\n",
    "print(x)"
   ]
  },
  {
   "cell_type": "code",
   "execution_count": 64,
   "id": "a865304c",
   "metadata": {},
   "outputs": [
    {
     "name": "stdout",
     "output_type": "stream",
     "text": [
      "1\n",
      "2\n"
     ]
    }
   ],
   "source": [
    "num_of_sad = 0\n",
    "for i in sad_words:\n",
    "    for j in tweets:\n",
    "        if i in j:\n",
    "            num_of_sad +=1\n",
    "            print(num_of_sad)\n"
   ]
  },
  {
   "cell_type": "code",
   "execution_count": 65,
   "id": "60d732f0",
   "metadata": {},
   "outputs": [
    {
     "data": {
      "text/plain": [
       "10"
      ]
     },
     "execution_count": 65,
     "metadata": {},
     "output_type": "execute_result"
    }
   ],
   "source": [
    "#find number of the tweets in the list\n",
    "len(tweets)"
   ]
  },
  {
   "cell_type": "code",
   "execution_count": 66,
   "id": "2c0c4679",
   "metadata": {},
   "outputs": [
    {
     "name": "stdout",
     "output_type": "stream",
     "text": [
      "13500\n"
     ]
    }
   ],
   "source": [
    "cost = 1500\n",
    "people = 300\n",
    "ticket = 50\n",
    "profit = (ticket * people) - cost\n",
    "print(profit)"
   ]
  },
  {
   "cell_type": "code",
   "execution_count": 67,
   "id": "bc3f6a09",
   "metadata": {},
   "outputs": [
    {
     "name": "stdout",
     "output_type": "stream",
     "text": [
      "1\n",
      "2\n",
      "3\n",
      "4\n",
      "5\n",
      "6\n"
     ]
    }
   ],
   "source": [
    "number = 0\n",
    "for x in happy_words:\n",
    "    for y in tweets:\n",
    "        if x in y:\n",
    "            number += 1\n",
    "            print(number)"
   ]
  },
  {
   "cell_type": "code",
   "execution_count": 68,
   "id": "564a352d",
   "metadata": {},
   "outputs": [
    {
     "name": "stdout",
     "output_type": "stream",
     "text": [
      "Number of happy tweets: 1\n",
      "Number of happy tweets: 2\n",
      "Number of happy tweets: 3\n",
      "Number of happy tweets: 4\n",
      "Number of happy tweets: 5\n",
      "Number of happy tweets: 6\n"
     ]
    }
   ],
   "source": [
    "number_of_happy_tweets = 0\n",
    "\n",
    "for word in happy_words:\n",
    "    for tweet in tweets:\n",
    "        if word in tweet:\n",
    "            number_of_happy_tweets +=1\n",
    "            \n",
    "            print(\"Number of happy tweets:\", number_of_happy_tweets)"
   ]
  },
  {
   "cell_type": "code",
   "execution_count": 69,
   "id": "a303c5ee",
   "metadata": {},
   "outputs": [
    {
     "name": "stdout",
     "output_type": "stream",
     "text": [
      "Number of happy tweets: 6\n"
     ]
    }
   ],
   "source": [
    "print(\"Number of happy tweets:\", number_of_happy_tweets)"
   ]
  },
  {
   "cell_type": "code",
   "execution_count": 70,
   "id": "88e1e9a0",
   "metadata": {},
   "outputs": [],
   "source": [
    "##creating multiple variables once\n",
    "num, numb, num1 = 3, 4, 6"
   ]
  },
  {
   "cell_type": "code",
   "execution_count": 71,
   "id": "865993a7",
   "metadata": {},
   "outputs": [
    {
     "data": {
      "text/plain": [
       "False"
      ]
     },
     "execution_count": 71,
     "metadata": {},
     "output_type": "execute_result"
    }
   ],
   "source": [
    "num == 6"
   ]
  },
  {
   "cell_type": "code",
   "execution_count": 72,
   "id": "5b8cd5c6",
   "metadata": {},
   "outputs": [
    {
     "data": {
      "text/plain": [
       "True"
      ]
     },
     "execution_count": 72,
     "metadata": {},
     "output_type": "execute_result"
    }
   ],
   "source": [
    "numb != 5"
   ]
  },
  {
   "cell_type": "code",
   "execution_count": 73,
   "id": "36a4cb2c",
   "metadata": {},
   "outputs": [
    {
     "data": {
      "text/plain": [
       "True"
      ]
     },
     "execution_count": 73,
     "metadata": {},
     "output_type": "execute_result"
    }
   ],
   "source": [
    "num >= 2 and num1 == 6"
   ]
  },
  {
   "cell_type": "code",
   "execution_count": 74,
   "id": "a0dcb334",
   "metadata": {},
   "outputs": [
    {
     "data": {
      "text/plain": [
       "False"
      ]
     },
     "execution_count": 74,
     "metadata": {},
     "output_type": "execute_result"
    }
   ],
   "source": [
    "num >= 5 and num1 == 6"
   ]
  },
  {
   "cell_type": "code",
   "execution_count": 75,
   "id": "a7531f9f",
   "metadata": {},
   "outputs": [
    {
     "data": {
      "text/plain": [
       "True"
      ]
     },
     "execution_count": 75,
     "metadata": {},
     "output_type": "execute_result"
    }
   ],
   "source": [
    "num >= 2 and num1 == 6"
   ]
  },
  {
   "cell_type": "code",
   "execution_count": 76,
   "id": "7b323243",
   "metadata": {},
   "outputs": [],
   "source": [
    "m = 1\n",
    "while m <= 100:\n",
    "    m += 1"
   ]
  },
  {
   "cell_type": "code",
   "execution_count": 77,
   "id": "8f366ca1",
   "metadata": {},
   "outputs": [
    {
     "name": "stdout",
     "output_type": "stream",
     "text": [
      "101\n"
     ]
    }
   ],
   "source": [
    "print(m)"
   ]
  },
  {
   "cell_type": "code",
   "execution_count": 78,
   "id": "1dc1fb62",
   "metadata": {},
   "outputs": [
    {
     "name": "stdout",
     "output_type": "stream",
     "text": [
      "0\n",
      "5\n",
      "10\n"
     ]
    }
   ],
   "source": [
    "for i in range(15):\n",
    "    if i % 5 == 0:\n",
    "        print(i)"
   ]
  },
  {
   "cell_type": "code",
   "execution_count": 79,
   "id": "8917dc71",
   "metadata": {},
   "outputs": [
    {
     "name": "stdout",
     "output_type": "stream",
     "text": [
      "1\n",
      "6\n",
      "11\n"
     ]
    }
   ],
   "source": [
    "for i in range(15):\n",
    "    if i % 5 == 0:\n",
    "        i += 1\n",
    "        print(i)"
   ]
  },
  {
   "cell_type": "code",
   "execution_count": 80,
   "id": "6ad5be40",
   "metadata": {},
   "outputs": [
    {
     "name": "stdout",
     "output_type": "stream",
     "text": [
      "14\n"
     ]
    }
   ],
   "source": [
    "print(i)"
   ]
  },
  {
   "cell_type": "code",
   "execution_count": 81,
   "id": "22694b7a",
   "metadata": {},
   "outputs": [],
   "source": [
    "##creating reusable function\n",
    "def greetings(name):\n",
    "    print('Hello {}, how was your day?'.format(name))"
   ]
  },
  {
   "cell_type": "code",
   "execution_count": 82,
   "id": "736dc469",
   "metadata": {},
   "outputs": [
    {
     "name": "stdout",
     "output_type": "stream",
     "text": [
      "Hello Olu, how was your day?\n"
     ]
    }
   ],
   "source": [
    "greetings(\"Olu\")"
   ]
  },
  {
   "cell_type": "code",
   "execution_count": 83,
   "id": "14a24041",
   "metadata": {},
   "outputs": [
    {
     "name": "stdout",
     "output_type": "stream",
     "text": [
      "Hello Jasmine, how was your day?\n"
     ]
    }
   ],
   "source": [
    "greetings('Jasmine')"
   ]
  },
  {
   "cell_type": "code",
   "execution_count": 84,
   "id": "8e0e1c78",
   "metadata": {},
   "outputs": [],
   "source": [
    "def greeting(name, last_name):\n",
    "    print('Hello ' + name + ' ' + last_name + ', how was your day?')"
   ]
  },
  {
   "cell_type": "code",
   "execution_count": 85,
   "id": "a24a86a3",
   "metadata": {},
   "outputs": [
    {
     "name": "stdout",
     "output_type": "stream",
     "text": [
      "Hello Olu Oladunni, how was your day?\n"
     ]
    }
   ],
   "source": [
    "greeting('Olu', 'Oladunni')"
   ]
  },
  {
   "cell_type": "code",
   "execution_count": 86,
   "id": "6ae3863e",
   "metadata": {},
   "outputs": [
    {
     "name": "stdout",
     "output_type": "stream",
     "text": [
      "Hello Joseline Oladunni, how was your day?\n"
     ]
    }
   ],
   "source": [
    "greeting('Joseline', 'Oladunni')"
   ]
  },
  {
   "cell_type": "markdown",
   "id": "45be0440",
   "metadata": {},
   "source": [
    "## Looping and Functions\n"
   ]
  },
  {
   "cell_type": "code",
   "execution_count": 87,
   "id": "80c22ea6",
   "metadata": {},
   "outputs": [],
   "source": [
    "def multiplication(x):\n",
    "    print(x)\n",
    "    "
   ]
  },
  {
   "cell_type": "code",
   "execution_count": 88,
   "id": "e5c3d64e",
   "metadata": {},
   "outputs": [
    {
     "name": "stdout",
     "output_type": "stream",
     "text": [
      "5\n"
     ]
    }
   ],
   "source": [
    "multiplication(5)"
   ]
  },
  {
   "cell_type": "code",
   "execution_count": 89,
   "id": "f7787630",
   "metadata": {},
   "outputs": [],
   "source": [
    "def multiplications(x):\n",
    "    print(x*5)"
   ]
  },
  {
   "cell_type": "code",
   "execution_count": 90,
   "id": "f51e3028",
   "metadata": {},
   "outputs": [],
   "source": [
    "def functions(x):\n",
    "    return 5*x\n"
   ]
  },
  {
   "cell_type": "code",
   "execution_count": 91,
   "id": "7a1371eb",
   "metadata": {},
   "outputs": [
    {
     "data": {
      "text/plain": [
       "25"
      ]
     },
     "execution_count": 91,
     "metadata": {},
     "output_type": "execute_result"
    }
   ],
   "source": [
    "functions(5)"
   ]
  },
  {
   "cell_type": "code",
   "execution_count": 92,
   "id": "c3ea6a28",
   "metadata": {},
   "outputs": [
    {
     "name": "stdout",
     "output_type": "stream",
     "text": [
      "20\n"
     ]
    }
   ],
   "source": [
    "print(functions(4))"
   ]
  },
  {
   "cell_type": "code",
   "execution_count": 93,
   "id": "18e35e51",
   "metadata": {},
   "outputs": [
    {
     "name": "stdout",
     "output_type": "stream",
     "text": [
      "75\n"
     ]
    }
   ],
   "source": [
    "print(functions(15))"
   ]
  },
  {
   "cell_type": "code",
   "execution_count": 94,
   "id": "3fb51e62",
   "metadata": {},
   "outputs": [
    {
     "data": {
      "text/plain": [
       "range(1, 20)"
      ]
     },
     "execution_count": 94,
     "metadata": {},
     "output_type": "execute_result"
    }
   ],
   "source": [
    "list = range(1, 20)\n",
    "list"
   ]
  },
  {
   "cell_type": "code",
   "execution_count": 95,
   "id": "5ed0cc70",
   "metadata": {},
   "outputs": [
    {
     "name": "stdout",
     "output_type": "stream",
     "text": [
      "range(1, 20)\n"
     ]
    }
   ],
   "source": [
    "print(list)"
   ]
  },
  {
   "cell_type": "code",
   "execution_count": 96,
   "id": "5d0ffcbe",
   "metadata": {},
   "outputs": [
    {
     "name": "stdout",
     "output_type": "stream",
     "text": [
      "1\n",
      "2\n",
      "3\n",
      "4\n",
      "5\n",
      "6\n",
      "7\n",
      "8\n",
      "9\n",
      "10\n",
      "11\n",
      "12\n",
      "13\n",
      "14\n",
      "15\n",
      "16\n",
      "17\n",
      "18\n",
      "19\n"
     ]
    }
   ],
   "source": [
    "for i in list:\n",
    "    print(i)"
   ]
  },
  {
   "cell_type": "code",
   "execution_count": 97,
   "id": "5b87d15e",
   "metadata": {},
   "outputs": [
    {
     "name": "stdout",
     "output_type": "stream",
     "text": [
      "[2]\n",
      "[2, 14]\n",
      "[2, 14, 8]\n",
      "[2, 14, 8, 12]\n",
      "[2, 14, 8, 12, 18]\n"
     ]
    }
   ],
   "source": [
    "##identifying even numbers in a list\n",
    "even_list = [2, 14, 7, 5, 8, 9, 12, 18]\n",
    "result_list = []\n",
    "\n",
    "for i in even_list:\n",
    "    if i % 2 == 0:\n",
    "        result_list.append(i)\n",
    "        print(result_list)\n",
    "        "
   ]
  },
  {
   "cell_type": "code",
   "execution_count": 98,
   "id": "ab9a975d",
   "metadata": {},
   "outputs": [
    {
     "name": "stdout",
     "output_type": "stream",
     "text": [
      "[7]\n",
      "[7, 5]\n",
      "[7, 5, 9]\n"
     ]
    }
   ],
   "source": [
    "##odd numbers in the list\n",
    "odd_list = [2, 14, 7, 5, 8, 9, 12, 18]\n",
    "res_list = []\n",
    "\n",
    "for x in odd_list:\n",
    "    if x % 2 == 1:\n",
    "        res_list.append(x)\n",
    "        \n",
    "        print(res_list)\n",
    "        "
   ]
  },
  {
   "cell_type": "code",
   "execution_count": 99,
   "id": "0fc04ebf",
   "metadata": {},
   "outputs": [
    {
     "name": "stdout",
     "output_type": "stream",
     "text": [
      "Monday\n",
      "Tuesday\n",
      "Wednesday\n"
     ]
    }
   ],
   "source": [
    "today = ['Monday', 'Tuesday', 'Wednesday']\n",
    "for i in today:\n",
    "    print(i)"
   ]
  },
  {
   "cell_type": "code",
   "execution_count": 100,
   "id": "c7615b07",
   "metadata": {},
   "outputs": [
    {
     "name": "stdout",
     "output_type": "stream",
     "text": [
      "n\n",
      "e\n",
      "d\n"
     ]
    }
   ],
   "source": [
    "for i in today:\n",
    "    print(i[2])"
   ]
  },
  {
   "cell_type": "code",
   "execution_count": 101,
   "id": "bd3583c4",
   "metadata": {},
   "outputs": [
    {
     "data": {
      "text/plain": [
       "['Monday', 'Tuesday', 'Wednesday']"
      ]
     },
     "execution_count": 101,
     "metadata": {},
     "output_type": "execute_result"
    }
   ],
   "source": [
    "today"
   ]
  },
  {
   "cell_type": "code",
   "execution_count": 102,
   "id": "8879ae64",
   "metadata": {},
   "outputs": [
    {
     "data": {
      "text/plain": [
       "'Wednesday'"
      ]
     },
     "execution_count": 102,
     "metadata": {},
     "output_type": "execute_result"
    }
   ],
   "source": [
    "today[2]"
   ]
  },
  {
   "cell_type": "code",
   "execution_count": 103,
   "id": "41da46fd",
   "metadata": {},
   "outputs": [],
   "source": [
    "a_number = 23\n",
    "another_number = 22\n",
    "a_list = [2, 14, 7, 5, 8, 9, 12, 18]"
   ]
  },
  {
   "cell_type": "code",
   "execution_count": 104,
   "id": "7d8b8137",
   "metadata": {},
   "outputs": [
    {
     "name": "stdout",
     "output_type": "stream",
     "text": [
      "a_number is odd\n"
     ]
    }
   ],
   "source": [
    "a_number\n",
    "\n",
    "if a_number % 2 == 1:\n",
    "    print('a_number is odd')\n",
    "else:\n",
    "    print('a_number is even')"
   ]
  },
  {
   "cell_type": "code",
   "execution_count": 105,
   "id": "295d7770",
   "metadata": {},
   "outputs": [],
   "source": [
    "a_number = 23\n",
    "\n",
    "if a_number % 2 == 0:\n",
    "    print('{} is odd'.format(a_number))\n",
    "    \n",
    "elif a_number % 2 == 0:\n",
    "    print('{} is even'.format(a_number))"
   ]
  },
  {
   "cell_type": "code",
   "execution_count": 106,
   "id": "331ed535",
   "metadata": {},
   "outputs": [
    {
     "name": "stdout",
     "output_type": "stream",
     "text": [
      "22 is divisible by 2\n"
     ]
    }
   ],
   "source": [
    "if another_number % 2 == 0:\n",
    "    print('{} is divisible by 2'.format(another_number))\n",
    "elif another_number % 3 == 0:\n",
    "    print('{} is divisible by 3'.format(another_number))"
   ]
  },
  {
   "cell_type": "code",
   "execution_count": 107,
   "id": "537d56eb",
   "metadata": {
    "scrolled": true
   },
   "outputs": [
    {
     "name": "stdout",
     "output_type": "stream",
     "text": [
      "22 is divisible by 2\n"
     ]
    }
   ],
   "source": [
    "if another_number % 3 == 0:\n",
    "    print('{} is divisible by 3'.format(another_number))\n",
    "  \n",
    "elif another_number % 2 == 0:\n",
    "    print('{} is divisible by 2'.format(another_number))\n",
    " \n",
    "elif another_number % 11 == 0:\n",
    "    print('{}is divisible by 11'.format(another_number))\n",
    "    "
   ]
  },
  {
   "cell_type": "code",
   "execution_count": null,
   "id": "8012bfca",
   "metadata": {},
   "outputs": [],
   "source": [
    "another_number = 55\n",
    "\n",
    "if another_number % 3 == 0:\n",
    "    print('{} is divisible by 3'.format(another_number))\n",
    "elif another_number % 2 == 0:\n",
    "    print('{} is divisible by 2'.format(another_number))\n",
    "elif another_number % 11 == 0:\n",
    "    print('{} is divisible by 11'.format(another_number))\n",
    "    "
   ]
  },
  {
   "cell_type": "code",
   "execution_count": 108,
   "id": "84aa9b23",
   "metadata": {
    "scrolled": true
   },
   "outputs": [
    {
     "name": "stdout",
     "output_type": "stream",
     "text": [
      "1\n",
      "2\n",
      "3\n",
      "4\n",
      "5\n",
      "6\n",
      "7\n",
      "8\n",
      "9\n",
      "10\n",
      "11\n",
      "12\n",
      "13\n",
      "14\n",
      "15\n",
      "16\n",
      "17\n",
      "18\n",
      "19\n",
      "20\n",
      "21\n"
     ]
    }
   ],
   "source": [
    "x = 0\n",
    "while x <= 20:\n",
    "    x += 1\n",
    "    print(x)"
   ]
  },
  {
   "cell_type": "markdown",
   "id": "fa28d52f",
   "metadata": {},
   "source": [
    "## Functions"
   ]
  },
  {
   "cell_type": "code",
   "execution_count": 109,
   "id": "9db8b898",
   "metadata": {},
   "outputs": [],
   "source": [
    "def emi(amount):\n",
    "    emi = amount/12\n",
    "    print('The Equal Monthly Installment payment for this loan is ${}'.format(emi))"
   ]
  },
  {
   "cell_type": "code",
   "execution_count": 110,
   "id": "91df4b63",
   "metadata": {},
   "outputs": [
    {
     "name": "stdout",
     "output_type": "stream",
     "text": [
      "The Equal Monthly Installment payment for this loan is $1000.0\n"
     ]
    }
   ],
   "source": [
    "emi(12000)"
   ]
  },
  {
   "cell_type": "code",
   "execution_count": 111,
   "id": "8d506544",
   "metadata": {},
   "outputs": [],
   "source": [
    "## you can also use return EMI instead of the print statement\n",
    "def EMI(amount, duration):\n",
    "    EMI = amount/duration\n",
    "    print('The Equal Monthly Installment payment for this loan is ${}'.format(EMI))"
   ]
  },
  {
   "cell_type": "code",
   "execution_count": 112,
   "id": "6b355ee6",
   "metadata": {},
   "outputs": [
    {
     "name": "stdout",
     "output_type": "stream",
     "text": [
      "The Equal Monthly Installment payment for this loan is $1000.0\n"
     ]
    }
   ],
   "source": [
    "#10yrs loan is multiplied with 12 months for each year to the EMI\n",
    "EMI(120000, 10 * 12)"
   ]
  },
  {
   "cell_type": "code",
   "execution_count": 113,
   "id": "2c1d5047",
   "metadata": {},
   "outputs": [],
   "source": [
    "def loan_emi(amount, duration, down_payment = 0):\n",
    "    loan_amount = amount - down_payment \n",
    "    loan_emi = loan_amount/duration\n",
    "    print('The Equal Monthly Installment payment for this loan is ${}'.format(loan_emi))"
   ]
  },
  {
   "cell_type": "code",
   "execution_count": 114,
   "id": "187116e2",
   "metadata": {},
   "outputs": [
    {
     "name": "stdout",
     "output_type": "stream",
     "text": [
      "The Equal Monthly Installment payment for this loan is $8333.333333333334\n"
     ]
    }
   ],
   "source": [
    "loan_emi(1500000, 12 * 12, 300000)"
   ]
  },
  {
   "cell_type": "code",
   "execution_count": 115,
   "id": "853604d2",
   "metadata": {},
   "outputs": [],
   "source": [
    "def interest(amount, duration, rate, down_payment = 0):\n",
    "    loan_amount = amount - down_payment \n",
    "    interest = loan_amount * rate * ((1 + rate) ** duration/(((1 + rate) ** duration) - 1))\n",
    "    print('The Equal Monthly Interest payment for this loan is ${}'.format(interest))"
   ]
  },
  {
   "cell_type": "code",
   "execution_count": 116,
   "id": "56ae5f20",
   "metadata": {},
   "outputs": [
    {
     "name": "stdout",
     "output_type": "stream",
     "text": [
      "The Equal Monthly Interest payment for this loan is $96001.47658047966\n"
     ]
    }
   ],
   "source": [
    "interest(1500000, 12 * 12, 0.08, 300000)"
   ]
  },
  {
   "cell_type": "code",
   "execution_count": 117,
   "id": "cc5cef39",
   "metadata": {},
   "outputs": [],
   "source": [
    "def emi_house(amount, duration, rate, down_payment = 0):\n",
    "    loan_amount = amount - down_payment \n",
    "    emi_house = loan_amount * rate * ((1 + rate) ** duration/(((1 + rate) ** duration) - 1))\n",
    "    \n",
    "    print('The Equal Monthly Interest payment for this loan is ${}'.format(emi_house))"
   ]
  },
  {
   "cell_type": "code",
   "execution_count": 118,
   "id": "a8e11190",
   "metadata": {},
   "outputs": [
    {
     "name": "stdout",
     "output_type": "stream",
     "text": [
      "The Equal Monthly Interest payment for this loan is $1096001.0556865411\n"
     ]
    }
   ],
   "source": [
    "## using variables instead\n",
    "house_price = 15000000\n",
    "loan_duration = 15 * 12\n",
    "deposit = 1300000\n",
    "interest_rate = 0.08\n",
    "\n",
    "emi_house(house_price, loan_duration, interest_rate, deposit)"
   ]
  },
  {
   "cell_type": "code",
   "execution_count": null,
   "id": "92f92b35",
   "metadata": {},
   "outputs": [],
   "source": [
    "##automated calculation of loan\n",
    "Loan_price = float(input('Enter your loan price for the house please:'))\n",
    "Loan_Duration = float(input('Enter the duration of the please:'))\n",
    "Deposit = float(input('Enter your down payment for the house please:'))\n",
    "Interest_rate = float(input('Enter your interest rate please:'))\n",
    "loan_amount = Loan_price - Deposit\n",
    "Duration= Loan_Duration * 12\n",
    "Interest = loan_amount * Interest_rate * ((1 + Interest_rate) ** Duration/(((1 + Interest_rate) ** Duration - 1))\n",
    "\n",
    "print('The Interest payment for this loan is ${}'.format(Interest))"
   ]
  },
  {
   "cell_type": "code",
   "execution_count": 120,
   "id": "5c1b2c29",
   "metadata": {},
   "outputs": [
    {
     "name": "stdout",
     "output_type": "stream",
     "text": [
      "Enter your name please:olu\n",
      "Enter your height in meters please:167\n",
      "Enter your weight in KG please:90\n",
      "olu you are underweight, your BMI is 0.003227078776578579\n"
     ]
    }
   ],
   "source": [
    "##automated calculation of BMI\n",
    "Name = input('Enter your name please:')\n",
    "Height = float(input('Enter your height in meters please:'))\n",
    "Weight = float(input('Enter your weight in KG please:'))\n",
    "BMI = Weight/Height**2\n",
    "\n",
    "if BMI < 18.5:\n",
    "    print(f'{Name} you are underweight, your BMI is {BMI}')\n",
    "elif BMI >= 18.5 and BMI <= 25:\n",
    "    print(f'{Name} you are Normal weight, your BMI is {BMI}')\n",
    "else:\n",
    "    print(f'{Name} you are overweight, your BMI is {BMI}')"
   ]
  },
  {
   "cell_type": "markdown",
   "id": "b672e54b",
   "metadata": {},
   "source": [
    "## Numpy\n"
   ]
  },
  {
   "cell_type": "code",
   "execution_count": 121,
   "id": "b1b022ed",
   "metadata": {},
   "outputs": [],
   "source": [
    "import numpy as np"
   ]
  },
  {
   "cell_type": "code",
   "execution_count": 122,
   "id": "e5448641",
   "metadata": {},
   "outputs": [],
   "source": [
    "weights = [0.3, 0.5, 0.7, 0.8]\n",
    "lagos = [50, 73, 87, 90]\n",
    "abuja = [12, 30, 58, 39]\n",
    "kano = [110, 30, 54, 230]"
   ]
  },
  {
   "cell_type": "code",
   "execution_count": 123,
   "id": "3c6088bc",
   "metadata": {},
   "outputs": [
    {
     "name": "stdout",
     "output_type": "stream",
     "text": [
      "(0.3, 50, 12, 110)\n",
      "(0.5, 73, 30, 30)\n",
      "(0.7, 87, 58, 54)\n",
      "(0.8, 90, 39, 230)\n"
     ]
    }
   ],
   "source": [
    "## using zip to create pairs\n",
    "for i in zip(weights, lagos, abuja, kano):\n",
    "    print(i)"
   ]
  },
  {
   "cell_type": "code",
   "execution_count": 124,
   "id": "b076ce37",
   "metadata": {},
   "outputs": [
    {
     "name": "stdout",
     "output_type": "stream",
     "text": [
      "15.0\n",
      "36.5\n",
      "60.9\n",
      "72.0\n",
      "180.0\n",
      "1095.0\n",
      "3532.2\n",
      "2808.0\n"
     ]
    }
   ],
   "source": [
    "## multiply  2 lists \n",
    "for i, j in zip(weights, lagos):\n",
    "    print(i * j)\n",
    "    \n",
    "## multiply  3 lists \n",
    "for i, j, k in zip(weights, lagos, abuja):\n",
    "    print(i * j * k)"
   ]
  },
  {
   "cell_type": "code",
   "execution_count": 125,
   "id": "3ca5b974",
   "metadata": {},
   "outputs": [],
   "source": [
    "##using numpy\n",
    "weight = np.array([0.3, 0.5, 0.7, 0.8])\n",
    "lag = np.array([50, 73, 87, 90])\n",
    "abj = np.array([12, 30, 58, 39])\n",
    "kanoo = np.array([110, 30, 54, 230])"
   ]
  },
  {
   "cell_type": "code",
   "execution_count": 126,
   "id": "58dc0c74",
   "metadata": {},
   "outputs": [
    {
     "name": "stdout",
     "output_type": "stream",
     "text": [
      "<class 'numpy.ndarray'>\n",
      "<class 'numpy.ndarray'>\n",
      "<class 'list'>\n",
      "<class 'list'>\n"
     ]
    }
   ],
   "source": [
    "#check type\n",
    "print(type(weight))\n",
    "print(type(lag))\n",
    "print(type(weights))\n",
    "print(type(lagos))"
   ]
  },
  {
   "cell_type": "code",
   "execution_count": 127,
   "id": "6503d274",
   "metadata": {},
   "outputs": [],
   "source": [
    "## Numpy Dimension type - 0D array\n",
    "ad = np.array(42.5)\n",
    "\n",
    "## 1D array\n",
    "ac = np.array([50, 73, 87, 90])\n",
    "am = np.array((50, 73, 87.9, 90))\n",
    "\n",
    "## 2D array\n",
    "ab = np.array([[50, 73.1, 87, 90], [51, 83, 77, 17], [31, 33, 67, 53]])\n",
    "ae = np.array(((50, 73, 87, 90), (51, 83, 77.3, 17), (31, 33, 67, 53)))\n",
    "\n",
    "## 3D array\n",
    "at = np.array([[[50, 73, 87, 90], [51, 83, 77, 17]], [[51, 83, 77, 17], [31, 33, 67, 53]]])\n",
    "av = np.array((((50, 73, 87, 90), (51, 83, 77, 17)), ((51, 83, 77, 17), (31, 33, 67, 53))))"
   ]
  },
  {
   "cell_type": "code",
   "execution_count": 128,
   "id": "b7841421",
   "metadata": {},
   "outputs": [
    {
     "name": "stdout",
     "output_type": "stream",
     "text": [
      "0\n",
      "1\n",
      "1\n",
      "2\n",
      "2\n",
      "3\n",
      "3\n"
     ]
    }
   ],
   "source": [
    "##check dimensional type\n",
    "print(ad.ndim)\n",
    "print(ac.ndim)\n",
    "print(am.ndim)\n",
    "print(ae.ndim)\n",
    "print(ab.ndim)\n",
    "print(at.ndim)\n",
    "print(av.ndim)\n"
   ]
  },
  {
   "cell_type": "code",
   "execution_count": 129,
   "id": "3768e189",
   "metadata": {},
   "outputs": [
    {
     "name": "stdout",
     "output_type": "stream",
     "text": [
      "float64\n",
      "int64\n",
      "float64\n",
      "float64\n",
      "float64\n",
      "int64\n",
      "int64\n"
     ]
    }
   ],
   "source": [
    "##check data type\n",
    "print(ad.dtype)\n",
    "print(ac.dtype)\n",
    "print(am.dtype)\n",
    "print(ae.dtype)\n",
    "print(ab.dtype)\n",
    "print(at.dtype)\n",
    "print(av.dtype)"
   ]
  },
  {
   "cell_type": "code",
   "execution_count": 130,
   "id": "9a408a65",
   "metadata": {},
   "outputs": [
    {
     "name": "stdout",
     "output_type": "stream",
     "text": [
      "()\n",
      "(4,)\n",
      "(4,)\n",
      "(3, 4)\n",
      "(3, 4)\n",
      "(2, 2, 4)\n",
      "(2, 2, 4)\n"
     ]
    }
   ],
   "source": [
    "##check shape of array\n",
    "print(ad.shape)\n",
    "print(ac.shape)\n",
    "print(am.shape)\n",
    "print(ae.shape)\n",
    "print(ab.shape)\n",
    "print(at.shape)\n",
    "print(av.shape)"
   ]
  },
  {
   "cell_type": "code",
   "execution_count": 131,
   "id": "4cd34f5f",
   "metadata": {},
   "outputs": [
    {
     "name": "stdout",
     "output_type": "stream",
     "text": [
      "17.0\n",
      "[51.  83.  77.3 17. ]\n",
      "[31 33 67 53]\n",
      "67\n"
     ]
    }
   ],
   "source": [
    "##access data in the arrays\n",
    "print(ae[1, 3])\n",
    "print(ae[1])\n",
    "print(av[1, 1])\n",
    "print(av[1, 1, 2])"
   ]
  },
  {
   "cell_type": "code",
   "execution_count": 132,
   "id": "d078ced7",
   "metadata": {},
   "outputs": [
    {
     "name": "stdout",
     "output_type": "stream",
     "text": [
      "[[[51 83 77 17]\n",
      "  [31 33 67 53]]]\n",
      "[51. 83. 77.]\n"
     ]
    }
   ],
   "source": [
    "##slicing arrays to access data\n",
    "print(av[1:])\n",
    "\n",
    "print(ab[1, 0:3])"
   ]
  },
  {
   "cell_type": "code",
   "execution_count": 133,
   "id": "df658bbc",
   "metadata": {},
   "outputs": [
    {
     "name": "stdout",
     "output_type": "stream",
     "text": [
      "[[50.  73.1 87.  90. ]\n",
      " [51.  83.  77.  17. ]\n",
      " [31.  33.  67.  53. ]]\n",
      "[[50.  73.1 87.  90. ]\n",
      " [51.  83.  77.  17. ]\n",
      " [20.  45.  68.  53. ]]\n"
     ]
    },
    {
     "data": {
      "text/plain": [
       "array([[50. , 73.1, 87. , 90. ],\n",
       "       [51. , 83. , 77. , 17. ],\n",
       "       [20. , 45. , 68. , 10. ]])"
      ]
     },
     "execution_count": 133,
     "metadata": {},
     "output_type": "execute_result"
    }
   ],
   "source": [
    "## copy arrays\n",
    "ba = ab.copy()\n",
    "print(ba)\n",
    "\n",
    "##change data to new data in an array\n",
    "ba[2] = [20,  45,  68, 53,]\n",
    "print(ba)\n",
    "\n",
    "## to change just one data not the entire array\n",
    "ba[2, 3] = 10\n",
    "\n",
    "## view array\n",
    "ba.view()"
   ]
  },
  {
   "cell_type": "code",
   "execution_count": 134,
   "id": "9cb7c644",
   "metadata": {},
   "outputs": [
    {
     "name": "stdout",
     "output_type": "stream",
     "text": [
      "[[50.  73.1 87.  90.  51.  83. ]\n",
      " [77.  17.  20.  45.  68.  10. ]]\n",
      "[[[50.  73.1 87. ]\n",
      "  [90.  51.  83. ]]\n",
      "\n",
      " [[77.  17.  20. ]\n",
      "  [45.  68.  10. ]]]\n",
      "[[50.  73.1 87. ]\n",
      " [90.  51.  83. ]\n",
      " [77.  17.  20. ]\n",
      " [45.  68.  10. ]]\n",
      "2\n",
      "3\n",
      "2\n"
     ]
    }
   ],
   "source": [
    "##reshaping arrays to different dimensions\n",
    "ba\n",
    "bl = ba.reshape(2, 6) ##2D\n",
    "bx = ba.reshape(2, 2, 3) ##3D\n",
    "nc = ba.reshape(4, 3) ##2D\n",
    "\n",
    "print(bl)\n",
    "print(bx)\n",
    "print(nc)\n",
    "print(nc.ndim)\n",
    "print(bx.ndim)\n",
    "print(bl.ndim)"
   ]
  },
  {
   "cell_type": "code",
   "execution_count": 139,
   "id": "5ef8a531",
   "metadata": {},
   "outputs": [
    {
     "name": "stdout",
     "output_type": "stream",
     "text": [
      "[50 73 87 50 73 87]\n",
      "[50 73 87 50 73 87]\n"
     ]
    },
    {
     "data": {
      "text/plain": [
       "array([50, 73, 87, 50, 73, 87])"
      ]
     },
     "execution_count": 139,
     "metadata": {},
     "output_type": "execute_result"
    }
   ],
   "source": [
    "##join arrays\n",
    "ace = np.array([50, 73, 87])\n",
    "aim = np.array([50, 73, 87])\n",
    "\n",
    "arr = np.concatenate((ace, aim))\n",
    "print(arr)\n",
    "\n",
    "## to change dimension\n",
    "\n",
    "are = np.concatenate((ace, aim), axis=0)\n",
    "print(are)\n",
    "\n",
    "##find null values\n",
    "np.isnan(arr)\n",
    "arr"
   ]
  },
  {
   "cell_type": "code",
   "execution_count": 140,
   "id": "b3f0d770",
   "metadata": {},
   "outputs": [
    {
     "name": "stdout",
     "output_type": "stream",
     "text": [
      "[ 0  1  2  3  4  5  6  7  8  9 10 11 12 13 14 15 16 17 18 19 20 21 22 23\n",
      " 24 25 26 27 28 29 30 31 32 33 34 35 36 37 38 39 40 41 42 43 44 45 46 47\n",
      " 48 49]\n",
      "[ 0  5 10 15 20 25 30 35 40 45]\n",
      "[ 0  3  6  9 12 15 18 21 24 27 30 33 36 39 42 45 48]\n",
      "28\n",
      "[0.77932682 0.39988883 0.90810383 0.4779485  0.85905049 0.79460226\n",
      " 0.6938085  0.58478361 0.86367303 0.65634834 0.15112463 0.43029931\n",
      " 0.09178923 0.66739861 0.6574113  0.21708186 0.18732987 0.68775474\n",
      " 0.30985823 0.61560091 0.01622741 0.21169282 0.91302588 0.03874171\n",
      " 0.54128589 0.84256076 0.55360142 0.50025145 0.19357003 0.13060926\n",
      " 0.48115686 0.70441171 0.21599088 0.20450142 0.1063451  0.36157607\n",
      " 0.60942705 0.54787036 0.26386842 0.75138422 0.07838107 0.56107454\n",
      " 0.7218114  0.02221031 0.45511313 0.44617598 0.09412416 0.33977206\n",
      " 0.50006811 0.6539851 ]\n",
      "[0. 1. 2. 3. 4. 5. 6. 7. 8. 9.]\n"
     ]
    }
   ],
   "source": [
    "## to create an array from a range and skip ranges \n",
    "bp = np.arange(0, 50)\n",
    "print(bp)\n",
    "print(np.arange(0, 50, 5))\n",
    "print(np.arange(0, 50, 3))\n",
    "\n",
    "\n",
    "##to generate random integer number\n",
    "print(np.random.randint(50))\n",
    "print(np.random.rand(50))\n",
    "\n",
    "## to create an array of float numbers\n",
    "float = (np.arange(10, dtype = 'f'))\n",
    "print(float)"
   ]
  },
  {
   "cell_type": "code",
   "execution_count": 142,
   "id": "5c04babd",
   "metadata": {},
   "outputs": [
    {
     "name": "stdout",
     "output_type": "stream",
     "text": [
      "[array([50, 73]), array([87, 50]), array([73, 87])]\n",
      "[array([[50. , 73.1, 87. , 90. , 51. , 83. ]]), array([[77., 17., 20., 45., 68., 10.]]), array([], shape=(0, 6), dtype=float64), array([], shape=(0, 6), dtype=float64)]\n",
      "[50 73 87]\n",
      "[[[50.  73.1 87. ]\n",
      "  [51.  83.  90. ]]\n",
      "\n",
      " [[17.  20.  77. ]\n",
      "  [10.  45.  68. ]]]\n",
      "(array([0, 3]),)\n",
      "(array([1, 2, 4, 5]),)\n",
      "(array([0, 3]),)\n",
      "[ 3 40  7 50]\n",
      "(array([ 1,  2,  3,  4,  5,  6,  7,  8,  9, 10, 11, 12, 13, 14, 15, 16, 17,\n",
      "       18, 19, 20, 21, 22, 23, 24, 25, 26, 27, 28, 29, 30, 31, 32, 33, 34,\n",
      "       35, 36, 37, 38, 39, 40, 41, 42, 43, 44, 45, 46, 47, 48, 49]),)\n"
     ]
    },
    {
     "data": {
      "text/plain": [
       "array([50, 73, 87])"
      ]
     },
     "execution_count": 142,
     "metadata": {},
     "output_type": "execute_result"
    }
   ],
   "source": [
    "##to split array into 3 and 4\n",
    "print(np.array_split(arr, 3))\n",
    "print(np.array_split(bl, 4))\n",
    "\n",
    "## to sort the array numerically or alphabetically\n",
    "print(np.sort(ace))\n",
    "print(np.sort(bx))\n",
    "\n",
    "## to search for a value in an array\n",
    "arr\n",
    "print(np.where(arr == 50))\n",
    "print(np.where(arr != 50))\n",
    "print(np.where(arr % 2 == 0))\n",
    "\n",
    "## to search indices\n",
    "print(np.searchsorted(bp, [3, 40, 7, 60]))\n",
    "\n",
    "##to find indices/numbers in the array that are not zero\n",
    "print(np.nonzero(bp))\n",
    "\n",
    "##to return unique array values\n",
    "np.unique(arr)\n",
    "\n",
    "##to union multiple array values\n",
    "np.union1d(arr, arr)\n",
    "\n",
    "##"
   ]
  },
  {
   "cell_type": "code",
   "execution_count": 143,
   "id": "5cbe2cd1",
   "metadata": {},
   "outputs": [
    {
     "name": "stdout",
     "output_type": "stream",
     "text": [
      "[[105.   0. 174.]\n",
      " [-81. 102. 166.]\n",
      " [154.  29. -40.]\n",
      " [ 90. -62.  20.]]\n",
      "[[  5.  146.2   0. ]\n",
      " [ 99.    0.    0. ]\n",
      " [  0.   -5.    0. ]\n",
      " [  0.   74.    0. ]]\n",
      "[[ 2750.   -5343.61  7569.  ]\n",
      " [ -810.    2601.    6889.  ]\n",
      " [ 5929.     204.     400.  ]\n",
      " [ 2025.    -408.     100.  ]]\n",
      "[[ 1.1        -1.          1.        ]\n",
      " [-0.1         1.          1.        ]\n",
      " [ 1.          0.70588235  1.        ]\n",
      " [ 1.         -0.08823529  1.        ]]\n",
      "[[  5.  -0.   0.]\n",
      " [-81.   0.   0.]\n",
      " [  0.  12.  -0.]\n",
      " [  0. -62.   0.]]\n",
      "[[1.04264022e+087 5.59293464e-137 5.47236401e+168]\n",
      " [1.31272619e-086 1.21921131e+087 1.92079788e+159]\n",
      " [1.81880374e+145 2.21861111e+018 9.53674316e-027]\n",
      " [2.48063644e+074 1.21818984e-053 1.00000000e+010]]\n",
      "[[55.  73.1 87. ]\n",
      " [ 9.  51.  83. ]\n",
      " [77.  12.  20. ]\n",
      " [45.   6.  10. ]]\n"
     ]
    }
   ],
   "source": [
    "## carrying out arithemetic functions\n",
    "\n",
    "aa = np.array([[50,  -73.1, 87],\n",
    "     [-90,  51,  83],\n",
    "     [77,  17,  -20],\n",
    "     [45,  -68,  10]])\n",
    "\n",
    "ad = np.array([[55,  73.1, 87],\n",
    "     [9,  51,  83],\n",
    "     [77,  12,  -20],\n",
    "     [45,  6,  10]])\n",
    "\n",
    "\n",
    "print(np.add(ad, aa))\n",
    "print(np.subtract(ad, aa))\n",
    "print(np.multiply(ad, aa))\n",
    "print(np.divide(ad, aa))\n",
    "print(np.remainder(ad, aa))\n",
    "print(np.power(ad, aa))\n",
    "print(np.absolute(ad))\n"
   ]
  },
  {
   "cell_type": "code",
   "execution_count": 144,
   "id": "9e6b419a",
   "metadata": {},
   "outputs": [
    {
     "name": "stdout",
     "output_type": "stream",
     "text": [
      "[[ 1.1        -1.          1.        ]\n",
      " [-0.1         1.          1.        ]\n",
      " [ 1.          0.70588235  1.        ]\n",
      " [ 1.         -0.08823529  1.        ]]\n",
      "[[ 2750.   -5343.61  7569.  ]\n",
      " [ -810.    2601.    6889.  ]\n",
      " [ 5929.     204.     400.  ]\n",
      " [ 2025.    -408.     100.  ]]\n",
      "[[  5.  146.2   0. ]\n",
      " [ 99.    0.    0. ]\n",
      " [  0.   -5.    0. ]\n",
      " [  0.   74.    0. ]]\n",
      "[[105.   0. 174.]\n",
      " [-81. 102. 166.]\n",
      " [154.  29. -40.]\n",
      " [ 90. -62.  20.]]\n",
      "[[  5.  -0.   0.]\n",
      " [-81.   0.   0.]\n",
      " [  0.  12.  -0.]\n",
      " [  0. -62.   0.]]\n",
      "[[False False  True]\n",
      " [False  True  True]\n",
      " [ True False  True]\n",
      " [ True False  True]]\n",
      "[[ True  True False]\n",
      " [ True False False]\n",
      " [False  True False]\n",
      " [False  True False]]\n",
      "[[ True  True  True]\n",
      " [ True  True  True]\n",
      " [ True False  True]\n",
      " [ True  True  True]]\n",
      "[[False False  True]\n",
      " [False  True  True]\n",
      " [ True  True  True]\n",
      " [ True False  True]]\n",
      "[[ True  True False]\n",
      " [ True False False]\n",
      " [False False False]\n",
      " [False  True False]]\n",
      "[[False False False]\n",
      " [False False False]\n",
      " [False  True False]\n",
      " [False False False]]\n"
     ]
    }
   ],
   "source": [
    "## arithemetic functions\n",
    "print(ad / aa)\n",
    "print(ad * aa)\n",
    "print(ad - aa)\n",
    "print(ad + aa)\n",
    "print(ad % aa)\n",
    "\n",
    "##comparing arrays\n",
    "print(ad == aa)\n",
    "print(ad != aa)\n",
    "print(ad >= aa)\n",
    "print(ad <= aa)\n",
    "print(ad > aa)\n",
    "print(ad < aa)"
   ]
  },
  {
   "cell_type": "code",
   "execution_count": 145,
   "id": "875ffc1d",
   "metadata": {},
   "outputs": [
    {
     "name": "stdout",
     "output_type": "stream",
     "text": [
      "[[ 55.  73.  87.]\n",
      " [  9.  51.  83.]\n",
      " [ 77.  12. -20.]\n",
      " [ 45.   6.  10.]]\n",
      "[[ 55.  73.  87.]\n",
      " [  9.  51.  83.]\n",
      " [ 77.  12. -20.]\n",
      " [ 45.   6.  10.]]\n",
      "[[ 56.  73.  87.]\n",
      " [ 10.  51.  84.]\n",
      " [ 77.  13. -21.]\n",
      " [ 46.   6.  11.]]\n",
      "[[ 55.  73.  87.]\n",
      " [  9.  51.  83.]\n",
      " [ 77.  12. -21.]\n",
      " [ 45.   6.  10.]]\n",
      "[[ 56.  74.  88.]\n",
      " [ 10.  52.  84.]\n",
      " [ 78.  13. -20.]\n",
      " [ 46.   7.  11.]]\n"
     ]
    }
   ],
   "source": [
    "##rounding decimal points\n",
    "arr1= [[55.52,  73.1, 87.25],\n",
    "     [9.65,  51.16,  83.55],\n",
    "     [77.45,  12.53,  -20.56],\n",
    "     [45.76,  6.24,  10.51]]\n",
    "\n",
    "print(np.trunc(arr1))\n",
    "print(np.fix(arr1))\n",
    "print(np.around(arr1))\n",
    "print(np.floor(arr1))\n",
    "print(np.ceil(arr1))"
   ]
  },
  {
   "cell_type": "code",
   "execution_count": 146,
   "id": "acd5ff16",
   "metadata": {},
   "outputs": [
    {
     "name": "stdout",
     "output_type": "stream",
     "text": [
      "162129586585337856\n",
      "1770\n",
      "[3 3 3 3 3 3 3 3 3 3 3 3 3 3 3 3 3 3 3]\n",
      "[                   1                    2                    6\n",
      "                   24                  120                  720\n",
      "                 5040                40320               362880\n",
      "              3628800             39916800            479001600\n",
      "           6227020800          87178291200        1307674368000\n",
      "       20922789888000      355687428096000     6402373705728000\n",
      "   121645100408832000  2432902008176640000 -4249290049419214848\n",
      " -1250660718674968576  8128291617894825984 -7835185981329244160\n",
      "  7034535277573963776 -1569523520172457984 -5483646897237262336\n",
      " -5968160532966932480 -7055958792655077376 -8764578968847253504\n",
      "  4999213071378415616 -6045878379276664832  3400198294675128320\n",
      "  4926277576697053184  6399018521010896896  9003737871877668864\n",
      "  1096907932701818880  4789013295250014208  2304077777655037952\n",
      "   -70609262346240000 -2894979756195840000  7538058755741581312\n",
      " -7904866829883932672  2673996885588443136 -8797348664486920192\n",
      "  1150331055211806720 -1274672626173739008 -5844053835210817536\n",
      "  8789267254022766592 -3258495067890909184  -162551799050403840\n",
      " -8452693550620999680 -5270900413883744256 -7927461244078915584\n",
      "  6711489344688881664  6908521828386340864  6404118670120845312\n",
      "  2504001392817995776   162129586585337856]\n",
      "[   1    3    6   10   15   21   28   36   45   55   66   78   91  105\n",
      "  120  136  153  171  190  210  231  253  276  300  325  351  378  406\n",
      "  435  465  496  528  561  595  630  666  703  741  780  820  861  903\n",
      "  946  990 1035 1081 1128 1176 1225 1275 1326 1378 1431 1485 1540 1596\n",
      " 1653 1711 1770]\n"
     ]
    },
    {
     "ename": "TypeError",
     "evalue": "gcd() takes from 2 to 3 positional arguments but 1 were given",
     "output_type": "error",
     "traceback": [
      "\u001b[0;31m---------------------------------------------------------------------------\u001b[0m",
      "\u001b[0;31mTypeError\u001b[0m                                 Traceback (most recent call last)",
      "Input \u001b[0;32mIn [146]\u001b[0m, in \u001b[0;36m<cell line: 21>\u001b[0;34m()\u001b[0m\n\u001b[1;32m     18\u001b[0m \u001b[38;5;28mprint\u001b[39m(np\u001b[38;5;241m.\u001b[39mcumsum(z))\n\u001b[1;32m     20\u001b[0m \u001b[38;5;66;03m##greatest common denominator in the array\u001b[39;00m\n\u001b[0;32m---> 21\u001b[0m \u001b[38;5;28mprint\u001b[39m(\u001b[43mnp\u001b[49m\u001b[38;5;241;43m.\u001b[39;49m\u001b[43mgcd\u001b[49m\u001b[43m(\u001b[49m\u001b[43marr2\u001b[49m\u001b[43m)\u001b[49m)\n\u001b[1;32m     23\u001b[0m \u001b[38;5;66;03m##lowest common multiple in the array\u001b[39;00m\n\u001b[1;32m     24\u001b[0m np\u001b[38;5;241m.\u001b[39mlcm(arr2)\n",
      "\u001b[0;31mTypeError\u001b[0m: gcd() takes from 2 to 3 positional arguments but 1 were given"
     ]
    }
   ],
   "source": [
    "z = np.arange(1, 60)\n",
    "l = np.arange(1, 60, 3)\n",
    "arr2 = np.array([3, 6, 9])\n",
    "\n",
    "##multiplying every number in the array\n",
    "print(np.prod(z))\n",
    "\n",
    "##adding every number in the array\n",
    "print(np.sum(z))\n",
    "\n",
    "##deducting previous number from the next number in the array\n",
    "print(np.diff(l))\n",
    "\n",
    "##cummulative multiplication of every number in the array\n",
    "print(np.cumprod(z))\n",
    "\n",
    "##cummulative sum of every number in the array\n",
    "print(np.cumsum(z))\n",
    "\n",
    "##greatest common denominator in the array\n",
    "print(np.gcd(arr2))\n",
    "\n",
    "##lowest common multiple in the array\n",
    "np.lcm(arr2)\n",
    "np.lcm.reduce(arr2)\n",
    "\n",
    "##to return unique and union array values\n",
    "np.unique(arr)\n",
    "np.union(arr)"
   ]
  },
  {
   "cell_type": "code",
   "execution_count": 156,
   "id": "e84e34c7",
   "metadata": {
    "scrolled": true
   },
   "outputs": [
    {
     "data": {
      "text/plain": [
       "array([87, 73, 50, 87, 73, 50])"
      ]
     },
     "execution_count": 156,
     "metadata": {},
     "output_type": "execute_result"
    }
   ],
   "source": [
    "## to sort numpy array\n",
    "arr1 = arr\n",
    "np.sort(arr1)\n",
    "np.flipud(arr1) ##desc order"
   ]
  },
  {
   "cell_type": "markdown",
   "id": "4ddedb00",
   "metadata": {},
   "source": [
    "## Pandas"
   ]
  },
  {
   "cell_type": "code",
   "execution_count": 157,
   "id": "533f6ce3",
   "metadata": {},
   "outputs": [],
   "source": [
    "##Create Dataframe with a dict\n",
    "import pandas as pd\n"
   ]
  },
  {
   "cell_type": "code",
   "execution_count": 158,
   "id": "880aa689",
   "metadata": {
    "scrolled": true
   },
   "outputs": [
    {
     "name": "stdout",
     "output_type": "stream",
     "text": [
      "{'Name': ['Olu', 'jas', 'JOjo'], 'Age': [23, 22, 31]}\n",
      "{'name': ['Olubukola Badero', 'Adedoyin Oladunni', 'Jasmine Oladunni'], 'religion': ['christian', 'christian', 'christian'], 'age': [34, 36, 5], 'height': [112, 122, 60], 'weight': [100, 96, 25]}\n"
     ]
    },
    {
     "data": {
      "text/html": [
       "<div>\n",
       "<style scoped>\n",
       "    .dataframe tbody tr th:only-of-type {\n",
       "        vertical-align: middle;\n",
       "    }\n",
       "\n",
       "    .dataframe tbody tr th {\n",
       "        vertical-align: top;\n",
       "    }\n",
       "\n",
       "    .dataframe thead th {\n",
       "        text-align: right;\n",
       "    }\n",
       "</style>\n",
       "<table border=\"1\" class=\"dataframe\">\n",
       "  <thead>\n",
       "    <tr style=\"text-align: right;\">\n",
       "      <th></th>\n",
       "      <th>name</th>\n",
       "      <th>religion</th>\n",
       "      <th>age</th>\n",
       "      <th>height</th>\n",
       "      <th>weight</th>\n",
       "    </tr>\n",
       "  </thead>\n",
       "  <tbody>\n",
       "    <tr>\n",
       "      <th>0</th>\n",
       "      <td>Olubukola Badero</td>\n",
       "      <td>christian</td>\n",
       "      <td>34</td>\n",
       "      <td>112</td>\n",
       "      <td>100</td>\n",
       "    </tr>\n",
       "    <tr>\n",
       "      <th>1</th>\n",
       "      <td>Adedoyin Oladunni</td>\n",
       "      <td>christian</td>\n",
       "      <td>36</td>\n",
       "      <td>122</td>\n",
       "      <td>96</td>\n",
       "    </tr>\n",
       "    <tr>\n",
       "      <th>2</th>\n",
       "      <td>Jasmine Oladunni</td>\n",
       "      <td>christian</td>\n",
       "      <td>5</td>\n",
       "      <td>60</td>\n",
       "      <td>25</td>\n",
       "    </tr>\n",
       "  </tbody>\n",
       "</table>\n",
       "</div>"
      ],
      "text/plain": [
       "                name   religion  age  height  weight\n",
       "0   Olubukola Badero  christian   34     112     100\n",
       "1  Adedoyin Oladunni  christian   36     122      96\n",
       "2   Jasmine Oladunni  christian    5      60      25"
      ]
     },
     "execution_count": 158,
     "metadata": {},
     "output_type": "execute_result"
    }
   ],
   "source": [
    "pre = dict(Name = ['Olu', 'jas', 'JOjo'],\n",
    "            Age = [23, 22, 31])\n",
    "print(pre)\n",
    "\n",
    "person = {'name' : ['Olubukola Badero', 'Adedoyin Oladunni', 'Jasmine Oladunni'],\n",
    "           'religion' : ['christian', 'christian', 'christian'],\n",
    "            'age' : [34, 36, 5], \n",
    "          'height' : [112, 122, 60],\n",
    "            'weight' : [100, 96, 25]}\n",
    "print(person)\n",
    "\n",
    "\n",
    "table = pd.DataFrame(person)\n",
    "table"
   ]
  },
  {
   "cell_type": "code",
   "execution_count": 159,
   "id": "055be352",
   "metadata": {},
   "outputs": [
    {
     "data": {
      "text/html": [
       "<div>\n",
       "<style scoped>\n",
       "    .dataframe tbody tr th:only-of-type {\n",
       "        vertical-align: middle;\n",
       "    }\n",
       "\n",
       "    .dataframe tbody tr th {\n",
       "        vertical-align: top;\n",
       "    }\n",
       "\n",
       "    .dataframe thead th {\n",
       "        text-align: right;\n",
       "    }\n",
       "</style>\n",
       "<table border=\"1\" class=\"dataframe\">\n",
       "  <thead>\n",
       "    <tr style=\"text-align: right;\">\n",
       "      <th></th>\n",
       "      <th>name</th>\n",
       "      <th>religion</th>\n",
       "      <th>age</th>\n",
       "      <th>height</th>\n",
       "      <th>weight</th>\n",
       "      <th>sex</th>\n",
       "    </tr>\n",
       "  </thead>\n",
       "  <tbody>\n",
       "    <tr>\n",
       "      <th>0</th>\n",
       "      <td>Olubukola Badero</td>\n",
       "      <td>christian</td>\n",
       "      <td>34</td>\n",
       "      <td>112</td>\n",
       "      <td>100</td>\n",
       "      <td>Female</td>\n",
       "    </tr>\n",
       "    <tr>\n",
       "      <th>1</th>\n",
       "      <td>Adedoyin Oladunni</td>\n",
       "      <td>christian</td>\n",
       "      <td>36</td>\n",
       "      <td>122</td>\n",
       "      <td>96</td>\n",
       "      <td>Male</td>\n",
       "    </tr>\n",
       "    <tr>\n",
       "      <th>2</th>\n",
       "      <td>Jasmine Oladunni</td>\n",
       "      <td>christian</td>\n",
       "      <td>5</td>\n",
       "      <td>60</td>\n",
       "      <td>25</td>\n",
       "      <td>Female</td>\n",
       "    </tr>\n",
       "    <tr>\n",
       "      <th>3</th>\n",
       "      <td>Joseline Oladunni</td>\n",
       "      <td>christian</td>\n",
       "      <td>1</td>\n",
       "      <td>30</td>\n",
       "      <td>1</td>\n",
       "      <td>Female</td>\n",
       "    </tr>\n",
       "    <tr>\n",
       "      <th>4</th>\n",
       "      <td>Olaide Badero</td>\n",
       "      <td>christian</td>\n",
       "      <td>58</td>\n",
       "      <td>180</td>\n",
       "      <td>70</td>\n",
       "      <td>Female</td>\n",
       "    </tr>\n",
       "    <tr>\n",
       "      <th>5</th>\n",
       "      <td>Adeola Amushan</td>\n",
       "      <td>christian</td>\n",
       "      <td>58</td>\n",
       "      <td>120</td>\n",
       "      <td>70</td>\n",
       "      <td>Female</td>\n",
       "    </tr>\n",
       "  </tbody>\n",
       "</table>\n",
       "</div>"
      ],
      "text/plain": [
       "                name   religion  age  height  weight     sex\n",
       "0   Olubukola Badero  christian   34     112     100  Female\n",
       "1  Adedoyin Oladunni  christian   36     122      96    Male\n",
       "2   Jasmine Oladunni  christian    5      60      25  Female\n",
       "3  Joseline Oladunni  christian    1      30       1  Female\n",
       "4      Olaide Badero  christian   58     180      70  Female\n",
       "5     Adeola Amushan  christian   58     120      70  Female"
      ]
     },
     "execution_count": 159,
     "metadata": {},
     "output_type": "execute_result"
    }
   ],
   "source": [
    "##add new row\n",
    "table.loc[len(table.index)] = ['Joseline Oladunni', 'christian', 1, 30, 1] \n",
    "table.loc[len(table.index)] = ['Olaide Badero', 'christian', 58, 180, 70] \n",
    "table.loc[len(table.index)] = ['Adeola Amushan', 'christian', 58, 120, 70]\n",
    "table\n",
    "\n",
    "## add new column\n",
    "table['sex'] = ['Female', 'Male', 'Female', 'Female' , 'Female', 'Female']\n",
    "table\n",
    "\n"
   ]
  },
  {
   "cell_type": "code",
   "execution_count": 160,
   "id": "0b7ce2d5",
   "metadata": {},
   "outputs": [
    {
     "ename": "SyntaxError",
     "evalue": "invalid syntax (1214093856.py, line 15)",
     "output_type": "error",
     "traceback": [
      "\u001b[0;36m  Input \u001b[0;32mIn [160]\u001b[0;36m\u001b[0m\n\u001b[0;31m    table.loc[table['name'].str.contains('Olu|Ade'), regex = True] ## find different words using regular expression\u001b[0m\n\u001b[0m                                                           ^\u001b[0m\n\u001b[0;31mSyntaxError\u001b[0m\u001b[0;31m:\u001b[0m invalid syntax\n"
     ]
    }
   ],
   "source": [
    "\n",
    "##viewing data in Pandas\n",
    "table.loc[[1, 2]] ##rows\n",
    "table.loc[1:5] ##rows\n",
    "table.loc[table.religion == 'christian']\n",
    "table.loc[table['weight'] >= 50]\n",
    "table.loc[(table['weight'] >= 50) & (table['height'] >= 110)] ## & stands for and\n",
    "table.loc[(table['weight'] <= 50) | (table['height'] >= 110)] ## | stands for or\n",
    "table['name'] ##columns\n",
    "table['name'][3] ##field\n",
    "table.at[3, 'name'] ##field\n",
    "table.head(5) ##top 5 rows\n",
    "table.tail(5) ##bottom 5 rows\n",
    "table[table.religion == 'christian'] ## show all christians\n",
    "table.loc[table['name'].str.contains('O|ola')] ## find any name with ola or Ola\n",
    "table.loc[table['name'].str.contains('Olu|Ade'), regex = True] ## find different words using regular expression \n",
    "table.loc[table['name'].str.contains('Olu|Ade'), flags = re.I, regex = True] ## retrieve irrespective of capitalisation\n",
    "table.sample() ##view sample data\n",
    "table.first_valid_index() ##find the first index without a null value\n",
    "\n"
   ]
  },
  {
   "cell_type": "code",
   "execution_count": 161,
   "id": "965cfc7c",
   "metadata": {},
   "outputs": [
    {
     "ename": "SyntaxError",
     "evalue": "invalid syntax (3078431774.py, line 2)",
     "output_type": "error",
     "traceback": [
      "\u001b[0;36m  Input \u001b[0;32mIn [161]\u001b[0;36m\u001b[0m\n\u001b[0;31m    table.loc[table['name'].str.contains('olu|ade'), flags=re.I, regex = True]\u001b[0m\n\u001b[0m                                                          ^\u001b[0m\n\u001b[0;31mSyntaxError\u001b[0m\u001b[0;31m:\u001b[0m invalid syntax\n"
     ]
    }
   ],
   "source": [
    "import re\n",
    "table.loc[table['name'].str.contains('olu|ade'), flags=re.I, regex = True]"
   ]
  },
  {
   "cell_type": "code",
   "execution_count": 162,
   "id": "2aa1e1d3",
   "metadata": {},
   "outputs": [
    {
     "name": "stdout",
     "output_type": "stream",
     "text": [
      "<class 'pandas.core.frame.DataFrame'>\n",
      "Int64Index: 6 entries, 0 to 5\n",
      "Data columns (total 6 columns):\n",
      " #   Column    Non-Null Count  Dtype \n",
      "---  ------    --------------  ----- \n",
      " 0   name      6 non-null      object\n",
      " 1   religion  6 non-null      object\n",
      " 2   age       6 non-null      int64 \n",
      " 3   height    6 non-null      int64 \n",
      " 4   weight    6 non-null      int64 \n",
      " 5   sex       6 non-null      object\n",
      "dtypes: int64(3), object(3)\n",
      "memory usage: 336.0+ bytes\n"
     ]
    },
    {
     "ename": "ValueError",
     "evalue": "Cannot take a larger sample than population when 'replace=False'",
     "output_type": "error",
     "traceback": [
      "\u001b[0;31m---------------------------------------------------------------------------\u001b[0m",
      "\u001b[0;31mValueError\u001b[0m                                Traceback (most recent call last)",
      "Input \u001b[0;32mIn [162]\u001b[0m, in \u001b[0;36m<cell line: 8>\u001b[0;34m()\u001b[0m\n\u001b[1;32m      6\u001b[0m table\u001b[38;5;241m.\u001b[39misnull()\n\u001b[1;32m      7\u001b[0m table\u001b[38;5;241m.\u001b[39mcolumns\n\u001b[0;32m----> 8\u001b[0m \u001b[43mtable\u001b[49m\u001b[38;5;241;43m.\u001b[39;49m\u001b[43msample\u001b[49m\u001b[43m(\u001b[49m\u001b[38;5;241;43m10\u001b[39;49m\u001b[43m)\u001b[49m\n\u001b[1;32m      9\u001b[0m xy \u001b[38;5;241m=\u001b[39m table\u001b[38;5;241m.\u001b[39mcopy()\n",
      "File \u001b[0;32m~/opt/anaconda3/lib/python3.9/site-packages/pandas/core/generic.py:5446\u001b[0m, in \u001b[0;36mNDFrame.sample\u001b[0;34m(self, n, frac, replace, weights, random_state, axis, ignore_index)\u001b[0m\n\u001b[1;32m   5443\u001b[0m \u001b[38;5;28;01mif\u001b[39;00m weights \u001b[38;5;129;01mis\u001b[39;00m \u001b[38;5;129;01mnot\u001b[39;00m \u001b[38;5;28;01mNone\u001b[39;00m:\n\u001b[1;32m   5444\u001b[0m     weights \u001b[38;5;241m=\u001b[39m sample\u001b[38;5;241m.\u001b[39mpreprocess_weights(\u001b[38;5;28mself\u001b[39m, weights, axis)\n\u001b[0;32m-> 5446\u001b[0m sampled_indices \u001b[38;5;241m=\u001b[39m \u001b[43msample\u001b[49m\u001b[38;5;241;43m.\u001b[39;49m\u001b[43msample\u001b[49m\u001b[43m(\u001b[49m\u001b[43mobj_len\u001b[49m\u001b[43m,\u001b[49m\u001b[43m \u001b[49m\u001b[43msize\u001b[49m\u001b[43m,\u001b[49m\u001b[43m \u001b[49m\u001b[43mreplace\u001b[49m\u001b[43m,\u001b[49m\u001b[43m \u001b[49m\u001b[43mweights\u001b[49m\u001b[43m,\u001b[49m\u001b[43m \u001b[49m\u001b[43mrs\u001b[49m\u001b[43m)\u001b[49m\n\u001b[1;32m   5447\u001b[0m result \u001b[38;5;241m=\u001b[39m \u001b[38;5;28mself\u001b[39m\u001b[38;5;241m.\u001b[39mtake(sampled_indices, axis\u001b[38;5;241m=\u001b[39maxis)\n\u001b[1;32m   5449\u001b[0m \u001b[38;5;28;01mif\u001b[39;00m ignore_index:\n",
      "File \u001b[0;32m~/opt/anaconda3/lib/python3.9/site-packages/pandas/core/sample.py:150\u001b[0m, in \u001b[0;36msample\u001b[0;34m(obj_len, size, replace, weights, random_state)\u001b[0m\n\u001b[1;32m    147\u001b[0m     \u001b[38;5;28;01melse\u001b[39;00m:\n\u001b[1;32m    148\u001b[0m         \u001b[38;5;28;01mraise\u001b[39;00m \u001b[38;5;167;01mValueError\u001b[39;00m(\u001b[38;5;124m\"\u001b[39m\u001b[38;5;124mInvalid weights: weights sum to zero\u001b[39m\u001b[38;5;124m\"\u001b[39m)\n\u001b[0;32m--> 150\u001b[0m \u001b[38;5;28;01mreturn\u001b[39;00m \u001b[43mrandom_state\u001b[49m\u001b[38;5;241;43m.\u001b[39;49m\u001b[43mchoice\u001b[49m\u001b[43m(\u001b[49m\u001b[43mobj_len\u001b[49m\u001b[43m,\u001b[49m\u001b[43m \u001b[49m\u001b[43msize\u001b[49m\u001b[38;5;241;43m=\u001b[39;49m\u001b[43msize\u001b[49m\u001b[43m,\u001b[49m\u001b[43m \u001b[49m\u001b[43mreplace\u001b[49m\u001b[38;5;241;43m=\u001b[39;49m\u001b[43mreplace\u001b[49m\u001b[43m,\u001b[49m\u001b[43m \u001b[49m\u001b[43mp\u001b[49m\u001b[38;5;241;43m=\u001b[39;49m\u001b[43mweights\u001b[49m\u001b[43m)\u001b[49m\u001b[38;5;241m.\u001b[39mastype(\n\u001b[1;32m    151\u001b[0m     np\u001b[38;5;241m.\u001b[39mintp, copy\u001b[38;5;241m=\u001b[39m\u001b[38;5;28;01mFalse\u001b[39;00m\n\u001b[1;32m    152\u001b[0m )\n",
      "File \u001b[0;32mmtrand.pyx:965\u001b[0m, in \u001b[0;36mnumpy.random.mtrand.RandomState.choice\u001b[0;34m()\u001b[0m\n",
      "\u001b[0;31mValueError\u001b[0m: Cannot take a larger sample than population when 'replace=False'"
     ]
    }
   ],
   "source": [
    "## basic information about the dataframe\n",
    "table.info()\n",
    "table.describe()\n",
    "table.shape\n",
    "table.isna()\n",
    "table.isnull()\n",
    "table.columns\n",
    "table.sample(10)\n",
    "xy = table.copy() ##to copy a dataframe and create a copy in a variable\n"
   ]
  },
  {
   "cell_type": "code",
   "execution_count": 163,
   "id": "8746f3e6",
   "metadata": {
    "scrolled": true
   },
   "outputs": [
    {
     "ename": "ValueError",
     "evalue": "cannot set a row with mismatched columns",
     "output_type": "error",
     "traceback": [
      "\u001b[0;31m---------------------------------------------------------------------------\u001b[0m",
      "\u001b[0;31mValueError\u001b[0m                                Traceback (most recent call last)",
      "Input \u001b[0;32mIn [163]\u001b[0m, in \u001b[0;36m<cell line: 1>\u001b[0;34m()\u001b[0m\n\u001b[0;32m----> 1\u001b[0m table\u001b[38;5;241m.\u001b[39mloc[\u001b[38;5;28mlen\u001b[39m(table\u001b[38;5;241m.\u001b[39mindex)] \u001b[38;5;241m=\u001b[39m [\u001b[38;5;124m'\u001b[39m\u001b[38;5;124mNan\u001b[39m\u001b[38;5;124m'\u001b[39m, \u001b[38;5;124m'\u001b[39m\u001b[38;5;124mNan\u001b[39m\u001b[38;5;124m'\u001b[39m, \u001b[38;5;124m'\u001b[39m\u001b[38;5;124mNan\u001b[39m\u001b[38;5;124m'\u001b[39m, \u001b[38;5;124m'\u001b[39m\u001b[38;5;124mNan\u001b[39m\u001b[38;5;124m'\u001b[39m, \u001b[38;5;124m'\u001b[39m\u001b[38;5;124mNan\u001b[39m\u001b[38;5;124m'\u001b[39m]\n\u001b[1;32m      3\u001b[0m \u001b[38;5;66;03m##to replace Nan datas in the dataframe with Numpy nan values\u001b[39;00m\n\u001b[1;32m      5\u001b[0m table\u001b[38;5;241m.\u001b[39mreplace(\u001b[38;5;124m'\u001b[39m\u001b[38;5;124mNan\u001b[39m\u001b[38;5;124m'\u001b[39m, np\u001b[38;5;241m.\u001b[39mnan, inplace\u001b[38;5;241m=\u001b[39m\u001b[38;5;28;01mTrue\u001b[39;00m)\n",
      "File \u001b[0;32m~/opt/anaconda3/lib/python3.9/site-packages/pandas/core/indexing.py:716\u001b[0m, in \u001b[0;36m_LocationIndexer.__setitem__\u001b[0;34m(self, key, value)\u001b[0m\n\u001b[1;32m    713\u001b[0m \u001b[38;5;28mself\u001b[39m\u001b[38;5;241m.\u001b[39m_has_valid_setitem_indexer(key)\n\u001b[1;32m    715\u001b[0m iloc \u001b[38;5;241m=\u001b[39m \u001b[38;5;28mself\u001b[39m \u001b[38;5;28;01mif\u001b[39;00m \u001b[38;5;28mself\u001b[39m\u001b[38;5;241m.\u001b[39mname \u001b[38;5;241m==\u001b[39m \u001b[38;5;124m\"\u001b[39m\u001b[38;5;124miloc\u001b[39m\u001b[38;5;124m\"\u001b[39m \u001b[38;5;28;01melse\u001b[39;00m \u001b[38;5;28mself\u001b[39m\u001b[38;5;241m.\u001b[39mobj\u001b[38;5;241m.\u001b[39miloc\n\u001b[0;32m--> 716\u001b[0m \u001b[43miloc\u001b[49m\u001b[38;5;241;43m.\u001b[39;49m\u001b[43m_setitem_with_indexer\u001b[49m\u001b[43m(\u001b[49m\u001b[43mindexer\u001b[49m\u001b[43m,\u001b[49m\u001b[43m \u001b[49m\u001b[43mvalue\u001b[49m\u001b[43m,\u001b[49m\u001b[43m \u001b[49m\u001b[38;5;28;43mself\u001b[39;49m\u001b[38;5;241;43m.\u001b[39;49m\u001b[43mname\u001b[49m\u001b[43m)\u001b[49m\n",
      "File \u001b[0;32m~/opt/anaconda3/lib/python3.9/site-packages/pandas/core/indexing.py:1682\u001b[0m, in \u001b[0;36m_iLocIndexer._setitem_with_indexer\u001b[0;34m(self, indexer, value, name)\u001b[0m\n\u001b[1;32m   1679\u001b[0m     indexer, missing \u001b[38;5;241m=\u001b[39m convert_missing_indexer(indexer)\n\u001b[1;32m   1681\u001b[0m     \u001b[38;5;28;01mif\u001b[39;00m missing:\n\u001b[0;32m-> 1682\u001b[0m         \u001b[38;5;28;43mself\u001b[39;49m\u001b[38;5;241;43m.\u001b[39;49m\u001b[43m_setitem_with_indexer_missing\u001b[49m\u001b[43m(\u001b[49m\u001b[43mindexer\u001b[49m\u001b[43m,\u001b[49m\u001b[43m \u001b[49m\u001b[43mvalue\u001b[49m\u001b[43m)\u001b[49m\n\u001b[1;32m   1683\u001b[0m         \u001b[38;5;28;01mreturn\u001b[39;00m\n\u001b[1;32m   1685\u001b[0m \u001b[38;5;66;03m# align and set the values\u001b[39;00m\n",
      "File \u001b[0;32m~/opt/anaconda3/lib/python3.9/site-packages/pandas/core/indexing.py:1998\u001b[0m, in \u001b[0;36m_iLocIndexer._setitem_with_indexer_missing\u001b[0;34m(self, indexer, value)\u001b[0m\n\u001b[1;32m   1995\u001b[0m     \u001b[38;5;28;01mif\u001b[39;00m is_list_like_indexer(value):\n\u001b[1;32m   1996\u001b[0m         \u001b[38;5;66;03m# must have conforming columns\u001b[39;00m\n\u001b[1;32m   1997\u001b[0m         \u001b[38;5;28;01mif\u001b[39;00m \u001b[38;5;28mlen\u001b[39m(value) \u001b[38;5;241m!=\u001b[39m \u001b[38;5;28mlen\u001b[39m(\u001b[38;5;28mself\u001b[39m\u001b[38;5;241m.\u001b[39mobj\u001b[38;5;241m.\u001b[39mcolumns):\n\u001b[0;32m-> 1998\u001b[0m             \u001b[38;5;28;01mraise\u001b[39;00m \u001b[38;5;167;01mValueError\u001b[39;00m(\u001b[38;5;124m\"\u001b[39m\u001b[38;5;124mcannot set a row with mismatched columns\u001b[39m\u001b[38;5;124m\"\u001b[39m)\n\u001b[1;32m   2000\u001b[0m     value \u001b[38;5;241m=\u001b[39m Series(value, index\u001b[38;5;241m=\u001b[39m\u001b[38;5;28mself\u001b[39m\u001b[38;5;241m.\u001b[39mobj\u001b[38;5;241m.\u001b[39mcolumns, name\u001b[38;5;241m=\u001b[39mindexer)\n\u001b[1;32m   2002\u001b[0m \u001b[38;5;28;01mif\u001b[39;00m \u001b[38;5;129;01mnot\u001b[39;00m \u001b[38;5;28mlen\u001b[39m(\u001b[38;5;28mself\u001b[39m\u001b[38;5;241m.\u001b[39mobj):\n\u001b[1;32m   2003\u001b[0m     \u001b[38;5;66;03m# We will ignore the existing dtypes instead of using\u001b[39;00m\n\u001b[1;32m   2004\u001b[0m     \u001b[38;5;66;03m#  internals.concat logic\u001b[39;00m\n",
      "\u001b[0;31mValueError\u001b[0m: cannot set a row with mismatched columns"
     ]
    }
   ],
   "source": [
    "table.loc[len(table.index)] = ['Nan', 'Nan', 'Nan', 'Nan', 'Nan']\n",
    "\n",
    "##to replace Nan datas in the dataframe with Numpy nan values\n",
    "\n",
    "table.replace('Nan', np.nan, inplace=True)\n",
    "\n",
    "##to change column data type\n",
    "table['weight'] = table['weight'].astype(int)\n",
    "\n",
    "\n",
    "table"
   ]
  },
  {
   "cell_type": "code",
   "execution_count": 164,
   "id": "1f44859d",
   "metadata": {},
   "outputs": [
    {
     "ename": "SyntaxError",
     "evalue": "invalid syntax (718284908.py, line 4)",
     "output_type": "error",
     "traceback": [
      "\u001b[0;36m  Input \u001b[0;32mIn [164]\u001b[0;36m\u001b[0m\n\u001b[0;31m    table.iloc.[:, 2:5].sum(axis=1)\u001b[0m\n\u001b[0m               ^\u001b[0m\n\u001b[0;31mSyntaxError\u001b[0m\u001b[0;31m:\u001b[0m invalid syntax\n"
     ]
    }
   ],
   "source": [
    "##arithemetic and comparison operation \n",
    "table.weight.sum()\n",
    "table.weight.sum()/table.height.sum()\n",
    "table.iloc.[:, 2:5].sum(axis=1)\n",
    "table.weight.cumsum()\n",
    "table.weight.mean() ##average\n",
    "table.weight > 20\n",
    "table.weight == 20\n",
    "table[table.weight < 20] ##to view comparison"
   ]
  },
  {
   "cell_type": "code",
   "execution_count": 165,
   "id": "e19ddf8e",
   "metadata": {},
   "outputs": [
    {
     "ename": "AttributeError",
     "evalue": "'StringMethods' object has no attribute 'replaces'",
     "output_type": "error",
     "traceback": [
      "\u001b[0;31m---------------------------------------------------------------------------\u001b[0m",
      "\u001b[0;31mAttributeError\u001b[0m                            Traceback (most recent call last)",
      "Input \u001b[0;32mIn [165]\u001b[0m, in \u001b[0;36m<cell line: 8>\u001b[0;34m()\u001b[0m\n\u001b[1;32m      5\u001b[0m table\u001b[38;5;241m.\u001b[39mdrop(columns \u001b[38;5;241m=\u001b[39m [\u001b[38;5;124m'\u001b[39m\u001b[38;5;124mBMI\u001b[39m\u001b[38;5;124m'\u001b[39m], inplace \u001b[38;5;241m=\u001b[39m \u001b[38;5;28;01mTrue\u001b[39;00m)\n\u001b[1;32m      7\u001b[0m \u001b[38;5;66;03m##to delete and replace words in a column\u001b[39;00m\n\u001b[0;32m----> 8\u001b[0m \u001b[43mtable\u001b[49m\u001b[43m[\u001b[49m\u001b[38;5;124;43m'\u001b[39;49m\u001b[38;5;124;43mname\u001b[39;49m\u001b[38;5;124;43m'\u001b[39;49m\u001b[43m]\u001b[49m\u001b[38;5;241;43m.\u001b[39;49m\u001b[43mstr\u001b[49m\u001b[38;5;241;43m.\u001b[39;49m\u001b[43mreplaces\u001b[49m(\u001b[38;5;124m'\u001b[39m\u001b[38;5;124mOlu\u001b[39m\u001b[38;5;124m'\u001b[39m, \u001b[38;5;124m'\u001b[39m\u001b[38;5;124mOla\u001b[39m\u001b[38;5;124m'\u001b[39m) \u001b[38;5;66;03m## delete olu and replace it with ola\u001b[39;00m\n\u001b[1;32m      9\u001b[0m table[\u001b[38;5;124m'\u001b[39m\u001b[38;5;124mname\u001b[39m\u001b[38;5;124m'\u001b[39m]\u001b[38;5;241m.\u001b[39mstr\u001b[38;5;241m.\u001b[39mreplaces(\u001b[38;5;124m'\u001b[39m\u001b[38;5;124mOlu\u001b[39m\u001b[38;5;124m'\u001b[39m, \u001b[38;5;124m'\u001b[39m\u001b[38;5;124m'\u001b[39m) \u001b[38;5;66;03m## delete olu and replace it with nothing\u001b[39;00m\n\u001b[1;32m     11\u001b[0m \u001b[38;5;66;03m##add new column\u001b[39;00m\n",
      "\u001b[0;31mAttributeError\u001b[0m: 'StringMethods' object has no attribute 'replaces'"
     ]
    }
   ],
   "source": [
    "##add column\n",
    "table['BMI'] = table.weight.sum()/table.height.sum()\n",
    "\n",
    "##drop a column\n",
    "table.drop(columns = ['BMI'], inplace = True)\n",
    "\n",
    "##to delete and replace words in a column\n",
    "table['name'].str.replaces('Olu', 'Ola') ## delete olu and replace it with ola\n",
    "table['name'].str.replaces('Olu', '') ## delete olu and replace it with nothing\n",
    "\n",
    "##add new column\n",
    "table['BMI'] =table.weight/table.height\n",
    "table"
   ]
  },
  {
   "cell_type": "code",
   "execution_count": 166,
   "id": "23fb9180",
   "metadata": {
    "scrolled": true
   },
   "outputs": [
    {
     "ename": "KeyError",
     "evalue": "'Day'",
     "output_type": "error",
     "traceback": [
      "\u001b[0;31m---------------------------------------------------------------------------\u001b[0m",
      "\u001b[0;31mKeyError\u001b[0m                                  Traceback (most recent call last)",
      "Input \u001b[0;32mIn [166]\u001b[0m, in \u001b[0;36m<cell line: 5>\u001b[0;34m()\u001b[0m\n\u001b[1;32m      3\u001b[0m table\u001b[38;5;241m.\u001b[39msort_values([\u001b[38;5;124m'\u001b[39m\u001b[38;5;124mweight\u001b[39m\u001b[38;5;124m'\u001b[39m, \u001b[38;5;124m'\u001b[39m\u001b[38;5;124mheight\u001b[39m\u001b[38;5;124m'\u001b[39m], ascending \u001b[38;5;241m=\u001b[39m [\u001b[38;5;28;01mFalse\u001b[39;00m, \u001b[38;5;28;01mTrue\u001b[39;00m])\n\u001b[1;32m      4\u001b[0m table\u001b[38;5;241m.\u001b[39msort_values(\u001b[38;5;124m'\u001b[39m\u001b[38;5;124mweight\u001b[39m\u001b[38;5;124m'\u001b[39m, ascending \u001b[38;5;241m=\u001b[39m \u001b[38;5;241m0\u001b[39m)\n\u001b[0;32m----> 5\u001b[0m \u001b[43mtable\u001b[49m\u001b[38;5;241;43m.\u001b[39;49m\u001b[43msort_values\u001b[49m\u001b[43m(\u001b[49m\u001b[43m[\u001b[49m\u001b[38;5;124;43m'\u001b[39;49m\u001b[38;5;124;43mweight\u001b[39;49m\u001b[38;5;124;43m'\u001b[39;49m\u001b[43m,\u001b[49m\u001b[43m \u001b[49m\u001b[38;5;124;43m'\u001b[39;49m\u001b[38;5;124;43mDay\u001b[39;49m\u001b[38;5;124;43m'\u001b[39;49m\u001b[43m]\u001b[49m\u001b[43m,\u001b[49m\u001b[43m \u001b[49m\u001b[43mascending\u001b[49m\u001b[43m \u001b[49m\u001b[38;5;241;43m=\u001b[39;49m\u001b[43m \u001b[49m\u001b[43m[\u001b[49m\u001b[38;5;241;43m0\u001b[39;49m\u001b[43m,\u001b[49m\u001b[43m \u001b[49m\u001b[38;5;241;43m1\u001b[39;49m\u001b[43m]\u001b[49m\u001b[43m)\u001b[49m\n",
      "File \u001b[0;32m~/opt/anaconda3/lib/python3.9/site-packages/pandas/util/_decorators.py:311\u001b[0m, in \u001b[0;36mdeprecate_nonkeyword_arguments.<locals>.decorate.<locals>.wrapper\u001b[0;34m(*args, **kwargs)\u001b[0m\n\u001b[1;32m    305\u001b[0m \u001b[38;5;28;01mif\u001b[39;00m \u001b[38;5;28mlen\u001b[39m(args) \u001b[38;5;241m>\u001b[39m num_allow_args:\n\u001b[1;32m    306\u001b[0m     warnings\u001b[38;5;241m.\u001b[39mwarn(\n\u001b[1;32m    307\u001b[0m         msg\u001b[38;5;241m.\u001b[39mformat(arguments\u001b[38;5;241m=\u001b[39marguments),\n\u001b[1;32m    308\u001b[0m         \u001b[38;5;167;01mFutureWarning\u001b[39;00m,\n\u001b[1;32m    309\u001b[0m         stacklevel\u001b[38;5;241m=\u001b[39mstacklevel,\n\u001b[1;32m    310\u001b[0m     )\n\u001b[0;32m--> 311\u001b[0m \u001b[38;5;28;01mreturn\u001b[39;00m \u001b[43mfunc\u001b[49m\u001b[43m(\u001b[49m\u001b[38;5;241;43m*\u001b[39;49m\u001b[43margs\u001b[49m\u001b[43m,\u001b[49m\u001b[43m \u001b[49m\u001b[38;5;241;43m*\u001b[39;49m\u001b[38;5;241;43m*\u001b[39;49m\u001b[43mkwargs\u001b[49m\u001b[43m)\u001b[49m\n",
      "File \u001b[0;32m~/opt/anaconda3/lib/python3.9/site-packages/pandas/core/frame.py:6295\u001b[0m, in \u001b[0;36mDataFrame.sort_values\u001b[0;34m(self, by, axis, ascending, inplace, kind, na_position, ignore_index, key)\u001b[0m\n\u001b[1;32m   6290\u001b[0m     \u001b[38;5;28;01mraise\u001b[39;00m \u001b[38;5;167;01mValueError\u001b[39;00m(\n\u001b[1;32m   6291\u001b[0m         \u001b[38;5;124mf\u001b[39m\u001b[38;5;124m\"\u001b[39m\u001b[38;5;124mLength of ascending (\u001b[39m\u001b[38;5;132;01m{\u001b[39;00m\u001b[38;5;28mlen\u001b[39m(ascending)\u001b[38;5;132;01m}\u001b[39;00m\u001b[38;5;124m) != length of by (\u001b[39m\u001b[38;5;132;01m{\u001b[39;00m\u001b[38;5;28mlen\u001b[39m(by)\u001b[38;5;132;01m}\u001b[39;00m\u001b[38;5;124m)\u001b[39m\u001b[38;5;124m\"\u001b[39m\n\u001b[1;32m   6292\u001b[0m     )\n\u001b[1;32m   6293\u001b[0m \u001b[38;5;28;01mif\u001b[39;00m \u001b[38;5;28mlen\u001b[39m(by) \u001b[38;5;241m>\u001b[39m \u001b[38;5;241m1\u001b[39m:\n\u001b[0;32m-> 6295\u001b[0m     keys \u001b[38;5;241m=\u001b[39m [\u001b[38;5;28mself\u001b[39m\u001b[38;5;241m.\u001b[39m_get_label_or_level_values(x, axis\u001b[38;5;241m=\u001b[39maxis) \u001b[38;5;28;01mfor\u001b[39;00m x \u001b[38;5;129;01min\u001b[39;00m by]\n\u001b[1;32m   6297\u001b[0m     \u001b[38;5;66;03m# need to rewrap columns in Series to apply key function\u001b[39;00m\n\u001b[1;32m   6298\u001b[0m     \u001b[38;5;28;01mif\u001b[39;00m key \u001b[38;5;129;01mis\u001b[39;00m \u001b[38;5;129;01mnot\u001b[39;00m \u001b[38;5;28;01mNone\u001b[39;00m:\n\u001b[1;32m   6299\u001b[0m         \u001b[38;5;66;03m# error: List comprehension has incompatible type List[Series];\u001b[39;00m\n\u001b[1;32m   6300\u001b[0m         \u001b[38;5;66;03m# expected List[ndarray]\u001b[39;00m\n",
      "File \u001b[0;32m~/opt/anaconda3/lib/python3.9/site-packages/pandas/core/frame.py:6295\u001b[0m, in \u001b[0;36m<listcomp>\u001b[0;34m(.0)\u001b[0m\n\u001b[1;32m   6290\u001b[0m     \u001b[38;5;28;01mraise\u001b[39;00m \u001b[38;5;167;01mValueError\u001b[39;00m(\n\u001b[1;32m   6291\u001b[0m         \u001b[38;5;124mf\u001b[39m\u001b[38;5;124m\"\u001b[39m\u001b[38;5;124mLength of ascending (\u001b[39m\u001b[38;5;132;01m{\u001b[39;00m\u001b[38;5;28mlen\u001b[39m(ascending)\u001b[38;5;132;01m}\u001b[39;00m\u001b[38;5;124m) != length of by (\u001b[39m\u001b[38;5;132;01m{\u001b[39;00m\u001b[38;5;28mlen\u001b[39m(by)\u001b[38;5;132;01m}\u001b[39;00m\u001b[38;5;124m)\u001b[39m\u001b[38;5;124m\"\u001b[39m\n\u001b[1;32m   6292\u001b[0m     )\n\u001b[1;32m   6293\u001b[0m \u001b[38;5;28;01mif\u001b[39;00m \u001b[38;5;28mlen\u001b[39m(by) \u001b[38;5;241m>\u001b[39m \u001b[38;5;241m1\u001b[39m:\n\u001b[0;32m-> 6295\u001b[0m     keys \u001b[38;5;241m=\u001b[39m [\u001b[38;5;28;43mself\u001b[39;49m\u001b[38;5;241;43m.\u001b[39;49m\u001b[43m_get_label_or_level_values\u001b[49m\u001b[43m(\u001b[49m\u001b[43mx\u001b[49m\u001b[43m,\u001b[49m\u001b[43m \u001b[49m\u001b[43maxis\u001b[49m\u001b[38;5;241;43m=\u001b[39;49m\u001b[43maxis\u001b[49m\u001b[43m)\u001b[49m \u001b[38;5;28;01mfor\u001b[39;00m x \u001b[38;5;129;01min\u001b[39;00m by]\n\u001b[1;32m   6297\u001b[0m     \u001b[38;5;66;03m# need to rewrap columns in Series to apply key function\u001b[39;00m\n\u001b[1;32m   6298\u001b[0m     \u001b[38;5;28;01mif\u001b[39;00m key \u001b[38;5;129;01mis\u001b[39;00m \u001b[38;5;129;01mnot\u001b[39;00m \u001b[38;5;28;01mNone\u001b[39;00m:\n\u001b[1;32m   6299\u001b[0m         \u001b[38;5;66;03m# error: List comprehension has incompatible type List[Series];\u001b[39;00m\n\u001b[1;32m   6300\u001b[0m         \u001b[38;5;66;03m# expected List[ndarray]\u001b[39;00m\n",
      "File \u001b[0;32m~/opt/anaconda3/lib/python3.9/site-packages/pandas/core/generic.py:1840\u001b[0m, in \u001b[0;36mNDFrame._get_label_or_level_values\u001b[0;34m(self, key, axis)\u001b[0m\n\u001b[1;32m   1838\u001b[0m     values \u001b[38;5;241m=\u001b[39m \u001b[38;5;28mself\u001b[39m\u001b[38;5;241m.\u001b[39maxes[axis]\u001b[38;5;241m.\u001b[39mget_level_values(key)\u001b[38;5;241m.\u001b[39m_values\n\u001b[1;32m   1839\u001b[0m \u001b[38;5;28;01melse\u001b[39;00m:\n\u001b[0;32m-> 1840\u001b[0m     \u001b[38;5;28;01mraise\u001b[39;00m \u001b[38;5;167;01mKeyError\u001b[39;00m(key)\n\u001b[1;32m   1842\u001b[0m \u001b[38;5;66;03m# Check for duplicates\u001b[39;00m\n\u001b[1;32m   1843\u001b[0m \u001b[38;5;28;01mif\u001b[39;00m values\u001b[38;5;241m.\u001b[39mndim \u001b[38;5;241m>\u001b[39m \u001b[38;5;241m1\u001b[39m:\n",
      "\u001b[0;31mKeyError\u001b[0m: 'Day'"
     ]
    }
   ],
   "source": [
    "##sort data in ascending and descending order, if in ascending order then set as True\n",
    "table.sort_values('weight', ascending = False)\n",
    "table.sort_values(['weight', 'height'], ascending = [False, True])\n",
    "table.sort_values('weight', ascending = 0)\n",
    "table.sort_values(['weight', 'Day'], ascending = [0, 1])"
   ]
  },
  {
   "cell_type": "code",
   "execution_count": 167,
   "id": "f420a5f4",
   "metadata": {},
   "outputs": [
    {
     "ename": "KeyError",
     "evalue": "\"['DOB', 'BMI', 'Year', 'Month', 'Day'] not in index\"",
     "output_type": "error",
     "traceback": [
      "\u001b[0;31m---------------------------------------------------------------------------\u001b[0m",
      "\u001b[0;31mKeyError\u001b[0m                                  Traceback (most recent call last)",
      "Input \u001b[0;32mIn [167]\u001b[0m, in \u001b[0;36m<cell line: 2>\u001b[0;34m()\u001b[0m\n\u001b[1;32m      1\u001b[0m \u001b[38;5;66;03m##to rearrange columns, you can use this opportunity select only columns you want to analyse\u001b[39;00m\n\u001b[0;32m----> 2\u001b[0m table \u001b[38;5;241m=\u001b[39m \u001b[43mtable\u001b[49m\u001b[43m[\u001b[49m\u001b[43m[\u001b[49m\u001b[38;5;124;43m'\u001b[39;49m\u001b[38;5;124;43mname\u001b[39;49m\u001b[38;5;124;43m'\u001b[39;49m\u001b[43m,\u001b[49m\u001b[43m \u001b[49m\u001b[38;5;124;43m'\u001b[39;49m\u001b[38;5;124;43mDOB\u001b[39;49m\u001b[38;5;124;43m'\u001b[39;49m\u001b[43m,\u001b[49m\u001b[43m \u001b[49m\u001b[38;5;124;43m'\u001b[39;49m\u001b[38;5;124;43mage\u001b[39;49m\u001b[38;5;124;43m'\u001b[39;49m\u001b[43m,\u001b[49m\u001b[43m \u001b[49m\u001b[38;5;124;43m'\u001b[39;49m\u001b[38;5;124;43msex\u001b[39;49m\u001b[38;5;124;43m'\u001b[39;49m\u001b[43m,\u001b[49m\u001b[43m \u001b[49m\u001b[38;5;124;43m'\u001b[39;49m\u001b[38;5;124;43mweight\u001b[39;49m\u001b[38;5;124;43m'\u001b[39;49m\u001b[43m,\u001b[49m\u001b[43m \u001b[49m\u001b[38;5;124;43m'\u001b[39;49m\u001b[38;5;124;43mheight\u001b[39;49m\u001b[38;5;124;43m'\u001b[39;49m\u001b[43m,\u001b[49m\u001b[43m \u001b[49m\u001b[38;5;124;43m'\u001b[39;49m\u001b[38;5;124;43mBMI\u001b[39;49m\u001b[38;5;124;43m'\u001b[39;49m\u001b[43m,\u001b[49m\u001b[43m \u001b[49m\u001b[38;5;124;43m'\u001b[39;49m\u001b[38;5;124;43mYear\u001b[39;49m\u001b[38;5;124;43m'\u001b[39;49m\u001b[43m,\u001b[49m\u001b[43m \u001b[49m\u001b[38;5;124;43m'\u001b[39;49m\u001b[38;5;124;43mMonth\u001b[39;49m\u001b[38;5;124;43m'\u001b[39;49m\u001b[43m,\u001b[49m\u001b[43m \u001b[49m\u001b[38;5;124;43m'\u001b[39;49m\u001b[38;5;124;43mDay\u001b[39;49m\u001b[38;5;124;43m'\u001b[39;49m\u001b[43m,\u001b[49m\u001b[43m \u001b[49m\u001b[38;5;124;43m'\u001b[39;49m\u001b[38;5;124;43mreligion\u001b[39;49m\u001b[38;5;124;43m'\u001b[39;49m\u001b[43m]\u001b[49m\u001b[43m]\u001b[49m\n\u001b[1;32m      4\u001b[0m \u001b[38;5;66;03m##to rearrange rows\u001b[39;00m\n\u001b[1;32m      5\u001b[0m table\u001b[38;5;241m.\u001b[39mreindex([\u001b[38;5;241m0\u001b[39m, \u001b[38;5;241m2\u001b[39m, \u001b[38;5;241m3\u001b[39m, \u001b[38;5;241m1\u001b[39m, \u001b[38;5;241m5\u001b[39m, \u001b[38;5;241m4\u001b[39m])\n",
      "File \u001b[0;32m~/opt/anaconda3/lib/python3.9/site-packages/pandas/core/frame.py:3511\u001b[0m, in \u001b[0;36mDataFrame.__getitem__\u001b[0;34m(self, key)\u001b[0m\n\u001b[1;32m   3509\u001b[0m     \u001b[38;5;28;01mif\u001b[39;00m is_iterator(key):\n\u001b[1;32m   3510\u001b[0m         key \u001b[38;5;241m=\u001b[39m \u001b[38;5;28mlist\u001b[39m(key)\n\u001b[0;32m-> 3511\u001b[0m     indexer \u001b[38;5;241m=\u001b[39m \u001b[38;5;28;43mself\u001b[39;49m\u001b[38;5;241;43m.\u001b[39;49m\u001b[43mcolumns\u001b[49m\u001b[38;5;241;43m.\u001b[39;49m\u001b[43m_get_indexer_strict\u001b[49m\u001b[43m(\u001b[49m\u001b[43mkey\u001b[49m\u001b[43m,\u001b[49m\u001b[43m \u001b[49m\u001b[38;5;124;43m\"\u001b[39;49m\u001b[38;5;124;43mcolumns\u001b[39;49m\u001b[38;5;124;43m\"\u001b[39;49m\u001b[43m)\u001b[49m[\u001b[38;5;241m1\u001b[39m]\n\u001b[1;32m   3513\u001b[0m \u001b[38;5;66;03m# take() does not accept boolean indexers\u001b[39;00m\n\u001b[1;32m   3514\u001b[0m \u001b[38;5;28;01mif\u001b[39;00m \u001b[38;5;28mgetattr\u001b[39m(indexer, \u001b[38;5;124m\"\u001b[39m\u001b[38;5;124mdtype\u001b[39m\u001b[38;5;124m\"\u001b[39m, \u001b[38;5;28;01mNone\u001b[39;00m) \u001b[38;5;241m==\u001b[39m \u001b[38;5;28mbool\u001b[39m:\n",
      "File \u001b[0;32m~/opt/anaconda3/lib/python3.9/site-packages/pandas/core/indexes/base.py:5782\u001b[0m, in \u001b[0;36mIndex._get_indexer_strict\u001b[0;34m(self, key, axis_name)\u001b[0m\n\u001b[1;32m   5779\u001b[0m \u001b[38;5;28;01melse\u001b[39;00m:\n\u001b[1;32m   5780\u001b[0m     keyarr, indexer, new_indexer \u001b[38;5;241m=\u001b[39m \u001b[38;5;28mself\u001b[39m\u001b[38;5;241m.\u001b[39m_reindex_non_unique(keyarr)\n\u001b[0;32m-> 5782\u001b[0m \u001b[38;5;28;43mself\u001b[39;49m\u001b[38;5;241;43m.\u001b[39;49m\u001b[43m_raise_if_missing\u001b[49m\u001b[43m(\u001b[49m\u001b[43mkeyarr\u001b[49m\u001b[43m,\u001b[49m\u001b[43m \u001b[49m\u001b[43mindexer\u001b[49m\u001b[43m,\u001b[49m\u001b[43m \u001b[49m\u001b[43maxis_name\u001b[49m\u001b[43m)\u001b[49m\n\u001b[1;32m   5784\u001b[0m keyarr \u001b[38;5;241m=\u001b[39m \u001b[38;5;28mself\u001b[39m\u001b[38;5;241m.\u001b[39mtake(indexer)\n\u001b[1;32m   5785\u001b[0m \u001b[38;5;28;01mif\u001b[39;00m \u001b[38;5;28misinstance\u001b[39m(key, Index):\n\u001b[1;32m   5786\u001b[0m     \u001b[38;5;66;03m# GH 42790 - Preserve name from an Index\u001b[39;00m\n",
      "File \u001b[0;32m~/opt/anaconda3/lib/python3.9/site-packages/pandas/core/indexes/base.py:5845\u001b[0m, in \u001b[0;36mIndex._raise_if_missing\u001b[0;34m(self, key, indexer, axis_name)\u001b[0m\n\u001b[1;32m   5842\u001b[0m     \u001b[38;5;28;01mraise\u001b[39;00m \u001b[38;5;167;01mKeyError\u001b[39;00m(\u001b[38;5;124mf\u001b[39m\u001b[38;5;124m\"\u001b[39m\u001b[38;5;124mNone of [\u001b[39m\u001b[38;5;132;01m{\u001b[39;00mkey\u001b[38;5;132;01m}\u001b[39;00m\u001b[38;5;124m] are in the [\u001b[39m\u001b[38;5;132;01m{\u001b[39;00maxis_name\u001b[38;5;132;01m}\u001b[39;00m\u001b[38;5;124m]\u001b[39m\u001b[38;5;124m\"\u001b[39m)\n\u001b[1;32m   5844\u001b[0m not_found \u001b[38;5;241m=\u001b[39m \u001b[38;5;28mlist\u001b[39m(ensure_index(key)[missing_mask\u001b[38;5;241m.\u001b[39mnonzero()[\u001b[38;5;241m0\u001b[39m]]\u001b[38;5;241m.\u001b[39munique())\n\u001b[0;32m-> 5845\u001b[0m \u001b[38;5;28;01mraise\u001b[39;00m \u001b[38;5;167;01mKeyError\u001b[39;00m(\u001b[38;5;124mf\u001b[39m\u001b[38;5;124m\"\u001b[39m\u001b[38;5;132;01m{\u001b[39;00mnot_found\u001b[38;5;132;01m}\u001b[39;00m\u001b[38;5;124m not in index\u001b[39m\u001b[38;5;124m\"\u001b[39m)\n",
      "\u001b[0;31mKeyError\u001b[0m: \"['DOB', 'BMI', 'Year', 'Month', 'Day'] not in index\""
     ]
    }
   ],
   "source": [
    "##to rearrange columns, you can use this opportunity select only columns you want to analyse\n",
    "table = table[['name', 'DOB', 'age', 'sex', 'weight', 'height', 'BMI', 'Year', 'Month', 'Day', 'religion']]\n",
    "\n",
    "##to rearrange rows\n",
    "table.reindex([0, 2, 3, 1, 5, 4])\n",
    "\n",
    "##to rename column(s)\n",
    "table.rename(columns = {'old_name':'new_name', 'old_name':'new_name', 'old_name':'new_name'}, inplace = True)\n",
    "\n",
    "\n",
    "## to tranpose columns to row and row to columns\n",
    "table.transpose()\n",
    "\n",
    "## to reset index \n",
    "table.reset_index()\n",
    "table.reset_index(drop = True, inplace = True) ##to drop the old index\n",
    "table"
   ]
  },
  {
   "cell_type": "code",
   "execution_count": 168,
   "id": "6f9e8e3b",
   "metadata": {},
   "outputs": [
    {
     "ename": "AttributeError",
     "evalue": "'DataFrame' object has no attribute 'start_time'",
     "output_type": "error",
     "traceback": [
      "\u001b[0;31m---------------------------------------------------------------------------\u001b[0m",
      "\u001b[0;31mAttributeError\u001b[0m                            Traceback (most recent call last)",
      "Input \u001b[0;32mIn [168]\u001b[0m, in \u001b[0;36m<cell line: 13>\u001b[0;34m()\u001b[0m\n\u001b[1;32m     10\u001b[0m table[\u001b[38;5;124m'\u001b[39m\u001b[38;5;124mDay\u001b[39m\u001b[38;5;124m'\u001b[39m] \u001b[38;5;241m=\u001b[39m pd\u001b[38;5;241m.\u001b[39mDatetimeIndex(table\u001b[38;5;241m.\u001b[39mDOB)\u001b[38;5;241m.\u001b[39mday\n\u001b[1;32m     12\u001b[0m \u001b[38;5;66;03m##to retrieve hour or minutes in timestamps\u001b[39;00m\n\u001b[0;32m---> 13\u001b[0m \u001b[43mtable\u001b[49m\u001b[38;5;241;43m.\u001b[39;49m\u001b[43mstart_time\u001b[49m\u001b[38;5;241m.\u001b[39mdt\u001b[38;5;241m.\u001b[39mhour\n\u001b[1;32m     14\u001b[0m table\u001b[38;5;241m.\u001b[39mstart_time\u001b[38;5;241m.\u001b[39mdt\u001b[38;5;241m.\u001b[39mdayofweek\n\u001b[1;32m     15\u001b[0m table\u001b[38;5;241m.\u001b[39mStart_Time\u001b[38;5;241m.\u001b[39mdt\u001b[38;5;241m.\u001b[39mday_name()\n",
      "File \u001b[0;32m~/opt/anaconda3/lib/python3.9/site-packages/pandas/core/generic.py:5575\u001b[0m, in \u001b[0;36mNDFrame.__getattr__\u001b[0;34m(self, name)\u001b[0m\n\u001b[1;32m   5568\u001b[0m \u001b[38;5;28;01mif\u001b[39;00m (\n\u001b[1;32m   5569\u001b[0m     name \u001b[38;5;129;01mnot\u001b[39;00m \u001b[38;5;129;01min\u001b[39;00m \u001b[38;5;28mself\u001b[39m\u001b[38;5;241m.\u001b[39m_internal_names_set\n\u001b[1;32m   5570\u001b[0m     \u001b[38;5;129;01mand\u001b[39;00m name \u001b[38;5;129;01mnot\u001b[39;00m \u001b[38;5;129;01min\u001b[39;00m \u001b[38;5;28mself\u001b[39m\u001b[38;5;241m.\u001b[39m_metadata\n\u001b[1;32m   5571\u001b[0m     \u001b[38;5;129;01mand\u001b[39;00m name \u001b[38;5;129;01mnot\u001b[39;00m \u001b[38;5;129;01min\u001b[39;00m \u001b[38;5;28mself\u001b[39m\u001b[38;5;241m.\u001b[39m_accessors\n\u001b[1;32m   5572\u001b[0m     \u001b[38;5;129;01mand\u001b[39;00m \u001b[38;5;28mself\u001b[39m\u001b[38;5;241m.\u001b[39m_info_axis\u001b[38;5;241m.\u001b[39m_can_hold_identifiers_and_holds_name(name)\n\u001b[1;32m   5573\u001b[0m ):\n\u001b[1;32m   5574\u001b[0m     \u001b[38;5;28;01mreturn\u001b[39;00m \u001b[38;5;28mself\u001b[39m[name]\n\u001b[0;32m-> 5575\u001b[0m \u001b[38;5;28;01mreturn\u001b[39;00m \u001b[38;5;28;43mobject\u001b[39;49m\u001b[38;5;241;43m.\u001b[39;49m\u001b[38;5;21;43m__getattribute__\u001b[39;49m\u001b[43m(\u001b[49m\u001b[38;5;28;43mself\u001b[39;49m\u001b[43m,\u001b[49m\u001b[43m \u001b[49m\u001b[43mname\u001b[49m\u001b[43m)\u001b[49m\n",
      "\u001b[0;31mAttributeError\u001b[0m: 'DataFrame' object has no attribute 'start_time'"
     ]
    }
   ],
   "source": [
    "##working with dates\n",
    "table['DOB'] = ['1988/08/02', '1986/05/09', '2017/10/07', '2021/02/19' , '1964/02/28', '1964/05/29']\n",
    "\n",
    "##convert non-date column to date data\n",
    "table['DOB'] = pd.to_datetime(table.DOB)\n",
    "\n",
    "##to parse date to year, month and day\n",
    "table['Year'] = pd.DatetimeIndex(table.DOB).year\n",
    "table['Month'] = pd.DatetimeIndex(table.DOB).month\n",
    "table['Day'] = pd.DatetimeIndex(table.DOB).day\n",
    "\n",
    "##to retrieve hour or minutes in timestamps\n",
    "table.start_time.dt.hour\n",
    "table.start_time.dt.dayofweek\n",
    "table.Start_Time.dt.day_name()\n",
    "\n",
    "table\n",
    "##now you can analyse what happened in a year, month or day"
   ]
  },
  {
   "cell_type": "code",
   "execution_count": 169,
   "id": "bf8bf389",
   "metadata": {},
   "outputs": [
    {
     "ename": "ValueError",
     "evalue": "cannot set a row with mismatched columns",
     "output_type": "error",
     "traceback": [
      "\u001b[0;31m---------------------------------------------------------------------------\u001b[0m",
      "\u001b[0;31mValueError\u001b[0m                                Traceback (most recent call last)",
      "Input \u001b[0;32mIn [169]\u001b[0m, in \u001b[0;36m<cell line: 1>\u001b[0;34m()\u001b[0m\n\u001b[0;32m----> 1\u001b[0m table\u001b[38;5;241m.\u001b[39mloc[\u001b[38;5;28mlen\u001b[39m(table\u001b[38;5;241m.\u001b[39mindex)] \u001b[38;5;241m=\u001b[39m [\u001b[38;5;124m'\u001b[39m\u001b[38;5;124mNan\u001b[39m\u001b[38;5;124m'\u001b[39m, \u001b[38;5;124m'\u001b[39m\u001b[38;5;124mNan\u001b[39m\u001b[38;5;124m'\u001b[39m, \u001b[38;5;124m'\u001b[39m\u001b[38;5;124mNan\u001b[39m\u001b[38;5;124m'\u001b[39m, \u001b[38;5;124m'\u001b[39m\u001b[38;5;124mNan\u001b[39m\u001b[38;5;124m'\u001b[39m, \u001b[38;5;124m'\u001b[39m\u001b[38;5;124mNan\u001b[39m\u001b[38;5;124m'\u001b[39m, \u001b[38;5;124m'\u001b[39m\u001b[38;5;124mNan\u001b[39m\u001b[38;5;124m'\u001b[39m, \u001b[38;5;124m'\u001b[39m\u001b[38;5;124mNan\u001b[39m\u001b[38;5;124m'\u001b[39m, \u001b[38;5;124m'\u001b[39m\u001b[38;5;124mNan\u001b[39m\u001b[38;5;124m'\u001b[39m, \u001b[38;5;124m'\u001b[39m\u001b[38;5;124mNan\u001b[39m\u001b[38;5;124m'\u001b[39m, \u001b[38;5;124m'\u001b[39m\u001b[38;5;124mNan\u001b[39m\u001b[38;5;124m'\u001b[39m, \u001b[38;5;124m'\u001b[39m\u001b[38;5;124mNan\u001b[39m\u001b[38;5;124m'\u001b[39m]\n\u001b[1;32m      3\u001b[0m \u001b[38;5;66;03m##to replace Nan datas in the dataframe with Numpy nan values, if not showing as null on isna search\u001b[39;00m\n\u001b[1;32m      5\u001b[0m table\u001b[38;5;241m.\u001b[39mreplace(\u001b[38;5;124m'\u001b[39m\u001b[38;5;124mNan\u001b[39m\u001b[38;5;124m'\u001b[39m, np\u001b[38;5;241m.\u001b[39mnan, inplace\u001b[38;5;241m=\u001b[39m\u001b[38;5;28;01mTrue\u001b[39;00m)\n",
      "File \u001b[0;32m~/opt/anaconda3/lib/python3.9/site-packages/pandas/core/indexing.py:716\u001b[0m, in \u001b[0;36m_LocationIndexer.__setitem__\u001b[0;34m(self, key, value)\u001b[0m\n\u001b[1;32m    713\u001b[0m \u001b[38;5;28mself\u001b[39m\u001b[38;5;241m.\u001b[39m_has_valid_setitem_indexer(key)\n\u001b[1;32m    715\u001b[0m iloc \u001b[38;5;241m=\u001b[39m \u001b[38;5;28mself\u001b[39m \u001b[38;5;28;01mif\u001b[39;00m \u001b[38;5;28mself\u001b[39m\u001b[38;5;241m.\u001b[39mname \u001b[38;5;241m==\u001b[39m \u001b[38;5;124m\"\u001b[39m\u001b[38;5;124miloc\u001b[39m\u001b[38;5;124m\"\u001b[39m \u001b[38;5;28;01melse\u001b[39;00m \u001b[38;5;28mself\u001b[39m\u001b[38;5;241m.\u001b[39mobj\u001b[38;5;241m.\u001b[39miloc\n\u001b[0;32m--> 716\u001b[0m \u001b[43miloc\u001b[49m\u001b[38;5;241;43m.\u001b[39;49m\u001b[43m_setitem_with_indexer\u001b[49m\u001b[43m(\u001b[49m\u001b[43mindexer\u001b[49m\u001b[43m,\u001b[49m\u001b[43m \u001b[49m\u001b[43mvalue\u001b[49m\u001b[43m,\u001b[49m\u001b[43m \u001b[49m\u001b[38;5;28;43mself\u001b[39;49m\u001b[38;5;241;43m.\u001b[39;49m\u001b[43mname\u001b[49m\u001b[43m)\u001b[49m\n",
      "File \u001b[0;32m~/opt/anaconda3/lib/python3.9/site-packages/pandas/core/indexing.py:1682\u001b[0m, in \u001b[0;36m_iLocIndexer._setitem_with_indexer\u001b[0;34m(self, indexer, value, name)\u001b[0m\n\u001b[1;32m   1679\u001b[0m     indexer, missing \u001b[38;5;241m=\u001b[39m convert_missing_indexer(indexer)\n\u001b[1;32m   1681\u001b[0m     \u001b[38;5;28;01mif\u001b[39;00m missing:\n\u001b[0;32m-> 1682\u001b[0m         \u001b[38;5;28;43mself\u001b[39;49m\u001b[38;5;241;43m.\u001b[39;49m\u001b[43m_setitem_with_indexer_missing\u001b[49m\u001b[43m(\u001b[49m\u001b[43mindexer\u001b[49m\u001b[43m,\u001b[49m\u001b[43m \u001b[49m\u001b[43mvalue\u001b[49m\u001b[43m)\u001b[49m\n\u001b[1;32m   1683\u001b[0m         \u001b[38;5;28;01mreturn\u001b[39;00m\n\u001b[1;32m   1685\u001b[0m \u001b[38;5;66;03m# align and set the values\u001b[39;00m\n",
      "File \u001b[0;32m~/opt/anaconda3/lib/python3.9/site-packages/pandas/core/indexing.py:1998\u001b[0m, in \u001b[0;36m_iLocIndexer._setitem_with_indexer_missing\u001b[0;34m(self, indexer, value)\u001b[0m\n\u001b[1;32m   1995\u001b[0m     \u001b[38;5;28;01mif\u001b[39;00m is_list_like_indexer(value):\n\u001b[1;32m   1996\u001b[0m         \u001b[38;5;66;03m# must have conforming columns\u001b[39;00m\n\u001b[1;32m   1997\u001b[0m         \u001b[38;5;28;01mif\u001b[39;00m \u001b[38;5;28mlen\u001b[39m(value) \u001b[38;5;241m!=\u001b[39m \u001b[38;5;28mlen\u001b[39m(\u001b[38;5;28mself\u001b[39m\u001b[38;5;241m.\u001b[39mobj\u001b[38;5;241m.\u001b[39mcolumns):\n\u001b[0;32m-> 1998\u001b[0m             \u001b[38;5;28;01mraise\u001b[39;00m \u001b[38;5;167;01mValueError\u001b[39;00m(\u001b[38;5;124m\"\u001b[39m\u001b[38;5;124mcannot set a row with mismatched columns\u001b[39m\u001b[38;5;124m\"\u001b[39m)\n\u001b[1;32m   2000\u001b[0m     value \u001b[38;5;241m=\u001b[39m Series(value, index\u001b[38;5;241m=\u001b[39m\u001b[38;5;28mself\u001b[39m\u001b[38;5;241m.\u001b[39mobj\u001b[38;5;241m.\u001b[39mcolumns, name\u001b[38;5;241m=\u001b[39mindexer)\n\u001b[1;32m   2002\u001b[0m \u001b[38;5;28;01mif\u001b[39;00m \u001b[38;5;129;01mnot\u001b[39;00m \u001b[38;5;28mlen\u001b[39m(\u001b[38;5;28mself\u001b[39m\u001b[38;5;241m.\u001b[39mobj):\n\u001b[1;32m   2003\u001b[0m     \u001b[38;5;66;03m# We will ignore the existing dtypes instead of using\u001b[39;00m\n\u001b[1;32m   2004\u001b[0m     \u001b[38;5;66;03m#  internals.concat logic\u001b[39;00m\n",
      "\u001b[0;31mValueError\u001b[0m: cannot set a row with mismatched columns"
     ]
    }
   ],
   "source": [
    "table.loc[len(table.index)] = ['Nan', 'Nan', 'Nan', 'Nan', 'Nan', 'Nan', 'Nan', 'Nan', 'Nan', 'Nan', 'Nan']\n",
    "\n",
    "##to replace Nan datas in the dataframe with Numpy nan values, if not showing as null on isna search\n",
    "\n",
    "table.replace('Nan', np.nan, inplace=True)\n",
    "table\n",
    "\n",
    "##to find null values\n",
    "table.isna().sum().sum()\n",
    "table.isna().any()\n",
    "\n",
    "##to find and count duplicate values\n",
    "table.duplicated()\n",
    "table.duplicated().sum().sum()\n",
    "\n",
    "##to drop duplicates\n",
    "table.drop_duplicates(inplace = True)\n",
    "\n",
    "##to find unique values\n",
    "table['religion'].unique()\n",
    "table.religion.unique()\n",
    "\n",
    "##to count values in a column\n",
    "table.name.value_counts()\n",
    "table.name.count()\n",
    "\n",
    "##to find correlation\n",
    "table.corr()\n",
    "\n",
    "##to. check data type\n",
    "table.religion.dtype\n",
    "table['religion'].dtype\n",
    "\n",
    "##fill null values\n",
    "table.fillna(130, inplace= True)\n",
    "\n",
    "##drop null values\n",
    "table.dropna(inplace= True)\n",
    "table.dropna(axis=0, inplace= True) ##axis = 0 is for column and 1 is for row\n",
    "table\n"
   ]
  },
  {
   "cell_type": "code",
   "execution_count": 170,
   "id": "99cf2f39",
   "metadata": {},
   "outputs": [
    {
     "ename": "NameError",
     "evalue": "name 'xy' is not defined",
     "output_type": "error",
     "traceback": [
      "\u001b[0;31m---------------------------------------------------------------------------\u001b[0m",
      "\u001b[0;31mNameError\u001b[0m                                 Traceback (most recent call last)",
      "Input \u001b[0;32mIn [170]\u001b[0m, in \u001b[0;36m<cell line: 8>\u001b[0;34m()\u001b[0m\n\u001b[1;32m      5\u001b[0m table\u001b[38;5;241m.\u001b[39mgroupby(\u001b[38;5;124m'\u001b[39m\u001b[38;5;124mYear\u001b[39m\u001b[38;5;124m'\u001b[39m)[\u001b[38;5;124m'\u001b[39m\u001b[38;5;124mweight\u001b[39m\u001b[38;5;124m'\u001b[39m]\u001b[38;5;241m.\u001b[39mmean()\n\u001b[1;32m      7\u001b[0m \u001b[38;5;66;03m##merge two table on a column that they have in common\u001b[39;00m\n\u001b[0;32m----> 8\u001b[0m table\u001b[38;5;241m.\u001b[39mmerge(\u001b[43mxy\u001b[49m, on\u001b[38;5;241m=\u001b[39m \u001b[38;5;124m'\u001b[39m\u001b[38;5;124mname\u001b[39m\u001b[38;5;124m'\u001b[39m) \n\u001b[1;32m      9\u001b[0m table\u001b[38;5;241m.\u001b[39mmerge(xy, on\u001b[38;5;241m=\u001b[39m [\u001b[38;5;124m'\u001b[39m\u001b[38;5;124mname\u001b[39m\u001b[38;5;124m'\u001b[39m, \u001b[38;5;124m'\u001b[39m\u001b[38;5;124mage\u001b[39m\u001b[38;5;124m'\u001b[39m])\n",
      "\u001b[0;31mNameError\u001b[0m: name 'xy' is not defined"
     ]
    }
   ],
   "source": [
    "## group data frame \n",
    "table.groupby('Year')['weight'].sum()\n",
    "table.groupby('Month')[['weight', 'height']].sum()\n",
    "table.groupby('Year')['weight'].count()\n",
    "table.groupby('Year')['weight'].mean()\n",
    "\n",
    "##merge two table on a column that they have in common\n",
    "table.merge(xy, on= 'name') \n",
    "table.merge(xy, on= ['name', 'age']) \n",
    "\n",
    "##extracting the first letter of the Cabin Number \n",
    "titanic_df['Deck_Serial']=titanic_df['Cabin'].str.extract(pat = '([ABCDEFG])')\n",
    "titanic_df\n",
    "# extract groups having a vowel followed by\n",
    "# any character\n",
    "result = sr.str.extract(pat = '([aeiou].)')"
   ]
  },
  {
   "cell_type": "code",
   "execution_count": null,
   "id": "35e1215d",
   "metadata": {},
   "outputs": [],
   "source": [
    "# create a dictionary using US State code and their corresponding Name\n",
    "us_states = {'AK': 'Alaska',\n",
    " 'AL': 'Alabama',\n",
    " 'AR': 'Arkansas',\n",
    " 'AS': 'American Samoa',\n",
    " 'AZ': 'Arizona',\n",
    " 'CA': 'California',\n",
    " 'CO': 'Colorado',\n",
    " 'CT': 'Connecticut',\n",
    " 'DC': 'District of Columbia',\n",
    " 'DE': 'Delaware',\n",
    " 'FL': 'Florida',\n",
    " 'GA': 'Georgia',\n",
    " 'GU': 'Guam',\n",
    " 'HI': 'Hawaii',\n",
    " 'IA': 'Iowa',\n",
    " 'ID': 'Idaho',\n",
    " 'IL': 'Illinois',\n",
    " 'IN': 'Indiana',\n",
    " 'KS': 'Kansas',\n",
    " 'KY': 'Kentucky',\n",
    " 'LA': 'Louisiana',\n",
    " 'MA': 'Massachusetts',\n",
    " 'MD': 'Maryland',\n",
    " 'ME': 'Maine',\n",
    " 'MI': 'Michigan',\n",
    " 'MN': 'Minnesota',\n",
    " 'MO': 'Missouri',\n",
    " 'MP': 'Northern Mariana Islands',\n",
    " 'MS': 'Mississippi',\n",
    " 'MT': 'Montana',\n",
    " 'NC': 'North Carolina',\n",
    " 'ND': 'North Dakota',\n",
    " 'NE': 'Nebraska',\n",
    " 'NH': 'New Hampshire',\n",
    " 'NJ': 'New Jersey',\n",
    " 'NM': 'New Mexico',\n",
    " 'NV': 'Nevada',\n",
    " 'NY': 'New York',\n",
    " 'OH': 'Ohio',\n",
    " 'OK': 'Oklahoma',\n",
    " 'OR': 'Oregon',\n",
    " 'PA': 'Pennsylvania',\n",
    " 'PR': 'Puerto Rico',\n",
    " 'RI': 'Rhode Island',\n",
    " 'SC': 'South Carolina',\n",
    " 'SD': 'South Dakota',\n",
    " 'TN': 'Tennessee',\n",
    " 'TX': 'Texas',\n",
    " 'UT': 'Utah',\n",
    " 'VA': 'Virginia',\n",
    " 'VI': 'Virgin Islands',\n",
    " 'VT': 'Vermont',\n",
    " 'WA': 'Washington',\n",
    " 'WI': 'Wisconsin',\n",
    " 'WV': 'West Virginia',\n",
    " 'WY': 'Wyoming'}\n",
    "\n",
    "# create a dataframe of State and their corresponding accident cases\n",
    "state_df = pd.DataFrame(us_accidents['State'].value_counts()).reset_index().rename(columns={'index':'State', 'State':'Cases'})\n",
    "\n",
    "\n",
    "# Function to convert the State Code with the actual corressponding Name\n",
    "def convert(x): \n",
    "    return us_states[x]\n",
    "\n",
    "state_df['State'] = state_df['State'].apply(convert)\n",
    "\n",
    "\n",
    "top_ten_states_name = list(state_df['State'].head(10))\n"
   ]
  },
  {
   "cell_type": "code",
   "execution_count": null,
   "id": "035ea7bb",
   "metadata": {},
   "outputs": [],
   "source": [
    "!pip install opendatasets --upgrade --quiet\n",
    "\n",
    "csv = pd.read_csv('./us_unemployment_csv')\n",
    "excel = pd.read_excel('./us_unemployment_xlsx')\n",
    "txt_file = pd.read_csv('./us_unemployment_csv.txt')"
   ]
  },
  {
   "cell_type": "code",
   "execution_count": null,
   "id": "1228bfb3",
   "metadata": {},
   "outputs": [],
   "source": []
  },
  {
   "cell_type": "code",
   "execution_count": null,
   "id": "17c535ab",
   "metadata": {},
   "outputs": [],
   "source": []
  }
 ],
 "metadata": {
  "kernelspec": {
   "display_name": "Python 3 (ipykernel)",
   "language": "python",
   "name": "python3"
  },
  "language_info": {
   "codemirror_mode": {
    "name": "ipython",
    "version": 3
   },
   "file_extension": ".py",
   "mimetype": "text/x-python",
   "name": "python",
   "nbconvert_exporter": "python",
   "pygments_lexer": "ipython3",
   "version": "3.9.12"
  }
 },
 "nbformat": 4,
 "nbformat_minor": 5
}
