{
 "cells": [
  {
   "cell_type": "code",
   "execution_count": null,
   "id": "1b967f22",
   "metadata": {},
   "outputs": [],
   "source": [
    "import opendatasets as od\n",
    "import os\n",
    "import pandas as pd\n",
    "import numpy as np\n",
    "import seaborn as sns\n",
    "import matplotlib\n",
    "import matplotlib.pyplot as plt\n",
    "%matplotlib inline\n",
    "\n",
    "sns.set_style('darkgrid')\n",
    "matplotlib.rcParams['font.size'] = 14\n",
    "matplotlib.rcParams['figure.figsize'] = (9, 5)\n",
    "matplotlib.rcParams['figure.facecolor'] = '#00000000'\n",
    "sns.color_palette(\"RdPu\", 10)"
   ]
  },
  {
   "cell_type": "code",
   "execution_count": null,
   "id": "77e85e48",
   "metadata": {},
   "outputs": [],
   "source": [
    "##adding labels to a graph \n",
    "ax = sns.countplot(data=titanic_df, x=\"Pclass\", hue=\"Sex\")\n",
    "\n",
    "for p in ax.patches: ax.annotate(format(p.get_height(), '.0f'), (p.get_x() + p.get_width() / 2., p.get_height()), \n",
    "               ha = 'center', va = 'center', xytext = (0, 10), textcoords = 'offset points')"
   ]
  },
  {
   "cell_type": "code",
   "execution_count": null,
   "id": "d0670dc8",
   "metadata": {},
   "outputs": [],
   "source": [
    "plt.hist(titanic_df['Age'], bins=20);"
   ]
  },
  {
   "cell_type": "code",
   "execution_count": null,
   "id": "ae498379",
   "metadata": {},
   "outputs": [],
   "source": [
    "##count plot, count the number in a column and breaks it down grouping them using another column\n",
    "sns.countplot(data=titanic_df, x=\"Pclass\", hue=\"Sex\")\n",
    "\n",
    "ax = sns.countplot(data=titanic_df, x=\"Pclass\", hue=\"Sex\");\n",
    "        \n",
    "abs_values = titanic_df[\"Sex\"].value_counts(ascending=False)\n",
    "rel_values = titanic_df[\"Sex\"].value_counts(ascending=False, normalize=True).values * 100\n",
    "lbls = [f'{p[0]} ({p[1]:.0f}%)' for p in zip(abs_values, rel_values)]\n",
    "\n",
    "ax.bar_label(container=ax.containers[0], labels=lbls)"
   ]
  },
  {
   "cell_type": "code",
   "execution_count": null,
   "id": "f7c4873f",
   "metadata": {},
   "outputs": [],
   "source": [
    "##catplot graph\n",
    "\n",
    "import matplotlib.pyplot as plt\n",
    "import seaborn as sns\n",
    "%matplotlib inline\n",
    "\n",
    "titanic = sns.load_dataset(\"titanic\")\n",
    "exercise = sns.load_dataset(\"exercise\")\n",
    "g = sns.catplot(\"alive\", col=\"deck\", \n",
    "                col_wrap=3, data=titanic[titanic.deck.notnull()], \n",
    "                kind=\"count\", height=2.5, aspect=.8)"
   ]
  },
  {
   "cell_type": "code",
   "execution_count": null,
   "id": "53cc3ea8",
   "metadata": {},
   "outputs": [],
   "source": [
    "# plot vertical barplot\n",
    "sns.set(rc={'figure.figsize':(10,5)})\n",
    "plt.xticks(rotation=80)\n",
    "plt.rc('font', size=12)\n",
    "pal = sns.color_palette(\"magma\", len(Top_10_ZipCode))\n",
    "sns.lineplot(x=Top_10_ZipCode.Zipcode, y=Top_10_ZipCode.Incidents, marker='o', color = 'black', alpha = .8);\n",
    "ax = sns.barplot(x=Top_10_ZipCode.Zipcode, y=Top_10_ZipCode.Incidents, data=Top_10_ZipCode, palette=np.array(pal[::1]));\n",
    "ax.set(title='Zip Codes that Experienced the most Incidents Between 2016 and 2021') # title barplot\n",
    "# label each bar in barplot\n",
    "for p in ax.patches:\n",
    " # get the height of each bar\n",
    " height = p.get_height()\n",
    " # adding text to each bar\n",
    " ax.text(x = p.get_x()+(p.get_width()/2), # x-coordinate position of data label, padded to be in the middle of the bar\n",
    " y = height+100, # y-coordinate position of data label, padded 100 above bar\n",
    " s = '{:.0f}'.format(height), # data label, formatted to ignore decimals\n",
    " ha = 'center', color = 'black') # sets vertical alignment (va) to center\n",
    "    \n",
    "    "
   ]
  },
  {
   "cell_type": "code",
   "execution_count": null,
   "id": "88645a15",
   "metadata": {},
   "outputs": [],
   "source": [
    "## Bar Plot and Line plot\n",
    "plt.figure(figsize=(12,6))\n",
    "plt.xticks(rotation=80)\n",
    "plt.title('American States with the Highest Accident Rate Between 2016 and 2021')\n",
    "for i, language in enumerate (Top_10_States.Incidents):\n",
    "    plt.text(Top_10_States.State[i], Top_10_States.Incidents[i], language, , ha = 'center')\n",
    "    \n",
    "for i, language in enumerate (Top_10_States.Incident_Percentage):\n",
    "    plt.text(Top_10_States.State[i], Top_10_States.Incidents[i], language, , ha = 'center')\n",
    "    \n",
    "pal = sns.color_palette(\"crest\", len(Top_10_States))\n",
    "sns.barplot(x=Top_10_States.State, y=Top_10_States.Incidents, palette=np.array(pal[::-3]))\n",
    "sns.lineplot(x=Top_10_States.State, y=Top_10_States.Incidents, marker='o', color = 'white', alpha = .8);\n"
   ]
  },
  {
   "cell_type": "code",
   "execution_count": null,
   "id": "3faa25c0",
   "metadata": {},
   "outputs": [],
   "source": [
    "\n",
    "plt.figure(figsize=(12,6))\n",
    "plt.xticks(rotation=80)\n",
    "plt.title('American Cities with the Highest Accident Rate')\n",
    "pal = sns.color_palette(\"rocket\", len(Top_10_Cities))\n",
    "sns.barplot(x=Top_10_Cities.index, y=Top_10_Cities, palette=np.array(pal[::-1]));\n"
   ]
  },
  {
   "cell_type": "code",
   "execution_count": null,
   "id": "5e158d95",
   "metadata": {},
   "outputs": [],
   "source": [
    "plt.figure(figsize=(12, 6))\n",
    "plt.xticks(rotation=0)\n",
    "plt.title('Upload Count by Year')\n",
    "plt.xlabel('Year')\n",
    "plt.ylabel('Number of Uploads')\n",
    "plt.plot(Yearly_Uploads.Year, Yearly_Uploads.Upload_per_Year, 'g-x', linewidth=4, markersize=12);\n"
   ]
  },
  {
   "cell_type": "code",
   "execution_count": null,
   "id": "52d02a4e",
   "metadata": {},
   "outputs": [],
   "source": [
    "penguins = sns.load_dataset(\"penguins\")\n",
    "sns.pairplot(penguins)"
   ]
  },
  {
   "cell_type": "code",
   "execution_count": null,
   "id": "5585086e",
   "metadata": {},
   "outputs": [],
   "source": [
    " ##Let's first check gender\n",
    "##sns.factorplot('Sex', data=titanic_df)\n",
    "\n",
    "##pie chart\n",
    "plt.figure(figsize=(12, 6))\n",
    "plt.xticks(rotation=90)\n",
    "plt.title('Gender Ratio of Titanic Passengers')\n",
    "plt.rc('font', size=20)\n",
    "palette_color = sns.cubehelix_palette(start=2, rot=0, dark=0, light=.70, reverse=0, as_cmap=0) ##sns.color_palette('coolwarm')##sns.cubehelix_palette(start=.2, rot=-.75, as_cmap=0)  ##sns.color_palette(\"icefire\") sns.cubehelix_palette(start=.2, rot=-.75, as_cmap=0) ##sns.color_palette(\"rocket\")\n",
    "explode = [0, 0.1]\n",
    "\n",
    "plt.pie(titanic_gender_ratio, labels=titanic_gender_ratio.index, colors = palette_color, explode=explode, autopct='%1.0f%%');\n",
    "\n"
   ]
  },
  {
   "cell_type": "code",
   "execution_count": null,
   "id": "08bfd02b",
   "metadata": {},
   "outputs": [],
   "source": [
    "##pie chart\n",
    "plt.figure(figsize=(12, 6))\n",
    "plt.xticks(rotation=90)\n",
    "plt.title('Top 10 Country Production on Netflix')\n",
    "plt.rc('font', size=20)\n",
    "palette_color = sns.color_palette('bright')\n",
    "explode = [0, 0.1]\n",
    "\n",
    "plt.pie(Genre, labels=Genre.index, colors = palette_color, explode=explode, autopct='%1.0f%%');\n"
   ]
  },
  {
   "cell_type": "code",
   "execution_count": null,
   "id": "9d56824d",
   "metadata": {},
   "outputs": [],
   "source": [
    "## adding percentage to plot\n",
    "\n",
    "import matplotlib.pyplot as plt\n",
    "import seaborn as sns\n",
    "plt.rcParams[\"figure.figsize\"] = [7.00, 3.50]\n",
    "plt.rcParams[\"figure.autolayout\"] = True\n",
    "x = ['A', 'B', 'C', 'D', 'E']\n",
    "y = [1, 3, 2, 0, 4]\n",
    "percentage = [10, 30, 20, 0, 40]\n",
    "ax = sns.barplot(x=x, y=y, palette='PuBuGn_r')\n",
    "patches = ax.patches\n",
    "for i in range(len(patches)):\n",
    "   x = patches[i].get_x() + patches[i].get_width()/2\n",
    "   y = patches[i].get_height()+.05\n",
    "   ax.annotate('{:.1f}%'.format(percentage[i]), (x, y), ha='center')\n",
    "plt.show()\n"
   ]
  },
  {
   "cell_type": "code",
   "execution_count": null,
   "id": "52ff356f",
   "metadata": {},
   "outputs": [],
   "source": [
    "sns.set(style=\"whitegrid\")\n",
    "plt.figure(figsize=(8,5))\n",
    "total = float(len(train_df))\n",
    "ax = sns.countplot(x=\"event\", hue=\"event\", data=train_df)\n",
    "plt.title('Data provided for each event', fontsize=20)\n",
    "for p in ax.patches:\n",
    "    percentage=\"{:.1f}%\".format(100 * p.get_height()/total)\n",
    "    x = p.get_x() + p.get_width()\n",
    "    y = p.get_height()\n",
    "    ax.annotate(percentage, (x, y),ha=\"center\")\n",
    "plt.show()\n"
   ]
  },
  {
   "cell_type": "code",
   "execution_count": null,
   "id": "7de55258",
   "metadata": {},
   "outputs": [],
   "source": [
    "# plot vertical barplot\n",
    "sns.set(rc={'figure.figsize':(10,5)})\n",
    "ax = sns.barplot(x=Lowest_10_States.State, y=Lowest_10_States.Incidents, data=Lowest_10_States)\n",
    "ax.set(title='American States with the Lowest Accident Rate Between 2016 and 2021') # title barplot\n",
    "# label each bar in barplot\n",
    "for p in ax.patches:\n",
    " # get the height of each bar\n",
    " height = p.get_height()\n",
    " # adding text to each bar\n",
    " ax.text(x = p.get_x()+(p.get_width()/2), # x-coordinate position of data label, padded to be in the middle of the bar\n",
    " y = height+100, # y-coordinate position of data label, padded 100 above bar\n",
    " s = '{:.0f}'.format(height), # data label, formatted to ignore decimals\n",
    " ha = 'center') # sets horizontal alignment (ha) to center\n",
    "    "
   ]
  },
  {
   "cell_type": "code",
   "execution_count": null,
   "id": "3b5c60c8",
   "metadata": {},
   "outputs": [],
   "source": [
    "# plot line graph\n",
    "sns.set(rc={‘figure.figsize’:(10,5)})\n",
    "ax = sns.lineplot(x=’year’, y=’passengers’, data=year_flights, marker=’*’, color=’#965786')\n",
    "ax.set(title=’Total Number of Passengers Yearly’)\n",
    "# label points on the plot\n",
    "for x, y in zip(year_flights[‘year’], year_flights[‘passengers’]):\n",
    " # the position of the data label relative to the data point can be adjusted by adding/subtracting a value from the x &/ y coordinates\n",
    " plt.text(x = x, # x-coordinate position of data label\n",
    " y = y-150, # y-coordinate position of data label, adjusted to be 150 below the data point\n",
    " s = ‘{:.0f}’.format(y), # data label, formatted to ignore decimals\n",
    " color = ‘purple’) # set colour of line\n",
    "# add set_backgroundcolor(‘color’) after plt.text(‘…’)\n",
    "plt.text(x, y-150, ‘{:.0f}’.format(y), color=’white’).set_backgroundcolor(‘#965786’)\n",
    "                                                                          \n"
   ]
  },
  {
   "cell_type": "code",
   "execution_count": null,
   "id": "5aec4999",
   "metadata": {},
   "outputs": [],
   "source": [
    "# plot histogram \n",
    "ax = sns.histplot(flights[‘passengers’], color=’#9d94ba’, bins=10, kde=False)\n",
    "ax.set(title=’Distribution of Passengers’)\n",
    "# label each bar in histogram\n",
    "for p in ax.patches:\n",
    " height = p.get_height() # get the height of each bar\n",
    " # adding text to each bar\n",
    " ax.text(x = p.get_x()+(p.get_width()/2), # x-coordinate position of data label, padded to be in the middle of the bar\n",
    " y = height+0.2, # y-coordinate position of data label, padded 0.2 above bar\n",
    " s = ‘{:.0f}’.format(height), # data label, formatted to ignore decimals\n",
    " ha = ‘center’) # sets horizontal alignment (ha) to center\n",
    "                  "
   ]
  },
  {
   "cell_type": "code",
   "execution_count": null,
   "id": "fbd62b41",
   "metadata": {},
   "outputs": [],
   "source": [
    "# plot histogram \n",
    "# …\n",
    "# adding a vertical line for the average passengers per flight\n",
    "plt.axvline(flights[‘passengers’].mean(), color=’purple’, label=’mean’)\n",
    "# adding data label to mean line\n",
    "plt.text(x = flights[‘passengers’].mean()+3, # x-coordinate position of data label, adjusted to be 3 right of the data point\n",
    " y = max([h.get_height() for h in ax.patches]), # y-coordinate position of data label, to take max height \n",
    " s = ‘mean: {:.0f}’.format(flights[‘passengers’].mean()), # data label\n",
    " color = ‘purple’) # colour of the vertical mean line\n",
    "# label each bar in histogram\n",
    "# …\n"
   ]
  },
  {
   "cell_type": "code",
   "execution_count": null,
   "id": "9162b15d",
   "metadata": {},
   "outputs": [],
   "source": [
    "# plot horizontal barplot\n",
    "sns.set(rc={‘figure.figsize’:(10,5)})\n",
    "ax = sns.barplot(x=’passengers’, y=’month’, data=month_flights, orient=’h’)\n",
    "ax.set(title=’Average Number of Flight Passengers Monthly’) # title barplot\n",
    "# label each bar in barplot\n",
    "for p in ax.patches:\n",
    " height = p.get_height() # height of each horizontal bar is the same\n",
    " width = p.get_width() # width (average number of passengers)\n",
    " # adding text to each bar\n",
    " ax.text(x = width+3, # x-coordinate position of data label, padded 3 to right of bar\n",
    " y = p.get_y()+(height/2), # # y-coordinate position of data label, padded to be in the middle of the bar\n",
    " s = ‘{:.0f}’.format(width), # data label, formatted to ignore decimals\n",
    " va = ‘center’) # sets vertical alignment (va) to center\n",
    "    "
   ]
  },
  {
   "cell_type": "code",
   "execution_count": null,
   "id": "06efcc7c",
   "metadata": {},
   "outputs": [],
   "source": [
    "# only labelling some points on graph\n",
    "# plot line graph\n",
    "sns.set(rc={‘figure.figsize’:(10,5)})\n",
    "ax = sns.lineplot(x=’year’, y=’passengers’, data=year_flights, marker=’*’, color=’#965786')\n",
    "# title the plot\n",
    "ax.set(title=’Total Number of Passengers Yearly’)\n",
    "mean = year_flights[‘passengers’].mean()\n",
    "# label points on the plot only if they are higher than the mean\n",
    "for x, y in zip(year_flights[‘year’], year_flights[‘passengers’]):\n",
    " if y > mean:\n",
    " plt.text(x = x, # x-coordinate position of data label\n",
    " y = y-150, # y-coordinate position of data label, adjusted to be 150 below the data point\n",
    " s = ‘{:.0f}’.format(y), # data label, formatted to ignore decimals\n",
    " color = ‘purple’) # set colour of line\n",
    "                  "
   ]
  },
  {
   "cell_type": "code",
   "execution_count": null,
   "id": "d25c1339",
   "metadata": {},
   "outputs": [],
   "source": [
    "plt.figure(figsize=(10, 6))\n",
    "plt.xticks(rotation=0)\n",
    "plt.title('Miami Accidents by Severity')\n",
    "sns.barplot(x=Miami_Severity.index, y=Miami_Severity);"
   ]
  },
  {
   "cell_type": "code",
   "execution_count": null,
   "id": "9216ac87",
   "metadata": {},
   "outputs": [],
   "source": [
    "\n",
    "plt.figure(figsize=(12, 6))\n",
    "plt.xticks(rotation=90)\n",
    "plt.title('Miami Accident by Severity')\n",
    "plt.rc('font', size=20)\n",
    "palette_color = sns.color_palette('bright')\n",
    "explode = [0, 0.1]\n",
    "\n",
    "plt.pie(Miami_Severity, labels=Miami_Severity.index, colors = palette_color);\n"
   ]
  },
  {
   "cell_type": "code",
   "execution_count": null,
   "id": "966e5558",
   "metadata": {},
   "outputs": [],
   "source": [
    "# plot vertical barplot\n",
    "sns.set(rc={'figure.figsize':(10,5)})\n",
    "plt.xticks(rotation=30)\n",
    "plt.rc('font', size=12)\n",
    "pal = sns.color_palette(\"crest\", len(Miami_Severity))\n",
    "ax = sns.barplot(x=Miami_Severity.severity_rank, y=Miami_Severity.incidents, data=Miami_Severity, palette=np.array(pal[::-1]));\n",
    "ax.set(title='Miami Accidents Rate by Severity Between 2016 and 2021') # title barplot\n",
    "# label each bar in barplot\n",
    "for p in ax.patches:\n",
    " # get the height of each bar\n",
    " height = p.get_height()\n",
    " # adding text to each bar\n",
    " ax.text(x = p.get_x()+(p.get_width()/2), # x-coordinate position of data label, padded to be in the middle of the bar\n",
    " y = height+100, # y-coordinate position of data label, padded 100 above bar\n",
    " s = '{:.0f}'.format(height), # data label, formatted to ignore decimals\n",
    " ha = 'center', color = 'black') # sets vertical alignment (va) to center\n",
    "    \n",
    "    "
   ]
  },
  {
   "cell_type": "code",
   "execution_count": null,
   "id": "1f2e098f",
   "metadata": {},
   "outputs": [],
   "source": [
    "fig, axes = plt.subplots(3, 3, figsize=(20, 18))\n",
    "axes[0,0].legend(['True', 'False']);\n",
    "axes[0,0].set_title('Presence of Junction Near the Accident Site', fontsize = 20)\n",
    "axes[0,0].pie(Junction, labels=Junction.index, colors = palette_color, explode=explode, textprops ={'fontsize': 20}, autopct='%1.2f%%');\n",
    "\n",
    "axes[0,1].legend(['True', 'False']);\n",
    "axes[0,1].set_title('Presence of Speed Bump or Humps Near the Accident Site', fontsize = 20)\n",
    "axes[0,1].pie(Bump, labels=Bump.index, colors = palette_color, explode=explode, textprops ={'fontsize': 20}, autopct='%1.2f%%');\n",
    "\n",
    "axes[0,2].legend(['True', 'False']);\n",
    "axes[0,2].set_title('Presence of Exit Near the Accident Site', fontsize = 20)\n",
    "axes[0,2].pie(Exit, labels=Exit.index, colors = palette_color, explode=explode, textprops ={'fontsize': 20}, autopct='%1.2f%%');\n",
    "\n",
    "axes[1,0].legend(['True', 'False']);\n",
    "axes[1,0].set_title('Presence of Turning_Loop Near the Accident Site', fontsize = 20)\n",
    "axes[1,0].pie(Turning_Loop, labels=Turning_Loop.index, colors = palette_color, textprops ={'fontsize': 20}, autopct='%1.2f%%');\n",
    "\n",
    "axes[1,1].legend(['True', 'False']);\n",
    "axes[1,1].set_title('Presence of Stop Near the Accident Site', fontsize = 20)\n",
    "axes[1,1].pie(Stop, labels=Stop.index, colors = palette_color, explode=explode, textprops ={'fontsize': 20}, autopct='%1.2f%%');\n",
    "\n",
    "axes[1,2].legend(['True', 'False']);\n",
    "axes[1,2].set_title('Presence of Roundabout Near the Accident Site', fontsize = 20)\n",
    "axes[1,2].pie(Roundabout, labels=Roundabout.index, colors = palette_color, explode=explode, textprops ={'fontsize': 20}, autopct='%1.2f%%');\n",
    "\n",
    "axes[2,0].legend(['True', 'False']);\n",
    "axes[2,0].set_title('Presence of Crossing Near the Accident Site', fontsize = 20)\n",
    "axes[2,0].pie(Crossing, labels=Crossing.index, colors = palette_color, explode=explode, textprops ={'fontsize': 20}, autopct='%1.2f%%');\n",
    "\n",
    "axes[2,1].legend(['True', 'False']);\n",
    "axes[2,1].set_title('Presence of Traffic_Calming Near the Accident Site', fontsize = 20)\n",
    "axes[2,1].pie(Traffic_Calming, labels=Traffic_Calming.index, colors = palette_color, explode=explode, textprops ={'fontsize': 20}, autopct='%1.2f%%');\n",
    "\n",
    "axes[2,2].legend(['True', 'False']);\n",
    "axes[2,2].set_title('Presence of Traffic_Signal Near the Accident Site', fontsize = 20)\n",
    "axes[2,2].pie(Traffic_Signal, labels=Traffic_Signal.index, colors = palette_color, explode=explode, textprops ={'fontsize': 20}, autopct='%1.2f%%');\n",
    "\n"
   ]
  },
  {
   "cell_type": "code",
   "execution_count": null,
   "id": "d36c7f58",
   "metadata": {},
   "outputs": [],
   "source": [
    "# plot horizontal barplot\n",
    "sns.set(rc={'figure.figsize':(10,5)})\n",
    "ax = sns.barplot(y= Weather_Condition.Condition, x= Weather_Condition.Incidents, data=Weather_Condition, orient='h')\n",
    "ax.set(title='Top Weather Condition on the Day of the Accident') # title barplot\n",
    "# label each bar in barplot\n",
    "for p in ax.patches:\n",
    "    height = p.get_height() # height of each horizontal bar is the same\n",
    "    width = p.get_width() # width (average number of passengers)\n",
    " # adding text to each bar\n",
    "    ax.text(x = width+3, # x-coordinate position of data label, padded 3 to right of bar\n",
    "    y = p.get_y()+(height/2), # # y-coordinate position of data label, padded to be in the middle of the bar\n",
    "    s = '{:.0f}'.format(width), # data label, formatted to ignore decimals\n",
    "    va = 'center') # sets vertical alignment (va) to center\n"
   ]
  },
  {
   "cell_type": "code",
   "execution_count": null,
   "id": "1587d61e",
   "metadata": {},
   "outputs": [],
   "source": [
    "fig, ax = plt.subplots(figsize = (12,6), dpi = 80)\n",
    "\n",
    "cmap = cm.get_cmap('winter', 10)   \n",
    "clrs = [matplotlib.colors.rgb2hex(cmap(i)) for i in range(cmap.N)]\n",
    "\n",
    "ax=sns.barplot(y=state_df['Cases'].head(10), x=state_df['State'].head(10), palette='winter')\n",
    "ax1 = ax.twinx()\n",
    "sns.lineplot(data = state_df[:10], marker='o', x='State', y='Cases', color = 'white', alpha = .8)\n",
    "\n",
    "\n",
    "total = df.shape[0]\n",
    "for i in ax.patches:\n",
    "    ax.text(i.get_x()-0.2, i.get_height()+10000, \\\n",
    "            ' {:,d}\\n  ({}%) '.format(int(i.get_height()), round(100*i.get_height()/total, 1)), fontsize=15,\n",
    "                color='black')\n",
    "\n",
    "\n",
    "ax.set(ylim =(-10000, 600000))\n",
    "ax1.set(ylim =(-100000, 1700000))\n",
    "\n",
    "plt.title('\\nTop 10 States with most no. of \\nAccident cases in US (2016-2020)\\n', size=20, color='grey')\n",
    "ax1.axes.yaxis.set_visible(False)\n",
    "ax.set_xlabel('\\nStates\\n', fontsize=15, color='grey')\n",
    "ax.set_ylabel('\\nAccident Cases\\n', fontsize=15, color='grey')\n",
    "\n",
    "for i in ['top','right']:\n",
    "    side1 = ax.spines[i]\n",
    "    side1.set_visible(False)\n",
    "    side2 = ax1.spines[i]\n",
    "    side2.set_visible(False)\n",
    "    \n",
    "ax.set_axisbelow(True)\n",
    "ax.grid(color='#b2d6c7', linewidth=1, axis='y', alpha=.3)\n",
    "\n",
    "ax.spines['bottom'].set_bounds(0.005, 9)\n",
    "ax.spines['left'].set_bounds(0, 600000)\n",
    "ax1.spines['bottom'].set_bounds(0.005, 9)\n",
    "ax1.spines['left'].set_bounds(0, 600000)\n",
    "ax.tick_params(axis='y', which='major', labelsize=10.6)\n",
    "ax.tick_params(axis='x', which='major', labelsize=10.6, rotation=10)\n",
    "\n",
    "MA = mpatches.Patch(color=clrs[0], label='State with Maximum\\n no. of Road Accidents')\n",
    "ax.legend(handles=[MA], prop={'size': 10.5}, loc='best', borderpad=1, \n",
    "          labelcolor=clrs[0], edgecolor='white');\n"
   ]
  },
  {
   "cell_type": "code",
   "execution_count": null,
   "id": "50aeab16",
   "metadata": {},
   "outputs": [],
   "source": []
  },
  {
   "cell_type": "code",
   "execution_count": null,
   "id": "0d1e7e1e",
   "metadata": {},
   "outputs": [],
   "source": []
  },
  {
   "cell_type": "code",
   "execution_count": null,
   "id": "7bfe78e8",
   "metadata": {},
   "outputs": [],
   "source": []
  },
  {
   "cell_type": "code",
   "execution_count": null,
   "id": "e0414ec1",
   "metadata": {},
   "outputs": [],
   "source": []
  },
  {
   "cell_type": "code",
   "execution_count": null,
   "id": "b8eddbc4",
   "metadata": {},
   "outputs": [],
   "source": []
  },
  {
   "cell_type": "code",
   "execution_count": null,
   "id": "0aed01c0",
   "metadata": {},
   "outputs": [],
   "source": []
  },
  {
   "cell_type": "code",
   "execution_count": null,
   "id": "f678893e",
   "metadata": {},
   "outputs": [],
   "source": []
  }
 ],
 "metadata": {
  "kernelspec": {
   "display_name": "Python 3 (ipykernel)",
   "language": "python",
   "name": "python3"
  },
  "language_info": {
   "codemirror_mode": {
    "name": "ipython",
    "version": 3
   },
   "file_extension": ".py",
   "mimetype": "text/x-python",
   "name": "python",
   "nbconvert_exporter": "python",
   "pygments_lexer": "ipython3",
   "version": "3.9.12"
  }
 },
 "nbformat": 4,
 "nbformat_minor": 5
}
